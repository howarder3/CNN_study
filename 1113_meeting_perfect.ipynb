{
 "cells": [
  {
   "cell_type": "markdown",
   "metadata": {
    "collapsed": true
   },
   "source": [
    "# define"
   ]
  },
  {
   "cell_type": "code",
   "execution_count": 1,
   "metadata": {
    "collapsed": true
   },
   "outputs": [],
   "source": [
    "%matplotlib inline\n",
    "from __future__ import print_function\n",
    "# import tensorflow as tf\n",
    "import numpy as np\n",
    "import matplotlib.pyplot as plt\n",
    "import math"
   ]
  },
  {
   "cell_type": "code",
   "execution_count": 2,
   "metadata": {
    "collapsed": true
   },
   "outputs": [],
   "source": [
    "def draw(file_directory , mylen):\n",
    "#     print(\"mylen : \",mylen)\n",
    "    ourstr = []\n",
    "    a = []\n",
    "#     print(file_list)\n",
    "    \n",
    "    for readfile_i in range(0, mylen, +1):\n",
    "    # import os.path\n",
    "#         print(\"readfile_i : \",readfile_i)\n",
    "        currentfile = file_directory + \"/\" + file_list[readfile_i] \n",
    "#         print(currentfile)\n",
    "        f = open(currentfile,'r+')\n",
    "        # print (f.read())\n",
    "        a = f.readlines() \n",
    "        for i in range(0, (len(a)), +1):\n",
    "            if((a[i][0])=='#'):\n",
    "                ourstr.append(a[i+1])\n",
    "        f.close()\n",
    "\n",
    "    change_normal = ourstr\n",
    "    myset = set(ourstr)\n",
    "    print(\"%d items found\\n\" %(len(ourstr)))\n",
    "    for item in myset:\n",
    "        print(\"%s%d\" %(item,ourstr.count(item)))\n",
    "        change_to_normal(change_normal,item,(ourstr.count(item)/(len(ourstr))))\n",
    "\n",
    "    print(\"\\n*********************************************************************************\\n\")\n",
    "\n",
    "    cut_num = 200\n",
    "    pic_num = math.ceil(len(change_normal)/cut_num)*cut_num\n",
    "\n",
    "    while(len(change_normal)<= pic_num - 1):\n",
    "        change_normal.append(0)\n",
    "\n",
    "#     print(\"\\n*********************************************************************************\\n\")   \n",
    "    print (str(mal_family_list[readmal_i]) + \" : \")\n",
    "    np_pic = np.asarray(change_normal)\n",
    "\n",
    "    plt.imshow(np_pic.reshape([int(len(change_normal)/cut_num),cut_num]), cmap='Greys')  \n",
    "    plt.show()"
   ]
  },
  {
   "cell_type": "code",
   "execution_count": 3,
   "metadata": {
    "collapsed": true
   },
   "outputs": [],
   "source": [
    "def change_to_normal(target_list,item,value):\n",
    "    for i in range(0, (len(target_list)), +1):\n",
    "        if(target_list[i]==item):\n",
    "            target_list[i]=value"
   ]
  },
  {
   "cell_type": "code",
   "execution_count": 4,
   "metadata": {
    "collapsed": true
   },
   "outputs": [],
   "source": [
    "mal_directory = \"C:/Users/howar/CNN_study/MotifAnalysis/hooklogs/\" #hooklog輸入\n",
    "  \n",
    "import os\n",
    "\n",
    "mal_family_list = os.listdir(mal_directory) # get all filenames in the in_directory\n",
    "\n",
    "# print (\"find the file:\")\n",
    "# for mal_family in mal_family_list:  \n",
    "\n",
    "# #     in_directory = in_directory + family + '/'\n",
    "#     print (mal_family)\n",
    "    \n"
   ]
  },
  {
   "cell_type": "code",
   "execution_count": 5,
   "metadata": {
    "scrolled": false
   },
   "outputs": [
    {
     "name": "stdout",
     "output_type": "stream",
     "text": [
      "3655 items found\n",
      "\n",
      "LoadLibrary\n",
      "550\n",
      "CreateProcess\n",
      "15\n",
      "CreateProcessInternal\n",
      "30\n",
      "RegSetValue\n",
      "64\n",
      "CreateFile\n",
      "296\n",
      "CreateThread\n",
      "135\n",
      "RegQueryValue\n",
      "2456\n",
      "RegEnumValue\n",
      "34\n",
      "CopyFile\n",
      "5\n",
      "RegCreateKey\n",
      "64\n",
      "ExitProcess\n",
      "6\n",
      "\n",
      "*********************************************************************************\n",
      "\n",
      "allaple_woj_g_98 : \n"
     ]
    },
    {
     "data": {
      "image/png": "[encoded data removed]",
      "text/plain": [
       "<matplotlib.figure.Figure at 0x1f736973ef0>"
      ]
     },
     "metadata": {},
     "output_type": "display_data"
    },
    {
     "name": "stdout",
     "output_type": "stream",
     "text": [
      "\n",
      "*********************************************************************************\n",
      "\n",
      "14799 items found\n",
      "\n",
      "LoadLibrary\n",
      "1033\n",
      "RegSetValue\n",
      "352\n",
      "CreateFile\n",
      "9230\n",
      "CreateThread\n",
      "96\n",
      "RegQueryValue\n",
      "1091\n",
      "CopyFile\n",
      "2547\n",
      "RegCreateKey\n",
      "401\n",
      "ExitProcess\n",
      "49\n",
      "\n",
      "*********************************************************************************\n",
      "\n",
      "elkern_woj_g_127 : \n"
     ]
    },
    {
     "data": {
      "image/png": "[encoded data removed]",
      "text/plain": [
       "<matplotlib.figure.Figure at 0x1f7369b1898>"
      ]
     },
     "metadata": {},
     "output_type": "display_data"
    },
    {
     "name": "stdout",
     "output_type": "stream",
     "text": [
      "\n",
      "*********************************************************************************\n",
      "\n",
      "10222 items found\n",
      "\n",
      "WinHttpOpen\n",
      "12\n",
      "LoadLibrary\n",
      "1527\n",
      "CreateProcess\n",
      "12\n",
      "WinHttpOpenRequest\n",
      "12\n",
      "CreateProcessInternal\n",
      "13\n",
      "RegSetValue\n",
      "260\n",
      "CreateFile\n",
      "530\n",
      "CreateThread\n",
      "30\n",
      "RegQueryValue\n",
      "6925\n",
      "WinHttpSendRequest\n",
      "30\n",
      "WinHttpConnect\n",
      "12\n",
      "OpenProcess\n",
      "284\n",
      "RegEnumValue\n",
      "235\n",
      "DeleteFile\n",
      "4\n",
      "RegCreateKey\n",
      "335\n",
      "ExitProcess\n",
      "1\n",
      "\n",
      "*********************************************************************************\n",
      "\n",
      "firseria_woj_g_144 : \n"
     ]
    },
    {
     "data": {
      "image/png": "[encoded data removed]",
      "text/plain": [
       "<matplotlib.figure.Figure at 0x1f738b6de80>"
      ]
     },
     "metadata": {},
     "output_type": "display_data"
    },
    {
     "name": "stdout",
     "output_type": "stream",
     "text": [
      "\n",
      "*********************************************************************************\n",
      "\n",
      "323 items found\n",
      "\n",
      "CreateProcess\n",
      "19\n",
      "LoadLibrary\n",
      "152\n",
      "CreateProcessInternal\n",
      "38\n",
      "CreateFile\n",
      "76\n",
      "RegQueryValue\n",
      "19\n",
      "ExitProcess\n",
      "19\n",
      "\n",
      "*********************************************************************************\n",
      "\n",
      "kazy_woj_g_290 : \n"
     ]
    },
    {
     "data": {
      "image/png": "[encoded data removed]",
      "text/plain": [
       "<matplotlib.figure.Figure at 0x1f738b95588>"
      ]
     },
     "metadata": {},
     "output_type": "display_data"
    },
    {
     "name": "stdout",
     "output_type": "stream",
     "text": [
      "\n",
      "*********************************************************************************\n",
      "\n",
      "890 items found\n",
      "\n",
      "LoadLibrary\n",
      "216\n",
      "CreateProcess\n",
      "13\n",
      "CreateProcessInternal\n",
      "13\n",
      "CreateFile\n",
      "15\n",
      "RegQueryValue\n",
      "588\n",
      "RegEnumValue\n",
      "15\n",
      "RegCreateKey\n",
      "23\n",
      "ExitProcess\n",
      "7\n",
      "\n",
      "*********************************************************************************\n",
      "\n",
      "loadmoney_woj_g_184 : \n"
     ]
    },
    {
     "data": {
      "image/png": "[encoded data removed]",
      "text/plain": [
       "<matplotlib.figure.Figure at 0x1f738b7c9b0>"
      ]
     },
     "metadata": {},
     "output_type": "display_data"
    },
    {
     "name": "stdout",
     "output_type": "stream",
     "text": [
      "\n",
      "*********************************************************************************\n",
      "\n",
      "30503 items found\n",
      "\n",
      "LoadLibrary\n",
      "2412\n",
      "RegSetValue\n",
      "1375\n",
      "CreateFile\n",
      "1265\n",
      "RegDeleteKey\n",
      "165\n",
      "RegQueryValue\n",
      "18729\n",
      "InternetConnect\n",
      "59\n",
      "HttpSendRequest\n",
      "59\n",
      "RegEnumValue\n",
      "5060\n",
      "InternetOpen\n",
      "59\n",
      "RegCreateKey\n",
      "1320\n",
      "\n",
      "*********************************************************************************\n",
      "\n",
      "loadmoney_woj_g_189 : \n"
     ]
    },
    {
     "data": {
      "image/png": "[encoded data removed]",
      "text/plain": [
       "<matplotlib.figure.Figure at 0x1f738be8a58>"
      ]
     },
     "metadata": {},
     "output_type": "display_data"
    },
    {
     "name": "stdout",
     "output_type": "stream",
     "text": [
      "\n",
      "*********************************************************************************\n",
      "\n",
      "3769 items found\n",
      "\n",
      "LoadLibrary\n",
      "438\n",
      "RegSetValue\n",
      "96\n",
      "CreateFile\n",
      "521\n",
      "RegQueryValue\n",
      "2361\n",
      "RegEnumValue\n",
      "222\n",
      "DeleteFile\n",
      "5\n",
      "RegCreateKey\n",
      "126\n",
      "\n",
      "*********************************************************************************\n",
      "\n",
      "mira_woj_g_107 : \n"
     ]
    },
    {
     "data": {
      "image/png": "[encoded data removed]",
      "text/plain": [
       "<matplotlib.figure.Figure at 0x1f738b1ddd8>"
      ]
     },
     "metadata": {},
     "output_type": "display_data"
    },
    {
     "name": "stdout",
     "output_type": "stream",
     "text": [
      "\n",
      "*********************************************************************************\n",
      "\n",
      "23312 items found\n",
      "\n",
      "LoadLibrary\n",
      "1975\n",
      "CreateProcess\n",
      "12\n",
      "CreateProcessInternal\n",
      "14\n",
      "RegSetValue\n",
      "618\n",
      "CreateFile\n",
      "1519\n",
      "=RegDeleteKey\n",
      "64\n",
      "RegQueryValue\n",
      "16033\n",
      "OpenProcess\n",
      "537\n",
      "RegEnumValue\n",
      "1526\n",
      "DeleteFile\n",
      "211\n",
      "RegCreateKey\n",
      "803\n",
      "\n",
      "*********************************************************************************\n",
      "\n",
      "morstar_old : \n"
     ]
    },
    {
     "data": {
      "image/png": "[encoded data removed]",
      "text/plain": [
       "<matplotlib.figure.Figure at 0x1f738e27908>"
      ]
     },
     "metadata": {},
     "output_type": "display_data"
    },
    {
     "name": "stdout",
     "output_type": "stream",
     "text": [
      "\n",
      "*********************************************************************************\n",
      "\n",
      "8411 items found\n",
      "\n",
      "LoadLibrary\n",
      "791\n",
      "CreateProcess\n",
      "53\n",
      "CreateProcessInternal\n",
      "106\n",
      "RegSetValue\n",
      "56\n",
      "CreateFile\n",
      "1068\n",
      "CreateThread\n",
      "41\n",
      "RegQueryValue\n",
      "5694\n",
      "RegDeleteKey\n",
      "2\n",
      "OpenProcess\n",
      "46\n",
      "RegEnumValue\n",
      "49\n",
      "CopyFile\n",
      "29\n",
      "DeleteFile\n",
      "177\n",
      "RegCreateKey\n",
      "265\n",
      "WinExec\n",
      "2\n",
      "ExitProcess\n",
      "32\n",
      "\n",
      "*********************************************************************************\n",
      "\n",
      "somoto_woj : \n"
     ]
    },
    {
     "data": {
      "image/png": "[encoded data removed]",
      "text/plain": [
       "<matplotlib.figure.Figure at 0x1f738de4cc0>"
      ]
     },
     "metadata": {},
     "output_type": "display_data"
    },
    {
     "name": "stdout",
     "output_type": "stream",
     "text": [
      "\n",
      "*********************************************************************************\n",
      "\n",
      "16005 items found\n",
      "\n",
      "LoadLibrary\n",
      "962\n",
      "CreateFile\n",
      "11023\n",
      "RegQueryValue\n",
      "151\n",
      "CopyFile\n",
      "3723\n",
      "RegCreateKey\n",
      "73\n",
      "ExitProcess\n",
      "73\n",
      "\n",
      "*********************************************************************************\n",
      "\n",
      "sytro_woj_g_166 : \n"
     ]
    },
    {
     "data": {
      "image/png": "[encoded data removed]",
      "text/plain": [
       "<matplotlib.figure.Figure at 0x1f738c71cc0>"
      ]
     },
     "metadata": {},
     "output_type": "display_data"
    },
    {
     "name": "stdout",
     "output_type": "stream",
     "text": [
      "\n",
      "*********************************************************************************\n",
      "\n"
     ]
    }
   ],
   "source": [
    "for readmal_i in range(0, (len(mal_family_list)), +1):\n",
    "# import os.path\n",
    "    file_directory = mal_directory + mal_family_list[readmal_i] \n",
    "#     print(\"current path: \",file_directory)\n",
    "    \n",
    "    file_list = os.listdir(file_directory) # get all filenames in the in_directory\n",
    "# print (family_list)\n",
    "\n",
    "#     print (\"find the file:\")\n",
    "#     for file in file_list:  \n",
    "#         print (file)\n",
    "    draw(file_directory,(len(file_list)))\n",
    "    print(\"\\n*********************************************************************************\\n\")   \n"
   ]
  },
  {
   "cell_type": "code",
   "execution_count": null,
   "metadata": {
    "collapsed": true
   },
   "outputs": [],
   "source": []
  }
 ],
 "metadata": {
  "kernelspec": {
   "display_name": "Python 3",
   "language": "python",
   "name": "python3"
  },
  "language_info": {
   "codemirror_mode": {
    "name": "ipython",
    "version": 3
   },
   "file_extension": ".py",
   "mimetype": "text/x-python",
   "name": "python",
   "nbconvert_exporter": "python",
   "pygments_lexer": "ipython3",
   "version": "3.6.1"
  }
 },
 "nbformat": 4,
 "nbformat_minor": 2
}
