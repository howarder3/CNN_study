{
 "cells": [
  {
   "cell_type": "markdown",
   "metadata": {
    "collapsed": true
   },
   "source": [
    "# define"
   ]
  },
  {
   "cell_type": "code",
   "execution_count": 164,
   "metadata": {
    "collapsed": true
   },
   "outputs": [],
   "source": [
    "%matplotlib inline\n",
    "from __future__ import print_function\n",
    "# import tensorflow as tf\n",
    "import numpy as np\n",
    "import matplotlib.pyplot as plt\n",
    "import math"
   ]
  },
  {
   "cell_type": "code",
   "execution_count": 165,
   "metadata": {
    "collapsed": true
   },
   "outputs": [],
   "source": [
    "def change_to_normal(target_list,item,value):\n",
    "    for i in range(0, (len(target_list)), +1):\n",
    "#         if(item == 'nan' and target_list[i]=='nan'):\n",
    "        if(target_list[i]== item and target_list[i]==\"nan\"):\n",
    "            target_list[i]= 0\n",
    "        elif(target_list[i]==item):\n",
    "            target_list[i]= value\n",
    "            "
   ]
  },
  {
   "cell_type": "code",
   "execution_count": 166,
   "metadata": {
    "collapsed": true
   },
   "outputs": [],
   "source": [
    "def find_max(file_directory , mylen):\n",
    "    ourstr = []\n",
    "    a = []\n",
    "    max_len = 0\n",
    "    print(\"total: \",mylen,\" files found.\")\n",
    "    \n",
    "    for readfile_i in range(0, mylen, +1):\n",
    "        currentfile = file_directory + \"/\" + file_list[readfile_i] \n",
    "        f = open(currentfile,'r+')\n",
    "        a = f.readlines() \n",
    "        \n",
    "        ### find max len start ###\n",
    "        count_len = 0\n",
    "        \n",
    "        for i in range(0, (len(a)), +1):\n",
    "            if((a[i][0])=='#'):\n",
    "                count_len += 1\n",
    "       \n",
    "        ### find max len end ###\n",
    "        \n",
    "#         print(count_len)\n",
    "        if(count_len > max_len):\n",
    "            max_len = count_len            \n",
    "    \n",
    "    return max_len "
   ]
  },
  {
   "cell_type": "code",
   "execution_count": 167,
   "metadata": {
    "collapsed": true
   },
   "outputs": [],
   "source": [
    "def one_file_add(a,item_collect):\n",
    "    list_test = []\n",
    "    \n",
    "    ### \"one file\" append in outstr and fillin nan started ###\n",
    "    list_counter = 0\n",
    "\n",
    "    for i in range(0, (len(a)), +1):\n",
    "        if((a[i][0])=='#'):\n",
    "            list_test.append([(int(a[i].replace(\"#\", \"\").replace(\"\\n\", \"\"))),a[i+1]])\n",
    "            list_counter += 1\n",
    "\n",
    "\n",
    "    s = sorted(list_test, key = lambda x : x[0])\n",
    "    fill_the_file = [item[1] for item in s] \n",
    "\n",
    "    while(list_counter <= max_len-1):\n",
    "        fill_the_file.append('nan')\n",
    "        list_counter += 1\n",
    "\n",
    "        \n",
    "    item_collect.extend(fill_the_file)\n",
    "\n",
    "#     for aaa in s:\n",
    "#         print (aaa[0],aaa[1],end=\"\")\n",
    "\n",
    "#     nan_count = 0     \n",
    "\n",
    "#     for aaa in change_normal:\n",
    "#         print(aaa)\n"
   ]
  },
  {
   "cell_type": "code",
   "execution_count": 168,
   "metadata": {
    "collapsed": true
   },
   "outputs": [],
   "source": [
    "def one_directory(file_directory , mylen , max_len):\n",
    "    a = []\n",
    "    item_collect = []\n",
    " \n",
    "    for readfile_i in range(0, mylen, +1):\n",
    "        currentfile = file_directory + \"/\" + file_list[readfile_i] # next file\n",
    "        f = open(currentfile,'r+')\n",
    "        a = f.readlines() \n",
    "    \n",
    "        one_file_add(a,item_collect)\n",
    "    ### read all files in directory finished ###     \n",
    "#     print(item_collect)\n",
    "    \n",
    "     \n",
    "    myset = set(item_collect)\n",
    "    print(\"%d items found.\" %(len(item_collect)))\n",
    "    \n",
    "    nan_count = item_collect.count('nan')\n",
    "    print(\"nan count : %d\"%nan_count) \n",
    "    \n",
    "#     print(item_collect)\n",
    "    ### change to normal started ###\n",
    "    for item in myset:\n",
    "#         print(item,item_collect.count(item),\"\\n\",(item_collect.count(item)/(len(item_collect)-nan_count)))\n",
    "        change_to_normal(item_collect,item,(item_collect.count(item)/(len(item_collect)-nan_count)))\n",
    "\n",
    "#     print(item_collect)\n",
    "    \n",
    "#     print ([\"%0.2f\" % i for i in change_normal])\n",
    "    \n",
    "    print(\"\\n***************************************************************************\\n\")\n",
    "    print (str(mal_family_list[readmal_i]) + \" : \")\n",
    "    np_pic = np.asarray(item_collect)\n",
    "\n",
    "    plt.imshow(np_pic.reshape([int(len(item_collect)/max_len),max_len]), cmap='Greys')  \n",
    "    plt.show()"
   ]
  },
  {
   "cell_type": "markdown",
   "metadata": {},
   "source": [
    "# test"
   ]
  },
  {
   "cell_type": "code",
   "execution_count": 169,
   "metadata": {
    "collapsed": true
   },
   "outputs": [],
   "source": [
    "mal_directory = \"C:/Users/howar/CNN_study/MotifAnalysis/hooklogs/\" #hooklog輸入\n",
    "  \n",
    "import os\n",
    "\n",
    "mal_family_list = os.listdir(mal_directory) # get all filenames in the in_directory\n",
    "\n"
   ]
  },
  {
   "cell_type": "code",
   "execution_count": 170,
   "metadata": {
    "scrolled": false
   },
   "outputs": [
    {
     "name": "stdout",
     "output_type": "stream",
     "text": [
      "total:  34  files found.\n",
      "max_len :  109\n",
      "3706 items found.\n",
      "nan count : 51\n",
      "\n",
      "***************************************************************************\n",
      "\n",
      "allaple_woj_g_98 : \n"
     ]
    },
    {
     "data": {
      "image/png": "[encoded data removed]",
      "text/plain": [
       "<matplotlib.figure.Figure at 0x15d77941e48>"
      ]
     },
     "metadata": {},
     "output_type": "display_data"
    },
    {
     "name": "stdout",
     "output_type": "stream",
     "text": [
      "\n",
      "***************************************************************************\n",
      "\n",
      "total:  49  files found.\n",
      "max_len :  336\n",
      "16464 items found.\n",
      "nan count : 1665\n",
      "\n",
      "***************************************************************************\n",
      "\n",
      "elkern_woj_g_127 : \n"
     ]
    },
    {
     "data": {
      "image/png": "[encoded data removed]",
      "text/plain": [
       "<matplotlib.figure.Figure at 0x15d78c7aba8>"
      ]
     },
     "metadata": {},
     "output_type": "display_data"
    },
    {
     "name": "stdout",
     "output_type": "stream",
     "text": [
      "\n",
      "***************************************************************************\n",
      "\n",
      "total:  68  files found.\n",
      "max_len :  538\n",
      "36584 items found.\n",
      "nan count : 26362\n",
      "\n",
      "***************************************************************************\n",
      "\n",
      "firseria_woj_g_144 : \n"
     ]
    },
    {
     "data": {
      "image/png": "[encoded data removed]",
      "text/plain": [
       "<matplotlib.figure.Figure at 0x15d77a4acf8>"
      ]
     },
     "metadata": {},
     "output_type": "display_data"
    },
    {
     "name": "stdout",
     "output_type": "stream",
     "text": [
      "\n",
      "***************************************************************************\n",
      "\n",
      "total:  19  files found.\n",
      "max_len :  17\n",
      "323 items found.\n",
      "nan count : 0\n",
      "\n",
      "***************************************************************************\n",
      "\n",
      "kazy_woj_g_290 : \n"
     ]
    },
    {
     "data": {
      "image/png": "[encoded data removed]",
      "text/plain": [
       "<matplotlib.figure.Figure at 0x15d78c73550>"
      ]
     },
     "metadata": {},
     "output_type": "display_data"
    },
    {
     "name": "stdout",
     "output_type": "stream",
     "text": [
      "\n",
      "***************************************************************************\n",
      "\n",
      "total:  15  files found.\n",
      "max_len :  69\n",
      "1035 items found.\n",
      "nan count : 145\n",
      "\n",
      "***************************************************************************\n",
      "\n",
      "loadmoney_woj_g_184 : \n"
     ]
    },
    {
     "data": {
      "image/png": "[encoded data removed]",
      "text/plain": [
       "<matplotlib.figure.Figure at 0x15d77af6550>"
      ]
     },
     "metadata": {},
     "output_type": "display_data"
    },
    {
     "name": "stdout",
     "output_type": "stream",
     "text": [
      "\n",
      "***************************************************************************\n",
      "\n",
      "total:  55  files found.\n",
      "max_len :  581\n",
      "31955 items found.\n",
      "nan count : 1452\n",
      "\n",
      "***************************************************************************\n",
      "\n",
      "loadmoney_woj_g_189 : \n"
     ]
    },
    {
     "data": {
      "image/png": "[encoded data removed]",
      "text/plain": [
       "<matplotlib.figure.Figure at 0x15d77b41a58>"
      ]
     },
     "metadata": {},
     "output_type": "display_data"
    },
    {
     "name": "stdout",
     "output_type": "stream",
     "text": [
      "\n",
      "***************************************************************************\n",
      "\n",
      "total:  33  files found.\n",
      "max_len :  115\n",
      "3795 items found.\n",
      "nan count : 26\n",
      "\n",
      "***************************************************************************\n",
      "\n",
      "mira_woj_g_107 : \n"
     ]
    },
    {
     "data": {
      "image/png": "[encoded data removed]",
      "text/plain": [
       "<matplotlib.figure.Figure at 0x15d78d2aba8>"
      ]
     },
     "metadata": {},
     "output_type": "display_data"
    },
    {
     "name": "stdout",
     "output_type": "stream",
     "text": [
      "\n",
      "***************************************************************************\n",
      "\n",
      "total:  31  files found.\n",
      "max_len :  1226\n",
      "38006 items found.\n",
      "nan count : 14694\n",
      "\n",
      "***************************************************************************\n",
      "\n",
      "morstar_old : \n"
     ]
    },
    {
     "data": {
      "image/png": "[encoded data removed]",
      "text/plain": [
       "<matplotlib.figure.Figure at 0x15d77a51f60>"
      ]
     },
     "metadata": {},
     "output_type": "display_data"
    },
    {
     "name": "stdout",
     "output_type": "stream",
     "text": [
      "\n",
      "***************************************************************************\n",
      "\n",
      "total:  59  files found.\n",
      "max_len :  331\n",
      "19529 items found.\n",
      "nan count : 11118\n",
      "\n",
      "***************************************************************************\n",
      "\n",
      "somoto_woj : \n"
     ]
    },
    {
     "data": {
      "image/png": "[encoded data removed]",
      "text/plain": [
       "<matplotlib.figure.Figure at 0x15d77ae5c50>"
      ]
     },
     "metadata": {},
     "output_type": "display_data"
    },
    {
     "name": "stdout",
     "output_type": "stream",
     "text": [
      "\n",
      "***************************************************************************\n",
      "\n",
      "total:  73  files found.\n",
      "max_len :  237\n",
      "17301 items found.\n",
      "nan count : 1296\n",
      "\n",
      "***************************************************************************\n",
      "\n",
      "sytro_woj_g_166 : \n"
     ]
    },
    {
     "data": {
      "image/png": "[encoded data removed]",
      "text/plain": [
       "<matplotlib.figure.Figure at 0x15d77941ac8>"
      ]
     },
     "metadata": {},
     "output_type": "display_data"
    },
    {
     "name": "stdout",
     "output_type": "stream",
     "text": [
      "\n",
      "***************************************************************************\n",
      "\n"
     ]
    }
   ],
   "source": [
    "# for readmal_i in range(0, (len(mal_family_list)), +1):\n",
    "for readmal_i in range(0, (len(mal_family_list)), +1):\n",
    "    file_directory = mal_directory + mal_family_list[readmal_i] \n",
    "    \n",
    "    file_list = os.listdir(file_directory) # get all filenames in the in_directory\n",
    "    max_len = find_max(file_directory,(len(file_list)))\n",
    "    print(\"max_len : \",max_len)  \n",
    "#     print(\"\\n*********************************************************************************\\n\")      \n",
    "    \n",
    "    one_directory(file_directory,(len(file_list)),max_len)\n",
    "    print(\"\\n***************************************************************************\\n\")  \n"
   ]
  },
  {
   "cell_type": "code",
   "execution_count": null,
   "metadata": {
    "collapsed": true
   },
   "outputs": [],
   "source": []
  }
 ],
 "metadata": {
  "kernelspec": {
   "display_name": "Python 3",
   "language": "python",
   "name": "python3"
  },
  "language_info": {
   "codemirror_mode": {
    "name": "ipython",
    "version": 3
   },
   "file_extension": ".py",
   "mimetype": "text/x-python",
   "name": "python",
   "nbconvert_exporter": "python",
   "pygments_lexer": "ipython3",
   "version": "3.6.1"
  }
 },
 "nbformat": 4,
 "nbformat_minor": 2
}
