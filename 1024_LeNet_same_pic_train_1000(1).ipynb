{
 "cells": [
  {
   "cell_type": "markdown",
   "metadata": {},
   "source": [
    "# LeNet_1025_same_pic_train_1000\n"
   ]
  },
  {
   "cell_type": "markdown",
   "metadata": {},
   "source": [
    "# import部分"
   ]
  },
  {
   "cell_type": "code",
   "execution_count": 32,
   "metadata": {
    "collapsed": true
   },
   "outputs": [],
   "source": [
    "%matplotlib inline\n",
    "from __future__ import print_function\n",
    "import tensorflow as tf\n",
    "import numpy as np\n",
    "import matplotlib.pyplot as plt"
   ]
  },
  {
   "cell_type": "code",
   "execution_count": 33,
   "metadata": {},
   "outputs": [
    {
     "name": "stdout",
     "output_type": "stream",
     "text": [
      "Extracting MNIST_data\\train-images-idx3-ubyte.gz\n",
      "Extracting MNIST_data\\train-labels-idx1-ubyte.gz\n",
      "Extracting MNIST_data\\t10k-images-idx3-ubyte.gz\n",
      "Extracting MNIST_data\\t10k-labels-idx1-ubyte.gz\n"
     ]
    }
   ],
   "source": [
    "from tensorflow.examples.tutorials.mnist import input_data\n",
    "# number 1 to 10 data\n",
    "mnist = input_data.read_data_sets('MNIST_data', one_hot=True)\n",
    "\n",
    "# 每個 MNIST 中的圖片都有一個對應的 label 也就是從 0 到 9 的數值．\n",
    "# 在這裡每個 label 都是一個 one-hot vectors\n",
    "# one-hot vector 是指法就是 [1, 0, 0, 0, 0, 0, 0, 0, 0, 0]"
   ]
  },
  {
   "cell_type": "markdown",
   "metadata": {},
   "source": [
    "# 觀察資料型態\n"
   ]
  },
  {
   "cell_type": "code",
   "execution_count": 34,
   "metadata": {},
   "outputs": [
    {
     "name": "stdout",
     "output_type": "stream",
     "text": [
      "讓我們看一下 MNIST 訓練還有測試的資料集長得如何\n",
      "mnist資料型態 : <class 'tensorflow.contrib.learn.python.learn.datasets.base.Datasets'>\n",
      "training sample 共有 55000 個\n",
      "validation sample 共有 5000 個\n",
      "testing sample 共有 10000 個\n",
      "train_img 的 type : <class 'numpy.ndarray'>\n",
      "train_img 的 dimension : (55000, 784)\n",
      "train_label 的 type : <class 'numpy.ndarray'>\n",
      "train_label 的 dimension : (55000, 10)\n",
      "test_img 的 type : <class 'numpy.ndarray'>\n",
      "test_img 的 dimension : (10000, 784)\n",
      "test_label 的 type : <class 'numpy.ndarray'>\n",
      "test_label 的 dimension : (10000, 10)\n"
     ]
    }
   ],
   "source": [
    "print (\"讓我們看一下 MNIST 訓練還有測試的資料集長得如何\")\n",
    "#print (\"mnist資料型態 : %s \" %(type(mnist)))\n",
    "print (\"mnist資料型態 : \" + str(type(mnist)))\n",
    "print (\"training sample 共有 %s 個\"%(mnist.train.num_examples))\n",
    "print (\"validation sample 共有 %s 個\" %(mnist.validation.num_examples))\n",
    "print (\"testing sample 共有 %s 個\"  %(mnist.test.num_examples))\n",
    "train_img = mnist.train.images\n",
    "train_label = mnist.train.labels\n",
    "test_img = mnist.test.images\n",
    "test_label = mnist.test.labels\n",
    "print(\"train_img 的 type : %s\" % (type(train_img)))\n",
    "print(\"train_img 的 dimension : %s\" % (train_img.shape,))\n",
    "print(\"train_label 的 type : %s\" % (type(train_label)))\n",
    "print(\"train_label 的 dimension : %s\" % (train_label.shape,))\n",
    "print(\"test_img 的 type : %s\" % (type(test_img)))\n",
    "print(\"test_img 的 dimension : %s\" % (test_img.shape,))\n",
    "print(\"test_label 的 type : %s\" % (type(test_label)))\n",
    "print(\"test_label 的 dimension : %s\" % (test_label.shape,))"
   ]
  },
  {
   "cell_type": "markdown",
   "metadata": {},
   "source": [
    "# 自定義函數(印出用)"
   ]
  },
  {
   "cell_type": "code",
   "execution_count": 35,
   "metadata": {
    "collapsed": true
   },
   "outputs": [],
   "source": [
    "def reshape_pic(origin, size, channel, xsnum):\n",
    "    pic = origin[xsnum] #第num張照片 \n",
    "    ch = pic.transpose(2,0,1).reshape([channel,-1]) #將照片拉成數個channel\n",
    "    out = ch.reshape([size*channel,size]) #將第cnum的channel照片拉成28x28\n",
    "#     print(\"\\n*********************************************************************************\\n\")    \n",
    "#     print (\"pic shape:\" + str(pic.shape))\n",
    "#     print (\"ch shape:\" + str(ch.shape))\n",
    "    print (\"output shape:\" + str(out.shape))\n",
    "#     print(\"\\n*********************************************************************************\\n\")\n",
    "    return out\n"
   ]
  },
  {
   "cell_type": "code",
   "execution_count": 36,
   "metadata": {
    "collapsed": true
   },
   "outputs": [],
   "source": [
    " def print_pic_int(x):\n",
    "    print(\"\\n*********************************************************************************\\n\")\n",
    "\n",
    "    j = 0\n",
    "    while j < (x.shape[0]) :\n",
    "        print (str(int(round(x[j,0])))+ \" \"+ str(int(round(x[j,1])))\n",
    "            + \" \"+ str(int(round(x[j,2])))+ \" \"+ str(int(round(x[j,3])))\n",
    "            + \" \"+ str(int(round(x[j,4])))+ \" \"+ str(int(round(x[j,5])))\n",
    "            + \" \"+ str(int(round(x[j,6])))+ \" \"+ str(int(round(x[j,7])))\n",
    "            + \" \"+ str(int(round(x[j,8])))+ \" \"+ str(int(round(x[j,9])))\n",
    "            + \" \"+ str(int(round(x[j,10])))+ \" \"+ str(int(round(x[j,11])))\n",
    "            + \" \"+ str(int(round(x[j,12])))+ \" \"+ str(int(round(x[j,13])))\n",
    "            + \" \"+ str(int(round(x[j,14])))+ \" \"+ str(int(round(x[j,15])))\n",
    "            + \" \"+ str(int(round(x[j,16])))+ \" \"+ str(int(round(x[j,17])))\n",
    "            + \" \"+ str(int(round(x[j,18])))+ \" \"+ str(int(round(x[j,19])))\n",
    "            + \" \"+ str(int(round(x[j,20])))+ \" \"+ str(int(round(x[j,21])))\n",
    "            + \" \"+ str(int(round(x[j,22])))+ \" \"+ str(int(round(x[j,23])))\n",
    "            + \" \"+ str(int(round(x[j,24])))+ \" \"+ str(int(round(x[j,25])))\n",
    "            + \" \"+ str(int(round(x[j,26])))+ \" \"+ str(int(round(x[j,27]))))\n",
    "        j += 1    \n",
    "        if(j% (x.shape[1]) == 0):\n",
    "            print(\"\\n*********************************************************************************\\n\")\n",
    "        "
   ]
  },
  {
   "cell_type": "code",
   "execution_count": 37,
   "metadata": {
    "collapsed": true
   },
   "outputs": [],
   "source": [
    "def print_pic_prec(x , prec):\n",
    "    print (\"test printing by num:\")\n",
    "    i = 0\n",
    "    print(\"\\n*********************************************************************************\\n\")\n",
    "    \n",
    "    while i < (x.shape[0]) :\n",
    "        print  (str(round(x[i,0], prec))+ \"\\t\"+ str(round(x[i,1], prec))\n",
    "            + \"\\t\"+ str(round(x[i,2], prec))+ \"\\t\"+ str(round(x[i,3], prec))\n",
    "            + \"\\t\"+ str(round(x[i,4], prec))+ \"\\t\"+ str(round(x[i,5], prec))\n",
    "            + \"\\t\"+ str(round(x[i,6], prec))+ \"\\t\"+ str(round(x[i,7], prec))\n",
    "            + \"\\t\"+ str(round(x[i,8], prec))+ \"\\t\"+ str(round(x[i,9], prec))\n",
    "            + \"\\t\"+ str(round(x[i,10], prec))+ \"\\t\"+ str(round(x[i,11], prec))\n",
    "            + \"\\t\"+ str(round(x[i,12], prec))+ \"\\t\"+ str(round(x[i,13], prec))\n",
    "            + \"\\t\"+ str(round(x[i,14], prec))+ \"\\t\"+ str(round(x[i,15], prec))\n",
    "            + \"\\t\"+ str(round(x[i,16], prec))+ \"\\t\"+ str(round(x[i,17], prec))\n",
    "            + \"\\t\"+ str(round(x[i,18], prec))+ \"\\t\"+ str(round(x[i,19], prec))\n",
    "            + \"\\t\"+ str(round(x[i,20], prec))+ \"\\t\"+ str(round(x[i,21], prec))\n",
    "            + \"\\t\"+ str(round(x[i,22], prec))+ \"\\t\"+ str(round(x[i,23], prec))\n",
    "            + \"\\t\"+ str(round(x[i,24], prec))+ \"\\t\"+ str(round(x[i,25], prec))\n",
    "            + \"\\t\"+ str(round(x[i,26], prec))+ \"\\t\"+ str(round(x[i,27], prec)))\n",
    "        i += 1\n",
    "        if(i% (x.shape[1]) == 0):\n",
    "             print(\"\\n*********************************************************************************\\n\")"
   ]
  },
  {
   "cell_type": "markdown",
   "metadata": {},
   "source": [
    "# 印出 filter 函數"
   ]
  },
  {
   "cell_type": "code",
   "execution_count": 38,
   "metadata": {
    "collapsed": true
   },
   "outputs": [],
   "source": [
    "# print_pic_prec(reshape_pic(W_conv1,5,6,0),2)\n",
    "def print_filter():\n",
    "#     print (sess.run(W_conv1[0]).shape)\n",
    "#     print (sess.run(W_conv1).shape)\n",
    "    i = 0\n",
    "    filter_no = 0\n",
    "    #while filter_no < 5:\n",
    "    while i < 5:\n",
    "        print (str(sess.run(W_conv1[0,i,0,filter_no]))+\"\\t\"\n",
    "        +str(sess.run(W_conv1[1,i,0,filter_no]))+\"\\t\"\n",
    "        +str(sess.run(W_conv1[2,i,0,filter_no]))+\"\\t\"\n",
    "        +str(sess.run(W_conv1[3,i,0,filter_no]))+\"\\t\"\n",
    "        +str(sess.run(W_conv1[4,i,0,filter_no]))+\"\\t\")\n",
    "        i+=1\n",
    "   #     filter_no+=1\n",
    "   #     i=0\n",
    "\n",
    "# print (sess.run(W_conv1[0], feed_dict={xs: batch_xs, ys: batch_ys, keep_prob: 0.5}))"
   ]
  },
  {
   "cell_type": "markdown",
   "metadata": {},
   "source": [
    "# 印出結果 函數"
   ]
  },
  {
   "cell_type": "code",
   "execution_count": 39,
   "metadata": {
    "collapsed": true
   },
   "outputs": [],
   "source": [
    "def print_result():\n",
    "#     print (\"prediction shape : \" + str(prediction[0].shape))\n",
    "#     print(\"\\n*********************************************************************************\\n\")\n",
    "    print (sess.run(prediction[0], feed_dict={xs: batch_xs, ys: batch_ys, keep_prob: 0.5}))"
   ]
  },
  {
   "cell_type": "markdown",
   "metadata": {},
   "source": [
    "# 函數定義區"
   ]
  },
  {
   "cell_type": "code",
   "execution_count": 40,
   "metadata": {
    "collapsed": true
   },
   "outputs": [],
   "source": [
    "def compute_accuracy(v_xs, v_ys):\n",
    "    global prediction\n",
    "    y_pre = sess.run(prediction, feed_dict={xs: v_xs, keep_prob: 1}) #feee_dict 餵字串\n",
    "    correct_prediction = tf.equal(tf.argmax(y_pre,1), tf.argmax(v_ys,1)) #使用argmax函數\n",
    "    accuracy = tf.reduce_mean(tf.cast(correct_prediction, tf.float32)) \n",
    "    result = sess.run(accuracy, feed_dict={xs: v_xs, ys: v_ys, keep_prob: 1})\n",
    "    return result\n",
    "\n",
    "def weight_variable(shape):\n",
    "    initial = tf.truncated_normal(shape,mean=0, stddev=0.1)  #設定weight mean dev\n",
    "    return tf.Variable(initial)\n",
    "\n",
    "def bias_variable(shape):\n",
    "    initial = tf.constant(0.1, shape=shape) #設定bias\n",
    "    return tf.Variable(initial)\n",
    "\n",
    "def conv2d(x, W):\n",
    "    # stride [1, x_movement, y_movement, 1]\n",
    "    # Must have strides[0] = strides[3] = 1\n",
    "    return tf.nn.conv2d(x, W, strides=[1, 1, 1, 1], padding='SAME')\n",
    "\n",
    "def max_pool_2x2(x):\n",
    "    # stride [1, x_movement, y_movement, 1]\n",
    "    return tf.nn.max_pool(x, ksize=[1,2,2,1], strides=[1,2,2,1], padding='SAME')\n"
   ]
  },
  {
   "cell_type": "markdown",
   "metadata": {},
   "source": [
    "# CNN 訓練過程"
   ]
  },
  {
   "cell_type": "code",
   "execution_count": 41,
   "metadata": {
    "collapsed": true
   },
   "outputs": [],
   "source": [
    "\n",
    "# define placeholder for inputs to network\n",
    "# xs = tf.placeholder(tf.float32, [None, 784]) \n",
    "# print (xs)\n",
    "# print (sess.run(xs))\n",
    "# xs = tf.placeholder(tf.float32, [None, 784])/255  \n",
    "# print (xs)\n",
    "# print (sess.run(xs))\n",
    "xs = tf.placeholder(tf.float32, [None, 784])/255.  \n",
    "# print (xs)\n",
    "# print (sess.run(xs))\n",
    "ys = tf.placeholder(tf.float32, [None, 10])\n",
    "keep_prob = tf.placeholder(tf.float32)  # The keep_prob value is used to control the dropout rate used when training the neural network. \n",
    "x_image = tf.reshape(xs, [-1, 28, 28, 1]) # 784 -> 28x28\n",
    "# print(x_image.shape)  # [n_samples, 28,28,1]\n",
    "\n",
    "## conv1 layer ##\n",
    "W_conv1 = weight_variable([5,5,1,6]) # patch 5x5, in size 1, out size 6\n",
    "b_conv1 = bias_variable([6])\n",
    "h_conv1 = tf.nn.relu(conv2d(x_image, W_conv1) + b_conv1) # output size 28x28x6\n",
    "h_pool1 = max_pool_2x2(h_conv1)                                         # output size 14x14x32\n",
    "\n",
    "## conv2 layer ##\n",
    "W_conv2 = weight_variable([5,5, 6, 16]) # patch 5x5, in size 32, out size 64\n",
    "b_conv2 = bias_variable([16])\n",
    "h_conv2 = tf.nn.relu(conv2d(h_pool1, W_conv2) + b_conv2) # output size 14x14x64\n",
    "h_pool2 = max_pool_2x2(h_conv2)                                         # output size 7x7x64\n",
    "\n",
    "## fc1 layer ##\n",
    "W_fc1 = weight_variable([7*7*16, 120])\n",
    "b_fc1 = bias_variable([120])\n",
    "# [n_samples, 7, 7, 64] ->> [n_samples, 7*7*64]\n",
    "h_pool2_flat = tf.reshape(h_pool2, [-1, 7*7*16])\n",
    "h_fc1 = tf.nn.relu(tf.matmul(h_pool2_flat, W_fc1) + b_fc1)\n",
    "h_fc1_drop = tf.nn.dropout(h_fc1, keep_prob)\n",
    "\n",
    "## fc2 layer ##\n",
    "W_fc2 = weight_variable([120, 10])\n",
    "b_fc2 = bias_variable([10])\n",
    "prediction = tf.nn.softmax(tf.matmul(h_fc1_drop, W_fc2) + b_fc2)\n",
    "\n",
    "\n",
    "# the error between prediction and real data\n",
    "cross_entropy = tf.reduce_mean(-tf.reduce_sum(ys * tf.log(prediction),\n",
    "                                              reduction_indices=[1]))       # loss 接着呢我们利用交叉熵损失函数来定义我们的cost function\n",
    "train_step = tf.train.AdamOptimizer(1e-4).minimize(cross_entropy)  # 我们用tf.train.AdamOptimizer()作为我们的优化器进行优化，使我们的cross_entropy最小\n",
    "\n",
    "sess = tf.Session() #定义Session\n",
    "# important step\n",
    "# tf.initialize_all_variables() no long valid from\n",
    "# 2017-03-02 if using tensorflow >= 0.12\n",
    "if int((tf.__version__).split('.')[1]) < 12 and int((tf.__version__).split('.')[0]) < 1: # # tf.initialize_all_variables() 这种写法马上就要被废弃\n",
    "    init = tf.initialize_all_variables()\n",
    "else:\n",
    "    init = tf.global_variables_initializer()\n",
    "\n",
    "sess.run(init)\n"
   ]
  },
  {
   "cell_type": "markdown",
   "metadata": {},
   "source": [
    "# 決定訓練次數與計算訓練精準度"
   ]
  },
  {
   "cell_type": "code",
   "execution_count": 42,
   "metadata": {
    "collapsed": true
   },
   "outputs": [],
   "source": [
    "batch_xs, batch_ys = mnist.train.next_batch(100)"
   ]
  },
  {
   "cell_type": "code",
   "execution_count": 43,
   "metadata": {},
   "outputs": [
    {
     "name": "stdout",
     "output_type": "stream",
     "text": [
      "訓練用圖長相：\n",
      "output shape:(28, 28)\n"
     ]
    },
    {
     "data": {
      "image/png": "[encoded data removed]",
      "text/plain": [
       "<matplotlib.figure.Figure at 0x1f202ae9908>"
      ]
     },
     "metadata": {},
     "output_type": "display_data"
    },
    {
     "name": "stdout",
     "output_type": "stream",
     "text": [
      "第1次的精確度： 0.097\n",
      "filter 長相：\n",
      "-0.0195732\t0.0472913\t0.00758653\t-0.0618246\t0.00981256\t\n",
      "-0.0392469\t0.0462124\t0.0309005\t-0.0211285\t0.000202019\t\n",
      "-0.122283\t0.04022\t0.161715\t-0.0179683\t-0.140985\t\n",
      "0.00764258\t-0.0913772\t0.0360861\t0.047481\t0.133404\t\n",
      "0.0375828\t0.154224\t-0.0311269\t-0.0720982\t0.150697\t\n",
      "預測結果：\n",
      "[ 0.20718749  0.06018125  0.09498139  0.09471428  0.0970479   0.03920643\n",
      "  0.12360535  0.08171302  0.11707676  0.08428612]\n",
      "\n",
      "*********************************************************************************\n",
      "\n",
      "第100次的精確度： 0.437\n",
      "filter 長相：\n",
      "-0.0205232\t0.0487558\t0.0138633\t-0.0535251\t0.0125364\t\n",
      "-0.041901\t0.0504017\t0.0402411\t-0.0120401\t0.00493445\t\n",
      "-0.127412\t0.0460398\t0.17098\t-0.00833465\t-0.13625\t\n",
      "0.0106637\t-0.0852751\t0.0441588\t0.0540213\t0.135129\t\n",
      "0.0423891\t0.159546\t-0.0258461\t-0.0660651\t0.156175\t\n",
      "預測結果：\n",
      "[ 0.07484678  0.14085159  0.10327636  0.08350328  0.05148327  0.14194995\n",
      "  0.07207392  0.10645395  0.14890373  0.07665709]\n",
      "\n",
      "*********************************************************************************\n",
      "\n",
      "第1000次的精確度： 0.813\n",
      "filter 長相：\n",
      "-0.0602162\t0.0778455\t0.0678944\t-0.0199426\t0.0027222\t\n",
      "-0.0963213\t0.091121\t0.0923073\t0.0237322\t0.0123063\t\n",
      "-0.149166\t0.101223\t0.226608\t0.0389489\t-0.0951763\t\n",
      "0.0469259\t-0.0305333\t0.0997353\t0.109337\t0.190554\t\n",
      "0.0883584\t0.211561\t0.0283916\t-0.0110802\t0.209448\t\n",
      "預測結果：\n",
      "[  1.73801564e-05   2.20383070e-02   8.00051726e-03   9.69042659e-01\n",
      "   1.93790288e-06   3.50738439e-04   5.00552051e-05   2.50595476e-05\n",
      "   4.62930155e-04   1.04580167e-05]\n",
      "\n",
      "*********************************************************************************\n",
      "\n"
     ]
    }
   ],
   "source": [
    "for i in range(1000):\n",
    "#     print (\"第1張圖的 shape : \" + str(x_image.shape))\n",
    "#     px1 = sess.run(x_image, feed_dict={xs: batch_xs, ys: batch_ys, keep_prob: 0.5})\n",
    "#     plt.imshow(reshape_pic(px1,28,1,0), cmap='Greys')  \n",
    "#     plt.show()\n",
    "    sess.run(train_step, feed_dict={xs: batch_xs, ys: batch_ys, keep_prob: 0.5})    \n",
    "#     if(i % 10 == 0):\n",
    "#         print (\"已經訓練完\"+str(int(i)+1)+\"次\")\n",
    "    if(i == 0):\n",
    "        print (\"訓練用圖長相：\")\n",
    "        px1 = sess.run(x_image, feed_dict={xs: batch_xs, ys: batch_ys, keep_prob: 0.5})\n",
    "        plt.imshow(reshape_pic(px1,28,1,0), cmap='Greys')  \n",
    "        plt.show()\n",
    "        print (\"第\"+str(int(i)+1)+\"次的精確度： \"+str(compute_accuracy(mnist.test.images[:1000], mnist.test.labels[:1000])))\n",
    "        print (\"filter 長相：\")\n",
    "        print_filter()    \n",
    "        print (\"預測結果：\")\n",
    "        print_result()\n",
    "        print(\"\\n*********************************************************************************\\n\")\n",
    "        train1=sess.run(W_conv1)\n",
    "    if(i == 99):\n",
    "        print (\"第\"+str(int(i)+1)+\"次的精確度： \"+str(compute_accuracy(mnist.test.images[:1000], mnist.test.labels[:1000])))\n",
    "        print (\"filter 長相：\")\n",
    "        print_filter()\n",
    "        print (\"預測結果：\")\n",
    "        print_result()\n",
    "        print(\"\\n*********************************************************************************\\n\")\n",
    "        train100=sess.run(W_conv1)\n",
    "    if(i == 999):\n",
    "        print (\"第\"+str(int(i)+1)+\"次的精確度： \"+str(compute_accuracy(mnist.test.images[:1000], mnist.test.labels[:1000])))\n",
    "        print (\"filter 長相：\")\n",
    "        print_filter()\n",
    "        print (\"預測結果：\")\n",
    "        print_result()\n",
    "        print(\"\\n*********************************************************************************\\n\")\n",
    "        train1000=sess.run(W_conv1)\n",
    "        \n",
    "\n",
    "# 训练数据，我们假定训练1000步，每50步输出一下准确率， 注意sess.run()时记得要用feed_dict给我们的众多 placeholder 喂数据哦.\n",
    "# 以上呢就是一个简单的卷积神经网络的例子代码            \n",
    "# for i in range(1000):\n",
    "#     batch_xs, batch_ys = mnist.train.next_batch(100)\n",
    "#     sess.run(train_step, feed_dict={xs: batch_xs, ys: batch_ys, keep_prob: 0.5})\n",
    "#     if i % 50 == 0:\n",
    "#         print (\"第\"+str(int(i/50)+1)+\"次的精確度： \"+str(compute_accuracy(\n",
    "#             mnist.test.images[:1000], mnist.test.labels[:1000])))"
   ]
  },
  {
   "cell_type": "markdown",
   "metadata": {},
   "source": [
    "# filter 相減\n"
   ]
  },
  {
   "cell_type": "code",
   "execution_count": 44,
   "metadata": {},
   "outputs": [
    {
     "name": "stdout",
     "output_type": "stream",
     "text": [
      "\n",
      " train100 - train1 : \n",
      "\n",
      "-0.000949955\t0.00146452\t0.00627679\t0.00829947\t0.0027238\t\n",
      "-0.00265418\t0.00418929\t0.00934055\t0.00908841\t0.00473243\t\n",
      "-0.00512936\t0.00581976\t0.00926521\t0.00963366\t0.00473502\t\n",
      "0.00302109\t0.00610212\t0.00807267\t0.00654027\t0.0017252\t\n",
      "0.00480633\t0.00532237\t0.0052808\t0.00603306\t0.00547802\t\n",
      "\n",
      "*********************************************************************************\n",
      "\n",
      "\n",
      " train1000 - train1 : \n",
      "\n",
      "-0.040643\t0.0305542\t0.0603078\t0.041882\t-0.00709036\t\n",
      "-0.0570744\t0.0449086\t0.0614068\t0.0448607\t0.0121043\t\n",
      "-0.0268832\t0.0610031\t0.0648935\t0.0569172\t0.0458085\t\n",
      "0.0392833\t0.0608439\t0.0636492\t0.0618561\t0.0571504\t\n",
      "0.0507756\t0.0573374\t0.0595184\t0.061018\t0.0587513\t\n",
      "\n",
      "*********************************************************************************\n",
      "\n",
      "\n",
      " train1000 - train100 : \n",
      "\n",
      "-0.0396931\t0.0290897\t0.0540311\t0.0335825\t-0.00981416\t\n",
      "-0.0544202\t0.0407193\t0.0520662\t0.0357723\t0.0073719\t\n",
      "-0.0217539\t0.0551834\t0.0556283\t0.0472836\t0.0410735\t\n",
      "0.0362622\t0.0547417\t0.0555766\t0.0553158\t0.0554252\t\n",
      "0.0459693\t0.052015\t0.0542376\t0.0549849\t0.0532733\t\n",
      "\n",
      "*********************************************************************************\n",
      "\n"
     ]
    }
   ],
   "source": [
    "\n",
    "train_result = np.subtract(train100,train1)\n",
    "i = 0\n",
    "filter_no = 0\n",
    "print(\"\\n train100 - train1 : \\n\")\n",
    "while i < 5:\n",
    "    print (str(train_result[0,i,0,filter_no])+\"\\t\"\n",
    "        +str(train_result[1,i,0,filter_no])+\"\\t\"\n",
    "        +str(train_result[2,i,0,filter_no])+\"\\t\"\n",
    "        +str(train_result[3,i,0,filter_no])+\"\\t\"\n",
    "        +str(train_result[4,i,0,filter_no])+\"\\t\")\n",
    "    i+=1\n",
    "print(\"\\n*********************************************************************************\\n\")\n",
    "    \n",
    "train_result = np.subtract(train1000,train1)\n",
    "i = 0\n",
    "filter_no = 0\n",
    "print(\"\\n train1000 - train1 : \\n\")\n",
    "while i < 5:\n",
    "    print (str(train_result[0,i,0,filter_no])+\"\\t\"\n",
    "        +str(train_result[1,i,0,filter_no])+\"\\t\"\n",
    "        +str(train_result[2,i,0,filter_no])+\"\\t\"\n",
    "        +str(train_result[3,i,0,filter_no])+\"\\t\"\n",
    "        +str(train_result[4,i,0,filter_no])+\"\\t\")\n",
    "    i+=1\n",
    "print(\"\\n*********************************************************************************\\n\")    \n",
    "\n",
    "train_result = np.subtract(train1000,train100)\n",
    "i = 0\n",
    "filter_no = 0\n",
    "print(\"\\n train1000 - train100 : \\n\")\n",
    "while i < 5:\n",
    "    print (str(train_result[0,i,0,filter_no])+\"\\t\"\n",
    "        +str(train_result[1,i,0,filter_no])+\"\\t\"\n",
    "        +str(train_result[2,i,0,filter_no])+\"\\t\"\n",
    "        +str(train_result[3,i,0,filter_no])+\"\\t\"\n",
    "        +str(train_result[4,i,0,filter_no])+\"\\t\")\n",
    "    i+=1    \n",
    "print(\"\\n*********************************************************************************\\n\")    \n"
   ]
  },
  {
   "cell_type": "markdown",
   "metadata": {},
   "source": [
    "# 印出結果---input\n"
   ]
  },
  {
   "cell_type": "code",
   "execution_count": 45,
   "metadata": {},
   "outputs": [
    {
     "name": "stdout",
     "output_type": "stream",
     "text": [
      "第1張圖的 shape : (?, 28, 28, 1)\n",
      "output shape:(28, 28)\n"
     ]
    },
    {
     "data": {
      "text/plain": [
       "<matplotlib.image.AxesImage at 0x1f2030986d8>"
      ]
     },
     "execution_count": 45,
     "metadata": {},
     "output_type": "execute_result"
    },
    {
     "data": {
      "image/png": "[encoded data removed]",
      "text/plain": [
       "<matplotlib.figure.Figure at 0x1f202981240>"
      ]
     },
     "metadata": {},
     "output_type": "display_data"
    }
   ],
   "source": [
    "print (\"第1張圖的 shape : \" + str(x_image.shape))\n",
    "px1 = sess.run(x_image, feed_dict={xs: batch_xs, ys: batch_ys, keep_prob: 0.5})\n",
    "plt.imshow(reshape_pic(px1,28,1,0), cmap='Greys')  \n",
    "\n",
    "# print_pic_prec(reshape_pic(px1,28,1,0),5)\n",
    "# print_pic_int(reshape_pic(px1,28,1,0))"
   ]
  },
  {
   "cell_type": "markdown",
   "metadata": {},
   "source": [
    "# 印出結果---conv 1層"
   ]
  },
  {
   "cell_type": "code",
   "execution_count": 46,
   "metadata": {
    "scrolled": false
   },
   "outputs": [
    {
     "name": "stdout",
     "output_type": "stream",
     "text": [
      "conv1 shape : (?, 28, 28, 6)\n",
      "output shape:(168, 28)\n"
     ]
    },
    {
     "data": {
      "text/plain": [
       "<matplotlib.image.AxesImage at 0x1f2014bd0b8>"
      ]
     },
     "execution_count": 46,
     "metadata": {},
     "output_type": "execute_result"
    },
    {
     "data": {
      "image/png": "[encoded data removed]",
      "text/plain": [
       "<matplotlib.figure.Figure at 0x1f202a787f0>"
      ]
     },
     "metadata": {},
     "output_type": "display_data"
    }
   ],
   "source": [
    "    print (\"conv1 shape : \" + str(h_conv1.shape))\n",
    "    pC1 = sess.run(h_conv1, feed_dict={xs: batch_xs, ys: batch_ys, keep_prob: 0.5})\n",
    "    plt.imshow(reshape_pic(pC1,28,6,0), cmap='Greys')\n",
    "\n",
    "#     print_pic_prec(reshape_pic(pC1,28,6,0),3)\n",
    "#     print_pic_int(reshape_pic(pC1,28,6,0))\n",
    "    \n",
    "    # print(\"\\n*********************************************************************************\\n\")\n",
    "    # print (\"reshape pic shape:\" + str((reshape_pic(pC1,28,6,0)).shape))\n",
    "    # print (\"content:\\n\" + str(reshape_pic(pC1,28,6,0)))\n",
    "    # print(\"\\n*********************************************************************************\\n\")"
   ]
  },
  {
   "cell_type": "markdown",
   "metadata": {},
   "source": [
    "# 印出結果---pool 1層"
   ]
  },
  {
   "cell_type": "code",
   "execution_count": 47,
   "metadata": {},
   "outputs": [
    {
     "name": "stdout",
     "output_type": "stream",
     "text": [
      "pool1 shape : (?, 14, 14, 6)\n",
      "output shape:(84, 14)\n"
     ]
    },
    {
     "data": {
      "text/plain": [
       "<matplotlib.image.AxesImage at 0x1f201515518>"
      ]
     },
     "execution_count": 47,
     "metadata": {},
     "output_type": "execute_result"
    },
    {
     "data": {
      "image/png": "[encoded data removed]",
      "text/plain": [
       "<matplotlib.figure.Figure at 0x1f2014d3898>"
      ]
     },
     "metadata": {},
     "output_type": "display_data"
    }
   ],
   "source": [
    "    print (\"pool1 shape : \" + str(h_pool1.shape))\n",
    "    pH1 = sess.run(h_pool1, feed_dict={xs: batch_xs, ys: batch_ys, keep_prob: 0.5})\n",
    "    plt.imshow(reshape_pic(pH1,14,6,0), cmap='Greys')\n",
    "    \n",
    "    #print_pic_prec(reshape_pic(pH1,14,6,0),3)\n",
    "    #print_pic_int(reshape_pic(pH1,14,6,0))"
   ]
  },
  {
   "cell_type": "markdown",
   "metadata": {},
   "source": [
    "# 印出結果---conv 2層"
   ]
  },
  {
   "cell_type": "code",
   "execution_count": 48,
   "metadata": {},
   "outputs": [
    {
     "name": "stdout",
     "output_type": "stream",
     "text": [
      "conv2 shape : (?, 14, 14, 16)\n",
      "output shape:(224, 14)\n"
     ]
    },
    {
     "data": {
      "text/plain": [
       "<matplotlib.image.AxesImage at 0x1f2015679e8>"
      ]
     },
     "execution_count": 48,
     "metadata": {},
     "output_type": "execute_result"
    },
    {
     "data": {
      "image/png": "[encoded data removed]",
      "text/plain": [
       "<matplotlib.figure.Figure at 0x1f2014f9470>"
      ]
     },
     "metadata": {},
     "output_type": "display_data"
    }
   ],
   "source": [
    "    print (\"conv2 shape : \" + str(h_conv2.shape))\n",
    "    pC2 = sess.run(h_conv2, feed_dict={xs: batch_xs, ys: batch_ys, keep_prob: 0.5})\n",
    "    plt.imshow(reshape_pic(pC2,14,16,0), cmap='Greys')\n",
    "    \n",
    "    #print_pic_prec(reshape_pic(pC2,14,16,0),3)\n",
    "    #print_pic_int(reshape_pic(pC2,14,16,0))"
   ]
  },
  {
   "cell_type": "markdown",
   "metadata": {},
   "source": [
    "# 印出結果---pool 2層"
   ]
  },
  {
   "cell_type": "code",
   "execution_count": 49,
   "metadata": {},
   "outputs": [
    {
     "name": "stdout",
     "output_type": "stream",
     "text": [
      "pool2 shape : (?, 7, 7, 16)\n",
      "output shape:(112, 7)\n"
     ]
    },
    {
     "data": {
      "text/plain": [
       "<matplotlib.image.AxesImage at 0x1f2015bdf60>"
      ]
     },
     "execution_count": 49,
     "metadata": {},
     "output_type": "execute_result"
    },
    {
     "data": {
      "image/png": "[encoded data removed]",
      "text/plain": [
       "<matplotlib.figure.Figure at 0x1f2015805f8>"
      ]
     },
     "metadata": {},
     "output_type": "display_data"
    }
   ],
   "source": [
    "    print (\"pool2 shape : \" + str(h_pool2.shape))\n",
    "    pH2 = sess.run(h_pool2, feed_dict={xs: batch_xs, ys: batch_ys, keep_prob: 0.5})\n",
    "    plt.imshow(reshape_pic(pH2,7,16,0), cmap='Greys')\n",
    "    \n",
    "    #print_pic_prec(reshape_pic(pH2,7,16,0),3)\n",
    "    #print_pic_int(reshape_pic(pH2,7,16,0))"
   ]
  },
  {
   "cell_type": "markdown",
   "metadata": {},
   "source": [
    "# 印出結果---fc 1層"
   ]
  },
  {
   "cell_type": "code",
   "execution_count": 50,
   "metadata": {},
   "outputs": [
    {
     "name": "stdout",
     "output_type": "stream",
     "text": [
      "fc1 shape : (120,)\n",
      "\n",
      "*********************************************************************************\n",
      "\n",
      "[ 4.09653711  0.01963946  1.9758364   2.64005184  0.07451841  0.\n",
      "  2.17936563  0.          5.07511234  0.          3.69416285  2.45945954\n",
      "  3.61888242  2.8741796   2.05706525  4.42120361  0.          0.          0.\n",
      "  0.          0.          1.57208371  0.06176444  0.          0.\n",
      "  0.18937364  0.          1.89210761  0.77430588  2.49195647  1.42138815\n",
      "  0.          2.23222947  0.          2.11569023  2.51470304  0.\n",
      "  0.33618048  0.          1.87438738  0.          4.77603197  0.\n",
      "  1.28843379  0.08503646  2.18359947  2.2413137   1.48897982  0.          0.\n",
      "  0.07284534  0.20703779  0.          0.          2.05417109  0.\n",
      "  0.41922414  0.          0.          0.65375048  0.          1.29833424\n",
      "  0.          0.          7.02936316  1.76818097  0.          0.\n",
      "  0.90347034  0.          0.          4.11435652  0.          1.97209966\n",
      "  3.06796551  3.16506672  1.63288248  0.          0.          0.          0.\n",
      "  0.02760167  0.          2.8669765   0.          0.          2.7628336   0.\n",
      "  1.02337205  0.          0.          0.          0.69642115  0.\n",
      "  2.28165245  2.04151773  0.          0.          1.42302191  0.          0.\n",
      "  2.03599334  0.          0.          0.6163342   1.00976014  2.94593549\n",
      "  0.          0.          3.32068872  0.          0.          0.\n",
      "  1.66552269  0.          0.          2.23066616  0.          0.          0.        ]\n"
     ]
    }
   ],
   "source": [
    "    print (\"fc1 shape : \" + str(h_fc1[0].shape))\n",
    "    print(\"\\n*********************************************************************************\\n\")\n",
    "    print (sess.run(h_fc1[0], feed_dict={xs: batch_xs, ys: batch_ys, keep_prob: 0.5}))"
   ]
  },
  {
   "cell_type": "markdown",
   "metadata": {},
   "source": [
    "# 印出結果---fc 2層"
   ]
  },
  {
   "cell_type": "code",
   "execution_count": 51,
   "metadata": {},
   "outputs": [
    {
     "name": "stdout",
     "output_type": "stream",
     "text": [
      "prediction shape : (10,)\n",
      "\n",
      "*********************************************************************************\n",
      "\n",
      "[  4.26768129e-05   1.64302345e-03   5.73311560e-03   9.92135167e-01\n",
      "   7.53919309e-08   3.32722229e-05   3.27756339e-07   1.33254689e-05\n",
      "   3.98714561e-04   2.47062502e-07]\n"
     ]
    }
   ],
   "source": [
    "    print (\"prediction shape : \" + str(prediction[0].shape))\n",
    "    print(\"\\n*********************************************************************************\\n\")\n",
    "    print (sess.run(prediction[0], feed_dict={xs: batch_xs, ys: batch_ys, keep_prob: 0.5}))\n",
    "#     pH2 = sess.run(h_pool2, feed_dict={xs: batch_xs, ys: batch_ys, keep_prob: 0.5})\n",
    "#     plt.imshow(reshape_pic(pH2,7,16,0), cmap='Greys')"
   ]
  },
  {
   "cell_type": "markdown",
   "metadata": {
    "collapsed": true
   },
   "source": [
    "# 參考資料"
   ]
  },
  {
   "cell_type": "markdown",
   "metadata": {},
   "source": [
    "[CNN code 詳細說明 CNN 卷积神经网络 3](https://morvanzhou.github.io/tutorials/machine-learning/tensorflow/5-05-CNN3/)\n",
    "\n",
    "[TensorFlow入门 数据与参数的输入](https://zhuanlan.zhihu.com/p/25307881)\n",
    "\n",
    "[Tensorflow Day3 : 熟悉 MNIST 手寫數字辨識資料集 ](https://ithelp.ithome.com.tw/articles/10186473)\n",
    "\n",
    "[tensorflow教學(4) -- 建置一個CNN網路分辨手寫辨識字](http://darren1231.pixnet.net/blog/post/332753859-tensorflow%E6%95%99%E5%AD%B8----%E5%BB%BA%E7%BD%AE%E4%B8%80%E5%80%8Bcnn%E7%B6%B2%E8%B7%AF%E5%88%86%E8%BE%A8%E6%89%8B%E5%AF%AB%E8%BE%A8%E8%AD%98)\n",
    "\n",
    "[原创#Deep Learning回顾#之LeNet、AlexNet、GoogLeNet、VGG、ResNet](https://zhuanlan.zhihu.com/p/22094600)\n",
    "\n",
    "[干货|详解CNN五大经典模型:Lenet，Alexnet，Googlenet，VGG，DRL](http://www.sohu.com/a/134347664_642762)\n",
    "\n",
    "[Tensorflow Day3 : 熟悉 MNIST 手寫數字辨識資料集 ](https://ithelp.ithome.com.tw/articles/10186473)\n"
   ]
  },
  {
   "cell_type": "code",
   "execution_count": null,
   "metadata": {
    "collapsed": true
   },
   "outputs": [],
   "source": []
  }
 ],
 "metadata": {
  "kernelspec": {
   "display_name": "Python 3",
   "language": "python",
   "name": "python3"
  },
  "language_info": {
   "codemirror_mode": {
    "name": "ipython",
    "version": 3
   },
   "file_extension": ".py",
   "mimetype": "text/x-python",
   "name": "python",
   "nbconvert_exporter": "python",
   "pygments_lexer": "ipython3",
   "version": "3.6.1"
  }
 },
 "nbformat": 4,
 "nbformat_minor": 2
}
