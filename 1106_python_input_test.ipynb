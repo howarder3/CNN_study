{
 "cells": [
  {
   "cell_type": "markdown",
   "metadata": {
    "collapsed": true
   },
   "source": [
    "# define"
   ]
  },
  {
   "cell_type": "code",
   "execution_count": 165,
   "metadata": {
    "collapsed": true
   },
   "outputs": [],
   "source": [
    "%matplotlib inline\n",
    "from __future__ import print_function\n",
    "# import tensorflow as tf\n",
    "import numpy as np\n",
    "import matplotlib.pyplot as plt\n",
    "import math"
   ]
  },
  {
   "cell_type": "code",
   "execution_count": 166,
   "metadata": {
    "collapsed": true
   },
   "outputs": [],
   "source": [
    "def print_list_prec(x , prec):\n",
    "    print (\"printing by num:\")\n",
    "    i = 0\n",
    "    print(\"\\n*********************************************************************************\\n\")  \n",
    "    global for_flag\n",
    "    for_flag = 0\n",
    "    for i in range(0, 20, +1):\n",
    "        for j in range(0, 10, +1):\n",
    "            if((i*10+j)>=len(x)):\n",
    "                for_flag=1\n",
    "                break\n",
    "            print ((round(x[i*10+j], prec)), end='\\t')\n",
    "        print('')    \n",
    "        if(for_flag==1):\n",
    "            break\n",
    "    print(\"\\n*********************************************************************************\\n\")"
   ]
  },
  {
   "cell_type": "code",
   "execution_count": 167,
   "metadata": {
    "collapsed": true
   },
   "outputs": [],
   "source": [
    "def change_to_normal(target_list,item,value):\n",
    "    for i in range(0, (len(target_list)), +1):\n",
    "        if(target_list[i]==item):\n",
    "            target_list[i]=value"
   ]
  },
  {
   "cell_type": "code",
   "execution_count": 168,
   "metadata": {
    "collapsed": true
   },
   "outputs": [],
   "source": [
    "# write_f = open(\"test.hooklog\",\"r+\")\n",
    "# write_f.write(\"test1\\n\")\n",
    "# write_f.write(\"test2\\n\")\n",
    "# write_f.write(\"test3\\n\")\n",
    "# write_f.close()"
   ]
  },
  {
   "cell_type": "markdown",
   "metadata": {},
   "source": [
    "# start"
   ]
  },
  {
   "cell_type": "code",
   "execution_count": 169,
   "metadata": {},
   "outputs": [],
   "source": [
    "f = open('test.hooklog', 'r')\n",
    "# print (f.read())\n",
    "b = []\n",
    "a = f.readlines() \n",
    "for i in range(0, (len(a)), +1):\n",
    "    if((a[i][0])=='#'):\n",
    "        b.append(a[i+1][0])\n"
   ]
  },
  {
   "cell_type": "code",
   "execution_count": 170,
   "metadata": {},
   "outputs": [
    {
     "name": "stdout",
     "output_type": "stream",
     "text": [
      "463\n",
      "Return=a4\n",
      "R\n",
      "109\n"
     ]
    }
   ],
   "source": [
    "print (len(a))\n",
    "print (a[i])\n",
    "print (a[i][0])\n",
    "print ((len(b)))"
   ]
  },
  {
   "cell_type": "code",
   "execution_count": 171,
   "metadata": {},
   "outputs": [
    {
     "name": "stdout",
     "output_type": "stream",
     "text": [
      "['L', 'L', 'L', 'L', 'L', 'L', 'L', 'R', 'R', 'L', 'R', 'C', 'R', 'R', 'R', 'L', 'R', 'L', 'L', 'L', 'L', 'L', 'L', 'L', 'C', 'C', 'R', 'R', 'R', 'R', 'R', 'R', 'R', 'R', 'R', 'R', 'R', 'R', 'R', 'R', 'R', 'R', 'R', 'R', 'R', 'R', 'R', 'R', 'R', 'R', 'R', 'R', 'R', 'R', 'R', 'R', 'R', 'R', 'R', 'R', 'R', 'R', 'R', 'R', 'R', 'R', 'R', 'R', 'R', 'R', 'R', 'R', 'R', 'R', 'R', 'R', 'R', 'R', 'R', 'R', 'R', 'R', 'R', 'R', 'R', 'R', 'R', 'R', 'R', 'R', 'R', 'R', 'C', 'C', 'C', 'C', 'C', 'R', 'R', 'R', 'R', 'R', 'C', 'C', 'C', 'C', 'C', 'C', 'C']\n"
     ]
    }
   ],
   "source": [
    "print (b)"
   ]
  },
  {
   "cell_type": "code",
   "execution_count": 172,
   "metadata": {},
   "outputs": [
    {
     "name": "stdout",
     "output_type": "stream",
     "text": [
      "LLLLLLLRRLRCRRRLRLLLLLLLCCRR\n",
      "RRRRRRRRRRRRRRRRRRRRRRRRRRRR\n",
      "RRRRRRRRRRRRRRRRRRRRRRRRRRRR\n",
      "RRRRRRRRCCCCCRRRRRCCCCCCC\n"
     ]
    }
   ],
   "source": [
    "global for_flag\n",
    "for_flag = 0\n",
    "for i in range(0, 28, +1):\n",
    "    for j in range(0, 28, +1):\n",
    "        if((i*28+j)>=len(b)):\n",
    "            for_flag=1\n",
    "            break\n",
    "        print (b[i*28+j], end='')\n",
    "    print('')    \n",
    "    if(for_flag==1):\n",
    "        break"
   ]
  },
  {
   "cell_type": "code",
   "execution_count": 173,
   "metadata": {
    "scrolled": false
   },
   "outputs": [
    {
     "name": "stdout",
     "output_type": "stream",
     "text": [
      "LLLLLLLRRL\n",
      "RCRRRLRLLL\n",
      "LLLLCCRRRR\n",
      "RRRRRRRRRR\n",
      "RRRRRRRRRR\n",
      "RRRRRRRRRR\n",
      "RRRRRRRRRR\n",
      "RRRRRRRRRR\n",
      "RRRRRRRRRR\n",
      "RRCCCCCRRR\n",
      "RRCCCCCCC\n",
      "the L has found 16\n",
      "the C has found 15\n",
      "the R has found 78\n"
     ]
    }
   ],
   "source": [
    "global for_flag\n",
    "for_flag = 0\n",
    "for i in range(0, 20, +1):\n",
    "    for j in range(0, 10, +1):\n",
    "        if((i*10+j)>=len(b)):\n",
    "            for_flag=1\n",
    "            break\n",
    "        print (b[i*10+j], end='')\n",
    "#         print (i*10+j, end=' ')\n",
    "    print('')    \n",
    "    if(for_flag==1):\n",
    "        break\n",
    " \n",
    "myset = set(b)\n",
    "for item in myset:\n",
    "  print(\"the %s has found %d\" %(item,b.count(item)))\n"
   ]
  },
  {
   "cell_type": "code",
   "execution_count": 174,
   "metadata": {},
   "outputs": [],
   "source": [
    "ourstr = []\n",
    "for i in range(0, (len(a)), +1):\n",
    "    if((a[i][0])=='#'):\n",
    "        ourstr.append(a[i+1])"
   ]
  },
  {
   "cell_type": "code",
   "execution_count": 175,
   "metadata": {},
   "outputs": [
    {
     "name": "stdout",
     "output_type": "stream",
     "text": [
      "['LoadLibrary\\n', 'LoadLibrary\\n', 'LoadLibrary\\n', 'LoadLibrary\\n', 'LoadLibrary\\n', 'LoadLibrary\\n', 'LoadLibrary\\n', 'RegQueryValue\\n', 'RegQueryValue\\n', 'LoadLibrary\\n', 'RegQueryValue\\n', 'CreateFile\\n', 'RegQueryValue\\n', 'RegQueryValue\\n', 'RegEnumValue\\n', 'LoadLibrary\\n', 'RegQueryValue\\n', 'LoadLibrary\\n', 'LoadLibrary\\n', 'LoadLibrary\\n', 'LoadLibrary\\n', 'LoadLibrary\\n', 'LoadLibrary\\n', 'LoadLibrary\\n', 'CreateFile\\n', 'CreateFile\\n', 'RegCreateKey\\n', 'RegSetValue\\n', 'RegCreateKey\\n', 'RegSetValue\\n', 'RegQueryValue\\n', 'RegQueryValue\\n', 'RegQueryValue\\n', 'RegQueryValue\\n', 'RegQueryValue\\n', 'RegQueryValue\\n', 'RegQueryValue\\n', 'RegQueryValue\\n', 'RegQueryValue\\n', 'RegQueryValue\\n', 'RegQueryValue\\n', 'RegQueryValue\\n', 'RegQueryValue\\n', 'RegQueryValue\\n', 'RegQueryValue\\n', 'RegQueryValue\\n', 'RegQueryValue\\n', 'RegQueryValue\\n', 'RegQueryValue\\n', 'RegQueryValue\\n', 'RegQueryValue\\n', 'RegQueryValue\\n', 'RegQueryValue\\n', 'RegQueryValue\\n', 'RegQueryValue\\n', 'RegQueryValue\\n', 'RegQueryValue\\n', 'RegQueryValue\\n', 'RegQueryValue\\n', 'RegQueryValue\\n', 'RegQueryValue\\n', 'RegQueryValue\\n', 'RegQueryValue\\n', 'RegQueryValue\\n', 'RegQueryValue\\n', 'RegQueryValue\\n', 'RegQueryValue\\n', 'RegQueryValue\\n', 'RegQueryValue\\n', 'RegQueryValue\\n', 'RegQueryValue\\n', 'RegQueryValue\\n', 'RegQueryValue\\n', 'RegQueryValue\\n', 'RegQueryValue\\n', 'RegQueryValue\\n', 'RegQueryValue\\n', 'RegQueryValue\\n', 'RegQueryValue\\n', 'RegQueryValue\\n', 'RegQueryValue\\n', 'RegQueryValue\\n', 'RegQueryValue\\n', 'RegQueryValue\\n', 'RegQueryValue\\n', 'RegQueryValue\\n', 'RegQueryValue\\n', 'RegQueryValue\\n', 'RegQueryValue\\n', 'RegQueryValue\\n', 'RegQueryValue\\n', 'RegQueryValue\\n', 'CreateThread\\n', 'CreateThread\\n', 'CreateThread\\n', 'CreateThread\\n', 'CreateThread\\n', 'RegQueryValue\\n', 'RegQueryValue\\n', 'RegQueryValue\\n', 'RegQueryValue\\n', 'RegQueryValue\\n', 'CreateFile\\n', 'CreateFile\\n', 'CreateFile\\n', 'CreateFile\\n', 'CreateFile\\n', 'CreateFile\\n', 'CreateFile\\n']\n"
     ]
    }
   ],
   "source": [
    "print(ourstr)"
   ]
  },
  {
   "cell_type": "code",
   "execution_count": 176,
   "metadata": {},
   "outputs": [
    {
     "name": "stdout",
     "output_type": "stream",
     "text": [
      "109 items found\n",
      "\n",
      "RegSetValue\n",
      "2\n",
      "RegQueryValue\n",
      "73\n",
      "CreateFile\n",
      "10\n",
      "LoadLibrary\n",
      "16\n",
      "RegEnumValue\n",
      "1\n",
      "CreateThread\n",
      "5\n",
      "RegCreateKey\n",
      "2\n"
     ]
    }
   ],
   "source": [
    "change_normal = ourstr\n",
    "myset = set(ourstr)\n",
    "print(\"%d items found\\n\" %(len(ourstr)))\n",
    "for item in myset:\n",
    "    print(\"%s%d\" %(item,ourstr.count(item)))\n",
    "    change_to_normal(change_normal,item,(ourstr.count(item)/(len(ourstr))))\n",
    "\n",
    "\n"
   ]
  },
  {
   "cell_type": "code",
   "execution_count": 177,
   "metadata": {},
   "outputs": [],
   "source": [
    "pic_num = math.ceil(len(change_normal)/10)*10\n",
    "\n",
    "while(len(change_normal)<= pic_num - 1):\n",
    "    change_normal.append(0)\n"
   ]
  },
  {
   "cell_type": "code",
   "execution_count": 181,
   "metadata": {},
   "outputs": [
    {
     "name": "stdout",
     "output_type": "stream",
     "text": [
      "LLLLLLLRRL\n",
      "RCRRRLRLLL\n",
      "LLLLCCRRRR\n",
      "RRRRRRRRRR\n",
      "RRRRRRRRRR\n",
      "RRRRRRRRRR\n",
      "RRRRRRRRRR\n",
      "RRRRRRRRRR\n",
      "RRRRRRRRRR\n",
      "RRCCCCCRRR\n",
      "RRCCCCCCC\n",
      "the L has found 16\n",
      "the C has found 15\n",
      "the R has found 78\n",
      "printing by num:\n",
      "\n",
      "*********************************************************************************\n",
      "\n",
      "0.1468\t0.1468\t0.1468\t0.1468\t0.1468\t0.1468\t0.1468\t0.6697\t0.6697\t0.1468\t\n",
      "0.6697\t0.0917\t0.6697\t0.6697\t0.0092\t0.1468\t0.6697\t0.1468\t0.1468\t0.1468\t\n",
      "0.1468\t0.1468\t0.1468\t0.1468\t0.0917\t0.0917\t0.0183\t0.0183\t0.0183\t0.0183\t\n",
      "0.6697\t0.6697\t0.6697\t0.6697\t0.6697\t0.6697\t0.6697\t0.6697\t0.6697\t0.6697\t\n",
      "0.6697\t0.6697\t0.6697\t0.6697\t0.6697\t0.6697\t0.6697\t0.6697\t0.6697\t0.6697\t\n",
      "0.6697\t0.6697\t0.6697\t0.6697\t0.6697\t0.6697\t0.6697\t0.6697\t0.6697\t0.6697\t\n",
      "0.6697\t0.6697\t0.6697\t0.6697\t0.6697\t0.6697\t0.6697\t0.6697\t0.6697\t0.6697\t\n",
      "0.6697\t0.6697\t0.6697\t0.6697\t0.6697\t0.6697\t0.6697\t0.6697\t0.6697\t0.6697\t\n",
      "0.6697\t0.6697\t0.6697\t0.6697\t0.6697\t0.6697\t0.6697\t0.6697\t0.6697\t0.6697\t\n",
      "0.6697\t0.6697\t0.0459\t0.0459\t0.0459\t0.0459\t0.0459\t0.6697\t0.6697\t0.6697\t\n",
      "0.6697\t0.6697\t0.0917\t0.0917\t0.0917\t0.0917\t0.0917\t0.0917\t0.0917\t0\t\n",
      "\n",
      "\n",
      "*********************************************************************************\n",
      "\n",
      "None\n"
     ]
    },
    {
     "data": {
      "image/png": "[encoded data removed]",
      "text/plain": [
       "<matplotlib.figure.Figure at 0x24b68825320>"
      ]
     },
     "metadata": {},
     "output_type": "display_data"
    }
   ],
   "source": [
    "global for_flag\n",
    "for_flag = 0\n",
    "for i in range(0, 20, +1):\n",
    "    for j in range(0, 10, +1):\n",
    "        if((i*10+j)>=len(b)):\n",
    "            for_flag=1\n",
    "            break\n",
    "        print (b[i*10+j], end='')\n",
    "#         print (i*10+j, end=' ')\n",
    "    print('')    \n",
    "    if(for_flag==1):\n",
    "        break\n",
    " \n",
    "myset = set(b)\n",
    "for item in myset:\n",
    "  print(\"the %s has found %d\" %(item,b.count(item)))\n",
    "\n",
    "print (print_list_prec(change_normal,4))\n",
    "np_pic = np.asarray(change_normal)\n",
    "\n",
    "\n",
    "plt.imshow(np_pic.reshape([int(len(change_normal)/10),10]), cmap='Greys')  \n",
    "plt.show()"
   ]
  },
  {
   "cell_type": "code",
   "execution_count": null,
   "metadata": {
    "collapsed": true
   },
   "outputs": [],
   "source": [
    "f.close()"
   ]
  }
 ],
 "metadata": {
  "kernelspec": {
   "display_name": "Python 3",
   "language": "python",
   "name": "python3"
  },
  "language_info": {
   "codemirror_mode": {
    "name": "ipython",
    "version": 3
   },
   "file_extension": ".py",
   "mimetype": "text/x-python",
   "name": "python",
   "nbconvert_exporter": "python",
   "pygments_lexer": "ipython3",
   "version": "3.6.1"
  }
 },
 "nbformat": 4,
 "nbformat_minor": 2
}
