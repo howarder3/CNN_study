{
 "cells": [
  {
   "cell_type": "markdown",
   "metadata": {},
   "source": [
    "# googlenet"
   ]
  },
  {
   "cell_type": "markdown",
   "metadata": {},
   "source": [
    "##### https://static.googleusercontent.com/media/research.google.com/zh-TW//pubs/archive/43022.pdf"
   ]
  },
  {
   "cell_type": "markdown",
   "metadata": {},
   "source": [
    "## inception"
   ]
  },
  {
   "cell_type": "markdown",
   "metadata": {},
   "source": [
    "![](inception.PNG)"
   ]
  },
  {
   "cell_type": "markdown",
   "metadata": {},
   "source": [
    "## googlenet architecture"
   ]
  },
  {
   "cell_type": "markdown",
   "metadata": {},
   "source": [
    "![](googlenet.PNG)"
   ]
  },
  {
   "cell_type": "markdown",
   "metadata": {},
   "source": [
    "## tensorflow + googlenet"
   ]
  },
  {
   "cell_type": "code",
   "execution_count": 1,
   "metadata": {
    "collapsed": true
   },
   "outputs": [],
   "source": [
    "import tensorflow as tf\n",
    "import numpy as np\n",
    "from PIL import Image\n",
    "from tensorflow.python.ops import array_ops"
   ]
  },
  {
   "cell_type": "code",
   "execution_count": 2,
   "metadata": {},
   "outputs": [
    {
     "ename": "FileNotFoundError",
     "evalue": "[Errno 2] No such file or directory: './image.png'",
     "output_type": "error",
     "traceback": [
      "\u001b[0;31m---------------------------------------------------------------------------\u001b[0m",
      "\u001b[0;31mFileNotFoundError\u001b[0m                         Traceback (most recent call last)",
      "\u001b[0;32m<ipython-input-2-c40b191c3c0a>\u001b[0m in \u001b[0;36m<module>\u001b[0;34m()\u001b[0m\n\u001b[0;32m----> 1\u001b[0;31m \u001b[0mImage\u001b[0m\u001b[0;34m.\u001b[0m\u001b[0mopen\u001b[0m\u001b[0;34m(\u001b[0m\u001b[0;34m'./image.png'\u001b[0m\u001b[0;34m)\u001b[0m\u001b[0;34m\u001b[0m\u001b[0m\n\u001b[0m",
      "\u001b[0;32m/opt/conda/lib/python3.6/site-packages/PIL/Image.py\u001b[0m in \u001b[0;36mopen\u001b[0;34m(fp, mode)\u001b[0m\n\u001b[1;32m   2475\u001b[0m \u001b[0;34m\u001b[0m\u001b[0m\n\u001b[1;32m   2476\u001b[0m     \u001b[0;32mif\u001b[0m \u001b[0mfilename\u001b[0m\u001b[0;34m:\u001b[0m\u001b[0;34m\u001b[0m\u001b[0m\n\u001b[0;32m-> 2477\u001b[0;31m         \u001b[0mfp\u001b[0m \u001b[0;34m=\u001b[0m \u001b[0mbuiltins\u001b[0m\u001b[0;34m.\u001b[0m\u001b[0mopen\u001b[0m\u001b[0;34m(\u001b[0m\u001b[0mfilename\u001b[0m\u001b[0;34m,\u001b[0m \u001b[0;34m\"rb\"\u001b[0m\u001b[0;34m)\u001b[0m\u001b[0;34m\u001b[0m\u001b[0m\n\u001b[0m\u001b[1;32m   2478\u001b[0m         \u001b[0mexclusive_fp\u001b[0m \u001b[0;34m=\u001b[0m \u001b[0;32mTrue\u001b[0m\u001b[0;34m\u001b[0m\u001b[0m\n\u001b[1;32m   2479\u001b[0m \u001b[0;34m\u001b[0m\u001b[0m\n",
      "\u001b[0;31mFileNotFoundError\u001b[0m: [Errno 2] No such file or directory: './image.png'"
     ]
    }
   ],
   "source": [
    "Image.open('./image.png')"
   ]
  },
  {
   "cell_type": "code",
   "execution_count": null,
   "metadata": {
    "collapsed": true
   },
   "outputs": [],
   "source": [
    "image = np.asarray(Image.open('./image.png'))\n",
    "\n",
    "image_y = np.zeros(4)\n",
    "image_y[2] = 1\n",
    "\n",
    "image = np.reshape(image, [-1, 299, 299, 3])\n",
    "image_y = np.reshape(image_y, [-1, 4])\n",
    "\n",
    "print (image.shape)\n",
    "print (image_y)"
   ]
  },
  {
   "cell_type": "code",
   "execution_count": null,
   "metadata": {
    "collapsed": true
   },
   "outputs": [],
   "source": [
    "def weight_variable(shape):\n",
    "    initial = tf.truncated_normal(shape, stddev=0.1)\n",
    "    return tf.Variable(initial)"
   ]
  },
  {
   "cell_type": "code",
   "execution_count": null,
   "metadata": {
    "collapsed": true
   },
   "outputs": [],
   "source": [
    "def bias_variable(shape):\n",
    "    initial = tf.constant(0.1, shape=shape)\n",
    "    return tf.Variable(initial)"
   ]
  },
  {
   "cell_type": "code",
   "execution_count": null,
   "metadata": {
    "collapsed": true
   },
   "outputs": [],
   "source": [
    "def conv2d(x, W, s):\n",
    "    return tf.nn.conv2d(input=x, filter=W, strides=[1, s, s, 1], padding='SAME')"
   ]
  },
  {
   "cell_type": "code",
   "execution_count": null,
   "metadata": {
    "collapsed": true
   },
   "outputs": [],
   "source": [
    "def conv2d_padval(x, W, s):\n",
    "    return tf.nn.conv2d(input=x, filter=W, strides=[1, s, s, 1], padding='VALID')"
   ]
  },
  {
   "cell_type": "code",
   "execution_count": null,
   "metadata": {
    "collapsed": true
   },
   "outputs": [],
   "source": [
    "def max_pool(x, k, s):\n",
    "    return tf.nn.max_pool(x, ksize= [1, k, k, 1], strides=[1, s, s, 1], padding='SAME')\n",
    "# stride [1, x_movement, y_movement, 1]def max_pool(x, k, s):"
   ]
  },
  {
   "cell_type": "code",
   "execution_count": null,
   "metadata": {
    "collapsed": true
   },
   "outputs": [],
   "source": [
    "def max_pool_padval(x, k, s):\n",
    "    return tf.nn.max_pool(x, ksize= [1, k, k, 1], strides=[1, s, s, 1], padding='VALID')\n",
    "# stride [1, x_movement, y_movement, 1]def max_pool(x, k, s):"
   ]
  },
  {
   "cell_type": "code",
   "execution_count": null,
   "metadata": {
    "collapsed": true
   },
   "outputs": [],
   "source": [
    "def avg_pool(x, k, s):\n",
    "    return tf.nn.avg_pool(x, ksize= [1, k, k, 1], strides=[1, s, s, 1], padding='VALID')"
   ]
  },
  {
   "cell_type": "code",
   "execution_count": null,
   "metadata": {
    "collapsed": true
   },
   "outputs": [],
   "source": [
    "def norm(x):\n",
    "    return tf.nn.lrn(x, depth_radius=2, bias=2.0, alpha=1e-4, beta=0.75)"
   ]
  },
  {
   "cell_type": "code",
   "execution_count": null,
   "metadata": {
    "collapsed": true
   },
   "outputs": [],
   "source": [
    "#計算準確度\n",
    "def compute_accuracy(v_xs, v_ys):\n",
    "    global prediction\n",
    "    y_pre = sess.run(prediction, feed_dict={xs: v_xs, keep_prob: 1})\n",
    "    \n",
    "    print(\"After\")\n",
    "    poo=tf.shape(v_xs)\n",
    "    poosee=tf.Session()\n",
    "    print(poosee.run(poo))\n",
    "    print(\"After\")\n",
    "    print(\"After\")\n",
    "    poo=tf.shape(y_pre)\n",
    "    poosee=tf.Session()\n",
    "    print(poosee.run(poo))\n",
    "    print(\"After\")\n",
    "    print(\"After\")\n",
    "    poo=tf.shape(v_ys)\n",
    "    poosee=tf.Session()\n",
    "    print(poosee.run(poo))\n",
    "    print(\"After\")\n",
    "    \n",
    "    correct_prediction = tf.equal(tf.argmax(y_pre,1), tf.argmax(v_ys,1))\n",
    "    accuracy = tf.reduce_mean(tf.cast(correct_prediction, tf.float32))\n",
    "    result = sess.run(accuracy, feed_dict={xs: v_xs, ys: v_ys, keep_prob: 1})\n",
    "    return result\n",
    "\n",
    "#\n",
    "# v_xs: input\n",
    "# v_ys: output\n",
    "# keep_prob是保留概率，即我们要保留的结果所占比例\n",
    "# 使输入tensor中某些元素變為0，其它没變0的元素變為原来的1/keep_prob大小！"
   ]
  },
  {
   "cell_type": "markdown",
   "metadata": {},
   "source": [
    "## placeholder"
   ]
  },
  {
   "cell_type": "code",
   "execution_count": null,
   "metadata": {
    "collapsed": true
   },
   "outputs": [],
   "source": [
    "# define placeholder for inputs to network\n",
    "xs = tf.placeholder(tf.float32, [None, 299, 299, 3])\n",
    "ys = tf.placeholder(tf.float32, [None, 4])\n",
    "#keep_prob = tf.placeholder(tf.float32)\n",
    "#x_image = tf.reshape(xs, [-1, 224, 224, 3])    #[n_samples個數,圖長,圖寬,圖高]\n",
    "#print(x_image.shape)  # [n_samples, 28,28,1]"
   ]
  },
  {
   "cell_type": "markdown",
   "metadata": {},
   "source": [
    "## googlenet"
   ]
  },
  {
   "cell_type": "code",
   "execution_count": null,
   "metadata": {
    "collapsed": true,
    "scrolled": true
   },
   "outputs": [],
   "source": [
    "# stem\n",
    "W_conv1 = weight_variable([3,3,3,32])\n",
    "b_conv1 = bias_variable([32])\n",
    "r_conv1 = conv2d_padval(xs, W_conv1, 2) + b_conv1\n",
    "\n",
    "W_conv2 = weight_variable([3,3,32,32])\n",
    "b_conv2 = bias_variable([32])\n",
    "r_conv2 = conv2d_padval(r_conv1, W_conv2, 1) + b_conv2\n",
    "\n",
    "W_conv3 = weight_variable([3,3,32,64])\n",
    "b_conv3 = bias_variable([64])\n",
    "r_conv3 = conv2d(r_conv2, W_conv3, 1) + b_conv3\n",
    "\n",
    "W_conv3 = weight_variable([3,3,64,64])\n",
    "b_conv3 = bias_variable([64])\n",
    "r_conv3 = conv2d(r_conv2, W_conv3, 1) + b_conv3\n",
    "\n",
    "n_pool4 = max_pool_padval(r_conv3, 3, 2)\n",
    "\n",
    "W_conv4 = weight_variable([3,3,64,96])\n",
    "b_conv4 = bias_variable([96])\n",
    "r_conv4 = conv2d_padval(r_conv3, W_conv4, 2) + b_conv4\n",
    "\n",
    "m_layr4 = tf.concat([n_pool4, r_conv4], 3) #160\n",
    "\n",
    "W_conv5_l = weight_variable([1,1,160,64])\n",
    "b_conv5_l = bias_variable([64])\n",
    "r_conv5_l = conv2d(m_layr4, W_conv5_l, 1) + b_conv5_l\n",
    "\n",
    "W_conv6_l = weight_variable([3,3,64,96])\n",
    "b_conv6_l = bias_variable([96])\n",
    "r_conv6_l = conv2d_padval(r_conv5_l, W_conv6_l, 1) + b_conv6_l\n",
    "\n",
    "W_conv5_r = weight_variable([1,1,160,64])\n",
    "b_conv5_r = bias_variable([64])\n",
    "r_conv5_r = conv2d(m_layr4, W_conv5_r, 1) + b_conv5_r\n",
    "\n",
    "W_conv6_r = weight_variable([7,1,64,64])\n",
    "b_conv6_r = bias_variable([64])\n",
    "r_conv6_r = conv2d(r_conv5_r, W_conv6_r, 1) + b_conv6_r\n",
    "\n",
    "W_conv7_r = weight_variable([1,7,64,64])\n",
    "b_conv7_r = bias_variable([64])\n",
    "r_conv7_r = conv2d(r_conv6_r, W_conv7_r, 1) + b_conv7_r\n",
    "\n",
    "W_conv8_r = weight_variable([3,3,64,96])\n",
    "b_conv8_r = bias_variable([96])\n",
    "r_conv8_r = conv2d_padval(r_conv7_r, W_conv8_r, 1) + b_conv8_r\n",
    "\n",
    "m_layr8 = tf.concat([r_conv6_l, r_conv8_r], 3) #192\n",
    "\n",
    "W_conv9_l = weight_variable([3,3,192,192])\n",
    "b_conv9_l = bias_variable([192])\n",
    "r_conv9_l = conv2d_padval(m_layr8, W_conv9_l, 1) + b_conv9_l\n",
    "\n",
    "n_pool9_r = max_pool_padval(m_layr8, 2, 2)\n",
    "\n",
    "m_layr9 = tf.concat([r_conv9_l, n_pool9_r], 3) #384"
   ]
  },
  {
   "cell_type": "code",
   "execution_count": null,
   "metadata": {
    "collapsed": true
   },
   "outputs": [],
   "source": [
    "def inception_res_a(net0): #input 384 output 384\n",
    "    net = tf.nn.relu(net0)\n",
    "    #branch 0\n",
    "    W_conv0 = weight_variable([1,1,384,32])\n",
    "    b_conv0 = bias_variable([32])\n",
    "    r_conv0 = conv2d(net, W_conv0, 1) + b_conv0\n",
    "    \n",
    "    #branch 1\n",
    "    W_conv1_0 = weight_variable([1,1,384,32])\n",
    "    b_conv1_0 = bias_variable([32])\n",
    "    r_conv1_0 = conv2d(net, W_conv1_0, 1) + b_conv1_0 \n",
    "    \n",
    "    W_conv1_1 = weight_variable([3,3,32,32])\n",
    "    b_conv1_1 = bias_variable([32])\n",
    "    r_conv1_1 = conv2d(r_conv1_0, W_conv1_1, 1) + b_conv1_1 \n",
    "    \n",
    "    #branch 2\n",
    "    W_conv2_0 = weight_variable([1,1,384,32])\n",
    "    b_conv2_0 = bias_variable([32])\n",
    "    r_conv2_0 = conv2d(net, W_conv2_0, 1) + b_conv2_0  \n",
    "    \n",
    "    W_conv2_1 = weight_variable([3,3,32,48])\n",
    "    b_conv2_1 = bias_variable([48])\n",
    "    r_conv2_1 = conv2d(r_conv2_0, W_conv2_1, 1) + b_conv2_1  \n",
    "    \n",
    "    W_conv2_2 = weight_variable([3,3,48,64])\n",
    "    b_conv2_2 = bias_variable([64])\n",
    "    r_conv2_2 = conv2d(r_conv2_1, W_conv2_2, 1) + b_conv2_2  \n",
    "    \n",
    "    net1 = array_ops.concat([r_conv0, r_conv1_1, r_conv2_2], 3)\n",
    "    \n",
    "    W_conv3_1 = weight_variable([1,1,128,384])\n",
    "    b_conv3_1 = bias_variable([384])\n",
    "    r_conv3_1 = conv2d(net1, W_conv3_1, 1) + b_conv3_1\n",
    "    \n",
    "    new_net = net + r_conv3_1\n",
    "    new_net1 = tf.nn.relu(new_net)\n",
    "    return new_net1"
   ]
  },
  {
   "cell_type": "code",
   "execution_count": null,
   "metadata": {
    "collapsed": true
   },
   "outputs": [],
   "source": [
    "def reduc_a(net): #input 384 35*35 to 17*17\n",
    "    #branch 0\n",
    "    n_pool0 = max_pool_padval(net, 3, 2)\n",
    "    \n",
    "    #branch 1\n",
    "    W_conv1_0 = weight_variable([3,3,384,384])\n",
    "    b_conv1_0 = bias_variable([384])\n",
    "    r_conv1_0 = conv2d_padval(net, W_conv1_0, 2) + b_conv1_0 \n",
    "    \n",
    "    #branch 2\n",
    "    W_conv2_0 = weight_variable([1,1,384,256])\n",
    "    b_conv2_0 = bias_variable([256])\n",
    "    r_conv2_0 = conv2d(net, W_conv2_0, 1) + b_conv2_0  \n",
    "    \n",
    "    W_conv2_1 = weight_variable([3,3,256,256])\n",
    "    b_conv2_1 = bias_variable([256])\n",
    "    r_conv2_1 = conv2d(r_conv2_0, W_conv2_1, 1) + b_conv2_1  \n",
    "    \n",
    "    W_conv2_2 = weight_variable([3,3,256,384])\n",
    "    b_conv2_2 = bias_variable([384])\n",
    "    r_conv2_2 = conv2d_padval(r_conv2_1, W_conv2_2, 2) + b_conv2_2  \n",
    "    \n",
    "    new_net = array_ops.concat([n_pool0, r_conv1_0, r_conv2_2], 3)\n",
    "    \n",
    "    return new_net"
   ]
  },
  {
   "cell_type": "code",
   "execution_count": null,
   "metadata": {
    "collapsed": true
   },
   "outputs": [],
   "source": [
    "    inception_res_a1 = inception_res_a(m_layr9)\n",
    "    inception_res_a2 = inception_res_a(inception_res_a2)\n",
    "    inception_res_a3 = inception_res_a(inception_res_a3)\n",
    "    inception_res_a4 = inception_res_a(inception_res_a4)\n",
    "    inception_res_a5 = inception_res_a(inception_res_a5)\n",
    "    reduct_incepa = reduc_a(inception_res_a5)"
   ]
  },
  {
   "cell_type": "code",
   "execution_count": null,
   "metadata": {
    "collapsed": true
   },
   "outputs": [],
   "source": [
    "def inception_res_b(net0): #inpur 384 output 1154\n",
    "    net = tf.nn.relu(net0)\n",
    "    #branch 0\n",
    "    W_conv0 = weight_variable([1,1,384,192])\n",
    "    b_conv0 = bias_variable([192])\n",
    "    r_conv0 = conv2d(net, W_conv0, 1) + b_conv0\n",
    "    \n",
    "    #branch 1\n",
    "    W_conv1_0 = weight_variable([1,1,384,128])\n",
    "    b_conv1_0 = bias_variable([128])\n",
    "    r_conv1_0 = conv2d(net, W_conv1_0, 1) + b_conv1_0  \n",
    "    \n",
    "    W_conv1_1 = weight_variable([1,7,128,160])\n",
    "    b_conv1_1 = bias_variable([160])\n",
    "    r_conv1_1 = conv2d(r_conv1_0, W_conv1_1, 1) + b_conv1_1  \n",
    "    \n",
    "    W_conv1_2 = weight_variable([7,1,160,192])\n",
    "    b_conv1_2 = bias_variable([192])\n",
    "    r_conv1_2 = conv2d(r_conv1_1, W_conv1_2, 1) + b_conv1_2  \n",
    "    \n",
    "    net1 = array_ops.concat([r_conv0, r_conv1_2], 3)\n",
    "    \n",
    "    W_conv3_1 = weight_variable([1,1,384,1154])\n",
    "    b_conv3_1 = bias_variable([1154])\n",
    "    r_conv3_1 = conv2d(net1, W_conv3_1, 1) + b_conv3_1\n",
    "    \n",
    "    new_net = net + r_conv3_1\n",
    "    new_net1 = tf.nn.relu(new_net)\n",
    "    return new_net1"
   ]
  },
  {
   "cell_type": "code",
   "execution_count": null,
   "metadata": {
    "collapsed": true
   },
   "outputs": [],
   "source": [
    "def reduc_b(net): #input 1154 17*17 to 8*8\n",
    "    #branch 0\n",
    "    n_pool0 = max_pool_padval(net, 3, 2)\n",
    "    \n",
    "    #branch 1\n",
    "    W_conv1_0 = weight_variable([1,1,1154,256])\n",
    "    b_conv1_0 = bias_variable([256])\n",
    "    r_conv1_0 = conv2d(net, W_conv1_0, 1) + b_conv1_0 \n",
    "    \n",
    "    W_conv1_1 = weight_variable([3,3,256,384])\n",
    "    b_conv1_1 = bias_variable([384])\n",
    "    r_conv1_1 = conv2d_padval(r_conv1_0, W_conv1_1, 2) + b_conv1_1 \n",
    "    \n",
    "    #branch 2\n",
    "    W_conv2_0 = weight_variable([1,1,1154,256])\n",
    "    b_conv2_0 = bias_variable([256])\n",
    "    r_conv2_0 = conv2d(net, W_conv2_0, 1) + b_conv2_0 \n",
    "    \n",
    "    W_conv2_1 = weight_variable([3,3,256,288])\n",
    "    b_conv2_1 = bias_variable([288])\n",
    "    r_conv2_1 = conv2d_padval(r_conv2_0, W_conv2_1, 2) + b_conv2_1 \n",
    "    \n",
    "    #branch 3\n",
    "    W_conv3_0 = weight_variable([1,1,1154,256])\n",
    "    b_conv3_0 = bias_variable([256])\n",
    "    r_conv3_0 = conv2d(net, W_conv3_0, 1) + b_conv3_0  \n",
    "    \n",
    "    W_conv3_1 = weight_variable([3,3,256,288])\n",
    "    b_conv3_1 = bias_variable([288])\n",
    "    r_conv3_1 = conv2d(r_conv3_0, W_conv3_1, 1) + b_conv3_1  \n",
    "    \n",
    "    W_conv3_2 = weight_variable([3,3,288,320])\n",
    "    b_conv3_2 = bias_variable([320])\n",
    "    r_conv3_2 = conv2d_padval(r_conv3_1, W_conv3_2, 2) + b_conv3_2\n",
    "    \n",
    "    new_net = array_ops.concat([n_pool0, r_conv1_1, r_conv2_1, r_conv3_2], 3)\n",
    "    \n",
    "    return new_net"
   ]
  },
  {
   "cell_type": "code",
   "execution_count": null,
   "metadata": {
    "collapsed": true
   },
   "outputs": [],
   "source": [
    "inception_res_b1 = inception_res_b(reduct_incepa)\n",
    "inception_res_b2 = inception_res_b(inception_res_b1)\n",
    "inception_res_b3 = inception_res_b(inception_res_b2)\n",
    "inception_res_b4 = inception_res_b(inception_res_b3)\n",
    "inception_res_b5 = inception_res_b(inception_res_b4)\n",
    "inception_res_b6 = inception_res_b(inception_res_b5)\n",
    "inception_res_b7 = inception_res_b(inception_res_b6)\n",
    "inception_res_b8 = inception_res_b(inception_res_b7)\n",
    "inception_res_b9 = inception_res_b(inception_res_b8)\n",
    "inception_res_b10 = inception_res_b(inception_res_b9)\n",
    "reduct_incepb = reduc_b(inception_res_b10)"
   ]
  },
  {
   "cell_type": "code",
   "execution_count": null,
   "metadata": {
    "collapsed": true
   },
   "outputs": [],
   "source": [
    "def inception_res_c(net0): #inpur 1154 output 2048\n",
    "    net = tf.nn.relu(net0)\n",
    "    #branch 0\n",
    "    W_conv0 = weight_variable([1,1,1154,192])\n",
    "    b_conv0 = bias_variable([192])\n",
    "    r_conv0 = conv2d(net, W_conv0, 1) + b_conv0\n",
    "    \n",
    "    #branch 1\n",
    "    W_conv1_0 = weight_variable([1,1,1154,192])\n",
    "    b_conv1_0 = bias_variable([192])\n",
    "    r_conv1_0 = conv2d(net, W_conv1_0, 1) + b_conv1_0  \n",
    "    \n",
    "    W_conv1_1 = weight_variable([1,3,192,224])\n",
    "    b_conv1_1 = bias_variable([224])\n",
    "    r_conv1_1 = conv2d(r_conv1_0, W_conv1_1, 1) + b_conv1_1  \n",
    "    \n",
    "    W_conv1_2 = weight_variable([3,1,224,256])\n",
    "    b_conv1_2 = bias_variable([256])\n",
    "    r_conv1_2 = conv2d(r_conv1_1, W_conv1_2, 1) + b_conv1_2  \n",
    "    \n",
    "    net1 = array_ops.concat([r_conv0, r_conv1_2], 3)\n",
    "    \n",
    "    W_conv3_1 = weight_variable([1,1,448,2048])\n",
    "    b_conv3_1 = bias_variable([1154])\n",
    "    r_conv3_1 = conv2d(net1, W_conv3_1, 1) + b_conv3_1\n",
    "    \n",
    "    new_net = net + r_conv3_1\n",
    "    new_net1 = tf.nn.relu(new_net)\n",
    "    return new_net1"
   ]
  },
  {
   "cell_type": "code",
   "execution_count": null,
   "metadata": {
    "collapsed": true
   },
   "outputs": [],
   "source": [
    "inception_res_c1 = inception_res_c(reduct_incepb)\n",
    "inception_res_c2 = inception_res_c(inception_res_c1)\n",
    "inception_res_c3 = inception_res_c(inception_res_c2)\n",
    "inception_res_c4 = inception_res_c(inception_res_c3)\n",
    "inception_res_c5 = inception_res_c(inception_res_c4)\n",
    "\n",
    "a_pool = avg_pool(inception_res_c5, 8, 1)\n",
    "\n",
    "n_drop = tf.nn.dropout(a_pool, keep_prob=0.8)\n",
    "n_reshape = tf.reshape(n_drop, [-1, 1792])\n",
    "\n",
    "W_fc_soft = weight_variable([1792, 4])  #our label = 4\n",
    "b_fc_soft = bias_variable([4])\n",
    "\n",
    "prediction = tf.nn.softmax(tf.matmul(n_reshape, W_fc_soft) + b_fc_soft)"
   ]
  },
  {
   "cell_type": "code",
   "execution_count": null,
   "metadata": {
    "collapsed": true
   },
   "outputs": [],
   "source": []
  },
  {
   "cell_type": "code",
   "execution_count": null,
   "metadata": {
    "collapsed": true
   },
   "outputs": [],
   "source": []
  },
  {
   "cell_type": "code",
   "execution_count": null,
   "metadata": {
    "collapsed": true
   },
   "outputs": [],
   "source": [
    "cross_entropy = tf.reduce_mean(tf.reduce_sum(tf.square(ys-prediction), reduction_indices=[1]))\n",
    "lr = 0.01\n",
    "train_step = tf.train.MomentumOptimizer(learning_rate=lr, momentum=0.9).minimize(cross_entropy)"
   ]
  },
  {
   "cell_type": "code",
   "execution_count": null,
   "metadata": {
    "collapsed": true
   },
   "outputs": [],
   "source": [
    "correct_prediction = tf.equal(tf.argmax(prediction,1), tf.argmax(ys,1))\n",
    "accuracy = tf.reduce_mean(tf.cast(correct_prediction, tf.float32))"
   ]
  },
  {
   "cell_type": "code",
   "execution_count": null,
   "metadata": {
    "collapsed": true
   },
   "outputs": [],
   "source": [
    "def print_filter(layer, filter_size, num):\n",
    "    i = 0\n",
    "    filter_no = 0\n",
    "    _print = ''\n",
    "    \n",
    "    for i in range(filter_size):\n",
    "        _print = ''\n",
    "        for j in range(filter_size):\n",
    "            _print = _print + str(sess.run(layer[i,j,num,0])) + '\\t'\n",
    "        print (_print)"
   ]
  },
  {
   "cell_type": "code",
   "execution_count": null,
   "metadata": {
    "collapsed": true
   },
   "outputs": [],
   "source": [
    "sess = tf.Session()\n",
    "\n",
    "init = tf.global_variables_initializer()\n",
    "sess.run(init)"
   ]
  },
  {
   "cell_type": "code",
   "execution_count": null,
   "metadata": {
    "collapsed": true,
    "scrolled": true
   },
   "outputs": [],
   "source": [
    "for i in range(1000):\n",
    "    sess.run(train_step, feed_dict={xs:image, ys:image_y})\n",
    "    if i == 1:\n",
    "        print_filter(W_conv1, 7, 2)\n",
    "    if i % 8 == 0:\n",
    "        lr = lr * 0.96\n",
    "    if i % 100 ==0:\n",
    "        train_accuracy = sess.run(accuracy, feed_dict={xs:image, ys:image_y})\n",
    "        train_loss = sess.run(cross_entropy, feed_dict={xs:image, ys:image_y})\n",
    "        print(\"epoch: {}, training accuracy: {:.12f}, loss: {:.6f}\".format(i, train_accuracy, train_loss))\n",
    "        print (sess.run(prediction, feed_dict={xs:image, ys:image_y}))\n",
    "    "
   ]
  },
  {
   "cell_type": "code",
   "execution_count": null,
   "metadata": {
    "collapsed": true
   },
   "outputs": [],
   "source": [
    "print_filter(W_conv1, 7, 2)"
   ]
  },
  {
   "cell_type": "code",
   "execution_count": null,
   "metadata": {
    "collapsed": true
   },
   "outputs": [],
   "source": []
  }
 ],
 "metadata": {
  "kernelspec": {
   "display_name": "Python 3",
   "language": "python",
   "name": "python3"
  },
  "language_info": {
   "codemirror_mode": {
    "name": "ipython",
    "version": 3
   },
   "file_extension": ".py",
   "mimetype": "text/x-python",
   "name": "python",
   "nbconvert_exporter": "python",
   "pygments_lexer": "ipython3",
   "version": "3.6.1"
  }
 },
 "nbformat": 4,
 "nbformat_minor": 2
}
