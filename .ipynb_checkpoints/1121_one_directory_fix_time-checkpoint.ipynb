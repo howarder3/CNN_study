{
 "cells": [
  {
   "cell_type": "markdown",
   "metadata": {},
   "source": [
    "# change log\n",
    "* 照檔案分排"
   ]
  },
  {
   "cell_type": "markdown",
   "metadata": {
    "collapsed": true
   },
   "source": [
    "# define"
   ]
  },
  {
   "cell_type": "code",
   "execution_count": 96,
   "metadata": {
    "collapsed": true
   },
   "outputs": [],
   "source": [
    "%matplotlib inline\n",
    "from __future__ import print_function\n",
    "# import tensorflow as tf\n",
    "import numpy as np\n",
    "import matplotlib.pyplot as plt\n",
    "import math"
   ]
  },
  {
   "cell_type": "code",
   "execution_count": null,
   "metadata": {
    "collapsed": true
   },
   "outputs": [],
   "source": []
  },
  {
   "cell_type": "code",
   "execution_count": 97,
   "metadata": {
    "collapsed": true
   },
   "outputs": [],
   "source": [
    "def change_to_normal(target_list,item,value):\n",
    "    for i in range(0, (len(target_list)), +1):\n",
    "#         if(item == 'nan' and target_list[i]=='nan'):\n",
    "        if(target_list[i]=='nan'):\n",
    "            target_list[i]= 0\n",
    "        elif(target_list[i]==item):\n",
    "            target_list[i]= value\n",
    "            "
   ]
  },
  {
   "cell_type": "code",
   "execution_count": 98,
   "metadata": {
    "collapsed": true
   },
   "outputs": [],
   "source": [
    "def find_max(file_directory , mylen):\n",
    "    ourstr = []\n",
    "    a = []\n",
    "    max_len = 0\n",
    "    print(\"total: \",mylen,\" files found.\")\n",
    "    \n",
    "    for readfile_i in range(0, mylen, +1):\n",
    "        currentfile = file_directory + \"/\" + file_list[readfile_i] \n",
    "        f = open(currentfile,'r+')\n",
    "        a = f.readlines() \n",
    "        \n",
    "        ### find max len start ###\n",
    "        count_len = 0\n",
    "        \n",
    "        for i in range(0, (len(a)), +1):\n",
    "            if((a[i][0])=='#'):\n",
    "                count_len += 1\n",
    "       \n",
    "        ### find max len end ###\n",
    "        \n",
    "#         print(count_len)\n",
    "        if(count_len > max_len):\n",
    "            max_len = count_len\n",
    "            \n",
    "    \n",
    "    return max_len "
   ]
  },
  {
   "cell_type": "code",
   "execution_count": 99,
   "metadata": {},
   "outputs": [],
   "source": [
    "def draw(file_directory , mylen , max_len):\n",
    "    ourstr = []\n",
    "    a = []\n",
    " \n",
    "    \n",
    "    for readfile_i in range(0, mylen, +1):\n",
    "        currentfile = file_directory + \"/\" + file_list[readfile_i] \n",
    "        f = open(currentfile,'r+')\n",
    "        a = f.readlines() \n",
    "    \n",
    "        ### one file apppend in outstr and fillin nan###\n",
    "        count_len = 0\n",
    "\n",
    "        for i in range(0, (len(a)), +1):\n",
    "            if((a[i][0])=='#'):\n",
    "                ourstr.append(a[i+1])\n",
    "                count_len += 1\n",
    "\n",
    "        while(count_len <= max_len-1):\n",
    "            ourstr.append('nan')\n",
    "            count_len += 1\n",
    "\n",
    "            \n",
    "\n",
    "\n",
    "\n",
    "#     print(ourstr)\n",
    "    nan_count = 0     \n",
    "    change_normal = ourstr[:]\n",
    "    myset = set(ourstr)\n",
    "    print(\"%d items found\\n\" %(len(ourstr)))\n",
    "    \n",
    "    ### count nan ###\n",
    "#     for item in myset:\n",
    "#         if (item == ):\n",
    "    nan_count = ourstr.count('nan')\n",
    "\n",
    "#     print(\"nan count : %d\"%nan_count) \n",
    "    \n",
    "#     print(ourstr)\n",
    "#     myset = set(ourstr)\n",
    "    ### change to normal started ###\n",
    "    for item in myset:\n",
    "#         print(\"\\n*********************************************************************************\\n\")  \n",
    "#         print(item)\n",
    "#         print(ourstr.count(item))\n",
    "#         if(item == 'nan'):\n",
    "#             print(ourstr)\n",
    "#         print((ourstr.count(item)/(len(ourstr)-nan_count)))\n",
    "        change_to_normal(change_normal,item,(ourstr.count(item)/(len(ourstr)-nan_count)))\n",
    "\n",
    "    \n",
    "    \n",
    "#     print ([\"%0.2f\" % i for i in change_normal])\n",
    "    \n",
    "    print(\"\\n*********************************************************************************\\n\")\n",
    "    print (str(mal_family_list[readmal_i]) + \" : \")\n",
    "    np_pic = np.asarray(change_normal)\n",
    "\n",
    "    plt.imshow(np_pic.reshape([int(len(change_normal)/max_len),max_len]), cmap='Greys')  \n",
    "    plt.show()"
   ]
  },
  {
   "cell_type": "code",
   "execution_count": null,
   "metadata": {
    "collapsed": true
   },
   "outputs": [],
   "source": []
  },
  {
   "cell_type": "markdown",
   "metadata": {},
   "source": [
    "# test"
   ]
  },
  {
   "cell_type": "code",
   "execution_count": null,
   "metadata": {
    "collapsed": true
   },
   "outputs": [],
   "source": [
    "    "
   ]
  },
  {
   "cell_type": "code",
   "execution_count": null,
   "metadata": {
    "collapsed": true
   },
   "outputs": [],
   "source": []
  },
  {
   "cell_type": "code",
   "execution_count": 100,
   "metadata": {
    "collapsed": true
   },
   "outputs": [],
   "source": [
    "mal_directory = \"C:/Users/howar/CNN_study/MotifAnalysis/hooklogs/\" #hooklog輸入\n",
    "  \n",
    "import os\n",
    "\n",
    "mal_family_list = os.listdir(mal_directory) # get all filenames in the in_directory\n",
    "\n"
   ]
  },
  {
   "cell_type": "code",
   "execution_count": 101,
   "metadata": {
    "scrolled": false
   },
   "outputs": [
    {
     "name": "stdout",
     "output_type": "stream",
     "text": [
      "total:  34  files found.\n",
      "max_len :  109\n",
      "3706 items found\n",
      "\n",
      "\n",
      "*********************************************************************************\n",
      "\n",
      "allaple_woj_g_98 : \n"
     ]
    },
    {
     "data": {
      "image/png": "[encoded data removed]",
      "text/plain": [
       "<matplotlib.figure.Figure at 0x134ff513e80>"
      ]
     },
     "metadata": {},
     "output_type": "display_data"
    },
    {
     "name": "stdout",
     "output_type": "stream",
     "text": [
      "\n",
      "*********************************************************************************\n",
      "\n"
     ]
    }
   ],
   "source": [
    "# for readmal_i in range(0, (len(mal_family_list)), +1):\n",
    "for readmal_i in range(0, 1, +1):\n",
    "    file_directory = mal_directory + mal_family_list[readmal_i] \n",
    "    \n",
    "    file_list = os.listdir(file_directory) # get all filenames in the in_directory\n",
    "    max_len = find_max(file_directory,(len(file_list)))\n",
    "    print(\"max_len : \",max_len)  \n",
    "#     print(\"\\n*********************************************************************************\\n\")      \n",
    "    \n",
    "    draw(file_directory,(len(file_list)),max_len)\n",
    "    print(\"\\n*********************************************************************************\\n\")   \n"
   ]
  },
  {
   "cell_type": "code",
   "execution_count": null,
   "metadata": {
    "collapsed": true
   },
   "outputs": [],
   "source": []
  }
 ],
 "metadata": {
  "kernelspec": {
   "display_name": "Python 3",
   "language": "python",
   "name": "python3"
  },
  "language_info": {
   "codemirror_mode": {
    "name": "ipython",
    "version": 3
   },
   "file_extension": ".py",
   "mimetype": "text/x-python",
   "name": "python",
   "nbconvert_exporter": "python",
   "pygments_lexer": "ipython3",
   "version": "3.6.1"
  }
 },
 "nbformat": 4,
 "nbformat_minor": 2
}
