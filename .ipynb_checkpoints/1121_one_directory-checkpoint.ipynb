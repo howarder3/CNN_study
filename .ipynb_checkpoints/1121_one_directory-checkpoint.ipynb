{
 "cells": [
  {
   "cell_type": "markdown",
   "metadata": {},
   "source": [
    "# change log\n",
    "* 照檔案分排"
   ]
  },
  {
   "cell_type": "markdown",
   "metadata": {
    "collapsed": true
   },
   "source": [
    "# define"
   ]
  },
  {
   "cell_type": "code",
   "execution_count": 399,
   "metadata": {
    "collapsed": true
   },
   "outputs": [],
   "source": [
    "# %matplotlib inline\n",
    "# from __future__ import print_function\n",
    "# # import tensorflow as tf\n",
    "# import numpy as np\n",
    "# import matplotlib.pyplot as plt\n",
    "# import math"
   ]
  },
  {
   "cell_type": "code",
   "execution_count": 400,
   "metadata": {},
   "outputs": [],
   "source": [
    "def change_to_normal(target_list,item,value):\n",
    "    for i in range(0, (len(target_list)), +1):\n",
    "        if(item == 'nan' && target_list[i]=='nan'):\n",
    "            target_list[i]= 0\n",
    "        elif(target_list[i]==item):\n",
    "            target_list[i]= value\n",
    "            "
   ]
  },
  {
   "cell_type": "code",
   "execution_count": 401,
   "metadata": {
    "collapsed": true
   },
   "outputs": [],
   "source": [
    "def find_max(file_directory , mylen):\n",
    "    ourstr = []\n",
    "    a = []\n",
    "    max_len = 0\n",
    "    print(\"total: \",mylen,\" files found.\")\n",
    "    \n",
    "    for readfile_i in range(0, mylen, +1):\n",
    "        currentfile = file_directory + \"/\" + file_list[readfile_i] \n",
    "        f = open(currentfile,'r+')\n",
    "        a = f.readlines() \n",
    "        \n",
    "        ### find max len start ###\n",
    "        count_len = 0\n",
    "        \n",
    "        for i in range(0, (len(a)), +1):\n",
    "            if((a[i][0])=='#'):\n",
    "                count_len += 1\n",
    "       \n",
    "        ### find max len end ###\n",
    "        \n",
    "#         print(count_len)\n",
    "        if(count_len > max_len):\n",
    "            max_len = count_len\n",
    "            \n",
    "    \n",
    "    return max_len "
   ]
  },
  {
   "cell_type": "code",
   "execution_count": 402,
   "metadata": {},
   "outputs": [],
   "source": [
    "def draw(file_directory , mylen , max_len):\n",
    "    ourstr = []\n",
    "    a = []\n",
    " \n",
    "    \n",
    "    for readfile_i in range(0, mylen, +1):\n",
    "        currentfile = file_directory + \"/\" + file_list[readfile_i] \n",
    "        f = open(currentfile,'r+')\n",
    "        a = f.readlines() \n",
    "    \n",
    "        ### one file apppend in outstr and fillin nan###\n",
    "        count_len = 0\n",
    "\n",
    "        for i in range(0, (len(a)), +1):\n",
    "            if((a[i][0])=='#'):\n",
    "                ourstr.append(a[i+1])\n",
    "                count_len += 1\n",
    "\n",
    "        while(count_len <= max_len-1):\n",
    "            ourstr.append('nan')\n",
    "            count_len += 1\n",
    "\n",
    "            \n",
    "\n",
    "\n",
    "\n",
    "#     print(ourstr)\n",
    "    nan_count = 0     \n",
    "    change_normal = ourstr\n",
    "    myset = set(ourstr)\n",
    "    print(\"%d items found\\n\" %(len(ourstr)))\n",
    "    \n",
    "    ### count nan ###\n",
    "#     for item in myset:\n",
    "#         if (item == ):\n",
    "    nan_count = ourstr.count('nan')\n",
    "\n",
    "    print(\"nan count : %d\"%nan_count) \n",
    "    \n",
    "#     print(ourstr)\n",
    "#     myset = set(ourstr)\n",
    "    ### change to normal started ###\n",
    "    for item in myset:\n",
    "        print(\"\\n*********************************************************************************\\n\")  \n",
    "        print(item)\n",
    "        print(ourstr.count(item))\n",
    "        print((ourstr.count(item)/(len(ourstr)-nan_count)))\n",
    "        change_to_normal(change_normal,item,(ourstr.count(item)/(len(ourstr)-nan_count)))\n",
    "\n",
    "    \n",
    "\n",
    "    print(\"\\n*********************************************************************************\\n\")\n",
    " \n",
    "    print (str(mal_family_list[readmal_i]) + \" : \")\n",
    "    np_pic = np.asarray(change_normal)\n",
    "\n",
    "    plt.imshow(np_pic.reshape([int(len(change_normal)/max_len),max_len]), cmap='Greys')  \n",
    "    plt.show()"
   ]
  },
  {
   "cell_type": "code",
   "execution_count": null,
   "metadata": {
    "collapsed": true
   },
   "outputs": [],
   "source": []
  },
  {
   "cell_type": "markdown",
   "metadata": {},
   "source": [
    "# test"
   ]
  },
  {
   "cell_type": "code",
   "execution_count": null,
   "metadata": {
    "collapsed": true
   },
   "outputs": [],
   "source": [
    "    "
   ]
  },
  {
   "cell_type": "code",
   "execution_count": null,
   "metadata": {
    "collapsed": true
   },
   "outputs": [],
   "source": []
  },
  {
   "cell_type": "code",
   "execution_count": 403,
   "metadata": {
    "collapsed": true
   },
   "outputs": [],
   "source": [
    "mal_directory = \"C:/Users/howar/CNN_study/MotifAnalysis/hooklogs/\" #hooklog輸入\n",
    "  \n",
    "import os\n",
    "\n",
    "mal_family_list = os.listdir(mal_directory) # get all filenames in the in_directory\n",
    "\n"
   ]
  },
  {
   "cell_type": "code",
   "execution_count": 404,
   "metadata": {
    "scrolled": false
   },
   "outputs": [
    {
     "name": "stdout",
     "output_type": "stream",
     "text": [
      "total:  34  files found.\n",
      "max_len :  109\n",
      "\n",
      "*********************************************************************************\n",
      "\n",
      "3706 items found\n",
      "\n",
      "nan count : 51\n",
      "\n",
      "*********************************************************************************\n",
      "\n",
      "CopyFile\n",
      "\n",
      "5\n",
      "0.0013679890560875513\n",
      "\n",
      "*********************************************************************************\n",
      "\n",
      "RegSetValue\n",
      "\n",
      "64\n",
      "0.017510259917920656\n",
      "\n",
      "*********************************************************************************\n",
      "\n",
      "RegQueryValue\n",
      "\n",
      "2456\n",
      "0.6719562243502052\n",
      "\n",
      "*********************************************************************************\n",
      "\n",
      "CreateFile\n",
      "\n",
      "296\n",
      "0.08098495212038304\n",
      "\n",
      "*********************************************************************************\n",
      "\n",
      "CreateThread\n",
      "\n",
      "135\n",
      "0.036935704514363885\n",
      "\n",
      "*********************************************************************************\n",
      "\n",
      "CreateProcessInternal\n",
      "\n",
      "30\n",
      "0.008207934336525308\n",
      "\n",
      "*********************************************************************************\n",
      "\n",
      "nan\n",
      "51\n",
      "0.013953488372093023\n",
      "\n",
      "*********************************************************************************\n",
      "\n",
      "CreateProcess\n",
      "\n",
      "15\n",
      "0.004103967168262654\n",
      "\n",
      "*********************************************************************************\n",
      "\n",
      "RegEnumValue\n",
      "\n",
      "34\n",
      "0.009302325581395349\n",
      "\n",
      "*********************************************************************************\n",
      "\n",
      "LoadLibrary\n",
      "\n",
      "550\n",
      "0.15047879616963064\n",
      "\n",
      "*********************************************************************************\n",
      "\n",
      "RegCreateKey\n",
      "\n",
      "64\n",
      "0.017510259917920656\n",
      "\n",
      "*********************************************************************************\n",
      "\n",
      "ExitProcess\n",
      "\n",
      "6\n",
      "0.0016415868673050615\n",
      "\n",
      "*********************************************************************************\n",
      "\n",
      "allaple_woj_g_98 : \n"
     ]
    },
    {
     "ename": "TypeError",
     "evalue": "Image data cannot be converted to float",
     "output_type": "error",
     "traceback": [
      "\u001b[1;31m---------------------------------------------------------------------------\u001b[0m",
      "\u001b[1;31mTypeError\u001b[0m                                 Traceback (most recent call last)",
      "\u001b[1;32m<ipython-input-404-6cec7acaf96b>\u001b[0m in \u001b[0;36m<module>\u001b[1;34m()\u001b[0m\n\u001b[0;32m      8\u001b[0m     \u001b[0mprint\u001b[0m\u001b[1;33m(\u001b[0m\u001b[1;34m\"\\n*********************************************************************************\\n\"\u001b[0m\u001b[1;33m)\u001b[0m\u001b[1;33m\u001b[0m\u001b[0m\n\u001b[0;32m      9\u001b[0m \u001b[1;33m\u001b[0m\u001b[0m\n\u001b[1;32m---> 10\u001b[1;33m     \u001b[0mdraw\u001b[0m\u001b[1;33m(\u001b[0m\u001b[0mfile_directory\u001b[0m\u001b[1;33m,\u001b[0m\u001b[1;33m(\u001b[0m\u001b[0mlen\u001b[0m\u001b[1;33m(\u001b[0m\u001b[0mfile_list\u001b[0m\u001b[1;33m)\u001b[0m\u001b[1;33m)\u001b[0m\u001b[1;33m,\u001b[0m\u001b[0mmax_len\u001b[0m\u001b[1;33m)\u001b[0m\u001b[1;33m\u001b[0m\u001b[0m\n\u001b[0m\u001b[0;32m     11\u001b[0m     \u001b[0mprint\u001b[0m\u001b[1;33m(\u001b[0m\u001b[1;34m\"\\n*********************************************************************************\\n\"\u001b[0m\u001b[1;33m)\u001b[0m\u001b[1;33m\u001b[0m\u001b[0m\n",
      "\u001b[1;32m<ipython-input-402-fadef154151c>\u001b[0m in \u001b[0;36mdraw\u001b[1;34m(file_directory, mylen, max_len)\u001b[0m\n\u001b[0;32m     55\u001b[0m     \u001b[0mnp_pic\u001b[0m \u001b[1;33m=\u001b[0m \u001b[0mnp\u001b[0m\u001b[1;33m.\u001b[0m\u001b[0masarray\u001b[0m\u001b[1;33m(\u001b[0m\u001b[0mchange_normal\u001b[0m\u001b[1;33m)\u001b[0m\u001b[1;33m\u001b[0m\u001b[0m\n\u001b[0;32m     56\u001b[0m \u001b[1;33m\u001b[0m\u001b[0m\n\u001b[1;32m---> 57\u001b[1;33m     \u001b[0mplt\u001b[0m\u001b[1;33m.\u001b[0m\u001b[0mimshow\u001b[0m\u001b[1;33m(\u001b[0m\u001b[0mnp_pic\u001b[0m\u001b[1;33m.\u001b[0m\u001b[0mreshape\u001b[0m\u001b[1;33m(\u001b[0m\u001b[1;33m[\u001b[0m\u001b[0mint\u001b[0m\u001b[1;33m(\u001b[0m\u001b[0mlen\u001b[0m\u001b[1;33m(\u001b[0m\u001b[0mchange_normal\u001b[0m\u001b[1;33m)\u001b[0m\u001b[1;33m/\u001b[0m\u001b[0mmax_len\u001b[0m\u001b[1;33m)\u001b[0m\u001b[1;33m,\u001b[0m\u001b[0mmax_len\u001b[0m\u001b[1;33m]\u001b[0m\u001b[1;33m)\u001b[0m\u001b[1;33m,\u001b[0m \u001b[0mcmap\u001b[0m\u001b[1;33m=\u001b[0m\u001b[1;34m'Greys'\u001b[0m\u001b[1;33m)\u001b[0m\u001b[1;33m\u001b[0m\u001b[0m\n\u001b[0m\u001b[0;32m     58\u001b[0m     \u001b[0mplt\u001b[0m\u001b[1;33m.\u001b[0m\u001b[0mshow\u001b[0m\u001b[1;33m(\u001b[0m\u001b[1;33m)\u001b[0m\u001b[1;33m\u001b[0m\u001b[0m\n",
      "\u001b[1;32m~\\Anaconda3\\envs\\tensorflow\\lib\\site-packages\\matplotlib\\pyplot.py\u001b[0m in \u001b[0;36mimshow\u001b[1;34m(X, cmap, norm, aspect, interpolation, alpha, vmin, vmax, origin, extent, shape, filternorm, filterrad, imlim, resample, url, hold, data, **kwargs)\u001b[0m\n\u001b[0;32m   3078\u001b[0m                         \u001b[0mfilternorm\u001b[0m\u001b[1;33m=\u001b[0m\u001b[0mfilternorm\u001b[0m\u001b[1;33m,\u001b[0m \u001b[0mfilterrad\u001b[0m\u001b[1;33m=\u001b[0m\u001b[0mfilterrad\u001b[0m\u001b[1;33m,\u001b[0m\u001b[1;33m\u001b[0m\u001b[0m\n\u001b[0;32m   3079\u001b[0m                         \u001b[0mimlim\u001b[0m\u001b[1;33m=\u001b[0m\u001b[0mimlim\u001b[0m\u001b[1;33m,\u001b[0m \u001b[0mresample\u001b[0m\u001b[1;33m=\u001b[0m\u001b[0mresample\u001b[0m\u001b[1;33m,\u001b[0m \u001b[0murl\u001b[0m\u001b[1;33m=\u001b[0m\u001b[0murl\u001b[0m\u001b[1;33m,\u001b[0m \u001b[0mdata\u001b[0m\u001b[1;33m=\u001b[0m\u001b[0mdata\u001b[0m\u001b[1;33m,\u001b[0m\u001b[1;33m\u001b[0m\u001b[0m\n\u001b[1;32m-> 3080\u001b[1;33m                         **kwargs)\n\u001b[0m\u001b[0;32m   3081\u001b[0m     \u001b[1;32mfinally\u001b[0m\u001b[1;33m:\u001b[0m\u001b[1;33m\u001b[0m\u001b[0m\n\u001b[0;32m   3082\u001b[0m         \u001b[0max\u001b[0m\u001b[1;33m.\u001b[0m\u001b[0m_hold\u001b[0m \u001b[1;33m=\u001b[0m \u001b[0mwashold\u001b[0m\u001b[1;33m\u001b[0m\u001b[0m\n",
      "\u001b[1;32m~\\Anaconda3\\envs\\tensorflow\\lib\\site-packages\\matplotlib\\__init__.py\u001b[0m in \u001b[0;36minner\u001b[1;34m(ax, *args, **kwargs)\u001b[0m\n\u001b[0;32m   1708\u001b[0m                     warnings.warn(msg % (label_namer, func.__name__),\n\u001b[0;32m   1709\u001b[0m                                   RuntimeWarning, stacklevel=2)\n\u001b[1;32m-> 1710\u001b[1;33m             \u001b[1;32mreturn\u001b[0m \u001b[0mfunc\u001b[0m\u001b[1;33m(\u001b[0m\u001b[0max\u001b[0m\u001b[1;33m,\u001b[0m \u001b[1;33m*\u001b[0m\u001b[0margs\u001b[0m\u001b[1;33m,\u001b[0m \u001b[1;33m**\u001b[0m\u001b[0mkwargs\u001b[0m\u001b[1;33m)\u001b[0m\u001b[1;33m\u001b[0m\u001b[0m\n\u001b[0m\u001b[0;32m   1711\u001b[0m         \u001b[0mpre_doc\u001b[0m \u001b[1;33m=\u001b[0m \u001b[0minner\u001b[0m\u001b[1;33m.\u001b[0m\u001b[0m__doc__\u001b[0m\u001b[1;33m\u001b[0m\u001b[0m\n\u001b[0;32m   1712\u001b[0m         \u001b[1;32mif\u001b[0m \u001b[0mpre_doc\u001b[0m \u001b[1;32mis\u001b[0m \u001b[1;32mNone\u001b[0m\u001b[1;33m:\u001b[0m\u001b[1;33m\u001b[0m\u001b[0m\n",
      "\u001b[1;32m~\\Anaconda3\\envs\\tensorflow\\lib\\site-packages\\matplotlib\\axes\\_axes.py\u001b[0m in \u001b[0;36mimshow\u001b[1;34m(self, X, cmap, norm, aspect, interpolation, alpha, vmin, vmax, origin, extent, shape, filternorm, filterrad, imlim, resample, url, **kwargs)\u001b[0m\n\u001b[0;32m   5192\u001b[0m                               resample=resample, **kwargs)\n\u001b[0;32m   5193\u001b[0m \u001b[1;33m\u001b[0m\u001b[0m\n\u001b[1;32m-> 5194\u001b[1;33m         \u001b[0mim\u001b[0m\u001b[1;33m.\u001b[0m\u001b[0mset_data\u001b[0m\u001b[1;33m(\u001b[0m\u001b[0mX\u001b[0m\u001b[1;33m)\u001b[0m\u001b[1;33m\u001b[0m\u001b[0m\n\u001b[0m\u001b[0;32m   5195\u001b[0m         \u001b[0mim\u001b[0m\u001b[1;33m.\u001b[0m\u001b[0mset_alpha\u001b[0m\u001b[1;33m(\u001b[0m\u001b[0malpha\u001b[0m\u001b[1;33m)\u001b[0m\u001b[1;33m\u001b[0m\u001b[0m\n\u001b[0;32m   5196\u001b[0m         \u001b[1;32mif\u001b[0m \u001b[0mim\u001b[0m\u001b[1;33m.\u001b[0m\u001b[0mget_clip_path\u001b[0m\u001b[1;33m(\u001b[0m\u001b[1;33m)\u001b[0m \u001b[1;32mis\u001b[0m \u001b[1;32mNone\u001b[0m\u001b[1;33m:\u001b[0m\u001b[1;33m\u001b[0m\u001b[0m\n",
      "\u001b[1;32m~\\Anaconda3\\envs\\tensorflow\\lib\\site-packages\\matplotlib\\image.py\u001b[0m in \u001b[0;36mset_data\u001b[1;34m(self, A)\u001b[0m\n\u001b[0;32m    598\u001b[0m         if (self._A.dtype != np.uint8 and\n\u001b[0;32m    599\u001b[0m                 not np.can_cast(self._A.dtype, float, \"same_kind\")):\n\u001b[1;32m--> 600\u001b[1;33m             \u001b[1;32mraise\u001b[0m \u001b[0mTypeError\u001b[0m\u001b[1;33m(\u001b[0m\u001b[1;34m\"Image data cannot be converted to float\"\u001b[0m\u001b[1;33m)\u001b[0m\u001b[1;33m\u001b[0m\u001b[0m\n\u001b[0m\u001b[0;32m    601\u001b[0m \u001b[1;33m\u001b[0m\u001b[0m\n\u001b[0;32m    602\u001b[0m         if not (self._A.ndim == 2\n",
      "\u001b[1;31mTypeError\u001b[0m: Image data cannot be converted to float"
     ]
    },
    {
     "data": {
      "image/png": "[encoded data removed]",
      "text/plain": [
       "<matplotlib.figure.Figure at 0x1c8ffd56e48>"
      ]
     },
     "metadata": {},
     "output_type": "display_data"
    }
   ],
   "source": [
    "# for readmal_i in range(0, (len(mal_family_list)), +1):\n",
    "for readmal_i in range(0, 1, +1):\n",
    "    file_directory = mal_directory + mal_family_list[readmal_i] \n",
    "    \n",
    "    file_list = os.listdir(file_directory) # get all filenames in the in_directory\n",
    "    max_len = find_max(file_directory,(len(file_list)))\n",
    "    print(\"max_len : \",max_len)  \n",
    "    print(\"\\n*********************************************************************************\\n\")      \n",
    "    \n",
    "    draw(file_directory,(len(file_list)),max_len)\n",
    "    print(\"\\n*********************************************************************************\\n\")   \n"
   ]
  },
  {
   "cell_type": "code",
   "execution_count": null,
   "metadata": {
    "collapsed": true
   },
   "outputs": [],
   "source": []
  }
 ],
 "metadata": {
  "kernelspec": {
   "display_name": "Python 3",
   "language": "python",
   "name": "python3"
  },
  "language_info": {
   "codemirror_mode": {
    "name": "ipython",
    "version": 3
   },
   "file_extension": ".py",
   "mimetype": "text/x-python",
   "name": "python",
   "nbconvert_exporter": "python",
   "pygments_lexer": "ipython3",
   "version": "3.6.1"
  }
 },
 "nbformat": 4,
 "nbformat_minor": 2
}
