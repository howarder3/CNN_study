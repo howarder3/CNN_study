{
 "cells": [
  {
   "cell_type": "markdown",
   "metadata": {
    "collapsed": true
   },
   "source": [
    "# define"
   ]
  },
  {
   "cell_type": "code",
   "execution_count": 127,
   "metadata": {
    "collapsed": true
   },
   "outputs": [],
   "source": [
    "%matplotlib inline\n",
    "from __future__ import print_function\n",
    "# import tensorflow as tf\n",
    "import numpy as np\n",
    "import matplotlib.pyplot as plt"
   ]
  },
  {
   "cell_type": "code",
   "execution_count": 131,
   "metadata": {
    "collapsed": true
   },
   "outputs": [],
   "source": [
    "def print_list_prec(x , prec):\n",
    "    print (\"printing by num:\")\n",
    "    i = 0\n",
    "    print(\"\\n*********************************************************************************\\n\")  \n",
    "    global for_flag\n",
    "    for_flag = 0\n",
    "    for i in range(0, 20, +1):\n",
    "        for j in range(0, 10, +1):\n",
    "            if((i*10+j)>=len(x)):\n",
    "                for_flag=1\n",
    "                break\n",
    "            print ((round(x[i*10+j], prec)), end='\\t')\n",
    "        print('')    \n",
    "        if(for_flag==1):\n",
    "            break\n",
    "    print(\"\\n*********************************************************************************\\n\")"
   ]
  },
  {
   "cell_type": "code",
   "execution_count": 115,
   "metadata": {
    "collapsed": true
   },
   "outputs": [],
   "source": [
    "def change_to_normal(target_list,item,value):\n",
    "    for i in range(0, (len(target_list)), +1):\n",
    "        if(target_list[i]==item):\n",
    "            target_list[i]=value"
   ]
  },
  {
   "cell_type": "code",
   "execution_count": 116,
   "metadata": {
    "collapsed": true
   },
   "outputs": [],
   "source": [
    "# write_f = open(\"test.hooklog\",\"r+\")\n",
    "# write_f.write(\"test1\\n\")\n",
    "# write_f.write(\"test2\\n\")\n",
    "# write_f.write(\"test3\\n\")\n",
    "# write_f.close()"
   ]
  },
  {
   "cell_type": "markdown",
   "metadata": {},
   "source": [
    "# start"
   ]
  },
  {
   "cell_type": "code",
   "execution_count": 117,
   "metadata": {},
   "outputs": [],
   "source": [
    "f = open('test.hooklog', 'r')\n",
    "# print (f.read())\n",
    "b = []\n",
    "a = f.readlines() \n",
    "for i in range(0, (len(a)), +1):\n",
    "    if((a[i][0])=='#'):\n",
    "        b.append(a[i+1][0])\n"
   ]
  },
  {
   "cell_type": "code",
   "execution_count": 118,
   "metadata": {},
   "outputs": [
    {
     "name": "stdout",
     "output_type": "stream",
     "text": [
      "463\n",
      "Return=a4\n",
      "R\n",
      "109\n"
     ]
    }
   ],
   "source": [
    "print (len(a))\n",
    "print (a[i])\n",
    "print (a[i][0])\n",
    "print ((len(b)))"
   ]
  },
  {
   "cell_type": "code",
   "execution_count": 119,
   "metadata": {},
   "outputs": [
    {
     "name": "stdout",
     "output_type": "stream",
     "text": [
      "['L', 'L', 'L', 'L', 'L', 'L', 'L', 'R', 'R', 'L', 'R', 'C', 'R', 'R', 'R', 'L', 'R', 'L', 'L', 'L', 'L', 'L', 'L', 'L', 'C', 'C', 'R', 'R', 'R', 'R', 'R', 'R', 'R', 'R', 'R', 'R', 'R', 'R', 'R', 'R', 'R', 'R', 'R', 'R', 'R', 'R', 'R', 'R', 'R', 'R', 'R', 'R', 'R', 'R', 'R', 'R', 'R', 'R', 'R', 'R', 'R', 'R', 'R', 'R', 'R', 'R', 'R', 'R', 'R', 'R', 'R', 'R', 'R', 'R', 'R', 'R', 'R', 'R', 'R', 'R', 'R', 'R', 'R', 'R', 'R', 'R', 'R', 'R', 'R', 'R', 'R', 'R', 'C', 'C', 'C', 'C', 'C', 'R', 'R', 'R', 'R', 'R', 'C', 'C', 'C', 'C', 'C', 'C', 'C']\n"
     ]
    }
   ],
   "source": [
    "print (b)"
   ]
  },
  {
   "cell_type": "code",
   "execution_count": 120,
   "metadata": {},
   "outputs": [
    {
     "name": "stdout",
     "output_type": "stream",
     "text": [
      "LLLLLLLRRLRCRRRLRLLLLLLLCCRR\n",
      "RRRRRRRRRRRRRRRRRRRRRRRRRRRR\n",
      "RRRRRRRRRRRRRRRRRRRRRRRRRRRR\n",
      "RRRRRRRRCCCCCRRRRRCCCCCCC\n"
     ]
    }
   ],
   "source": [
    "global for_flag\n",
    "for_flag = 0\n",
    "for i in range(0, 28, +1):\n",
    "    for j in range(0, 28, +1):\n",
    "        if((i*28+j)>=len(b)):\n",
    "            for_flag=1\n",
    "            break\n",
    "        print (b[i*28+j], end='')\n",
    "    print('')    \n",
    "    if(for_flag==1):\n",
    "        break"
   ]
  },
  {
   "cell_type": "code",
   "execution_count": 121,
   "metadata": {
    "scrolled": false
   },
   "outputs": [
    {
     "name": "stdout",
     "output_type": "stream",
     "text": [
      "LLLLLLLRRL\n",
      "RCRRRLRLLL\n",
      "LLLLCCRRRR\n",
      "RRRRRRRRRR\n",
      "RRRRRRRRRR\n",
      "RRRRRRRRRR\n",
      "RRRRRRRRRR\n",
      "RRRRRRRRRR\n",
      "RRRRRRRRRR\n",
      "RRCCCCCRRR\n",
      "RRCCCCCCC\n",
      "the L has found 16\n",
      "the C has found 15\n",
      "the R has found 78\n"
     ]
    }
   ],
   "source": [
    "global for_flag\n",
    "for_flag = 0\n",
    "for i in range(0, 20, +1):\n",
    "    for j in range(0, 10, +1):\n",
    "        if((i*10+j)>=len(b)):\n",
    "            for_flag=1\n",
    "            break\n",
    "        print (b[i*10+j], end='')\n",
    "#         print (i*10+j, end=' ')\n",
    "    print('')    \n",
    "    if(for_flag==1):\n",
    "        break\n",
    " \n",
    "myset = set(b)\n",
    "for item in myset:\n",
    "  print(\"the %s has found %d\" %(item,b.count(item)))\n"
   ]
  },
  {
   "cell_type": "code",
   "execution_count": 122,
   "metadata": {},
   "outputs": [],
   "source": [
    "ourstr = []\n",
    "for i in range(0, (len(a)), +1):\n",
    "    if((a[i][0])=='#'):\n",
    "        ourstr.append(a[i+1])"
   ]
  },
  {
   "cell_type": "code",
   "execution_count": 123,
   "metadata": {},
   "outputs": [
    {
     "name": "stdout",
     "output_type": "stream",
     "text": [
      "['LoadLibrary\\n', 'LoadLibrary\\n', 'LoadLibrary\\n', 'LoadLibrary\\n', 'LoadLibrary\\n', 'LoadLibrary\\n', 'LoadLibrary\\n', 'RegQueryValue\\n', 'RegQueryValue\\n', 'LoadLibrary\\n', 'RegQueryValue\\n', 'CreateFile\\n', 'RegQueryValue\\n', 'RegQueryValue\\n', 'RegEnumValue\\n', 'LoadLibrary\\n', 'RegQueryValue\\n', 'LoadLibrary\\n', 'LoadLibrary\\n', 'LoadLibrary\\n', 'LoadLibrary\\n', 'LoadLibrary\\n', 'LoadLibrary\\n', 'LoadLibrary\\n', 'CreateFile\\n', 'CreateFile\\n', 'RegCreateKey\\n', 'RegSetValue\\n', 'RegCreateKey\\n', 'RegSetValue\\n', 'RegQueryValue\\n', 'RegQueryValue\\n', 'RegQueryValue\\n', 'RegQueryValue\\n', 'RegQueryValue\\n', 'RegQueryValue\\n', 'RegQueryValue\\n', 'RegQueryValue\\n', 'RegQueryValue\\n', 'RegQueryValue\\n', 'RegQueryValue\\n', 'RegQueryValue\\n', 'RegQueryValue\\n', 'RegQueryValue\\n', 'RegQueryValue\\n', 'RegQueryValue\\n', 'RegQueryValue\\n', 'RegQueryValue\\n', 'RegQueryValue\\n', 'RegQueryValue\\n', 'RegQueryValue\\n', 'RegQueryValue\\n', 'RegQueryValue\\n', 'RegQueryValue\\n', 'RegQueryValue\\n', 'RegQueryValue\\n', 'RegQueryValue\\n', 'RegQueryValue\\n', 'RegQueryValue\\n', 'RegQueryValue\\n', 'RegQueryValue\\n', 'RegQueryValue\\n', 'RegQueryValue\\n', 'RegQueryValue\\n', 'RegQueryValue\\n', 'RegQueryValue\\n', 'RegQueryValue\\n', 'RegQueryValue\\n', 'RegQueryValue\\n', 'RegQueryValue\\n', 'RegQueryValue\\n', 'RegQueryValue\\n', 'RegQueryValue\\n', 'RegQueryValue\\n', 'RegQueryValue\\n', 'RegQueryValue\\n', 'RegQueryValue\\n', 'RegQueryValue\\n', 'RegQueryValue\\n', 'RegQueryValue\\n', 'RegQueryValue\\n', 'RegQueryValue\\n', 'RegQueryValue\\n', 'RegQueryValue\\n', 'RegQueryValue\\n', 'RegQueryValue\\n', 'RegQueryValue\\n', 'RegQueryValue\\n', 'RegQueryValue\\n', 'RegQueryValue\\n', 'RegQueryValue\\n', 'RegQueryValue\\n', 'CreateThread\\n', 'CreateThread\\n', 'CreateThread\\n', 'CreateThread\\n', 'CreateThread\\n', 'RegQueryValue\\n', 'RegQueryValue\\n', 'RegQueryValue\\n', 'RegQueryValue\\n', 'RegQueryValue\\n', 'CreateFile\\n', 'CreateFile\\n', 'CreateFile\\n', 'CreateFile\\n', 'CreateFile\\n', 'CreateFile\\n', 'CreateFile\\n']\n"
     ]
    }
   ],
   "source": [
    "print(ourstr)"
   ]
  },
  {
   "cell_type": "code",
   "execution_count": 126,
   "metadata": {},
   "outputs": [
    {
     "name": "stdout",
     "output_type": "stream",
     "text": [
      "109 items found\n",
      "\n",
      "RegSetValue\n",
      "2\n",
      "RegQueryValue\n",
      "73\n",
      "CreateFile\n",
      "10\n",
      "LoadLibrary\n",
      "16\n",
      "RegEnumValue\n",
      "1\n",
      "CreateThread\n",
      "5\n",
      "RegCreateKey\n",
      "2\n"
     ]
    }
   ],
   "source": [
    "change_normal = ourstr\n",
    "myset = set(ourstr)\n",
    "print(\"%d items found\\n\" %(len(ourstr)))\n",
    "for item in myset:\n",
    "    print(\"%s%d\" %(item,ourstr.count(item)))\n",
    "    change_to_normal(change_normal,item,(ourstr.count(item)/(len(ourstr))))\n",
    "\n",
    "\n"
   ]
  },
  {
   "cell_type": "code",
   "execution_count": 135,
   "metadata": {},
   "outputs": [
    {
     "name": "stdout",
     "output_type": "stream",
     "text": [
      "test printing by num:\n",
      "\n",
      "*********************************************************************************\n",
      "\n",
      "0.1468\t0.1468\t0.1468\t0.1468\t0.1468\t0.1468\t0.1468\t0.6697\t0.6697\t0.1468\t\n",
      "0.6697\t0.0917\t0.6697\t0.6697\t0.0092\t0.1468\t0.6697\t0.1468\t0.1468\t0.1468\t\n",
      "0.1468\t0.1468\t0.1468\t0.1468\t0.0917\t0.0917\t0.0183\t0.0183\t0.0183\t0.0183\t\n",
      "0.6697\t0.6697\t0.6697\t0.6697\t0.6697\t0.6697\t0.6697\t0.6697\t0.6697\t0.6697\t\n",
      "0.6697\t0.6697\t0.6697\t0.6697\t0.6697\t0.6697\t0.6697\t0.6697\t0.6697\t0.6697\t\n",
      "0.6697\t0.6697\t0.6697\t0.6697\t0.6697\t0.6697\t0.6697\t0.6697\t0.6697\t0.6697\t\n",
      "0.6697\t0.6697\t0.6697\t0.6697\t0.6697\t0.6697\t0.6697\t0.6697\t0.6697\t0.6697\t\n",
      "0.6697\t0.6697\t0.6697\t0.6697\t0.6697\t0.6697\t0.6697\t0.6697\t0.6697\t0.6697\t\n",
      "0.6697\t0.6697\t0.6697\t0.6697\t0.6697\t0.6697\t0.6697\t0.6697\t0.6697\t0.6697\t\n",
      "0.6697\t0.6697\t0.0459\t0.0459\t0.0459\t0.0459\t0.0459\t0.6697\t0.6697\t0.6697\t\n",
      "0.6697\t0.6697\t0.0917\t0.0917\t0.0917\t0.0917\t0.0917\t0.0917\t0.0917\t\n",
      "\n",
      "*********************************************************************************\n",
      "\n",
      "None\n"
     ]
    }
   ],
   "source": [
    "print (print_list_prec(change_normal,4))"
   ]
  },
  {
   "cell_type": "code",
   "execution_count": null,
   "metadata": {
    "collapsed": true
   },
   "outputs": [],
   "source": [
    "def reshape_pic(pic, size, channel):\n",
    "    ch = pic.reshape([channel,-1]) #將照片拉成數個channel\n",
    "    out = ch.reshape([size*channel,size]) #將第cnum的channel照片拉成28x28\n",
    "#     print(\"\\n*********************************************************************************\\n\")    \n",
    "#     print (\"pic shape:\" + str(pic.shape))\n",
    "#     print (\"ch shape:\" + str(ch.shape))\n",
    "    print (\"output shape:\" + str(out.shape))\n",
    "#     print(\"\\n*********************************************************************************\\n\")\n",
    "    return out\n"
   ]
  },
  {
   "cell_type": "code",
   "execution_count": 137,
   "metadata": {},
   "outputs": [
    {
     "ename": "AttributeError",
     "evalue": "'list' object has no attribute 'reshape'",
     "output_type": "error",
     "traceback": [
      "\u001b[1;31m---------------------------------------------------------------------------\u001b[0m",
      "\u001b[1;31mAttributeError\u001b[0m                            Traceback (most recent call last)",
      "\u001b[1;32m<ipython-input-137-e15a5192ef7b>\u001b[0m in \u001b[0;36m<module>\u001b[1;34m()\u001b[0m\n\u001b[1;32m----> 1\u001b[1;33m \u001b[0mplt\u001b[0m\u001b[1;33m.\u001b[0m\u001b[0mimshow\u001b[0m\u001b[1;33m(\u001b[0m\u001b[0mchange_normal\u001b[0m\u001b[1;33m.\u001b[0m\u001b[0mreshape\u001b[0m\u001b[1;33m(\u001b[0m\u001b[1;33m[\u001b[0m\u001b[1;36m10\u001b[0m\u001b[1;33m,\u001b[0m\u001b[1;33m-\u001b[0m\u001b[1;36m1\u001b[0m\u001b[1;33m]\u001b[0m\u001b[1;33m)\u001b[0m\u001b[1;33m,\u001b[0m \u001b[0mcmap\u001b[0m\u001b[1;33m=\u001b[0m\u001b[1;34m'Greys'\u001b[0m\u001b[1;33m)\u001b[0m\u001b[1;33m\u001b[0m\u001b[0m\n\u001b[0m\u001b[0;32m      2\u001b[0m \u001b[0mplt\u001b[0m\u001b[1;33m.\u001b[0m\u001b[0mshow\u001b[0m\u001b[1;33m(\u001b[0m\u001b[1;33m)\u001b[0m\u001b[1;33m\u001b[0m\u001b[0m\n",
      "\u001b[1;31mAttributeError\u001b[0m: 'list' object has no attribute 'reshape'"
     ]
    }
   ],
   "source": [
    "plt.imshow(change_normal.reshape([10,-1]), cmap='Greys')  \n",
    "plt.show()"
   ]
  },
  {
   "cell_type": "code",
   "execution_count": null,
   "metadata": {
    "collapsed": true
   },
   "outputs": [],
   "source": [
    "f.close()"
   ]
  }
 ],
 "metadata": {
  "kernelspec": {
   "display_name": "Python 3",
   "language": "python",
   "name": "python3"
  },
  "language_info": {
   "codemirror_mode": {
    "name": "ipython",
    "version": 3
   },
   "file_extension": ".py",
   "mimetype": "text/x-python",
   "name": "python",
   "nbconvert_exporter": "python",
   "pygments_lexer": "ipython3",
   "version": "3.6.1"
  }
 },
 "nbformat": 4,
 "nbformat_minor": 2
}
