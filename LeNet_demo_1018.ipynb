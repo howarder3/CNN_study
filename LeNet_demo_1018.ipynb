{
 "cells": [
  {
   "cell_type": "markdown",
   "metadata": {},
   "source": [
    "# LeNet_demo_1018\n"
   ]
  },
  {
   "cell_type": "markdown",
   "metadata": {},
   "source": [
    "## import部分"
   ]
  },
  {
   "cell_type": "code",
   "execution_count": 20,
   "metadata": {
    "collapsed": true
   },
   "outputs": [],
   "source": [
    "%matplotlib inline\n",
    "from __future__ import print_function\n",
    "import tensorflow as tf\n",
    "import numpy as np\n",
    "import matplotlib.pyplot as plt"
   ]
  },
  {
   "cell_type": "code",
   "execution_count": 21,
   "metadata": {},
   "outputs": [
    {
     "name": "stdout",
     "output_type": "stream",
     "text": [
      "Extracting MNIST_data\\train-images-idx3-ubyte.gz\n",
      "Extracting MNIST_data\\train-labels-idx1-ubyte.gz\n",
      "Extracting MNIST_data\\t10k-images-idx3-ubyte.gz\n",
      "Extracting MNIST_data\\t10k-labels-idx1-ubyte.gz\n"
     ]
    }
   ],
   "source": [
    "from tensorflow.examples.tutorials.mnist import input_data\n",
    "# number 1 to 10 data\n",
    "mnist = input_data.read_data_sets('MNIST_data', one_hot=True)\n",
    "\n",
    "# 每個 MNIST 中的圖片都有一個對應的 label 也就是從 0 到 9 的數值．\n",
    "# 在這裡每個 label 都是一個 one-hot vectors\n",
    "# one-hot vector 是指說只有一個維度是 1 其他都是 0\n",
    "# 例如 label 0 的表示法就是 [1, 0, 0, 0, 0, 0, 0, 0, 0, 0]"
   ]
  },
  {
   "cell_type": "markdown",
   "metadata": {},
   "source": [
    "# 資料型態\n"
   ]
  },
  {
   "cell_type": "code",
   "execution_count": 22,
   "metadata": {},
   "outputs": [
    {
     "name": "stdout",
     "output_type": "stream",
     "text": [
      "讓我們看一下 MNIST 訓練還有測試的資料集長得如何\n",
      "mnist資料型態 : <class 'tensorflow.contrib.learn.python.learn.datasets.base.Datasets'>\n",
      "training sample 共有 55000 個\n",
      "validation sample 共有 5000 個\n",
      "testing sample 共有 10000 個\n",
      "train_img 的 type : <class 'numpy.ndarray'>\n",
      "train_img 的 dimension : (55000, 784)\n",
      "train_label 的 type : <class 'numpy.ndarray'>\n",
      "train_label 的 dimension : (55000, 10)\n",
      "test_img 的 type : <class 'numpy.ndarray'>\n",
      "test_img 的 dimension : (10000, 784)\n",
      "test_label 的 type : <class 'numpy.ndarray'>\n",
      "test_label 的 dimension : (10000, 10)\n"
     ]
    }
   ],
   "source": [
    "print (\"讓我們看一下 MNIST 訓練還有測試的資料集長得如何\")\n",
    "#print (\"mnist資料型態 : %s \" %(type(mnist)))\n",
    "print (\"mnist資料型態 : \" + str(type(mnist)))\n",
    "print (\"training sample 共有 %s 個\"%(mnist.train.num_examples))\n",
    "print (\"validation sample 共有 %s 個\" %(mnist.validation.num_examples))\n",
    "print (\"testing sample 共有 %s 個\"  %(mnist.test.num_examples))\n",
    "train_img = mnist.train.images\n",
    "train_label = mnist.train.labels\n",
    "test_img = mnist.test.images\n",
    "test_label = mnist.test.labels\n",
    "print\n",
    "print(\"train_img 的 type : %s\" % (type(train_img)))\n",
    "print(\"train_img 的 dimension : %s\" % (train_img.shape,))\n",
    "print(\"train_label 的 type : %s\" % (type(train_label)))\n",
    "print(\"train_label 的 dimension : %s\" % (train_label.shape,))\n",
    "print(\"test_img 的 type : %s\" % (type(test_img)))\n",
    "print(\"test_img 的 dimension : %s\" % (test_img.shape,))\n",
    "print(\"test_label 的 type : %s\" % (type(test_label)))\n",
    "print(\"test_label 的 dimension : %s\" % (test_label.shape,))"
   ]
  },
  {
   "cell_type": "markdown",
   "metadata": {},
   "source": [
    "# 函數定義區"
   ]
  },
  {
   "cell_type": "code",
   "execution_count": 23,
   "metadata": {
    "collapsed": true
   },
   "outputs": [],
   "source": [
    "def reshape_pic(origin, size, channel, xsnum):\n",
    "    pic = origin[xsnum] #第num張照片 \n",
    "    ch = pic.transpose(2,0,1).reshape([channel,-1]) #將照片拉成數個channel\n",
    "    out = ch.reshape([size*channel,size]) #將第cnum的channel照片拉成28x28\n",
    "#     print(\"\\n*********************************************************************************\\n\")    \n",
    "#     print (\"pic shape:\" + str(pic.shape))\n",
    "#     print (\"ch shape:\" + str(ch.shape))\n",
    "    print (\"output shape:\" + str(out.shape))\n",
    "#     print(\"\\n*********************************************************************************\\n\")\n",
    "    return out\n"
   ]
  },
  {
   "cell_type": "code",
   "execution_count": 24,
   "metadata": {
    "collapsed": true
   },
   "outputs": [],
   "source": [
    " def print_pic_int(x):\n",
    "    print(\"\\n*********************************************************************************\\n\")\n",
    "\n",
    "    j = 0\n",
    "    while j < (x.shape[0]) :\n",
    "        print (str(int(round(x[j,0])))+ \" \"+ str(int(round(x[j,1])))\n",
    "            + \" \"+ str(int(round(x[j,2])))+ \" \"+ str(int(round(x[j,3])))\n",
    "            + \" \"+ str(int(round(x[j,4])))+ \" \"+ str(int(round(x[j,5])))\n",
    "            + \" \"+ str(int(round(x[j,6])))+ \" \"+ str(int(round(x[j,7])))\n",
    "            + \" \"+ str(int(round(x[j,8])))+ \" \"+ str(int(round(x[j,9])))\n",
    "            + \" \"+ str(int(round(x[j,10])))+ \" \"+ str(int(round(x[j,11])))\n",
    "            + \" \"+ str(int(round(x[j,12])))+ \" \"+ str(int(round(x[j,13])))\n",
    "            + \" \"+ str(int(round(x[j,14])))+ \" \"+ str(int(round(x[j,15])))\n",
    "            + \" \"+ str(int(round(x[j,16])))+ \" \"+ str(int(round(x[j,17])))\n",
    "            + \" \"+ str(int(round(x[j,18])))+ \" \"+ str(int(round(x[j,19])))\n",
    "            + \" \"+ str(int(round(x[j,20])))+ \" \"+ str(int(round(x[j,21])))\n",
    "            + \" \"+ str(int(round(x[j,22])))+ \" \"+ str(int(round(x[j,23])))\n",
    "            + \" \"+ str(int(round(x[j,24])))+ \" \"+ str(int(round(x[j,25])))\n",
    "            + \" \"+ str(int(round(x[j,26])))+ \" \"+ str(int(round(x[j,27]))))\n",
    "        j += 1    \n",
    "        if(j%28 == 0):\n",
    "            print(\"\\n*********************************************************************************\\n\")\n",
    "        "
   ]
  },
  {
   "cell_type": "code",
   "execution_count": 25,
   "metadata": {
    "collapsed": true
   },
   "outputs": [],
   "source": [
    "def print_pic_prec(x , prec):\n",
    "    print (\"test printing by num:\")\n",
    "    i = 0\n",
    "    print(\"\\n*********************************************************************************\\n\")\n",
    "    \n",
    "    while i < (x.shape[0]) :\n",
    "        print  (str(round(x[i,0], prec))+ \"\\t\"+ str(round(x[i,1], prec))\n",
    "            + \"\\t\"+ str(round(x[i,2], prec))+ \"\\t\"+ str(round(x[i,3], prec))\n",
    "            + \"\\t\"+ str(round(x[i,4], prec))+ \"\\t\"+ str(round(x[i,5], prec))\n",
    "            + \"\\t\"+ str(round(x[i,6], prec))+ \"\\t\"+ str(round(x[i,7], prec))\n",
    "            + \"\\t\"+ str(round(x[i,8], prec))+ \"\\t\"+ str(round(x[i,9], prec))\n",
    "            + \"\\t\"+ str(round(x[i,10], prec))+ \"\\t\"+ str(round(x[i,11], prec))\n",
    "            + \"\\t\"+ str(round(x[i,12], prec))+ \"\\t\"+ str(round(x[i,13], prec))\n",
    "            + \"\\t\"+ str(round(x[i,14], prec))+ \"\\t\"+ str(round(x[i,15], prec))\n",
    "            + \"\\t\"+ str(round(x[i,16], prec))+ \"\\t\"+ str(round(x[i,17], prec))\n",
    "            + \"\\t\"+ str(round(x[i,18], prec))+ \"\\t\"+ str(round(x[i,19], prec))\n",
    "            + \"\\t\"+ str(round(x[i,20], prec))+ \"\\t\"+ str(round(x[i,21], prec))\n",
    "            + \"\\t\"+ str(round(x[i,22], prec))+ \"\\t\"+ str(round(x[i,23], prec))\n",
    "            + \"\\t\"+ str(round(x[i,24], prec))+ \"\\t\"+ str(round(x[i,25], prec))\n",
    "            + \"\\t\"+ str(round(x[i,26], prec))+ \"\\t\"+ str(round(x[i,27], prec)))\n",
    "        i += 1\n",
    "        if(i%28 == 0):\n",
    "             print(\"\\n*********************************************************************************\\n\")"
   ]
  },
  {
   "cell_type": "code",
   "execution_count": 26,
   "metadata": {
    "collapsed": true
   },
   "outputs": [],
   "source": [
    "trainimg = mnist.train.images\n",
    "trainlabel = mnist.train.labels\n",
    "nsample = 1\n",
    "randidx = np.random.randint(trainimg.shape[0], size=nsample)\n",
    "\n",
    "#testdata = 54999 #data no. 0- 54999 total 55000\n",
    "#x = trainimg[testdata]\n",
    "\n",
    "#prec = 1 #precision\n",
    "#print_pic(x,1)\n"
   ]
  },
  {
   "cell_type": "code",
   "execution_count": 27,
   "metadata": {
    "collapsed": true
   },
   "outputs": [],
   "source": [
    "def compute_accuracy(v_xs, v_ys):\n",
    "    global prediction\n",
    "    y_pre = sess.run(prediction, feed_dict={xs: v_xs, keep_prob: 1})\n",
    "    correct_prediction = tf.equal(tf.argmax(y_pre,1), tf.argmax(v_ys,1))\n",
    "    accuracy = tf.reduce_mean(tf.cast(correct_prediction, tf.float32))\n",
    "    result = sess.run(accuracy, feed_dict={xs: v_xs, ys: v_ys, keep_prob: 1})\n",
    "    return result\n",
    "\n",
    "def weight_variable(shape):\n",
    "    initial = tf.truncated_normal(shape, stddev=0.1)\n",
    "    return tf.Variable(initial)\n",
    "\n",
    "def bias_variable(shape):\n",
    "    initial = tf.constant(0.1, shape=shape)\n",
    "    return tf.Variable(initial)\n",
    "\n",
    "def conv2d(x, W):\n",
    "    # stride [1, x_movement, y_movement, 1]\n",
    "    # Must have strides[0] = strides[3] = 1\n",
    "    return tf.nn.conv2d(x, W, strides=[1, 1, 1, 1], padding='SAME')\n",
    "\n",
    "def max_pool_2x2(x):\n",
    "    # stride [1, x_movement, y_movement, 1]\n",
    "    return tf.nn.max_pool(x, ksize=[1,2,2,1], strides=[1,2,2,1], padding='SAME')\n"
   ]
  },
  {
   "cell_type": "markdown",
   "metadata": {},
   "source": [
    "# CNN 訓練過程"
   ]
  },
  {
   "cell_type": "code",
   "execution_count": 28,
   "metadata": {
    "collapsed": true
   },
   "outputs": [],
   "source": [
    "\n",
    "# define placeholder for inputs to network\n",
    "xs = tf.placeholder(tf.float32, [None, 784])/255.   # 28x28\n",
    "ys = tf.placeholder(tf.float32, [None, 10])\n",
    "keep_prob = tf.placeholder(tf.float32)\n",
    "x_image = tf.reshape(xs, [-1, 28, 28, 1])\n",
    "# print(x_image.shape)  # [n_samples, 28,28,1]\n",
    "\n",
    "## conv1 layer ##\n",
    "W_conv1 = weight_variable([5,5,1,6]) # patch 5x5, in size 1, out size 32\n",
    "b_conv1 = bias_variable([6])\n",
    "h_conv1 = tf.nn.relu(conv2d(x_image, W_conv1) + b_conv1) # output size 28x28x32\n",
    "h_pool1 = max_pool_2x2(h_conv1)                                         # output size 14x14x32\n",
    "\n",
    "## conv2 layer ##\n",
    "W_conv2 = weight_variable([5,5, 6, 16]) # patch 5x5, in size 32, out size 64\n",
    "b_conv2 = bias_variable([16])\n",
    "h_conv2 = tf.nn.relu(conv2d(h_pool1, W_conv2) + b_conv2) # output size 14x14x64\n",
    "h_pool2 = max_pool_2x2(h_conv2)                                         # output size 7x7x64\n",
    "\n",
    "## fc1 layer ##\n",
    "W_fc1 = weight_variable([7*7*16, 120])\n",
    "b_fc1 = bias_variable([120])\n",
    "# [n_samples, 7, 7, 64] ->> [n_samples, 7*7*64]\n",
    "h_pool2_flat = tf.reshape(h_pool2, [-1, 7*7*16])\n",
    "h_fc1 = tf.nn.relu(tf.matmul(h_pool2_flat, W_fc1) + b_fc1)\n",
    "h_fc1_drop = tf.nn.dropout(h_fc1, keep_prob)\n",
    "\n",
    "## fc2 layer ##\n",
    "W_fc2 = weight_variable([120, 10])\n",
    "b_fc2 = bias_variable([10])\n",
    "prediction = tf.nn.softmax(tf.matmul(h_fc1_drop, W_fc2) + b_fc2)\n",
    "\n",
    "\n",
    "# the error between prediction and real data\n",
    "cross_entropy = tf.reduce_mean(-tf.reduce_sum(ys * tf.log(prediction),\n",
    "                                              reduction_indices=[1]))       # loss\n",
    "train_step = tf.train.AdamOptimizer(1e-4).minimize(cross_entropy)\n",
    "\n",
    "sess = tf.Session()\n",
    "# important step\n",
    "# tf.initialize_all_variables() no long valid from\n",
    "# 2017-03-02 if using tensorflow >= 0.12\n",
    "if int((tf.__version__).split('.')[1]) < 12 and int((tf.__version__).split('.')[0]) < 1:\n",
    "    init = tf.initialize_all_variables()\n",
    "else:\n",
    "    init = tf.global_variables_initializer()\n",
    "sess.run(init)\n",
    "for i in range(1):\n",
    "    batch_xs, batch_ys = mnist.train.next_batch(100)"
   ]
  },
  {
   "cell_type": "markdown",
   "metadata": {},
   "source": [
    "# 印出結果---input\n"
   ]
  },
  {
   "cell_type": "code",
   "execution_count": 29,
   "metadata": {},
   "outputs": [
    {
     "name": "stdout",
     "output_type": "stream",
     "text": [
      "第1張圖的 shape : (?, 28, 28, 1)\n",
      "output shape:(28, 28)\n",
      "output shape:(28, 28)\n",
      "test printing by num:\n",
      "\n",
      "*********************************************************************************\n",
      "\n",
      "0.0\t0.0\t0.0\t0.0\t0.0\t0.0\t0.0\t0.0\t0.0\t0.0\t0.0\t0.0\t0.0\t0.0\t0.0\t0.0\t0.0\t0.0\t0.0\t0.0\t0.0\t0.0\t0.0\t0.0\t0.0\t0.0\t0.0\t0.0\n",
      "0.0\t0.0\t0.0\t0.0\t0.0\t0.0\t0.0\t0.0\t0.0\t0.0\t0.0\t0.0\t0.0\t0.0\t0.0\t0.0\t0.0\t0.0\t0.0\t0.0\t0.0\t0.0\t0.0\t0.0\t0.0\t0.0\t0.0\t0.0\n",
      "0.0\t0.0\t0.0\t0.0\t0.0\t0.0\t0.0\t0.0\t0.0\t0.0\t0.0\t0.0\t0.0\t0.0\t0.0\t0.0\t0.0\t0.0\t0.0\t0.0\t0.0\t0.0\t0.0\t0.0\t0.0\t0.0\t0.0\t0.0\n",
      "0.0\t0.0\t0.0\t0.0\t0.0\t0.0\t0.0\t0.0\t0.0\t0.0\t0.0\t0.0\t0.0\t0.0\t0.0\t0.0\t0.0\t0.0\t0.0\t0.0\t0.0\t0.0\t0.0\t0.0\t0.0\t0.0\t0.0\t0.0\n",
      "0.0\t0.0\t0.0\t0.0\t0.0\t0.0\t0.0\t0.0\t0.0\t0.0\t0.0\t0.0\t0.0\t0.0\t0.0\t0.0\t0.0\t0.0\t0.0\t0.0\t0.0\t0.0\t0.0\t0.0\t0.0\t0.0\t0.0\t0.0\n",
      "0.0\t0.0\t0.0\t0.0\t0.0\t0.0\t0.0\t0.07059\t0.13333\t0.28235\t0.56078\t0.82353\t0.99216\t0.99216\t1.0\t0.99216\t0.46667\t0.00784\t0.0\t0.0\t0.0\t0.0\t0.0\t0.0\t0.0\t0.0\t0.0\t0.0\n",
      "0.0\t0.0\t0.0\t0.0\t0.0\t0.07059\t0.61569\t0.84706\t0.98824\t0.98824\t0.98824\t0.98824\t0.98824\t0.98824\t0.99216\t0.98824\t0.98824\t0.03922\t0.0\t0.0\t0.0\t0.0\t0.0\t0.0\t0.0\t0.0\t0.0\t0.0\n",
      "0.0\t0.0\t0.0\t0.0\t0.0\t0.45098\t0.83529\t0.80392\t0.98824\t0.8549\t0.58039\t0.17255\t0.17255\t0.17255\t0.99216\t0.98824\t0.66667\t0.00784\t0.0\t0.0\t0.0\t0.0\t0.0\t0.0\t0.0\t0.0\t0.0\t0.0\n",
      "0.0\t0.0\t0.0\t0.0\t0.0\t0.01176\t0.02745\t0.02353\t0.03922\t0.02745\t0.0\t0.0\t0.2\t0.70588\t0.99216\t0.92941\t0.36078\t0.0\t0.0\t0.0\t0.0\t0.0\t0.0\t0.0\t0.0\t0.0\t0.0\t0.0\n",
      "0.0\t0.0\t0.0\t0.0\t0.0\t0.0\t0.0\t0.0\t0.0\t0.0\t0.0\t0.21176\t0.90196\t0.98824\t0.96471\t0.23529\t0.0\t0.0\t0.0\t0.0\t0.0\t0.0\t0.0\t0.0\t0.0\t0.0\t0.0\t0.0\n",
      "0.0\t0.0\t0.0\t0.0\t0.0\t0.0\t0.0\t0.0\t0.0\t0.0\t0.33725\t0.90588\t0.98824\t0.98824\t0.18824\t0.0\t0.0\t0.0\t0.0\t0.0\t0.0\t0.0\t0.0\t0.0\t0.0\t0.0\t0.0\t0.0\n",
      "0.0\t0.0\t0.0\t0.0\t0.0\t0.0\t0.0\t0.0\t0.0\t0.31765\t0.98431\t0.98824\t0.98824\t0.61176\t0.04706\t0.01569\t0.0\t0.0\t0.0\t0.0\t0.0\t0.0\t0.0\t0.0\t0.0\t0.0\t0.0\t0.0\n",
      "0.0\t0.0\t0.0\t0.0\t0.0\t0.0\t0.0\t0.0\t0.0\t0.28627\t0.97647\t0.98824\t0.98824\t0.98824\t0.99216\t0.72157\t0.43922\t0.08627\t0.0\t0.0\t0.0\t0.0\t0.0\t0.0\t0.0\t0.0\t0.0\t0.0\n",
      "0.0\t0.0\t0.0\t0.0\t0.0\t0.0\t0.0\t0.0\t0.0\t0.0\t0.2549\t0.68627\t0.68627\t0.95294\t0.99216\t0.98824\t0.98824\t0.8549\t0.4549\t0.2\t0.0\t0.0\t0.0\t0.0\t0.0\t0.0\t0.0\t0.0\n",
      "0.0\t0.0\t0.0\t0.0\t0.0\t0.0\t0.0\t0.0\t0.0\t0.0\t0.0\t0.0\t0.0\t0.1098\t0.12941\t0.43137\t0.72549\t0.98824\t0.98824\t0.9451\t0.45098\t0.0\t0.0\t0.0\t0.0\t0.0\t0.0\t0.0\n",
      "0.0\t0.0\t0.0\t0.0\t0.0\t0.0\t0.0\t0.0\t0.0\t0.0\t0.0\t0.0\t0.0\t0.0\t0.0\t0.0\t0.0\t0.4549\t0.94902\t0.99216\t0.97647\t0.27843\t0.0\t0.0\t0.0\t0.0\t0.0\t0.0\n",
      "0.0\t0.0\t0.0\t0.0\t0.0\t0.0\t0.0\t0.0\t0.0\t0.0\t0.0\t0.0\t0.0\t0.0\t0.0\t0.0\t0.0\t0.0\t0.19608\t0.72941\t0.98824\t0.93726\t0.18039\t0.0\t0.0\t0.0\t0.0\t0.0\n",
      "0.0\t0.0\t0.0\t0.0\t0.0\t0.0\t0.0\t0.0\t0.0\t0.0\t0.0\t0.0\t0.0\t0.0\t0.0\t0.0\t0.0\t0.0\t0.0\t0.21176\t0.95686\t0.98824\t0.25882\t0.0\t0.0\t0.0\t0.0\t0.0\n",
      "0.0\t0.0\t0.0\t0.0\t0.0\t0.0\t0.0\t0.0\t0.0\t0.0\t0.0\t0.09412\t0.51765\t0.06667\t0.0\t0.0\t0.0\t0.0\t0.0\t0.0\t0.52941\t0.98824\t0.25882\t0.0\t0.0\t0.0\t0.0\t0.0\n",
      "0.0\t0.0\t0.0\t0.0\t0.0\t0.0\t0.0\t0.0\t0.0\t0.0\t0.01176\t0.53725\t0.98824\t0.12941\t0.0\t0.0\t0.0\t0.0\t0.0\t0.07843\t0.92549\t0.98824\t0.25882\t0.0\t0.0\t0.0\t0.0\t0.0\n",
      "0.0\t0.0\t0.0\t0.0\t0.0\t0.0\t0.0\t0.0\t0.0\t0.0\t0.38431\t0.98824\t0.75294\t0.02745\t0.0\t0.0\t0.0\t0.0\t0.0\t0.49804\t0.98824\t0.98824\t0.25882\t0.0\t0.0\t0.0\t0.0\t0.0\n",
      "0.0\t0.0\t0.0\t0.0\t0.0\t0.0\t0.0\t0.0\t0.0\t0.0\t0.47843\t0.98824\t0.83137\t0.06275\t0.0\t0.0\t0.0\t0.02353\t0.42353\t0.97255\t0.98824\t0.79608\t0.02353\t0.0\t0.0\t0.0\t0.0\t0.0\n",
      "0.0\t0.0\t0.0\t0.0\t0.0\t0.0\t0.0\t0.0\t0.0\t0.0\t0.47843\t0.98824\t0.98824\t0.20392\t0.0\t0.04706\t0.3451\t0.80784\t0.98824\t0.98824\t0.87059\t0.0\t0.0\t0.0\t0.0\t0.0\t0.0\t0.0\n",
      "0.0\t0.0\t0.0\t0.0\t0.0\t0.0\t0.0\t0.0\t0.0\t0.0\t0.3451\t0.98824\t0.98824\t0.87843\t0.73725\t0.8\t0.98824\t0.98824\t0.98824\t0.6\t0.13333\t0.0\t0.0\t0.0\t0.0\t0.0\t0.0\t0.0\n",
      "0.0\t0.0\t0.0\t0.0\t0.0\t0.0\t0.0\t0.0\t0.0\t0.0\t0.00784\t0.46667\t0.98824\t0.98824\t0.99216\t0.98824\t0.98824\t0.76078\t0.27843\t0.02745\t0.0\t0.0\t0.0\t0.0\t0.0\t0.0\t0.0\t0.0\n",
      "0.0\t0.0\t0.0\t0.0\t0.0\t0.0\t0.0\t0.0\t0.0\t0.0\t0.0\t0.0\t0.0\t0.0\t0.0\t0.0\t0.0\t0.0\t0.0\t0.0\t0.0\t0.0\t0.0\t0.0\t0.0\t0.0\t0.0\t0.0\n",
      "0.0\t0.0\t0.0\t0.0\t0.0\t0.0\t0.0\t0.0\t0.0\t0.0\t0.0\t0.0\t0.0\t0.0\t0.0\t0.0\t0.0\t0.0\t0.0\t0.0\t0.0\t0.0\t0.0\t0.0\t0.0\t0.0\t0.0\t0.0\n",
      "0.0\t0.0\t0.0\t0.0\t0.0\t0.0\t0.0\t0.0\t0.0\t0.0\t0.0\t0.0\t0.0\t0.0\t0.0\t0.0\t0.0\t0.0\t0.0\t0.0\t0.0\t0.0\t0.0\t0.0\t0.0\t0.0\t0.0\t0.0\n",
      "\n",
      "*********************************************************************************\n",
      "\n",
      "output shape:(28, 28)\n",
      "\n",
      "*********************************************************************************\n",
      "\n",
      "0 0 0 0 0 0 0 0 0 0 0 0 0 0 0 0 0 0 0 0 0 0 0 0 0 0 0 0\n",
      "0 0 0 0 0 0 0 0 0 0 0 0 0 0 0 0 0 0 0 0 0 0 0 0 0 0 0 0\n",
      "0 0 0 0 0 0 0 0 0 0 0 0 0 0 0 0 0 0 0 0 0 0 0 0 0 0 0 0\n",
      "0 0 0 0 0 0 0 0 0 0 0 0 0 0 0 0 0 0 0 0 0 0 0 0 0 0 0 0\n",
      "0 0 0 0 0 0 0 0 0 0 0 0 0 0 0 0 0 0 0 0 0 0 0 0 0 0 0 0\n",
      "0 0 0 0 0 0 0 0 0 0 1 1 1 1 1 1 0 0 0 0 0 0 0 0 0 0 0 0\n",
      "0 0 0 0 0 0 1 1 1 1 1 1 1 1 1 1 1 0 0 0 0 0 0 0 0 0 0 0\n",
      "0 0 0 0 0 0 1 1 1 1 1 0 0 0 1 1 1 0 0 0 0 0 0 0 0 0 0 0\n",
      "0 0 0 0 0 0 0 0 0 0 0 0 0 1 1 1 0 0 0 0 0 0 0 0 0 0 0 0\n",
      "0 0 0 0 0 0 0 0 0 0 0 0 1 1 1 0 0 0 0 0 0 0 0 0 0 0 0 0\n",
      "0 0 0 0 0 0 0 0 0 0 0 1 1 1 0 0 0 0 0 0 0 0 0 0 0 0 0 0\n",
      "0 0 0 0 0 0 0 0 0 0 1 1 1 1 0 0 0 0 0 0 0 0 0 0 0 0 0 0\n",
      "0 0 0 0 0 0 0 0 0 0 1 1 1 1 1 1 0 0 0 0 0 0 0 0 0 0 0 0\n",
      "0 0 0 0 0 0 0 0 0 0 0 1 1 1 1 1 1 1 0 0 0 0 0 0 0 0 0 0\n",
      "0 0 0 0 0 0 0 0 0 0 0 0 0 0 0 0 1 1 1 1 0 0 0 0 0 0 0 0\n",
      "0 0 0 0 0 0 0 0 0 0 0 0 0 0 0 0 0 0 1 1 1 0 0 0 0 0 0 0\n",
      "0 0 0 0 0 0 0 0 0 0 0 0 0 0 0 0 0 0 0 1 1 1 0 0 0 0 0 0\n",
      "0 0 0 0 0 0 0 0 0 0 0 0 0 0 0 0 0 0 0 0 1 1 0 0 0 0 0 0\n",
      "0 0 0 0 0 0 0 0 0 0 0 0 1 0 0 0 0 0 0 0 1 1 0 0 0 0 0 0\n",
      "0 0 0 0 0 0 0 0 0 0 0 1 1 0 0 0 0 0 0 0 1 1 0 0 0 0 0 0\n",
      "0 0 0 0 0 0 0 0 0 0 0 1 1 0 0 0 0 0 0 0 1 1 0 0 0 0 0 0\n",
      "0 0 0 0 0 0 0 0 0 0 0 1 1 0 0 0 0 0 0 1 1 1 0 0 0 0 0 0\n",
      "0 0 0 0 0 0 0 0 0 0 0 1 1 0 0 0 0 1 1 1 1 0 0 0 0 0 0 0\n",
      "0 0 0 0 0 0 0 0 0 0 0 1 1 1 1 1 1 1 1 1 0 0 0 0 0 0 0 0\n",
      "0 0 0 0 0 0 0 0 0 0 0 0 1 1 1 1 1 1 0 0 0 0 0 0 0 0 0 0\n",
      "0 0 0 0 0 0 0 0 0 0 0 0 0 0 0 0 0 0 0 0 0 0 0 0 0 0 0 0\n",
      "0 0 0 0 0 0 0 0 0 0 0 0 0 0 0 0 0 0 0 0 0 0 0 0 0 0 0 0\n",
      "0 0 0 0 0 0 0 0 0 0 0 0 0 0 0 0 0 0 0 0 0 0 0 0 0 0 0 0\n",
      "\n",
      "*********************************************************************************\n",
      "\n"
     ]
    },
    {
     "data": {
      "image/png": "[encoded data removed]",
      "text/plain": [
       "<matplotlib.figure.Figure at 0x26a98faacc0>"
      ]
     },
     "metadata": {},
     "output_type": "display_data"
    }
   ],
   "source": [
    "print (\"第1張圖的 shape : \" + str(x_image.shape))\n",
    "px1 = sess.run(x_image, feed_dict={xs: batch_xs, ys: batch_ys, keep_prob: 0.5})\n",
    "plt.imshow(reshape_pic(px1,28,1,0), cmap='Greys')  \n",
    "\n",
    "print_pic_prec(reshape_pic(px1,28,1,0),5)\n",
    "print_pic_int(reshape_pic(px1,28,1,0))"
   ]
  },
  {
   "cell_type": "markdown",
   "metadata": {},
   "source": [
    "# 印出結果---conv 1層"
   ]
  },
  {
   "cell_type": "code",
   "execution_count": 30,
   "metadata": {},
   "outputs": [
    {
     "name": "stdout",
     "output_type": "stream",
     "text": [
      "conv1 shape : (?, 28, 28, 6)\n",
      "output shape:(168, 28)\n",
      "output shape:(168, 28)\n",
      "test printing by num:\n",
      "\n",
      "*********************************************************************************\n",
      "\n",
      "0.1\t0.1\t0.1\t0.1\t0.1\t0.1\t0.1\t0.1\t0.1\t0.1\t0.1\t0.1\t0.1\t0.1\t0.1\t0.1\t0.1\t0.1\t0.1\t0.1\t0.1\t0.1\t0.1\t0.1\t0.1\t0.1\t0.1\t0.1\n",
      "0.1\t0.1\t0.1\t0.1\t0.1\t0.1\t0.1\t0.1\t0.1\t0.1\t0.1\t0.1\t0.1\t0.1\t0.1\t0.1\t0.1\t0.1\t0.1\t0.1\t0.1\t0.1\t0.1\t0.1\t0.1\t0.1\t0.1\t0.1\n",
      "0.1\t0.1\t0.1\t0.1\t0.1\t0.1\t0.1\t0.1\t0.1\t0.1\t0.1\t0.1\t0.1\t0.1\t0.1\t0.1\t0.1\t0.1\t0.1\t0.1\t0.1\t0.1\t0.1\t0.1\t0.1\t0.1\t0.1\t0.1\n",
      "0.1\t0.1\t0.1\t0.1\t0.1\t0.097\t0.099\t0.094\t0.094\t0.097\t0.101\t0.115\t0.121\t0.131\t0.15\t0.136\t0.134\t0.126\t0.1\t0.1\t0.1\t0.1\t0.1\t0.1\t0.1\t0.1\t0.1\t0.1\n",
      "0.1\t0.1\t0.1\t0.097\t0.082\t0.108\t0.099\t0.129\t0.157\t0.16\t0.139\t0.108\t0.067\t0.042\t0.0\t0.0\t0.0\t0.043\t0.026\t0.099\t0.1\t0.1\t0.1\t0.1\t0.1\t0.1\t0.1\t0.1\n",
      "0.1\t0.1\t0.1\t0.089\t0.146\t0.149\t0.092\t0.144\t0.058\t0.09\t0.112\t0.21\t0.224\t0.321\t0.362\t0.303\t0.174\t0.224\t0.0\t0.094\t0.1\t0.1\t0.1\t0.1\t0.1\t0.1\t0.1\t0.1\n",
      "0.1\t0.1\t0.1\t0.128\t0.11\t0.108\t0.174\t0.248\t0.201\t0.248\t0.231\t0.279\t0.377\t0.492\t0.431\t0.566\t0.36\t0.402\t0.134\t0.103\t0.1\t0.1\t0.1\t0.1\t0.1\t0.1\t0.1\t0.1\n",
      "0.1\t0.1\t0.1\t0.046\t0.053\t0.15\t0.145\t0.282\t0.372\t0.419\t0.38\t0.416\t0.23\t0.326\t0.315\t0.494\t0.304\t0.227\t0.162\t0.105\t0.1\t0.1\t0.1\t0.1\t0.1\t0.1\t0.1\t0.1\n",
      "0.1\t0.1\t0.1\t0.068\t0.039\t0.008\t0.014\t0.19\t0.177\t0.195\t0.249\t0.221\t0.165\t0.208\t0.189\t0.367\t0.344\t0.305\t0.083\t0.096\t0.1\t0.1\t0.1\t0.1\t0.1\t0.1\t0.1\t0.1\n",
      "0.1\t0.1\t0.1\t0.068\t0.043\t0.096\t0.168\t0.145\t0.148\t0.231\t0.055\t0.106\t0.041\t0.157\t0.372\t0.407\t0.325\t0.185\t0.056\t0.099\t0.1\t0.1\t0.1\t0.1\t0.1\t0.1\t0.1\t0.1\n",
      "0.1\t0.1\t0.1\t0.099\t0.098\t0.1\t0.102\t0.117\t0.126\t0.089\t0.066\t0.165\t0.149\t0.308\t0.438\t0.384\t0.267\t0.058\t0.054\t0.1\t0.1\t0.1\t0.1\t0.1\t0.1\t0.1\t0.1\t0.1\n",
      "0.1\t0.1\t0.1\t0.1\t0.1\t0.1\t0.1\t0.087\t0.092\t0.154\t0.12\t0.261\t0.433\t0.429\t0.356\t0.166\t0.0\t0.02\t0.076\t0.102\t0.111\t0.1\t0.1\t0.1\t0.1\t0.1\t0.1\t0.1\n",
      "0.1\t0.1\t0.1\t0.1\t0.1\t0.1\t0.1\t0.049\t0.0\t0.13\t0.125\t0.413\t0.655\t0.511\t0.497\t0.256\t0.15\t0.083\t0.06\t0.024\t0.079\t0.093\t0.1\t0.1\t0.1\t0.1\t0.1\t0.1\n",
      "0.1\t0.1\t0.1\t0.1\t0.1\t0.1\t0.1\t0.061\t0.0\t0.01\t0.118\t0.261\t0.426\t0.461\t0.434\t0.445\t0.551\t0.451\t0.306\t0.118\t0.066\t0.052\t0.042\t0.1\t0.1\t0.1\t0.1\t0.1\n",
      "0.1\t0.1\t0.1\t0.1\t0.1\t0.1\t0.1\t0.08\t0.018\t0.045\t0.146\t0.103\t0.085\t0.104\t0.159\t0.28\t0.381\t0.369\t0.504\t0.44\t0.259\t0.192\t0.049\t0.064\t0.1\t0.1\t0.1\t0.1\n",
      "0.1\t0.1\t0.1\t0.1\t0.1\t0.1\t0.1\t0.1\t0.082\t0.053\t0.083\t0.131\t0.146\t0.084\t0.121\t0.027\t0.076\t0.228\t0.334\t0.476\t0.402\t0.322\t0.235\t0.002\t0.07\t0.1\t0.1\t0.1\n",
      "0.1\t0.1\t0.1\t0.1\t0.1\t0.1\t0.1\t0.1\t0.1\t0.097\t0.087\t0.116\t0.075\t0.109\t0.081\t0.053\t0.096\t0.079\t0.162\t0.346\t0.393\t0.338\t0.359\t0.116\t0.071\t0.1\t0.1\t0.1\n",
      "0.1\t0.1\t0.1\t0.1\t0.1\t0.1\t0.1\t0.1\t0.1\t0.089\t0.137\t0.121\t0.025\t0.183\t0.03\t0.057\t0.025\t0.029\t0.096\t0.309\t0.314\t0.293\t0.388\t0.186\t0.101\t0.1\t0.1\t0.1\n",
      "0.1\t0.1\t0.1\t0.1\t0.1\t0.1\t0.1\t0.1\t0.087\t0.119\t0.148\t0.136\t0.083\t0.233\t0.002\t0.084\t0.086\t0.026\t0.024\t0.166\t0.271\t0.283\t0.366\t0.122\t0.086\t0.1\t0.1\t0.1\n",
      "0.1\t0.1\t0.1\t0.1\t0.1\t0.1\t0.1\t0.1\t0.112\t0.108\t0.067\t0.226\t0.144\t0.275\t0.148\t0.113\t0.086\t0.105\t0.0\t0.101\t0.374\t0.319\t0.346\t0.109\t0.076\t0.1\t0.1\t0.1\n",
      "0.1\t0.1\t0.1\t0.1\t0.1\t0.1\t0.1\t0.1\t0.077\t0.089\t0.139\t0.272\t0.209\t0.385\t0.104\t0.09\t0.132\t0.117\t0.034\t0.135\t0.248\t0.346\t0.432\t0.114\t0.114\t0.1\t0.1\t0.1\n",
      "0.1\t0.1\t0.1\t0.1\t0.1\t0.1\t0.1\t0.1\t0.049\t0.066\t0.122\t0.262\t0.397\t0.444\t0.063\t0.138\t0.112\t0.067\t0.087\t0.046\t0.337\t0.48\t0.281\t0.192\t0.1\t0.1\t0.1\t0.1\n",
      "0.1\t0.1\t0.1\t0.1\t0.1\t0.1\t0.1\t0.1\t0.019\t0.041\t0.151\t0.414\t0.451\t0.334\t0.124\t0.029\t0.072\t0.1\t0.097\t0.276\t0.402\t0.42\t0.287\t0.097\t0.067\t0.1\t0.1\t0.1\n",
      "0.1\t0.1\t0.1\t0.1\t0.1\t0.1\t0.1\t0.1\t0.0\t0.0\t0.198\t0.375\t0.475\t0.451\t0.258\t0.222\t0.127\t0.151\t0.277\t0.438\t0.427\t0.369\t0.176\t0.0\t0.097\t0.1\t0.1\t0.1\n",
      "0.1\t0.1\t0.1\t0.1\t0.1\t0.1\t0.1\t0.1\t0.046\t0.0\t0.022\t0.224\t0.376\t0.419\t0.341\t0.416\t0.446\t0.494\t0.459\t0.393\t0.315\t0.14\t0.0\t0.1\t0.1\t0.1\t0.1\t0.1\n",
      "0.1\t0.1\t0.1\t0.1\t0.1\t0.1\t0.1\t0.1\t0.075\t0.006\t0.047\t0.138\t0.112\t0.081\t0.111\t0.133\t0.192\t0.24\t0.284\t0.237\t0.077\t0.033\t0.081\t0.1\t0.1\t0.1\t0.1\t0.1\n",
      "0.1\t0.1\t0.1\t0.1\t0.1\t0.1\t0.1\t0.1\t0.099\t0.067\t0.034\t0.087\t0.19\t0.181\t0.108\t0.124\t0.155\t0.146\t0.071\t0.025\t0.064\t0.096\t0.1\t0.1\t0.1\t0.1\t0.1\t0.1\n",
      "0.1\t0.1\t0.1\t0.1\t0.1\t0.1\t0.1\t0.1\t0.1\t0.1\t0.1\t0.1\t0.1\t0.1\t0.1\t0.1\t0.1\t0.1\t0.1\t0.1\t0.1\t0.1\t0.1\t0.1\t0.1\t0.1\t0.1\t0.1\n",
      "\n",
      "*********************************************************************************\n",
      "\n",
      "0.1\t0.1\t0.1\t0.1\t0.1\t0.1\t0.1\t0.1\t0.1\t0.1\t0.1\t0.1\t0.1\t0.1\t0.1\t0.1\t0.1\t0.1\t0.1\t0.1\t0.1\t0.1\t0.1\t0.1\t0.1\t0.1\t0.1\t0.1\n",
      "0.1\t0.1\t0.1\t0.1\t0.1\t0.1\t0.1\t0.1\t0.1\t0.1\t0.1\t0.1\t0.1\t0.1\t0.1\t0.1\t0.1\t0.1\t0.1\t0.1\t0.1\t0.1\t0.1\t0.1\t0.1\t0.1\t0.1\t0.1\n",
      "0.1\t0.1\t0.1\t0.1\t0.1\t0.1\t0.1\t0.1\t0.1\t0.1\t0.1\t0.1\t0.1\t0.1\t0.1\t0.1\t0.1\t0.1\t0.1\t0.1\t0.1\t0.1\t0.1\t0.1\t0.1\t0.1\t0.1\t0.1\n",
      "0.1\t0.1\t0.1\t0.1\t0.1\t0.109\t0.117\t0.14\t0.187\t0.239\t0.295\t0.349\t0.409\t0.446\t0.389\t0.335\t0.31\t0.227\t0.136\t0.101\t0.1\t0.1\t0.1\t0.1\t0.1\t0.1\t0.1\t0.1\n",
      "0.1\t0.1\t0.1\t0.109\t0.182\t0.21\t0.262\t0.335\t0.397\t0.416\t0.397\t0.363\t0.353\t0.356\t0.366\t0.254\t0.298\t0.321\t0.221\t0.104\t0.1\t0.1\t0.1\t0.1\t0.1\t0.1\t0.1\t0.1\n",
      "0.1\t0.1\t0.1\t0.161\t0.21\t0.208\t0.278\t0.273\t0.322\t0.328\t0.378\t0.369\t0.465\t0.46\t0.447\t0.392\t0.449\t0.342\t0.269\t0.105\t0.1\t0.1\t0.1\t0.1\t0.1\t0.1\t0.1\t0.1\n",
      "0.1\t0.1\t0.1\t0.11\t0.129\t0.13\t0.102\t0.151\t0.224\t0.221\t0.312\t0.429\t0.499\t0.461\t0.503\t0.427\t0.446\t0.357\t0.217\t0.103\t0.1\t0.1\t0.1\t0.1\t0.1\t0.1\t0.1\t0.1\n",
      "0.1\t0.1\t0.1\t0.112\t0.08\t0.095\t0.161\t0.28\t0.259\t0.29\t0.388\t0.431\t0.495\t0.512\t0.566\t0.715\t0.586\t0.47\t0.141\t0.098\t0.1\t0.1\t0.1\t0.1\t0.1\t0.1\t0.1\t0.1\n",
      "0.1\t0.1\t0.1\t0.027\t0.0\t0.04\t0.071\t0.199\t0.32\t0.499\t0.491\t0.544\t0.388\t0.483\t0.616\t0.841\t0.569\t0.433\t0.169\t0.103\t0.1\t0.1\t0.1\t0.1\t0.1\t0.1\t0.1\t0.1\n",
      "0.1\t0.1\t0.1\t0.046\t0.076\t0.133\t0.156\t0.348\t0.477\t0.517\t0.508\t0.436\t0.217\t0.472\t0.563\t0.688\t0.428\t0.258\t0.135\t0.101\t0.1\t0.1\t0.1\t0.1\t0.1\t0.1\t0.1\t0.1\n",
      "0.1\t0.1\t0.1\t0.099\t0.099\t0.102\t0.1\t0.15\t0.252\t0.236\t0.176\t0.27\t0.514\t0.725\t0.814\t0.71\t0.446\t0.33\t0.178\t0.107\t0.1\t0.1\t0.1\t0.1\t0.1\t0.1\t0.1\t0.1\n",
      "0.1\t0.1\t0.1\t0.1\t0.1\t0.1\t0.1\t0.118\t0.15\t0.122\t0.096\t0.344\t0.636\t0.776\t0.73\t0.573\t0.493\t0.388\t0.321\t0.234\t0.156\t0.115\t0.1\t0.1\t0.1\t0.1\t0.1\t0.1\n",
      "0.1\t0.1\t0.1\t0.1\t0.1\t0.1\t0.1\t0.068\t0.003\t0.069\t0.191\t0.396\t0.611\t0.6\t0.554\t0.47\t0.407\t0.411\t0.373\t0.354\t0.322\t0.239\t0.134\t0.1\t0.1\t0.1\t0.1\t0.1\n",
      "0.1\t0.1\t0.1\t0.1\t0.1\t0.1\t0.1\t0.022\t0.0\t0.105\t0.183\t0.438\t0.525\t0.515\t0.509\t0.492\t0.381\t0.342\t0.357\t0.349\t0.35\t0.345\t0.246\t0.121\t0.1\t0.1\t0.1\t0.1\n",
      "0.1\t0.1\t0.1\t0.1\t0.1\t0.1\t0.1\t0.067\t0.0\t0.058\t0.106\t0.219\t0.323\t0.337\t0.392\t0.44\t0.475\t0.508\t0.427\t0.327\t0.348\t0.378\t0.374\t0.216\t0.114\t0.1\t0.1\t0.1\n",
      "0.1\t0.1\t0.1\t0.1\t0.1\t0.1\t0.1\t0.1\t0.07\t0.063\t0.129\t0.105\t0.235\t0.234\t0.256\t0.296\t0.416\t0.448\t0.621\t0.546\t0.339\t0.345\t0.327\t0.287\t0.136\t0.1\t0.1\t0.1\n",
      "0.1\t0.1\t0.1\t0.1\t0.1\t0.1\t0.1\t0.1\t0.1\t0.113\t0.168\t0.094\t0.142\t0.136\t0.147\t0.063\t0.104\t0.234\t0.51\t0.671\t0.467\t0.416\t0.386\t0.322\t0.155\t0.1\t0.1\t0.1\n",
      "0.1\t0.1\t0.1\t0.1\t0.1\t0.1\t0.1\t0.1\t0.102\t0.173\t0.228\t0.113\t0.183\t0.202\t0.229\t0.063\t0.038\t0.059\t0.278\t0.54\t0.56\t0.567\t0.531\t0.32\t0.144\t0.1\t0.1\t0.1\n",
      "0.1\t0.1\t0.1\t0.1\t0.1\t0.1\t0.1\t0.1\t0.152\t0.238\t0.229\t0.167\t0.201\t0.255\t0.278\t0.118\t0.077\t0.085\t0.136\t0.275\t0.499\t0.537\t0.639\t0.413\t0.155\t0.1\t0.1\t0.1\n",
      "0.1\t0.1\t0.1\t0.1\t0.1\t0.1\t0.1\t0.1\t0.169\t0.235\t0.19\t0.188\t0.277\t0.462\t0.276\t0.113\t0.157\t0.211\t0.134\t0.281\t0.406\t0.584\t0.677\t0.389\t0.145\t0.1\t0.1\t0.1\n",
      "0.1\t0.1\t0.1\t0.1\t0.1\t0.1\t0.1\t0.1\t0.186\t0.199\t0.141\t0.318\t0.409\t0.567\t0.35\t0.225\t0.25\t0.312\t0.214\t0.199\t0.478\t0.571\t0.536\t0.336\t0.122\t0.1\t0.1\t0.1\n",
      "0.1\t0.1\t0.1\t0.1\t0.1\t0.1\t0.1\t0.1\t0.118\t0.114\t0.221\t0.502\t0.55\t0.729\t0.617\t0.44\t0.402\t0.29\t0.125\t0.316\t0.579\t0.55\t0.573\t0.225\t0.104\t0.1\t0.1\t0.1\n",
      "0.1\t0.1\t0.1\t0.1\t0.1\t0.1\t0.1\t0.1\t0.014\t0.07\t0.302\t0.508\t0.562\t0.72\t0.52\t0.433\t0.321\t0.2\t0.305\t0.384\t0.603\t0.514\t0.384\t0.165\t0.124\t0.1\t0.1\t0.1\n",
      "0.1\t0.1\t0.1\t0.1\t0.1\t0.1\t0.1\t0.1\t0.0\t0.023\t0.17\t0.448\t0.449\t0.444\t0.257\t0.156\t0.136\t0.202\t0.338\t0.508\t0.541\t0.365\t0.24\t0.182\t0.102\t0.1\t0.1\t0.1\n",
      "0.1\t0.1\t0.1\t0.1\t0.1\t0.1\t0.1\t0.1\t0.0\t0.0\t0.128\t0.352\t0.464\t0.513\t0.384\t0.271\t0.288\t0.378\t0.46\t0.529\t0.299\t0.28\t0.174\t0.1\t0.1\t0.1\t0.1\t0.1\n",
      "0.1\t0.1\t0.1\t0.1\t0.1\t0.1\t0.1\t0.1\t0.059\t0.0\t0.028\t0.101\t0.263\t0.306\t0.237\t0.27\t0.314\t0.4\t0.376\t0.299\t0.255\t0.176\t0.113\t0.1\t0.1\t0.1\t0.1\t0.1\n",
      "0.1\t0.1\t0.1\t0.1\t0.1\t0.1\t0.1\t0.1\t0.099\t0.047\t0.064\t0.14\t0.189\t0.308\t0.359\t0.386\t0.404\t0.358\t0.301\t0.213\t0.131\t0.103\t0.1\t0.1\t0.1\t0.1\t0.1\t0.1\n",
      "0.1\t0.1\t0.1\t0.1\t0.1\t0.1\t0.1\t0.1\t0.1\t0.1\t0.1\t0.1\t0.1\t0.1\t0.1\t0.1\t0.1\t0.1\t0.1\t0.1\t0.1\t0.1\t0.1\t0.1\t0.1\t0.1\t0.1\t0.1\n",
      "\n",
      "*********************************************************************************\n",
      "\n",
      "0.1\t0.1\t0.1\t0.1\t0.1\t0.1\t0.1\t0.1\t0.1\t0.1\t0.1\t0.1\t0.1\t0.1\t0.1\t0.1\t0.1\t0.1\t0.1\t0.1\t0.1\t0.1\t0.1\t0.1\t0.1\t0.1\t0.1\t0.1\n",
      "0.1\t0.1\t0.1\t0.1\t0.1\t0.1\t0.1\t0.1\t0.1\t0.1\t0.1\t0.1\t0.1\t0.1\t0.1\t0.1\t0.1\t0.1\t0.1\t0.1\t0.1\t0.1\t0.1\t0.1\t0.1\t0.1\t0.1\t0.1\n",
      "0.1\t0.1\t0.1\t0.1\t0.1\t0.1\t0.1\t0.1\t0.1\t0.1\t0.1\t0.1\t0.1\t0.1\t0.1\t0.1\t0.1\t0.1\t0.1\t0.1\t0.1\t0.1\t0.1\t0.1\t0.1\t0.1\t0.1\t0.1\n",
      "0.1\t0.1\t0.1\t0.1\t0.1\t0.097\t0.09\t0.078\t0.055\t0.032\t0.011\t0.011\t0.036\t0.062\t0.105\t0.157\t0.191\t0.2\t0.148\t0.101\t0.1\t0.1\t0.1\t0.1\t0.1\t0.1\t0.1\t0.1\n",
      "0.1\t0.1\t0.1\t0.097\t0.067\t0.022\t0.0\t0.0\t0.052\t0.091\t0.149\t0.196\t0.227\t0.227\t0.236\t0.3\t0.271\t0.194\t0.197\t0.104\t0.1\t0.1\t0.1\t0.1\t0.1\t0.1\t0.1\t0.1\n",
      "0.1\t0.1\t0.1\t0.077\t0.023\t0.0\t0.074\t0.17\t0.262\t0.297\t0.349\t0.339\t0.269\t0.165\t0.131\t0.197\t0.345\t0.155\t0.133\t0.1\t0.1\t0.1\t0.1\t0.1\t0.1\t0.1\t0.1\t0.1\n",
      "0.1\t0.1\t0.1\t0.096\t0.104\t0.17\t0.275\t0.288\t0.339\t0.34\t0.297\t0.178\t0.104\t0.048\t0.17\t0.212\t0.278\t0.074\t0.038\t0.097\t0.1\t0.1\t0.1\t0.1\t0.1\t0.1\t0.1\t0.1\n",
      "0.1\t0.1\t0.1\t0.135\t0.194\t0.212\t0.28\t0.258\t0.241\t0.237\t0.202\t0.162\t0.293\t0.456\t0.644\t0.517\t0.445\t0.19\t0.051\t0.098\t0.1\t0.1\t0.1\t0.1\t0.1\t0.1\t0.1\t0.1\n",
      "0.1\t0.1\t0.1\t0.166\t0.255\t0.25\t0.321\t0.307\t0.335\t0.294\t0.259\t0.274\t0.586\t0.739\t0.743\t0.442\t0.273\t0.193\t0.178\t0.105\t0.1\t0.1\t0.1\t0.1\t0.1\t0.1\t0.1\t0.1\n",
      "0.1\t0.1\t0.1\t0.155\t0.18\t0.167\t0.228\t0.277\t0.252\t0.174\t0.293\t0.432\t0.668\t0.577\t0.353\t0.17\t0.227\t0.212\t0.172\t0.101\t0.1\t0.1\t0.1\t0.1\t0.1\t0.1\t0.1\t0.1\n",
      "0.1\t0.1\t0.1\t0.101\t0.103\t0.102\t0.105\t0.087\t0.038\t0.076\t0.283\t0.384\t0.437\t0.316\t0.147\t0.22\t0.319\t0.315\t0.2\t0.109\t0.1\t0.1\t0.1\t0.1\t0.1\t0.1\t0.1\t0.1\n",
      "0.1\t0.1\t0.1\t0.1\t0.1\t0.1\t0.1\t0.114\t0.144\t0.204\t0.413\t0.367\t0.229\t0.241\t0.313\t0.312\t0.335\t0.199\t0.177\t0.182\t0.146\t0.121\t0.1\t0.1\t0.1\t0.1\t0.1\t0.1\n",
      "0.1\t0.1\t0.1\t0.1\t0.1\t0.1\t0.1\t0.156\t0.284\t0.277\t0.371\t0.402\t0.237\t0.364\t0.321\t0.244\t0.146\t0.137\t0.137\t0.188\t0.189\t0.193\t0.147\t0.1\t0.1\t0.1\t0.1\t0.1\n",
      "0.1\t0.1\t0.1\t0.1\t0.1\t0.1\t0.1\t0.174\t0.326\t0.29\t0.339\t0.416\t0.382\t0.367\t0.304\t0.172\t0.059\t0.077\t0.066\t0.184\t0.225\t0.179\t0.195\t0.129\t0.1\t0.1\t0.1\t0.1\n",
      "0.1\t0.1\t0.1\t0.1\t0.1\t0.1\t0.1\t0.134\t0.234\t0.251\t0.271\t0.416\t0.499\t0.462\t0.449\t0.379\t0.288\t0.24\t0.153\t0.085\t0.158\t0.133\t0.164\t0.193\t0.119\t0.1\t0.1\t0.1\n",
      "0.1\t0.1\t0.1\t0.1\t0.1\t0.1\t0.1\t0.1\t0.13\t0.169\t0.154\t0.224\t0.278\t0.387\t0.431\t0.505\t0.47\t0.416\t0.308\t0.197\t0.207\t0.19\t0.135\t0.178\t0.125\t0.1\t0.1\t0.1\n",
      "0.1\t0.1\t0.1\t0.1\t0.1\t0.1\t0.1\t0.1\t0.1\t0.096\t0.07\t0.079\t0.099\t0.153\t0.228\t0.28\t0.341\t0.417\t0.395\t0.274\t0.357\t0.383\t0.15\t0.12\t0.114\t0.1\t0.1\t0.1\n",
      "0.1\t0.1\t0.1\t0.1\t0.1\t0.1\t0.1\t0.1\t0.099\t0.072\t0.011\t0.033\t0.173\t0.167\t0.197\t0.167\t0.215\t0.273\t0.298\t0.214\t0.322\t0.491\t0.319\t0.11\t0.095\t0.1\t0.1\t0.1\n",
      "0.1\t0.1\t0.1\t0.1\t0.1\t0.1\t0.1\t0.1\t0.082\t0.028\t0.0\t0.09\t0.336\t0.229\t0.141\t0.098\t0.123\t0.179\t0.235\t0.168\t0.237\t0.555\t0.397\t0.219\t0.116\t0.1\t0.1\t0.1\n",
      "0.1\t0.1\t0.1\t0.1\t0.1\t0.1\t0.1\t0.1\t0.072\t0.042\t0.117\t0.168\t0.343\t0.188\t0.083\t0.092\t0.079\t0.051\t0.181\t0.225\t0.268\t0.536\t0.413\t0.213\t0.104\t0.1\t0.1\t0.1\n",
      "0.1\t0.1\t0.1\t0.1\t0.1\t0.1\t0.1\t0.1\t0.093\t0.109\t0.203\t0.173\t0.352\t0.184\t0.138\t0.059\t0.0\t0.005\t0.26\t0.465\t0.382\t0.438\t0.259\t0.129\t0.104\t0.1\t0.1\t0.1\n",
      "0.1\t0.1\t0.1\t0.1\t0.1\t0.1\t0.1\t0.1\t0.153\t0.203\t0.208\t0.148\t0.301\t0.178\t0.132\t0.073\t0.106\t0.295\t0.524\t0.558\t0.388\t0.234\t0.209\t0.148\t0.117\t0.1\t0.1\t0.1\n",
      "0.1\t0.1\t0.1\t0.1\t0.1\t0.1\t0.1\t0.1\t0.227\t0.282\t0.198\t0.172\t0.3\t0.259\t0.194\t0.218\t0.352\t0.527\t0.578\t0.422\t0.17\t0.156\t0.205\t0.202\t0.137\t0.1\t0.1\t0.1\n",
      "0.1\t0.1\t0.1\t0.1\t0.1\t0.1\t0.1\t0.1\t0.237\t0.325\t0.246\t0.234\t0.429\t0.406\t0.338\t0.327\t0.425\t0.429\t0.294\t0.121\t0.13\t0.231\t0.22\t0.222\t0.104\t0.1\t0.1\t0.1\n",
      "0.1\t0.1\t0.1\t0.1\t0.1\t0.1\t0.1\t0.1\t0.2\t0.329\t0.299\t0.255\t0.378\t0.387\t0.354\t0.249\t0.232\t0.211\t0.202\t0.177\t0.251\t0.256\t0.221\t0.1\t0.1\t0.1\t0.1\t0.1\n",
      "0.1\t0.1\t0.1\t0.1\t0.1\t0.1\t0.1\t0.1\t0.142\t0.259\t0.281\t0.293\t0.4\t0.484\t0.452\t0.39\t0.326\t0.284\t0.263\t0.262\t0.267\t0.197\t0.12\t0.1\t0.1\t0.1\t0.1\t0.1\n",
      "0.1\t0.1\t0.1\t0.1\t0.1\t0.1\t0.1\t0.1\t0.101\t0.155\t0.195\t0.18\t0.22\t0.321\t0.4\t0.374\t0.328\t0.316\t0.301\t0.233\t0.144\t0.104\t0.1\t0.1\t0.1\t0.1\t0.1\t0.1\n",
      "0.1\t0.1\t0.1\t0.1\t0.1\t0.1\t0.1\t0.1\t0.1\t0.1\t0.1\t0.1\t0.1\t0.1\t0.1\t0.1\t0.1\t0.1\t0.1\t0.1\t0.1\t0.1\t0.1\t0.1\t0.1\t0.1\t0.1\t0.1\n",
      "\n",
      "*********************************************************************************\n",
      "\n",
      "0.1\t0.1\t0.1\t0.1\t0.1\t0.1\t0.1\t0.1\t0.1\t0.1\t0.1\t0.1\t0.1\t0.1\t0.1\t0.1\t0.1\t0.1\t0.1\t0.1\t0.1\t0.1\t0.1\t0.1\t0.1\t0.1\t0.1\t0.1\n",
      "0.1\t0.1\t0.1\t0.1\t0.1\t0.1\t0.1\t0.1\t0.1\t0.1\t0.1\t0.1\t0.1\t0.1\t0.1\t0.1\t0.1\t0.1\t0.1\t0.1\t0.1\t0.1\t0.1\t0.1\t0.1\t0.1\t0.1\t0.1\n",
      "0.1\t0.1\t0.1\t0.1\t0.1\t0.1\t0.1\t0.1\t0.1\t0.1\t0.1\t0.1\t0.1\t0.1\t0.1\t0.1\t0.1\t0.1\t0.1\t0.1\t0.1\t0.1\t0.1\t0.1\t0.1\t0.1\t0.1\t0.1\n",
      "0.1\t0.1\t0.1\t0.1\t0.1\t0.103\t0.108\t0.122\t0.15\t0.182\t0.227\t0.263\t0.273\t0.264\t0.228\t0.187\t0.128\t0.052\t0.059\t0.099\t0.1\t0.1\t0.1\t0.1\t0.1\t0.1\t0.1\t0.1\n",
      "0.1\t0.1\t0.1\t0.103\t0.127\t0.164\t0.225\t0.276\t0.248\t0.23\t0.194\t0.183\t0.186\t0.209\t0.234\t0.192\t0.197\t0.178\t0.051\t0.097\t0.1\t0.1\t0.1\t0.1\t0.1\t0.1\t0.1\t0.1\n",
      "0.1\t0.1\t0.1\t0.116\t0.139\t0.189\t0.204\t0.189\t0.188\t0.207\t0.174\t0.144\t0.145\t0.199\t0.236\t0.239\t0.04\t0.07\t0.07\t0.101\t0.1\t0.1\t0.1\t0.1\t0.1\t0.1\t0.1\t0.1\n",
      "0.1\t0.1\t0.1\t0.087\t0.09\t0.108\t0.074\t0.147\t0.098\t0.075\t0.07\t0.117\t0.109\t0.164\t0.077\t0.079\t0.019\t0.04\t0.0\t0.096\t0.1\t0.1\t0.1\t0.1\t0.1\t0.1\t0.1\t0.1\n",
      "0.1\t0.1\t0.1\t0.091\t0.136\t0.13\t0.088\t0.074\t0.0\t0.0\t0.0\t0.0\t0.0\t0.0\t0.0\t0.0\t0.0\t0.026\t0.0\t0.096\t0.1\t0.1\t0.1\t0.1\t0.1\t0.1\t0.1\t0.1\n",
      "0.1\t0.1\t0.1\t0.099\t0.04\t0.0\t0.0\t0.0\t0.0\t0.0\t0.0\t0.021\t0.0\t0.0\t0.0\t0.0\t0.0\t0.0\t0.0\t0.097\t0.1\t0.1\t0.1\t0.1\t0.1\t0.1\t0.1\t0.1\n",
      "0.1\t0.1\t0.1\t0.069\t0.059\t0.012\t0.0\t0.0\t0.0\t0.055\t0.121\t0.194\t0.055\t0.065\t0.0\t0.0\t0.0\t0.0\t0.032\t0.099\t0.1\t0.1\t0.1\t0.1\t0.1\t0.1\t0.1\t0.1\n",
      "0.1\t0.1\t0.1\t0.099\t0.099\t0.098\t0.095\t0.099\t0.123\t0.189\t0.223\t0.228\t0.164\t0.01\t0.046\t0.0\t0.0\t0.013\t0.043\t0.092\t0.1\t0.1\t0.1\t0.1\t0.1\t0.1\t0.1\t0.1\n",
      "0.1\t0.1\t0.1\t0.1\t0.1\t0.1\t0.1\t0.086\t0.113\t0.17\t0.032\t0.099\t0.0\t0.0\t0.011\t0.081\t0.178\t0.215\t0.159\t0.083\t0.077\t0.082\t0.1\t0.1\t0.1\t0.1\t0.1\t0.1\n",
      "0.1\t0.1\t0.1\t0.1\t0.1\t0.1\t0.1\t0.097\t0.072\t0.057\t0.0\t0.0\t0.0\t0.0\t0.022\t0.054\t0.157\t0.208\t0.244\t0.219\t0.16\t0.069\t0.06\t0.1\t0.1\t0.1\t0.1\t0.1\n",
      "0.1\t0.1\t0.1\t0.1\t0.1\t0.1\t0.1\t0.08\t0.03\t0.0\t0.0\t0.0\t0.0\t0.0\t0.0\t0.0\t0.052\t0.092\t0.182\t0.173\t0.174\t0.17\t0.071\t0.075\t0.1\t0.1\t0.1\t0.1\n",
      "0.1\t0.1\t0.1\t0.1\t0.1\t0.1\t0.1\t0.08\t0.046\t0.02\t0.0\t0.0\t0.0\t0.0\t0.0\t0.0\t0.0\t0.025\t0.056\t0.132\t0.151\t0.157\t0.135\t0.053\t0.084\t0.1\t0.1\t0.1\n",
      "0.1\t0.1\t0.1\t0.1\t0.1\t0.1\t0.1\t0.1\t0.082\t0.062\t0.044\t0.0\t0.0\t0.0\t0.0\t0.0\t0.0\t0.0\t0.023\t0.043\t0.073\t0.094\t0.068\t0.079\t0.091\t0.1\t0.1\t0.1\n",
      "0.1\t0.1\t0.1\t0.1\t0.1\t0.1\t0.1\t0.1\t0.1\t0.104\t0.125\t0.125\t0.142\t0.1\t0.012\t0.0\t0.0\t0.0\t0.0\t0.0\t0.025\t0.042\t0.071\t0.009\t0.078\t0.1\t0.1\t0.1\n",
      "0.1\t0.1\t0.1\t0.1\t0.1\t0.1\t0.1\t0.1\t0.1\t0.119\t0.153\t0.192\t0.159\t0.15\t0.063\t0.062\t0.054\t0.0\t0.0\t0.06\t0.043\t0.046\t0.008\t0.0\t0.06\t0.1\t0.1\t0.1\n",
      "0.1\t0.1\t0.1\t0.1\t0.1\t0.1\t0.1\t0.1\t0.115\t0.14\t0.192\t0.257\t0.094\t0.125\t0.062\t0.101\t0.086\t0.076\t0.056\t0.071\t0.072\t0.0\t0.07\t0.0\t0.043\t0.1\t0.1\t0.1\n",
      "0.1\t0.1\t0.1\t0.1\t0.1\t0.1\t0.1\t0.1\t0.108\t0.138\t0.217\t0.222\t0.137\t0.172\t0.0\t0.081\t0.118\t0.129\t0.141\t0.225\t0.06\t0.0\t0.02\t0.0\t0.058\t0.1\t0.1\t0.1\n",
      "0.1\t0.1\t0.1\t0.1\t0.1\t0.1\t0.1\t0.1\t0.098\t0.172\t0.203\t0.167\t0.054\t0.142\t0.0\t0.122\t0.193\t0.24\t0.244\t0.104\t0.053\t0.0\t0.0\t0.0\t0.043\t0.1\t0.1\t0.1\n",
      "0.1\t0.1\t0.1\t0.1\t0.1\t0.1\t0.1\t0.1\t0.093\t0.128\t0.118\t0.158\t0.081\t0.179\t0.093\t0.205\t0.208\t0.193\t0.124\t0.093\t0.0\t0.0\t0.004\t0.0\t0.064\t0.1\t0.1\t0.1\n",
      "0.1\t0.1\t0.1\t0.1\t0.1\t0.1\t0.1\t0.1\t0.059\t0.065\t0.061\t0.041\t0.093\t0.153\t0.055\t0.221\t0.231\t0.164\t0.03\t0.0\t0.0\t0.0\t0.0\t0.0\t0.08\t0.1\t0.1\t0.1\n",
      "0.1\t0.1\t0.1\t0.1\t0.1\t0.1\t0.1\t0.1\t0.063\t0.037\t0.01\t0.0\t0.0\t0.0\t0.0\t0.063\t0.029\t0.007\t0.0\t0.0\t0.0\t0.0\t0.0\t0.045\t0.098\t0.1\t0.1\t0.1\n",
      "0.1\t0.1\t0.1\t0.1\t0.1\t0.1\t0.1\t0.1\t0.069\t0.029\t0.0\t0.0\t0.0\t0.01\t0.0\t0.0\t0.0\t0.0\t0.0\t0.0\t0.0\t0.029\t0.031\t0.1\t0.1\t0.1\t0.1\t0.1\n",
      "0.1\t0.1\t0.1\t0.1\t0.1\t0.1\t0.1\t0.1\t0.076\t0.048\t0.002\t0.0\t0.0\t0.0\t0.0\t0.0\t0.0\t0.0\t0.0\t0.0\t0.017\t0.06\t0.091\t0.1\t0.1\t0.1\t0.1\t0.1\n",
      "0.1\t0.1\t0.1\t0.1\t0.1\t0.1\t0.1\t0.1\t0.099\t0.068\t0.049\t0.006\t0.0\t0.0\t0.0\t0.0\t0.0\t0.0\t0.017\t0.052\t0.081\t0.098\t0.1\t0.1\t0.1\t0.1\t0.1\t0.1\n",
      "0.1\t0.1\t0.1\t0.1\t0.1\t0.1\t0.1\t0.1\t0.1\t0.1\t0.1\t0.1\t0.1\t0.1\t0.1\t0.1\t0.1\t0.1\t0.1\t0.1\t0.1\t0.1\t0.1\t0.1\t0.1\t0.1\t0.1\t0.1\n",
      "\n",
      "*********************************************************************************\n",
      "\n",
      "0.1\t0.1\t0.1\t0.1\t0.1\t0.1\t0.1\t0.1\t0.1\t0.1\t0.1\t0.1\t0.1\t0.1\t0.1\t0.1\t0.1\t0.1\t0.1\t0.1\t0.1\t0.1\t0.1\t0.1\t0.1\t0.1\t0.1\t0.1\n",
      "0.1\t0.1\t0.1\t0.1\t0.1\t0.1\t0.1\t0.1\t0.1\t0.1\t0.1\t0.1\t0.1\t0.1\t0.1\t0.1\t0.1\t0.1\t0.1\t0.1\t0.1\t0.1\t0.1\t0.1\t0.1\t0.1\t0.1\t0.1\n",
      "0.1\t0.1\t0.1\t0.1\t0.1\t0.1\t0.1\t0.1\t0.1\t0.1\t0.1\t0.1\t0.1\t0.1\t0.1\t0.1\t0.1\t0.1\t0.1\t0.1\t0.1\t0.1\t0.1\t0.1\t0.1\t0.1\t0.1\t0.1\n",
      "0.1\t0.1\t0.1\t0.1\t0.1\t0.094\t0.088\t0.073\t0.059\t0.039\t0.04\t0.077\t0.105\t0.124\t0.162\t0.205\t0.22\t0.135\t0.077\t0.1\t0.1\t0.1\t0.1\t0.1\t0.1\t0.1\t0.1\t0.1\n",
      "0.1\t0.1\t0.1\t0.094\t0.045\t0.02\t0.005\t0.103\t0.11\t0.126\t0.125\t0.106\t0.059\t0.009\t0.001\t0.078\t0.015\t0.061\t0.0\t0.097\t0.1\t0.1\t0.1\t0.1\t0.1\t0.1\t0.1\t0.1\n",
      "0.1\t0.1\t0.1\t0.058\t0.014\t0.027\t0.13\t0.143\t0.053\t0.06\t0.0\t0.0\t0.0\t0.0\t0.0\t0.003\t0.058\t0.0\t0.0\t0.095\t0.1\t0.1\t0.1\t0.1\t0.1\t0.1\t0.1\t0.1\n",
      "0.1\t0.1\t0.1\t0.094\t0.133\t0.137\t0.038\t0.0\t0.0\t0.0\t0.0\t0.0\t0.0\t0.116\t0.37\t0.198\t0.022\t0.012\t0.084\t0.102\t0.1\t0.1\t0.1\t0.1\t0.1\t0.1\t0.1\t0.1\n",
      "0.1\t0.1\t0.1\t0.129\t0.089\t0.083\t0.101\t0.146\t0.182\t0.198\t0.248\t0.302\t0.427\t0.546\t0.361\t0.282\t0.018\t0.081\t0.168\t0.103\t0.1\t0.1\t0.1\t0.1\t0.1\t0.1\t0.1\t0.1\n",
      "0.1\t0.1\t0.1\t0.072\t0.15\t0.256\t0.281\t0.355\t0.372\t0.298\t0.215\t0.294\t0.368\t0.325\t0.218\t0.011\t0.106\t0.217\t0.201\t0.102\t0.1\t0.1\t0.1\t0.1\t0.1\t0.1\t0.1\t0.1\n",
      "0.1\t0.1\t0.1\t0.112\t0.126\t0.148\t0.165\t0.156\t0.108\t0.085\t0.187\t0.238\t0.165\t0.083\t0.114\t0.142\t0.269\t0.203\t0.149\t0.1\t0.1\t0.1\t0.1\t0.1\t0.1\t0.1\t0.1\t0.1\n",
      "0.1\t0.1\t0.1\t0.1\t0.101\t0.101\t0.102\t0.07\t0.029\t0.065\t0.027\t0.097\t0.0\t0.139\t0.192\t0.313\t0.277\t0.194\t0.11\t0.095\t0.1\t0.1\t0.1\t0.1\t0.1\t0.1\t0.1\t0.1\n",
      "0.1\t0.1\t0.1\t0.1\t0.1\t0.1\t0.1\t0.118\t0.084\t0.017\t0.087\t0.02\t0.14\t0.093\t0.18\t0.114\t0.063\t0.074\t0.132\t0.124\t0.114\t0.089\t0.1\t0.1\t0.1\t0.1\t0.1\t0.1\n",
      "0.1\t0.1\t0.1\t0.1\t0.1\t0.1\t0.1\t0.1\t0.144\t0.195\t0.182\t0.246\t0.205\t0.024\t0.0\t0.0\t0.0\t0.0\t0.037\t0.075\t0.135\t0.111\t0.076\t0.1\t0.1\t0.1\t0.1\t0.1\n",
      "0.1\t0.1\t0.1\t0.1\t0.1\t0.1\t0.1\t0.09\t0.138\t0.307\t0.286\t0.258\t0.291\t0.284\t0.212\t0.136\t0.0\t0.0\t0.0\t0.096\t0.049\t0.071\t0.047\t0.085\t0.1\t0.1\t0.1\t0.1\n",
      "0.1\t0.1\t0.1\t0.1\t0.1\t0.1\t0.1\t0.108\t0.112\t0.146\t0.268\t0.289\t0.375\t0.414\t0.393\t0.337\t0.242\t0.135\t0.014\t0.0\t0.062\t0.076\t0.099\t0.051\t0.09\t0.1\t0.1\t0.1\n",
      "0.1\t0.1\t0.1\t0.1\t0.1\t0.1\t0.1\t0.1\t0.107\t0.121\t0.132\t0.148\t0.18\t0.2\t0.24\t0.342\t0.384\t0.266\t0.166\t0.086\t0.072\t0.196\t0.097\t0.0\t0.065\t0.1\t0.1\t0.1\n",
      "0.1\t0.1\t0.1\t0.1\t0.1\t0.1\t0.1\t0.1\t0.1\t0.092\t0.054\t0.094\t0.106\t0.208\t0.112\t0.118\t0.204\t0.356\t0.268\t0.229\t0.141\t0.124\t0.136\t0.018\t0.067\t0.1\t0.1\t0.1\n",
      "0.1\t0.1\t0.1\t0.1\t0.1\t0.1\t0.1\t0.1\t0.099\t0.05\t0.003\t0.098\t0.212\t0.189\t0.003\t0.098\t0.116\t0.148\t0.207\t0.182\t0.231\t0.284\t0.187\t0.064\t0.08\t0.1\t0.1\t0.1\n",
      "0.1\t0.1\t0.1\t0.1\t0.1\t0.1\t0.1\t0.1\t0.065\t0.007\t0.047\t0.158\t0.2\t0.011\t0.0\t0.087\t0.106\t0.061\t0.049\t0.22\t0.365\t0.221\t0.116\t0.098\t0.093\t0.1\t0.1\t0.1\n",
      "0.1\t0.1\t0.1\t0.1\t0.1\t0.1\t0.1\t0.1\t0.05\t0.035\t0.064\t0.165\t0.028\t0.008\t0.06\t0.103\t0.062\t0.013\t0.051\t0.181\t0.33\t0.108\t0.086\t0.066\t0.109\t0.1\t0.1\t0.1\n",
      "0.1\t0.1\t0.1\t0.1\t0.1\t0.1\t0.1\t0.1\t0.075\t0.009\t0.013\t0.206\t0.134\t0.1\t0.067\t0.018\t0.001\t0.076\t0.164\t0.323\t0.188\t0.049\t0.0\t0.153\t0.138\t0.1\t0.1\t0.1\n",
      "0.1\t0.1\t0.1\t0.1\t0.1\t0.1\t0.1\t0.1\t0.069\t0.054\t0.143\t0.118\t0.091\t0.037\t0.088\t0.066\t0.155\t0.197\t0.139\t0.132\t0.071\t0.0\t0.144\t0.243\t0.126\t0.1\t0.1\t0.1\n",
      "0.1\t0.1\t0.1\t0.1\t0.1\t0.1\t0.1\t0.1\t0.106\t0.129\t0.161\t0.081\t0.0\t0.118\t0.126\t0.068\t0.023\t0.004\t0.071\t0.0\t0.11\t0.205\t0.242\t0.183\t0.114\t0.1\t0.1\t0.1\n",
      "0.1\t0.1\t0.1\t0.1\t0.1\t0.1\t0.1\t0.1\t0.107\t0.186\t0.214\t0.244\t0.145\t0.046\t0.0\t0.0\t0.0\t0.0\t0.026\t0.248\t0.243\t0.254\t0.193\t0.138\t0.101\t0.1\t0.1\t0.1\n",
      "0.1\t0.1\t0.1\t0.1\t0.1\t0.1\t0.1\t0.1\t0.091\t0.165\t0.318\t0.234\t0.173\t0.179\t0.21\t0.207\t0.205\t0.315\t0.389\t0.317\t0.248\t0.173\t0.148\t0.1\t0.1\t0.1\t0.1\t0.1\n",
      "0.1\t0.1\t0.1\t0.1\t0.1\t0.1\t0.1\t0.1\t0.109\t0.1\t0.17\t0.313\t0.347\t0.399\t0.423\t0.437\t0.426\t0.329\t0.253\t0.204\t0.163\t0.13\t0.106\t0.1\t0.1\t0.1\t0.1\t0.1\n",
      "0.1\t0.1\t0.1\t0.1\t0.1\t0.1\t0.1\t0.1\t0.1\t0.114\t0.131\t0.15\t0.169\t0.188\t0.214\t0.207\t0.192\t0.174\t0.155\t0.136\t0.113\t0.101\t0.1\t0.1\t0.1\t0.1\t0.1\t0.1\n",
      "0.1\t0.1\t0.1\t0.1\t0.1\t0.1\t0.1\t0.1\t0.1\t0.1\t0.1\t0.1\t0.1\t0.1\t0.1\t0.1\t0.1\t0.1\t0.1\t0.1\t0.1\t0.1\t0.1\t0.1\t0.1\t0.1\t0.1\t0.1\n",
      "\n",
      "*********************************************************************************\n",
      "\n",
      "0.1\t0.1\t0.1\t0.1\t0.1\t0.1\t0.1\t0.1\t0.1\t0.1\t0.1\t0.1\t0.1\t0.1\t0.1\t0.1\t0.1\t0.1\t0.1\t0.1\t0.1\t0.1\t0.1\t0.1\t0.1\t0.1\t0.1\t0.1\n",
      "0.1\t0.1\t0.1\t0.1\t0.1\t0.1\t0.1\t0.1\t0.1\t0.1\t0.1\t0.1\t0.1\t0.1\t0.1\t0.1\t0.1\t0.1\t0.1\t0.1\t0.1\t0.1\t0.1\t0.1\t0.1\t0.1\t0.1\t0.1\n",
      "0.1\t0.1\t0.1\t0.1\t0.1\t0.1\t0.1\t0.1\t0.1\t0.1\t0.1\t0.1\t0.1\t0.1\t0.1\t0.1\t0.1\t0.1\t0.1\t0.1\t0.1\t0.1\t0.1\t0.1\t0.1\t0.1\t0.1\t0.1\n",
      "0.1\t0.1\t0.1\t0.1\t0.1\t0.096\t0.099\t0.098\t0.083\t0.089\t0.085\t0.058\t0.017\t0.0\t0.029\t0.002\t0.0\t0.034\t0.111\t0.1\t0.1\t0.1\t0.1\t0.1\t0.1\t0.1\t0.1\t0.1\n",
      "0.1\t0.1\t0.1\t0.096\t0.069\t0.107\t0.115\t0.008\t0.0\t0.0\t0.0\t0.0\t0.0\t0.0\t0.0\t0.0\t0.0\t0.0\t0.077\t0.1\t0.1\t0.1\t0.1\t0.1\t0.1\t0.1\t0.1\t0.1\n",
      "0.1\t0.1\t0.1\t0.067\t0.047\t0.037\t0.0\t0.0\t0.0\t0.0\t0.0\t0.0\t0.0\t0.0\t0.0\t0.0\t0.0\t0.0\t0.048\t0.097\t0.1\t0.1\t0.1\t0.1\t0.1\t0.1\t0.1\t0.1\n",
      "0.1\t0.1\t0.1\t0.059\t0.0\t0.0\t0.0\t0.0\t0.0\t0.0\t0.0\t0.0\t0.0\t0.0\t0.0\t0.0\t0.0\t0.0\t0.019\t0.1\t0.1\t0.1\t0.1\t0.1\t0.1\t0.1\t0.1\t0.1\n",
      "0.1\t0.1\t0.1\t0.035\t0.0\t0.0\t0.0\t0.0\t0.0\t0.0\t0.0\t0.0\t0.0\t0.0\t0.0\t0.0\t0.0\t0.168\t0.014\t0.095\t0.1\t0.1\t0.1\t0.1\t0.1\t0.1\t0.1\t0.1\n",
      "0.1\t0.1\t0.1\t0.062\t0.0\t0.0\t0.0\t0.0\t0.0\t0.0\t0.0\t0.0\t0.0\t0.0\t0.0\t0.016\t0.034\t0.204\t0.154\t0.104\t0.1\t0.1\t0.1\t0.1\t0.1\t0.1\t0.1\t0.1\n",
      "0.1\t0.1\t0.1\t0.016\t0.0\t0.0\t0.0\t0.048\t0.106\t0.166\t0.0\t0.0\t0.0\t0.0\t0.0\t0.0\t0.183\t0.173\t0.139\t0.101\t0.1\t0.1\t0.1\t0.1\t0.1\t0.1\t0.1\t0.1\n",
      "0.1\t0.1\t0.1\t0.098\t0.096\t0.097\t0.094\t0.059\t0.0\t0.0\t0.0\t0.0\t0.0\t0.0\t0.0\t0.033\t0.055\t0.14\t0.145\t0.102\t0.1\t0.1\t0.1\t0.1\t0.1\t0.1\t0.1\t0.1\n",
      "0.1\t0.1\t0.1\t0.1\t0.1\t0.1\t0.1\t0.038\t0.0\t0.0\t0.0\t0.0\t0.0\t0.0\t0.0\t0.0\t0.028\t0.0\t0.0\t0.03\t0.072\t0.105\t0.1\t0.1\t0.1\t0.1\t0.1\t0.1\n",
      "0.1\t0.1\t0.1\t0.1\t0.1\t0.1\t0.1\t0.045\t0.0\t0.0\t0.0\t0.0\t0.0\t0.0\t0.0\t0.0\t0.0\t0.0\t0.0\t0.0\t0.0\t0.017\t0.112\t0.1\t0.1\t0.1\t0.1\t0.1\n",
      "0.1\t0.1\t0.1\t0.1\t0.1\t0.1\t0.1\t0.026\t0.0\t0.0\t0.0\t0.0\t0.0\t0.0\t0.0\t0.0\t0.0\t0.0\t0.0\t0.0\t0.0\t0.0\t0.029\t0.107\t0.1\t0.1\t0.1\t0.1\n",
      "0.1\t0.1\t0.1\t0.1\t0.1\t0.1\t0.1\t0.047\t0.0\t0.0\t0.0\t0.0\t0.0\t0.0\t0.0\t0.0\t0.0\t0.0\t0.0\t0.0\t0.0\t0.0\t0.0\t0.064\t0.105\t0.1\t0.1\t0.1\n",
      "0.1\t0.1\t0.1\t0.1\t0.1\t0.1\t0.1\t0.1\t0.053\t0.0\t0.003\t0.0\t0.007\t0.034\t0.039\t0.0\t0.0\t0.0\t0.0\t0.0\t0.0\t0.0\t0.0\t0.01\t0.091\t0.1\t0.1\t0.1\n",
      "0.1\t0.1\t0.1\t0.1\t0.1\t0.1\t0.1\t0.1\t0.1\t0.094\t0.077\t0.131\t0.084\t0.0\t0.0\t0.0\t0.0\t0.0\t0.0\t0.0\t0.0\t0.0\t0.0\t0.0\t0.091\t0.1\t0.1\t0.1\n",
      "0.1\t0.1\t0.1\t0.1\t0.1\t0.1\t0.1\t0.1\t0.099\t0.061\t0.052\t0.162\t0.0\t0.0\t0.057\t0.013\t0.0\t0.0\t0.0\t0.0\t0.0\t0.0\t0.0\t0.0\t0.067\t0.1\t0.1\t0.1\n",
      "0.1\t0.1\t0.1\t0.1\t0.1\t0.1\t0.1\t0.1\t0.075\t0.027\t0.0\t0.0\t0.0\t0.0\t0.05\t0.092\t0.064\t0.0\t0.0\t0.0\t0.0\t0.0\t0.0\t0.046\t0.08\t0.1\t0.1\t0.1\n",
      "0.1\t0.1\t0.1\t0.1\t0.1\t0.1\t0.1\t0.1\t0.042\t0.0\t0.0\t0.0\t0.0\t0.0\t0.008\t0.093\t0.076\t0.0\t0.0\t0.0\t0.0\t0.0\t0.041\t0.097\t0.085\t0.1\t0.1\t0.1\n",
      "0.1\t0.1\t0.1\t0.1\t0.1\t0.1\t0.1\t0.1\t0.0\t0.0\t0.0\t0.0\t0.0\t0.0\t0.0\t0.075\t0.09\t0.0\t0.0\t0.0\t0.0\t0.0\t0.092\t0.088\t0.106\t0.1\t0.1\t0.1\n",
      "0.1\t0.1\t0.1\t0.1\t0.1\t0.1\t0.1\t0.1\t0.0\t0.0\t0.0\t0.0\t0.0\t0.0\t0.0\t0.0\t0.0\t0.0\t0.0\t0.0\t0.0\t0.0\t0.123\t0.16\t0.098\t0.1\t0.1\t0.1\n",
      "0.1\t0.1\t0.1\t0.1\t0.1\t0.1\t0.1\t0.1\t0.0\t0.0\t0.0\t0.0\t0.0\t0.0\t0.0\t0.0\t0.0\t0.0\t0.0\t0.0\t0.0\t0.019\t0.233\t0.129\t0.133\t0.1\t0.1\t0.1\n",
      "0.1\t0.1\t0.1\t0.1\t0.1\t0.1\t0.1\t0.1\t0.0\t0.0\t0.0\t0.0\t0.0\t0.0\t0.0\t0.0\t0.0\t0.0\t0.0\t0.0\t0.04\t0.227\t0.14\t0.213\t0.103\t0.1\t0.1\t0.1\n",
      "0.1\t0.1\t0.1\t0.1\t0.1\t0.1\t0.1\t0.1\t0.0\t0.0\t0.0\t0.0\t0.0\t0.0\t0.0\t0.0\t0.0\t0.0\t0.0\t0.176\t0.17\t0.196\t0.202\t0.1\t0.1\t0.1\t0.1\t0.1\n",
      "0.1\t0.1\t0.1\t0.1\t0.1\t0.1\t0.1\t0.1\t0.036\t0.0\t0.0\t0.0\t0.0\t0.007\t0.0\t0.0\t0.0\t0.027\t0.162\t0.183\t0.219\t0.185\t0.119\t0.1\t0.1\t0.1\t0.1\t0.1\n",
      "0.1\t0.1\t0.1\t0.1\t0.1\t0.1\t0.1\t0.1\t0.099\t0.014\t0.0\t0.0\t0.0\t0.051\t0.124\t0.167\t0.245\t0.271\t0.263\t0.217\t0.14\t0.104\t0.1\t0.1\t0.1\t0.1\t0.1\t0.1\n",
      "0.1\t0.1\t0.1\t0.1\t0.1\t0.1\t0.1\t0.1\t0.1\t0.1\t0.1\t0.1\t0.1\t0.1\t0.1\t0.1\t0.1\t0.1\t0.1\t0.1\t0.1\t0.1\t0.1\t0.1\t0.1\t0.1\t0.1\t0.1\n",
      "\n",
      "*********************************************************************************\n",
      "\n",
      "output shape:(168, 28)\n",
      "\n",
      "*********************************************************************************\n",
      "\n",
      "0 0 0 0 0 0 0 0 0 0 0 0 0 0 0 0 0 0 0 0 0 0 0 0 0 0 0 0\n",
      "0 0 0 0 0 0 0 0 0 0 0 0 0 0 0 0 0 0 0 0 0 0 0 0 0 0 0 0\n",
      "0 0 0 0 0 0 0 0 0 0 0 0 0 0 0 0 0 0 0 0 0 0 0 0 0 0 0 0\n",
      "0 0 0 0 0 0 0 0 0 0 0 0 0 0 0 0 0 0 0 0 0 0 0 0 0 0 0 0\n",
      "0 0 0 0 0 0 0 0 0 0 0 0 0 0 0 0 0 0 0 0 0 0 0 0 0 0 0 0\n",
      "0 0 0 0 0 0 0 0 0 0 0 0 0 0 0 0 0 0 0 0 0 0 0 0 0 0 0 0\n",
      "0 0 0 0 0 0 0 0 0 0 0 0 0 0 0 1 0 0 0 0 0 0 0 0 0 0 0 0\n",
      "0 0 0 0 0 0 0 0 0 0 0 0 0 0 0 0 0 0 0 0 0 0 0 0 0 0 0 0\n",
      "0 0 0 0 0 0 0 0 0 0 0 0 0 0 0 0 0 0 0 0 0 0 0 0 0 0 0 0\n",
      "0 0 0 0 0 0 0 0 0 0 0 0 0 0 0 0 0 0 0 0 0 0 0 0 0 0 0 0\n",
      "0 0 0 0 0 0 0 0 0 0 0 0 0 0 0 0 0 0 0 0 0 0 0 0 0 0 0 0\n",
      "0 0 0 0 0 0 0 0 0 0 0 0 0 0 0 0 0 0 0 0 0 0 0 0 0 0 0 0\n",
      "0 0 0 0 0 0 0 0 0 0 0 0 1 1 0 0 0 0 0 0 0 0 0 0 0 0 0 0\n",
      "0 0 0 0 0 0 0 0 0 0 0 0 0 0 0 0 1 0 0 0 0 0 0 0 0 0 0 0\n",
      "0 0 0 0 0 0 0 0 0 0 0 0 0 0 0 0 0 0 1 0 0 0 0 0 0 0 0 0\n",
      "0 0 0 0 0 0 0 0 0 0 0 0 0 0 0 0 0 0 0 0 0 0 0 0 0 0 0 0\n",
      "0 0 0 0 0 0 0 0 0 0 0 0 0 0 0 0 0 0 0 0 0 0 0 0 0 0 0 0\n",
      "0 0 0 0 0 0 0 0 0 0 0 0 0 0 0 0 0 0 0 0 0 0 0 0 0 0 0 0\n",
      "0 0 0 0 0 0 0 0 0 0 0 0 0 0 0 0 0 0 0 0 0 0 0 0 0 0 0 0\n",
      "0 0 0 0 0 0 0 0 0 0 0 0 0 0 0 0 0 0 0 0 0 0 0 0 0 0 0 0\n",
      "0 0 0 0 0 0 0 0 0 0 0 0 0 0 0 0 0 0 0 0 0 0 0 0 0 0 0 0\n",
      "0 0 0 0 0 0 0 0 0 0 0 0 0 0 0 0 0 0 0 0 0 0 0 0 0 0 0 0\n",
      "0 0 0 0 0 0 0 0 0 0 0 0 0 0 0 0 0 0 0 0 0 0 0 0 0 0 0 0\n"
     ]
    },
    {
     "name": "stdout",
     "output_type": "stream",
     "text": [
      "0 0 0 0 0 0 0 0 0 0 0 0 0 0 0 0 0 0 0 0 0 0 0 0 0 0 0 0\n",
      "0 0 0 0 0 0 0 0 0 0 0 0 0 0 0 0 0 0 0 0 0 0 0 0 0 0 0 0\n",
      "0 0 0 0 0 0 0 0 0 0 0 0 0 0 0 0 0 0 0 0 0 0 0 0 0 0 0 0\n",
      "0 0 0 0 0 0 0 0 0 0 0 0 0 0 0 0 0 0 0 0 0 0 0 0 0 0 0 0\n",
      "0 0 0 0 0 0 0 0 0 0 0 0 0 0 0 0 0 0 0 0 0 0 0 0 0 0 0 0\n",
      "\n",
      "*********************************************************************************\n",
      "\n",
      "0 0 0 0 0 0 0 0 0 0 0 0 0 0 0 0 0 0 0 0 0 0 0 0 0 0 0 0\n",
      "0 0 0 0 0 0 0 0 0 0 0 0 0 0 0 0 0 0 0 0 0 0 0 0 0 0 0 0\n",
      "0 0 0 0 0 0 0 0 0 0 0 0 0 0 0 0 0 0 0 0 0 0 0 0 0 0 0 0\n",
      "0 0 0 0 0 0 0 0 0 0 0 0 0 0 0 0 0 0 0 0 0 0 0 0 0 0 0 0\n",
      "0 0 0 0 0 0 0 0 0 0 0 0 0 0 0 0 0 0 0 0 0 0 0 0 0 0 0 0\n",
      "0 0 0 0 0 0 0 0 0 0 0 0 0 0 0 0 0 0 0 0 0 0 0 0 0 0 0 0\n",
      "0 0 0 0 0 0 0 0 0 0 0 0 0 0 1 0 0 0 0 0 0 0 0 0 0 0 0 0\n",
      "0 0 0 0 0 0 0 0 0 0 0 0 0 1 1 1 1 0 0 0 0 0 0 0 0 0 0 0\n",
      "0 0 0 0 0 0 0 0 0 0 0 1 0 0 1 1 1 0 0 0 0 0 0 0 0 0 0 0\n",
      "0 0 0 0 0 0 0 0 0 1 1 0 0 0 1 1 0 0 0 0 0 0 0 0 0 0 0 0\n",
      "0 0 0 0 0 0 0 0 0 0 0 0 1 1 1 1 0 0 0 0 0 0 0 0 0 0 0 0\n",
      "0 0 0 0 0 0 0 0 0 0 0 0 1 1 1 1 0 0 0 0 0 0 0 0 0 0 0 0\n",
      "0 0 0 0 0 0 0 0 0 0 0 0 1 1 1 0 0 0 0 0 0 0 0 0 0 0 0 0\n",
      "0 0 0 0 0 0 0 0 0 0 0 0 1 1 1 0 0 0 0 0 0 0 0 0 0 0 0 0\n",
      "0 0 0 0 0 0 0 0 0 0 0 0 0 0 0 0 0 1 0 0 0 0 0 0 0 0 0 0\n",
      "0 0 0 0 0 0 0 0 0 0 0 0 0 0 0 0 0 0 1 1 0 0 0 0 0 0 0 0\n",
      "0 0 0 0 0 0 0 0 0 0 0 0 0 0 0 0 0 0 1 1 0 0 0 0 0 0 0 0\n",
      "0 0 0 0 0 0 0 0 0 0 0 0 0 0 0 0 0 0 0 1 1 1 1 0 0 0 0 0\n",
      "0 0 0 0 0 0 0 0 0 0 0 0 0 0 0 0 0 0 0 0 0 1 1 0 0 0 0 0\n",
      "0 0 0 0 0 0 0 0 0 0 0 0 0 0 0 0 0 0 0 0 0 1 1 0 0 0 0 0\n",
      "0 0 0 0 0 0 0 0 0 0 0 0 0 1 0 0 0 0 0 0 0 1 1 0 0 0 0 0\n",
      "0 0 0 0 0 0 0 0 0 0 0 1 1 1 1 0 0 0 0 0 1 1 1 0 0 0 0 0\n",
      "0 0 0 0 0 0 0 0 0 0 0 1 1 1 1 0 0 0 0 0 1 1 0 0 0 0 0 0\n",
      "0 0 0 0 0 0 0 0 0 0 0 0 0 0 0 0 0 0 0 1 1 0 0 0 0 0 0 0\n",
      "0 0 0 0 0 0 0 0 0 0 0 0 0 1 0 0 0 0 0 1 0 0 0 0 0 0 0 0\n",
      "0 0 0 0 0 0 0 0 0 0 0 0 0 0 0 0 0 0 0 0 0 0 0 0 0 0 0 0\n",
      "0 0 0 0 0 0 0 0 0 0 0 0 0 0 0 0 0 0 0 0 0 0 0 0 0 0 0 0\n",
      "0 0 0 0 0 0 0 0 0 0 0 0 0 0 0 0 0 0 0 0 0 0 0 0 0 0 0 0\n",
      "\n",
      "*********************************************************************************\n",
      "\n",
      "0 0 0 0 0 0 0 0 0 0 0 0 0 0 0 0 0 0 0 0 0 0 0 0 0 0 0 0\n",
      "0 0 0 0 0 0 0 0 0 0 0 0 0 0 0 0 0 0 0 0 0 0 0 0 0 0 0 0\n",
      "0 0 0 0 0 0 0 0 0 0 0 0 0 0 0 0 0 0 0 0 0 0 0 0 0 0 0 0\n",
      "0 0 0 0 0 0 0 0 0 0 0 0 0 0 0 0 0 0 0 0 0 0 0 0 0 0 0 0\n",
      "0 0 0 0 0 0 0 0 0 0 0 0 0 0 0 0 0 0 0 0 0 0 0 0 0 0 0 0\n",
      "0 0 0 0 0 0 0 0 0 0 0 0 0 0 0 0 0 0 0 0 0 0 0 0 0 0 0 0\n",
      "0 0 0 0 0 0 0 0 0 0 0 0 0 0 0 0 0 0 0 0 0 0 0 0 0 0 0 0\n",
      "0 0 0 0 0 0 0 0 0 0 0 0 0 0 1 1 0 0 0 0 0 0 0 0 0 0 0 0\n",
      "0 0 0 0 0 0 0 0 0 0 0 0 1 1 1 0 0 0 0 0 0 0 0 0 0 0 0 0\n",
      "0 0 0 0 0 0 0 0 0 0 0 0 1 1 0 0 0 0 0 0 0 0 0 0 0 0 0 0\n",
      "0 0 0 0 0 0 0 0 0 0 0 0 0 0 0 0 0 0 0 0 0 0 0 0 0 0 0 0\n",
      "0 0 0 0 0 0 0 0 0 0 0 0 0 0 0 0 0 0 0 0 0 0 0 0 0 0 0 0\n",
      "0 0 0 0 0 0 0 0 0 0 0 0 0 0 0 0 0 0 0 0 0 0 0 0 0 0 0 0\n",
      "0 0 0 0 0 0 0 0 0 0 0 0 0 0 0 0 0 0 0 0 0 0 0 0 0 0 0 0\n",
      "0 0 0 0 0 0 0 0 0 0 0 0 0 0 0 0 0 0 0 0 0 0 0 0 0 0 0 0\n",
      "0 0 0 0 0 0 0 0 0 0 0 0 0 0 0 1 0 0 0 0 0 0 0 0 0 0 0 0\n",
      "0 0 0 0 0 0 0 0 0 0 0 0 0 0 0 0 0 0 0 0 0 0 0 0 0 0 0 0\n",
      "0 0 0 0 0 0 0 0 0 0 0 0 0 0 0 0 0 0 0 0 0 0 0 0 0 0 0 0\n",
      "0 0 0 0 0 0 0 0 0 0 0 0 0 0 0 0 0 0 0 0 0 1 0 0 0 0 0 0\n",
      "0 0 0 0 0 0 0 0 0 0 0 0 0 0 0 0 0 0 0 0 0 1 0 0 0 0 0 0\n",
      "0 0 0 0 0 0 0 0 0 0 0 0 0 0 0 0 0 0 0 0 0 0 0 0 0 0 0 0\n",
      "0 0 0 0 0 0 0 0 0 0 0 0 0 0 0 0 0 0 1 1 0 0 0 0 0 0 0 0\n",
      "0 0 0 0 0 0 0 0 0 0 0 0 0 0 0 0 0 1 1 0 0 0 0 0 0 0 0 0\n",
      "0 0 0 0 0 0 0 0 0 0 0 0 0 0 0 0 0 0 0 0 0 0 0 0 0 0 0 0\n",
      "0 0 0 0 0 0 0 0 0 0 0 0 0 0 0 0 0 0 0 0 0 0 0 0 0 0 0 0\n",
      "0 0 0 0 0 0 0 0 0 0 0 0 0 0 0 0 0 0 0 0 0 0 0 0 0 0 0 0\n",
      "0 0 0 0 0 0 0 0 0 0 0 0 0 0 0 0 0 0 0 0 0 0 0 0 0 0 0 0\n",
      "0 0 0 0 0 0 0 0 0 0 0 0 0 0 0 0 0 0 0 0 0 0 0 0 0 0 0 0\n",
      "\n",
      "*********************************************************************************\n",
      "\n",
      "0 0 0 0 0 0 0 0 0 0 0 0 0 0 0 0 0 0 0 0 0 0 0 0 0 0 0 0\n",
      "0 0 0 0 0 0 0 0 0 0 0 0 0 0 0 0 0 0 0 0 0 0 0 0 0 0 0 0\n",
      "0 0 0 0 0 0 0 0 0 0 0 0 0 0 0 0 0 0 0 0 0 0 0 0 0 0 0 0\n",
      "0 0 0 0 0 0 0 0 0 0 0 0 0 0 0 0 0 0 0 0 0 0 0 0 0 0 0 0\n",
      "0 0 0 0 0 0 0 0 0 0 0 0 0 0 0 0 0 0 0 0 0 0 0 0 0 0 0 0\n",
      "0 0 0 0 0 0 0 0 0 0 0 0 0 0 0 0 0 0 0 0 0 0 0 0 0 0 0 0\n",
      "0 0 0 0 0 0 0 0 0 0 0 0 0 0 0 0 0 0 0 0 0 0 0 0 0 0 0 0\n",
      "0 0 0 0 0 0 0 0 0 0 0 0 0 0 0 0 0 0 0 0 0 0 0 0 0 0 0 0\n",
      "0 0 0 0 0 0 0 0 0 0 0 0 0 0 0 0 0 0 0 0 0 0 0 0 0 0 0 0\n",
      "0 0 0 0 0 0 0 0 0 0 0 0 0 0 0 0 0 0 0 0 0 0 0 0 0 0 0 0\n",
      "0 0 0 0 0 0 0 0 0 0 0 0 0 0 0 0 0 0 0 0 0 0 0 0 0 0 0 0\n",
      "0 0 0 0 0 0 0 0 0 0 0 0 0 0 0 0 0 0 0 0 0 0 0 0 0 0 0 0\n",
      "0 0 0 0 0 0 0 0 0 0 0 0 0 0 0 0 0 0 0 0 0 0 0 0 0 0 0 0\n",
      "0 0 0 0 0 0 0 0 0 0 0 0 0 0 0 0 0 0 0 0 0 0 0 0 0 0 0 0\n",
      "0 0 0 0 0 0 0 0 0 0 0 0 0 0 0 0 0 0 0 0 0 0 0 0 0 0 0 0\n",
      "0 0 0 0 0 0 0 0 0 0 0 0 0 0 0 0 0 0 0 0 0 0 0 0 0 0 0 0\n",
      "0 0 0 0 0 0 0 0 0 0 0 0 0 0 0 0 0 0 0 0 0 0 0 0 0 0 0 0\n",
      "0 0 0 0 0 0 0 0 0 0 0 0 0 0 0 0 0 0 0 0 0 0 0 0 0 0 0 0\n",
      "0 0 0 0 0 0 0 0 0 0 0 0 0 0 0 0 0 0 0 0 0 0 0 0 0 0 0 0\n",
      "0 0 0 0 0 0 0 0 0 0 0 0 0 0 0 0 0 0 0 0 0 0 0 0 0 0 0 0\n",
      "0 0 0 0 0 0 0 0 0 0 0 0 0 0 0 0 0 0 0 0 0 0 0 0 0 0 0 0\n",
      "0 0 0 0 0 0 0 0 0 0 0 0 0 0 0 0 0 0 0 0 0 0 0 0 0 0 0 0\n",
      "0 0 0 0 0 0 0 0 0 0 0 0 0 0 0 0 0 0 0 0 0 0 0 0 0 0 0 0\n",
      "0 0 0 0 0 0 0 0 0 0 0 0 0 0 0 0 0 0 0 0 0 0 0 0 0 0 0 0\n",
      "0 0 0 0 0 0 0 0 0 0 0 0 0 0 0 0 0 0 0 0 0 0 0 0 0 0 0 0\n",
      "0 0 0 0 0 0 0 0 0 0 0 0 0 0 0 0 0 0 0 0 0 0 0 0 0 0 0 0\n",
      "0 0 0 0 0 0 0 0 0 0 0 0 0 0 0 0 0 0 0 0 0 0 0 0 0 0 0 0\n",
      "0 0 0 0 0 0 0 0 0 0 0 0 0 0 0 0 0 0 0 0 0 0 0 0 0 0 0 0\n",
      "\n",
      "*********************************************************************************\n",
      "\n",
      "0 0 0 0 0 0 0 0 0 0 0 0 0 0 0 0 0 0 0 0 0 0 0 0 0 0 0 0\n",
      "0 0 0 0 0 0 0 0 0 0 0 0 0 0 0 0 0 0 0 0 0 0 0 0 0 0 0 0\n",
      "0 0 0 0 0 0 0 0 0 0 0 0 0 0 0 0 0 0 0 0 0 0 0 0 0 0 0 0\n",
      "0 0 0 0 0 0 0 0 0 0 0 0 0 0 0 0 0 0 0 0 0 0 0 0 0 0 0 0\n",
      "0 0 0 0 0 0 0 0 0 0 0 0 0 0 0 0 0 0 0 0 0 0 0 0 0 0 0 0\n",
      "0 0 0 0 0 0 0 0 0 0 0 0 0 0 0 0 0 0 0 0 0 0 0 0 0 0 0 0\n",
      "0 0 0 0 0 0 0 0 0 0 0 0 0 0 0 0 0 0 0 0 0 0 0 0 0 0 0 0\n",
      "0 0 0 0 0 0 0 0 0 0 0 0 0 1 0 0 0 0 0 0 0 0 0 0 0 0 0 0\n",
      "0 0 0 0 0 0 0 0 0 0 0 0 0 0 0 0 0 0 0 0 0 0 0 0 0 0 0 0\n",
      "0 0 0 0 0 0 0 0 0 0 0 0 0 0 0 0 0 0 0 0 0 0 0 0 0 0 0 0\n",
      "0 0 0 0 0 0 0 0 0 0 0 0 0 0 0 0 0 0 0 0 0 0 0 0 0 0 0 0\n",
      "0 0 0 0 0 0 0 0 0 0 0 0 0 0 0 0 0 0 0 0 0 0 0 0 0 0 0 0\n",
      "0 0 0 0 0 0 0 0 0 0 0 0 0 0 0 0 0 0 0 0 0 0 0 0 0 0 0 0\n",
      "0 0 0 0 0 0 0 0 0 0 0 0 0 0 0 0 0 0 0 0 0 0 0 0 0 0 0 0\n",
      "0 0 0 0 0 0 0 0 0 0 0 0 0 0 0 0 0 0 0 0 0 0 0 0 0 0 0 0\n",
      "0 0 0 0 0 0 0 0 0 0 0 0 0 0 0 0 0 0 0 0 0 0 0 0 0 0 0 0\n",
      "0 0 0 0 0 0 0 0 0 0 0 0 0 0 0 0 0 0 0 0 0 0 0 0 0 0 0 0\n",
      "0 0 0 0 0 0 0 0 0 0 0 0 0 0 0 0 0 0 0 0 0 0 0 0 0 0 0 0\n",
      "0 0 0 0 0 0 0 0 0 0 0 0 0 0 0 0 0 0 0 0 0 0 0 0 0 0 0 0\n",
      "0 0 0 0 0 0 0 0 0 0 0 0 0 0 0 0 0 0 0 0 0 0 0 0 0 0 0 0\n",
      "0 0 0 0 0 0 0 0 0 0 0 0 0 0 0 0 0 0 0 0 0 0 0 0 0 0 0 0\n",
      "0 0 0 0 0 0 0 0 0 0 0 0 0 0 0 0 0 0 0 0 0 0 0 0 0 0 0 0\n",
      "0 0 0 0 0 0 0 0 0 0 0 0 0 0 0 0 0 0 0 0 0 0 0 0 0 0 0 0\n",
      "0 0 0 0 0 0 0 0 0 0 0 0 0 0 0 0 0 0 0 0 0 0 0 0 0 0 0 0\n",
      "0 0 0 0 0 0 0 0 0 0 0 0 0 0 0 0 0 0 0 0 0 0 0 0 0 0 0 0\n",
      "0 0 0 0 0 0 0 0 0 0 0 0 0 0 0 0 0 0 0 0 0 0 0 0 0 0 0 0\n",
      "0 0 0 0 0 0 0 0 0 0 0 0 0 0 0 0 0 0 0 0 0 0 0 0 0 0 0 0\n",
      "0 0 0 0 0 0 0 0 0 0 0 0 0 0 0 0 0 0 0 0 0 0 0 0 0 0 0 0\n",
      "\n",
      "*********************************************************************************\n",
      "\n",
      "0 0 0 0 0 0 0 0 0 0 0 0 0 0 0 0 0 0 0 0 0 0 0 0 0 0 0 0\n",
      "0 0 0 0 0 0 0 0 0 0 0 0 0 0 0 0 0 0 0 0 0 0 0 0 0 0 0 0\n",
      "0 0 0 0 0 0 0 0 0 0 0 0 0 0 0 0 0 0 0 0 0 0 0 0 0 0 0 0\n",
      "0 0 0 0 0 0 0 0 0 0 0 0 0 0 0 0 0 0 0 0 0 0 0 0 0 0 0 0\n",
      "0 0 0 0 0 0 0 0 0 0 0 0 0 0 0 0 0 0 0 0 0 0 0 0 0 0 0 0\n",
      "0 0 0 0 0 0 0 0 0 0 0 0 0 0 0 0 0 0 0 0 0 0 0 0 0 0 0 0\n",
      "0 0 0 0 0 0 0 0 0 0 0 0 0 0 0 0 0 0 0 0 0 0 0 0 0 0 0 0\n",
      "0 0 0 0 0 0 0 0 0 0 0 0 0 0 0 0 0 0 0 0 0 0 0 0 0 0 0 0\n",
      "0 0 0 0 0 0 0 0 0 0 0 0 0 0 0 0 0 0 0 0 0 0 0 0 0 0 0 0\n",
      "0 0 0 0 0 0 0 0 0 0 0 0 0 0 0 0 0 0 0 0 0 0 0 0 0 0 0 0\n",
      "0 0 0 0 0 0 0 0 0 0 0 0 0 0 0 0 0 0 0 0 0 0 0 0 0 0 0 0\n",
      "0 0 0 0 0 0 0 0 0 0 0 0 0 0 0 0 0 0 0 0 0 0 0 0 0 0 0 0\n",
      "0 0 0 0 0 0 0 0 0 0 0 0 0 0 0 0 0 0 0 0 0 0 0 0 0 0 0 0\n",
      "0 0 0 0 0 0 0 0 0 0 0 0 0 0 0 0 0 0 0 0 0 0 0 0 0 0 0 0\n",
      "0 0 0 0 0 0 0 0 0 0 0 0 0 0 0 0 0 0 0 0 0 0 0 0 0 0 0 0\n",
      "0 0 0 0 0 0 0 0 0 0 0 0 0 0 0 0 0 0 0 0 0 0 0 0 0 0 0 0\n",
      "0 0 0 0 0 0 0 0 0 0 0 0 0 0 0 0 0 0 0 0 0 0 0 0 0 0 0 0\n",
      "0 0 0 0 0 0 0 0 0 0 0 0 0 0 0 0 0 0 0 0 0 0 0 0 0 0 0 0\n",
      "0 0 0 0 0 0 0 0 0 0 0 0 0 0 0 0 0 0 0 0 0 0 0 0 0 0 0 0\n",
      "0 0 0 0 0 0 0 0 0 0 0 0 0 0 0 0 0 0 0 0 0 0 0 0 0 0 0 0\n",
      "0 0 0 0 0 0 0 0 0 0 0 0 0 0 0 0 0 0 0 0 0 0 0 0 0 0 0 0\n",
      "0 0 0 0 0 0 0 0 0 0 0 0 0 0 0 0 0 0 0 0 0 0 0 0 0 0 0 0\n",
      "0 0 0 0 0 0 0 0 0 0 0 0 0 0 0 0 0 0 0 0 0 0 0 0 0 0 0 0\n",
      "0 0 0 0 0 0 0 0 0 0 0 0 0 0 0 0 0 0 0 0 0 0 0 0 0 0 0 0\n",
      "0 0 0 0 0 0 0 0 0 0 0 0 0 0 0 0 0 0 0 0 0 0 0 0 0 0 0 0\n",
      "0 0 0 0 0 0 0 0 0 0 0 0 0 0 0 0 0 0 0 0 0 0 0 0 0 0 0 0\n",
      "0 0 0 0 0 0 0 0 0 0 0 0 0 0 0 0 0 0 0 0 0 0 0 0 0 0 0 0\n",
      "0 0 0 0 0 0 0 0 0 0 0 0 0 0 0 0 0 0 0 0 0 0 0 0 0 0 0 0\n",
      "\n",
      "*********************************************************************************\n",
      "\n"
     ]
    },
    {
     "data": {
      "image/png": "[encoded data removed]",
      "text/plain": [
       "<matplotlib.figure.Figure at 0x26a98faa8d0>"
      ]
     },
     "metadata": {},
     "output_type": "display_data"
    }
   ],
   "source": [
    "    print (\"conv1 shape : \" + str(h_conv1.shape))\n",
    "    pC1 = sess.run(h_conv1, feed_dict={xs: batch_xs, ys: batch_ys, keep_prob: 0.5})\n",
    "    plt.imshow(reshape_pic(pC1,28,6,0), cmap='Greys')\n",
    "\n",
    "    print_pic_prec(reshape_pic(pC1,28,6,0),3)\n",
    "    print_pic_int(reshape_pic(pC1,28,6,0))\n",
    "    \n",
    "    # print(\"\\n*********************************************************************************\\n\")\n",
    "    # print (\"reshape pic shape:\" + str((reshape_pic(pC1,28,6,0)).shape))\n",
    "    # print (\"content:\\n\" + str(reshape_pic(pC1,28,6,0)))\n",
    "    # print(\"\\n*********************************************************************************\\n\")"
   ]
  },
  {
   "cell_type": "markdown",
   "metadata": {},
   "source": [
    "# 印出結果---pool 1層"
   ]
  },
  {
   "cell_type": "code",
   "execution_count": 31,
   "metadata": {},
   "outputs": [
    {
     "name": "stdout",
     "output_type": "stream",
     "text": [
      "pool1 shape : (?, 14, 14, 6)\n",
      "output shape:(84, 14)\n"
     ]
    },
    {
     "data": {
      "text/plain": [
       "<matplotlib.image.AxesImage at 0x26a98faf7b8>"
      ]
     },
     "execution_count": 31,
     "metadata": {},
     "output_type": "execute_result"
    },
    {
     "data": {
      "image/png": "[encoded data removed]",
      "text/plain": [
       "<matplotlib.figure.Figure at 0x26a960290b8>"
      ]
     },
     "metadata": {},
     "output_type": "display_data"
    }
   ],
   "source": [
    "    print (\"pool1 shape : \" + str(h_pool1.shape))\n",
    "    pH1 = sess.run(h_pool1, feed_dict={xs: batch_xs, ys: batch_ys, keep_prob: 0.5})\n",
    "    plt.imshow(reshape_pic(pH1,14,6,0), cmap='Greys')\n",
    "    \n",
    "    #print_pic_prec(reshape_pic(pH1,14,6,0),3)\n",
    "    #print_pic_int(reshape_pic(pH1,14,6,0))"
   ]
  },
  {
   "cell_type": "markdown",
   "metadata": {},
   "source": [
    "# 印出結果---conv 2層"
   ]
  },
  {
   "cell_type": "code",
   "execution_count": 32,
   "metadata": {},
   "outputs": [
    {
     "name": "stdout",
     "output_type": "stream",
     "text": [
      "conv2 shape : (?, 14, 14, 16)\n",
      "output shape:(224, 14)\n"
     ]
    },
    {
     "data": {
      "text/plain": [
       "<matplotlib.image.AxesImage at 0x26a9958fd68>"
      ]
     },
     "execution_count": 32,
     "metadata": {},
     "output_type": "execute_result"
    },
    {
     "data": {
      "image/png": "[encoded data removed]",
      "text/plain": [
       "<matplotlib.figure.Figure at 0x26a9968f400>"
      ]
     },
     "metadata": {},
     "output_type": "display_data"
    }
   ],
   "source": [
    "    print (\"conv2 shape : \" + str(h_conv2.shape))\n",
    "    pC2 = sess.run(h_conv2, feed_dict={xs: batch_xs, ys: batch_ys, keep_prob: 0.5})\n",
    "    plt.imshow(reshape_pic(pC2,14,16,0), cmap='Greys')\n",
    "    \n",
    "    #print_pic_prec(reshape_pic(pC2,14,16,0),3)\n",
    "    #print_pic_int(reshape_pic(pC2,14,16,0))"
   ]
  },
  {
   "cell_type": "markdown",
   "metadata": {},
   "source": [
    "# 印出結果---pool 2層"
   ]
  },
  {
   "cell_type": "code",
   "execution_count": 33,
   "metadata": {},
   "outputs": [
    {
     "name": "stdout",
     "output_type": "stream",
     "text": [
      "pool2 shape : (?, 7, 7, 16)\n",
      "output shape:(112, 7)\n"
     ]
    },
    {
     "data": {
      "text/plain": [
       "<matplotlib.image.AxesImage at 0x26a9661e3c8>"
      ]
     },
     "execution_count": 33,
     "metadata": {},
     "output_type": "execute_result"
    },
    {
     "data": {
      "image/png": "[encoded data removed]",
      "text/plain": [
       "<matplotlib.figure.Figure at 0x26a99599b00>"
      ]
     },
     "metadata": {},
     "output_type": "display_data"
    }
   ],
   "source": [
    "    print (\"pool2 shape : \" + str(h_pool2.shape))\n",
    "    pH2 = sess.run(h_pool2, feed_dict={xs: batch_xs, ys: batch_ys, keep_prob: 0.5})\n",
    "    plt.imshow(reshape_pic(pH2,7,16,0), cmap='Greys')\n",
    "    \n",
    "    #print_pic_prec(reshape_pic(pH2,7,16,0),3)\n",
    "    #print_pic_int(reshape_pic(pH2,7,16,0))"
   ]
  },
  {
   "cell_type": "markdown",
   "metadata": {},
   "source": [
    "# 印出結果---fc 1層"
   ]
  },
  {
   "cell_type": "code",
   "execution_count": 34,
   "metadata": {},
   "outputs": [
    {
     "name": "stdout",
     "output_type": "stream",
     "text": [
      "fc1 shape : (120,)\n",
      "\n",
      "*********************************************************************************\n",
      "\n",
      "[ 0.43380469  0.          0.          0.13604513  0.          0.43601629\n",
      "  0.          0.13572913  0.04599673  0.3493385   1.36784303  0.05209932\n",
      "  0.          0.54281229  0.          0.05441456  0.03373093  0.33828494\n",
      "  1.24866927  0.          0.          0.83002067  0.65228039  0.21465218\n",
      "  0.          0.          0.          0.9310056   0.          0.\n",
      "  0.13586351  1.24877656  0.          0.          0.60661274  0.23996854\n",
      "  0.          0.          0.          0.          0.49539414  0.79121053\n",
      "  0.59342504  0.          0.          0.          0.          0.29649901\n",
      "  0.04318079  0.          0.          0.67000908  0.08932968  0.00759345\n",
      "  0.          0.59699714  0.          0.96357316  0.          0.26718774\n",
      "  0.          0.0857563   0.          0.0980106   1.1995908   0.          0.\n",
      "  1.56465328  0.25264469  0.          0.          0.03929632  0.          0.\n",
      "  0.08396497  0.84962356  0.71430063  0.          1.23840165  0.1120734\n",
      "  1.38395786  0.          0.55507892  0.29946619  0.          0.\n",
      "  1.18709159  0.          0.          0.          0.30093953  0.43442959\n",
      "  0.46245775  0.63755977  0.          0.30278119  0.35012215  0.\n",
      "  0.46465695  0.2741515   0.          0.22016525  0.10143227  0.54144657\n",
      "  0.1320895   0.          0.80710292  0.26696557  0.          0.\n",
      "  0.02021388  0.52053225  0.          1.15941632  0.11406575  0.          0.\n",
      "  0.          0.26736003  0.15465522]\n"
     ]
    }
   ],
   "source": [
    "    print (\"fc1 shape : \" + str(h_fc1[0].shape))\n",
    "    print(\"\\n*********************************************************************************\\n\")\n",
    "    print (sess.run(h_fc1[0], feed_dict={xs: batch_xs, ys: batch_ys, keep_prob: 0.5}))"
   ]
  },
  {
   "cell_type": "markdown",
   "metadata": {},
   "source": [
    "# 印出結果---fc 2層"
   ]
  },
  {
   "cell_type": "code",
   "execution_count": 35,
   "metadata": {},
   "outputs": [
    {
     "name": "stdout",
     "output_type": "stream",
     "text": [
      "prediction shape : (10,)\n",
      "\n",
      "*********************************************************************************\n",
      "\n",
      "[ 0.08213276  0.04030522  0.09433643  0.08208061  0.17756459  0.09724747\n",
      "  0.0625812   0.11993486  0.09047257  0.15334433]\n"
     ]
    }
   ],
   "source": [
    "    print (\"prediction shape : \" + str(prediction[0].shape))\n",
    "    print(\"\\n*********************************************************************************\\n\")\n",
    "    print (sess.run(prediction[0], feed_dict={xs: batch_xs, ys: batch_ys, keep_prob: 0.5}))\n",
    "#     pH2 = sess.run(h_pool2, feed_dict={xs: batch_xs, ys: batch_ys, keep_prob: 0.5})\n",
    "#     plt.imshow(reshape_pic(pH2,7,16,0), cmap='Greys')"
   ]
  },
  {
   "cell_type": "code",
   "execution_count": null,
   "metadata": {
    "collapsed": true
   },
   "outputs": [],
   "source": []
  }
 ],
 "metadata": {
  "kernelspec": {
   "display_name": "Python 3",
   "language": "python",
   "name": "python3"
  },
  "language_info": {
   "codemirror_mode": {
    "name": "ipython",
    "version": 3
   },
   "file_extension": ".py",
   "mimetype": "text/x-python",
   "name": "python",
   "nbconvert_exporter": "python",
   "pygments_lexer": "ipython3",
   "version": "3.6.1"
  }
 },
 "nbformat": 4,
 "nbformat_minor": 2
}
