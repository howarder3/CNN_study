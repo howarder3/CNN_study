{
 "cells": [
  {
   "cell_type": "markdown",
   "metadata": {},
   "source": [
    "# LeNet_demo_1018\n"
   ]
  },
  {
   "cell_type": "markdown",
   "metadata": {},
   "source": [
    "## import部分"
   ]
  },
  {
   "cell_type": "code",
   "execution_count": 32,
   "metadata": {
    "collapsed": true
   },
   "outputs": [],
   "source": [
    "%matplotlib inline\n",
    "from __future__ import print_function\n",
    "import tensorflow as tf\n",
    "import numpy as np\n",
    "import matplotlib.pyplot as plt"
   ]
  },
  {
   "cell_type": "code",
   "execution_count": 33,
   "metadata": {},
   "outputs": [
    {
     "name": "stdout",
     "output_type": "stream",
     "text": [
      "Extracting MNIST_data\\train-images-idx3-ubyte.gz\n",
      "Extracting MNIST_data\\train-labels-idx1-ubyte.gz\n",
      "Extracting MNIST_data\\t10k-images-idx3-ubyte.gz\n",
      "Extracting MNIST_data\\t10k-labels-idx1-ubyte.gz\n"
     ]
    }
   ],
   "source": [
    "from tensorflow.examples.tutorials.mnist import input_data\n",
    "# number 1 to 10 data\n",
    "mnist = input_data.read_data_sets('MNIST_data', one_hot=True)\n",
    "\n",
    "# 每個 MNIST 中的圖片都有一個對應的 label 也就是從 0 到 9 的數值．\n",
    "# 在這裡每個 label 都是一個 one-hot vectors\n",
    "# one-hot vector 是指說只有一個維度是 1 其他都是 0\n",
    "# 例如 label 0 的表示法就是 [1, 0, 0, 0, 0, 0, 0, 0, 0, 0]"
   ]
  },
  {
   "cell_type": "markdown",
   "metadata": {},
   "source": [
    "# 資料型態\n"
   ]
  },
  {
   "cell_type": "code",
   "execution_count": 34,
   "metadata": {},
   "outputs": [
    {
     "name": "stdout",
     "output_type": "stream",
     "text": [
      "讓我們看一下 MNIST 訓練還有測試的資料集長得如何\n",
      "mnist資料型態 : <class 'tensorflow.contrib.learn.python.learn.datasets.base.Datasets'>\n",
      "training sample 共有 55000 個\n",
      "validation sample 共有 5000 個\n",
      "testing sample 共有 10000 個\n",
      "train_img 的 type : <class 'numpy.ndarray'>\n",
      "train_img 的 dimension : (55000, 784)\n",
      "train_label 的 type : <class 'numpy.ndarray'>\n",
      "train_label 的 dimension : (55000, 10)\n",
      "test_img 的 type : <class 'numpy.ndarray'>\n",
      "test_img 的 dimension : (10000, 784)\n",
      "test_label 的 type : <class 'numpy.ndarray'>\n",
      "test_label 的 dimension : (10000, 10)\n"
     ]
    }
   ],
   "source": [
    "print (\"讓我們看一下 MNIST 訓練還有測試的資料集長得如何\")\n",
    "#print (\"mnist資料型態 : %s \" %(type(mnist)))\n",
    "print (\"mnist資料型態 : \" + str(type(mnist)))\n",
    "print (\"training sample 共有 %s 個\"%(mnist.train.num_examples))\n",
    "print (\"validation sample 共有 %s 個\" %(mnist.validation.num_examples))\n",
    "print (\"testing sample 共有 %s 個\"  %(mnist.test.num_examples))\n",
    "train_img = mnist.train.images\n",
    "train_label = mnist.train.labels\n",
    "test_img = mnist.test.images\n",
    "test_label = mnist.test.labels\n",
    "print\n",
    "print(\"train_img 的 type : %s\" % (type(train_img)))\n",
    "print(\"train_img 的 dimension : %s\" % (train_img.shape,))\n",
    "print(\"train_label 的 type : %s\" % (type(train_label)))\n",
    "print(\"train_label 的 dimension : %s\" % (train_label.shape,))\n",
    "print(\"test_img 的 type : %s\" % (type(test_img)))\n",
    "print(\"test_img 的 dimension : %s\" % (test_img.shape,))\n",
    "print(\"test_label 的 type : %s\" % (type(test_label)))\n",
    "print(\"test_label 的 dimension : %s\" % (test_label.shape,))"
   ]
  },
  {
   "cell_type": "markdown",
   "metadata": {},
   "source": [
    "# 函數定義區"
   ]
  },
  {
   "cell_type": "code",
   "execution_count": 35,
   "metadata": {
    "collapsed": true
   },
   "outputs": [],
   "source": [
    "def reshape_pic(origin, size, channel, xsnum):\n",
    "    pic = origin[xsnum] #第num張照片 \n",
    "    ch = pic.transpose(2,0,1).reshape([channel,-1]) #將照片拉成數個channel\n",
    "    out = ch.reshape([size*channel,size]) #將第cnum的channel照片拉成28x28\n",
    "#     print(\"\\n*********************************************************************************\\n\")    \n",
    "#     print (\"pic shape:\" + str(pic.shape))\n",
    "#     print (\"ch shape:\" + str(ch.shape))\n",
    "    print (\"output shape:\" + str(out.shape))\n",
    "#     print(\"\\n*********************************************************************************\\n\")\n",
    "    return out\n"
   ]
  },
  {
   "cell_type": "code",
   "execution_count": 36,
   "metadata": {
    "collapsed": true
   },
   "outputs": [],
   "source": [
    " def print_pic_int(x):\n",
    "    print(\"\\n*********************************************************************************\\n\")\n",
    "\n",
    "    j = 0\n",
    "    while j < (x.shape[0]) :\n",
    "        print (str(int(round(x[j,0])))+ \" \"+ str(int(round(x[j,1])))\n",
    "            + \" \"+ str(int(round(x[j,2])))+ \" \"+ str(int(round(x[j,3])))\n",
    "            + \" \"+ str(int(round(x[j,4])))+ \" \"+ str(int(round(x[j,5])))\n",
    "            + \" \"+ str(int(round(x[j,6])))+ \" \"+ str(int(round(x[j,7])))\n",
    "            + \" \"+ str(int(round(x[j,8])))+ \" \"+ str(int(round(x[j,9])))\n",
    "            + \" \"+ str(int(round(x[j,10])))+ \" \"+ str(int(round(x[j,11])))\n",
    "            + \" \"+ str(int(round(x[j,12])))+ \" \"+ str(int(round(x[j,13])))\n",
    "            + \" \"+ str(int(round(x[j,14])))+ \" \"+ str(int(round(x[j,15])))\n",
    "            + \" \"+ str(int(round(x[j,16])))+ \" \"+ str(int(round(x[j,17])))\n",
    "            + \" \"+ str(int(round(x[j,18])))+ \" \"+ str(int(round(x[j,19])))\n",
    "            + \" \"+ str(int(round(x[j,20])))+ \" \"+ str(int(round(x[j,21])))\n",
    "            + \" \"+ str(int(round(x[j,22])))+ \" \"+ str(int(round(x[j,23])))\n",
    "            + \" \"+ str(int(round(x[j,24])))+ \" \"+ str(int(round(x[j,25])))\n",
    "            + \" \"+ str(int(round(x[j,26])))+ \" \"+ str(int(round(x[j,27]))))\n",
    "        j += 1    \n",
    "        if(j% (x.shape[1]) == 0):\n",
    "            print(\"\\n*********************************************************************************\\n\")\n",
    "        "
   ]
  },
  {
   "cell_type": "code",
   "execution_count": 37,
   "metadata": {
    "collapsed": true
   },
   "outputs": [],
   "source": [
    "def print_pic_prec(x , prec):\n",
    "    print (\"test printing by num:\")\n",
    "    i = 0\n",
    "    print(\"\\n*********************************************************************************\\n\")\n",
    "    \n",
    "    while i < (x.shape[0]) :\n",
    "        print  (str(round(x[i,0], prec))+ \"\\t\"+ str(round(x[i,1], prec))\n",
    "            + \"\\t\"+ str(round(x[i,2], prec))+ \"\\t\"+ str(round(x[i,3], prec))\n",
    "            + \"\\t\"+ str(round(x[i,4], prec))+ \"\\t\"+ str(round(x[i,5], prec))\n",
    "            + \"\\t\"+ str(round(x[i,6], prec))+ \"\\t\"+ str(round(x[i,7], prec))\n",
    "            + \"\\t\"+ str(round(x[i,8], prec))+ \"\\t\"+ str(round(x[i,9], prec))\n",
    "            + \"\\t\"+ str(round(x[i,10], prec))+ \"\\t\"+ str(round(x[i,11], prec))\n",
    "            + \"\\t\"+ str(round(x[i,12], prec))+ \"\\t\"+ str(round(x[i,13], prec))\n",
    "            + \"\\t\"+ str(round(x[i,14], prec))+ \"\\t\"+ str(round(x[i,15], prec))\n",
    "            + \"\\t\"+ str(round(x[i,16], prec))+ \"\\t\"+ str(round(x[i,17], prec))\n",
    "            + \"\\t\"+ str(round(x[i,18], prec))+ \"\\t\"+ str(round(x[i,19], prec))\n",
    "            + \"\\t\"+ str(round(x[i,20], prec))+ \"\\t\"+ str(round(x[i,21], prec))\n",
    "            + \"\\t\"+ str(round(x[i,22], prec))+ \"\\t\"+ str(round(x[i,23], prec))\n",
    "            + \"\\t\"+ str(round(x[i,24], prec))+ \"\\t\"+ str(round(x[i,25], prec))\n",
    "            + \"\\t\"+ str(round(x[i,26], prec))+ \"\\t\"+ str(round(x[i,27], prec)))\n",
    "        i += 1\n",
    "        if(i% (x.shape[1]) == 0):\n",
    "             print(\"\\n*********************************************************************************\\n\")"
   ]
  },
  {
   "cell_type": "code",
   "execution_count": 38,
   "metadata": {
    "collapsed": true
   },
   "outputs": [],
   "source": [
    "trainimg = mnist.train.images\n",
    "trainlabel = mnist.train.labels\n",
    "nsample = 1\n",
    "randidx = np.random.randint(trainimg.shape[0], size=nsample)\n",
    "\n",
    "#testdata = 54999 #data no. 0- 54999 total 55000\n",
    "#x = trainimg[testdata]\n",
    "\n",
    "#prec = 1 #precision\n",
    "#print_pic(x,1)\n"
   ]
  },
  {
   "cell_type": "code",
   "execution_count": 39,
   "metadata": {
    "collapsed": true
   },
   "outputs": [],
   "source": [
    "def compute_accuracy(v_xs, v_ys):\n",
    "    global prediction\n",
    "    y_pre = sess.run(prediction, feed_dict={xs: v_xs, keep_prob: 1})\n",
    "    correct_prediction = tf.equal(tf.argmax(y_pre,1), tf.argmax(v_ys,1))\n",
    "    accuracy = tf.reduce_mean(tf.cast(correct_prediction, tf.float32))\n",
    "    result = sess.run(accuracy, feed_dict={xs: v_xs, ys: v_ys, keep_prob: 1})\n",
    "    return result\n",
    "\n",
    "def weight_variable(shape):\n",
    "    initial = tf.truncated_normal(shape,mean=1.0, stddev=0.1)\n",
    "    return tf.Variable(initial)\n",
    "\n",
    "def bias_variable(shape):\n",
    "    initial = tf.constant(0.1, shape=shape)\n",
    "    return tf.Variable(initial)\n",
    "\n",
    "def conv2d(x, W):\n",
    "    # stride [1, x_movement, y_movement, 1]\n",
    "    # Must have strides[0] = strides[3] = 1\n",
    "    return tf.nn.conv2d(x, W, strides=[1, 1, 1, 1], padding='SAME')\n",
    "\n",
    "def max_pool_2x2(x):\n",
    "    # stride [1, x_movement, y_movement, 1]\n",
    "    return tf.nn.max_pool(x, ksize=[1,2,2,1], strides=[1,2,2,1], padding='SAME')\n"
   ]
  },
  {
   "cell_type": "markdown",
   "metadata": {},
   "source": [
    "# CNN 訓練過程"
   ]
  },
  {
   "cell_type": "code",
   "execution_count": 40,
   "metadata": {
    "collapsed": true
   },
   "outputs": [],
   "source": [
    "\n",
    "# define placeholder for inputs to network\n",
    "xs = tf.placeholder(tf.float32, [None, 784])/255.   # 28x28\n",
    "ys = tf.placeholder(tf.float32, [None, 10])\n",
    "keep_prob = tf.placeholder(tf.float32)\n",
    "x_image = tf.reshape(xs, [-1, 28, 28, 1])\n",
    "# print(x_image.shape)  # [n_samples, 28,28,1]\n",
    "\n",
    "## conv1 layer ##\n",
    "W_conv1 = weight_variable([5,5,1,6]) # patch 5x5, in size 1, out size 32\n",
    "b_conv1 = bias_variable([6])\n",
    "h_conv1 = tf.nn.relu(conv2d(x_image, W_conv1) + b_conv1) # output size 28x28x32\n",
    "h_pool1 = max_pool_2x2(h_conv1)                                         # output size 14x14x32\n",
    "\n",
    "## conv2 layer ##\n",
    "W_conv2 = weight_variable([5,5, 6, 16]) # patch 5x5, in size 32, out size 64\n",
    "b_conv2 = bias_variable([16])\n",
    "h_conv2 = tf.nn.relu(conv2d(h_pool1, W_conv2) + b_conv2) # output size 14x14x64\n",
    "h_pool2 = max_pool_2x2(h_conv2)                                         # output size 7x7x64\n",
    "\n",
    "## fc1 layer ##\n",
    "W_fc1 = weight_variable([7*7*16, 120])\n",
    "b_fc1 = bias_variable([120])\n",
    "# [n_samples, 7, 7, 64] ->> [n_samples, 7*7*64]\n",
    "h_pool2_flat = tf.reshape(h_pool2, [-1, 7*7*16])\n",
    "h_fc1 = tf.nn.relu(tf.matmul(h_pool2_flat, W_fc1) + b_fc1)\n",
    "h_fc1_drop = tf.nn.dropout(h_fc1, keep_prob)\n",
    "\n",
    "## fc2 layer ##\n",
    "W_fc2 = weight_variable([120, 10])\n",
    "b_fc2 = bias_variable([10])\n",
    "prediction = tf.nn.softmax(tf.matmul(h_fc1_drop, W_fc2) + b_fc2)\n",
    "\n",
    "\n",
    "# the error between prediction and real data\n",
    "cross_entropy = tf.reduce_mean(-tf.reduce_sum(ys * tf.log(prediction),\n",
    "                                              reduction_indices=[1]))       # loss\n",
    "train_step = tf.train.AdamOptimizer(1e-4).minimize(cross_entropy)\n",
    "\n",
    "sess = tf.Session()\n",
    "# important step\n",
    "# tf.initialize_all_variables() no long valid from\n",
    "# 2017-03-02 if using tensorflow >= 0.12\n",
    "if int((tf.__version__).split('.')[1]) < 12 and int((tf.__version__).split('.')[0]) < 1:\n",
    "    init = tf.initialize_all_variables()\n",
    "else:\n",
    "    init = tf.global_variables_initializer()\n",
    "sess.run(init)\n",
    "for i in range(1):\n",
    "    batch_xs, batch_ys = mnist.train.next_batch(100)"
   ]
  },
  {
   "cell_type": "markdown",
   "metadata": {},
   "source": [
    "# 印出結果---input\n"
   ]
  },
  {
   "cell_type": "code",
   "execution_count": 41,
   "metadata": {},
   "outputs": [
    {
     "name": "stdout",
     "output_type": "stream",
     "text": [
      "第1張圖的 shape : (?, 28, 28, 1)\n",
      "output shape:(28, 28)\n",
      "output shape:(28, 28)\n",
      "test printing by num:\n",
      "\n",
      "*********************************************************************************\n",
      "\n",
      "0.0\t0.0\t0.0\t0.0\t0.0\t0.0\t0.0\t0.0\t0.0\t0.0\t0.0\t0.0\t0.0\t0.0\t0.0\t0.0\t0.0\t0.0\t0.0\t0.0\t0.0\t0.0\t0.0\t0.0\t0.0\t0.0\t0.0\t0.0\n",
      "0.0\t0.0\t0.0\t0.0\t0.0\t0.0\t0.0\t0.0\t0.0\t0.0\t0.0\t0.0\t0.0\t0.0\t0.0\t0.0\t0.0\t0.0\t0.0\t0.0\t0.0\t0.0\t0.0\t0.0\t0.0\t0.0\t0.0\t0.0\n",
      "0.0\t0.0\t0.0\t0.0\t0.0\t0.0\t0.0\t0.0\t0.0\t0.0\t0.0\t0.0\t0.0\t0.0\t0.0\t0.0\t0.0\t0.0\t0.0\t0.0\t0.0\t0.0\t0.0\t0.0\t0.0\t0.0\t0.0\t0.0\n",
      "0.0\t0.0\t0.0\t0.0\t0.0\t0.0\t0.0\t0.0\t0.0\t0.0\t0.0\t0.0\t0.07451\t0.11373\t0.11373\t0.11373\t0.11373\t0.11373\t0.06275\t0.0\t0.0\t0.0\t0.0\t0.0\t0.0\t0.0\t0.0\t0.0\n",
      "0.0\t0.0\t0.0\t0.0\t0.0\t0.0\t0.0\t0.0\t0.0\t0.07451\t0.22353\t0.66275\t0.88235\t0.98824\t0.98824\t0.99216\t0.98824\t0.98824\t0.84314\t0.61569\t0.07451\t0.0\t0.0\t0.0\t0.0\t0.0\t0.0\t0.0\n",
      "0.0\t0.0\t0.0\t0.0\t0.0\t0.0\t0.0\t0.0\t0.51765\t0.84314\t0.98824\t0.99216\t0.98824\t0.98824\t0.83922\t0.65882\t0.65882\t0.91765\t0.98824\t0.99216\t0.84314\t0.31765\t0.0\t0.0\t0.0\t0.0\t0.0\t0.0\n",
      "0.0\t0.0\t0.0\t0.0\t0.0\t0.0\t0.0\t0.05098\t0.80784\t0.98824\t0.79216\t0.50196\t0.1098\t0.1098\t0.05882\t0.0\t0.0\t0.08627\t0.1098\t0.79608\t0.98824\t0.95294\t0.29412\t0.0\t0.0\t0.0\t0.0\t0.0\n",
      "0.0\t0.0\t0.0\t0.0\t0.0\t0.0\t0.0\t0.05098\t0.81176\t0.99216\t0.99216\t0.0\t0.0\t0.0\t0.0\t0.0\t0.0\t0.0\t0.0\t0.05098\t0.81176\t0.99216\t0.99216\t0.0\t0.0\t0.0\t0.0\t0.0\n",
      "0.0\t0.0\t0.0\t0.0\t0.0\t0.0\t0.0\t0.0\t0.21961\t0.32941\t0.32941\t0.0\t0.0\t0.0\t0.0\t0.0\t0.0\t0.0\t0.0\t0.0\t0.56471\t0.98824\t0.98824\t0.0\t0.0\t0.0\t0.0\t0.0\n",
      "0.0\t0.0\t0.0\t0.0\t0.0\t0.0\t0.0\t0.0\t0.0\t0.0\t0.0\t0.0\t0.0\t0.0\t0.0\t0.0\t0.0\t0.0\t0.0\t0.0\t0.56471\t0.98824\t0.98824\t0.0\t0.0\t0.0\t0.0\t0.0\n",
      "0.0\t0.0\t0.0\t0.0\t0.0\t0.0\t0.0\t0.0\t0.0\t0.0\t0.0\t0.0\t0.0\t0.0\t0.0\t0.0\t0.0\t0.0\t0.0\t0.0\t0.66275\t0.98824\t0.98824\t0.0\t0.0\t0.0\t0.0\t0.0\n",
      "0.0\t0.0\t0.0\t0.0\t0.0\t0.0\t0.0\t0.0\t0.0\t0.0\t0.0\t0.0\t0.0\t0.0\t0.0\t0.0\t0.0\t0.0\t0.0\t0.0\t0.66275\t0.99216\t0.9451\t0.0\t0.0\t0.0\t0.0\t0.0\n",
      "0.0\t0.0\t0.0\t0.0\t0.0\t0.0\t0.0\t0.0\t0.0\t0.0\t0.0\t0.0\t0.0\t0.0\t0.0\t0.0\t0.0\t0.0\t0.0\t0.17647\t0.88235\t0.98824\t0.45098\t0.0\t0.0\t0.0\t0.0\t0.0\n",
      "0.0\t0.0\t0.0\t0.0\t0.0\t0.0\t0.0\t0.0\t0.0\t0.0\t0.0\t0.0\t0.0\t0.0\t0.0\t0.0\t0.0\t0.0\t0.0\t0.89804\t0.98824\t0.87843\t0.07451\t0.0\t0.0\t0.0\t0.0\t0.0\n",
      "0.0\t0.0\t0.0\t0.0\t0.0\t0.0\t0.0\t0.0\t0.0\t0.0\t0.0\t0.0\t0.0\t0.0\t0.0\t0.0\t0.0\t0.14902\t0.63922\t0.99216\t0.98824\t0.46275\t0.0\t0.0\t0.0\t0.0\t0.0\t0.0\n",
      "0.0\t0.0\t0.0\t0.0\t0.0\t0.0\t0.0\t0.01569\t0.11373\t0.45882\t0.55294\t0.55294\t0.55294\t0.40784\t0.11373\t0.0\t0.17647\t0.89804\t0.99216\t0.99608\t0.52549\t0.0\t0.0\t0.0\t0.0\t0.0\t0.0\t0.0\n",
      "0.0\t0.0\t0.0\t0.0\t0.0\t0.07451\t0.22353\t0.70196\t0.98824\t0.98824\t0.98824\t0.99216\t0.98824\t0.98824\t0.98824\t0.66275\t0.88235\t0.98824\t0.98824\t0.52549\t0.1098\t0.0\t0.0\t0.0\t0.0\t0.0\t0.0\t0.0\n",
      "0.0\t0.0\t0.0\t0.03922\t0.62745\t0.84314\t0.98824\t0.99216\t0.91373\t0.80392\t0.65882\t0.65882\t0.87843\t0.98824\t0.98824\t0.99216\t0.98824\t0.98824\t0.64314\t0.0\t0.0\t0.0\t0.0\t0.0\t0.0\t0.0\t0.0\t0.0\n",
      "0.0\t0.0\t0.0\t0.70196\t0.98824\t0.98824\t0.79216\t0.1098\t0.08627\t0.05098\t0.39608\t0.88627\t0.95294\t0.98824\t0.98824\t0.99216\t0.98824\t0.98824\t0.94118\t0.39608\t0.0\t0.0\t0.0\t0.0\t0.0\t0.0\t0.0\t0.0\n",
      "0.0\t0.0\t0.0\t1.0\t0.99216\t0.99216\t0.6\t0.55294\t0.84706\t0.99216\t0.99216\t0.99608\t0.99216\t0.90588\t0.68627\t0.44706\t0.73725\t0.96863\t0.99216\t0.99608\t0.69804\t0.20784\t0.01569\t0.0\t0.0\t0.0\t0.0\t0.0\n",
      "0.0\t0.0\t0.0\t0.89412\t0.98824\t0.98824\t0.98824\t0.99216\t0.98824\t0.91373\t0.76863\t0.72157\t0.32941\t0.07451\t0.0\t0.0\t0.0\t0.40784\t0.86667\t0.99216\t0.98824\t0.91373\t0.08627\t0.0\t0.0\t0.0\t0.0\t0.0\n",
      "0.0\t0.0\t0.0\t0.12157\t0.5098\t0.65882\t0.65882\t0.65882\t0.36471\t0.1451\t0.0\t0.0\t0.0\t0.0\t0.0\t0.0\t0.0\t0.0\t0.09804\t0.65882\t0.65882\t0.24314\t0.0\t0.0\t0.0\t0.0\t0.0\t0.0\n",
      "0.0\t0.0\t0.0\t0.0\t0.0\t0.0\t0.0\t0.0\t0.0\t0.0\t0.0\t0.0\t0.0\t0.0\t0.0\t0.0\t0.0\t0.0\t0.0\t0.0\t0.0\t0.0\t0.0\t0.0\t0.0\t0.0\t0.0\t0.0\n",
      "0.0\t0.0\t0.0\t0.0\t0.0\t0.0\t0.0\t0.0\t0.0\t0.0\t0.0\t0.0\t0.0\t0.0\t0.0\t0.0\t0.0\t0.0\t0.0\t0.0\t0.0\t0.0\t0.0\t0.0\t0.0\t0.0\t0.0\t0.0\n",
      "0.0\t0.0\t0.0\t0.0\t0.0\t0.0\t0.0\t0.0\t0.0\t0.0\t0.0\t0.0\t0.0\t0.0\t0.0\t0.0\t0.0\t0.0\t0.0\t0.0\t0.0\t0.0\t0.0\t0.0\t0.0\t0.0\t0.0\t0.0\n",
      "0.0\t0.0\t0.0\t0.0\t0.0\t0.0\t0.0\t0.0\t0.0\t0.0\t0.0\t0.0\t0.0\t0.0\t0.0\t0.0\t0.0\t0.0\t0.0\t0.0\t0.0\t0.0\t0.0\t0.0\t0.0\t0.0\t0.0\t0.0\n",
      "0.0\t0.0\t0.0\t0.0\t0.0\t0.0\t0.0\t0.0\t0.0\t0.0\t0.0\t0.0\t0.0\t0.0\t0.0\t0.0\t0.0\t0.0\t0.0\t0.0\t0.0\t0.0\t0.0\t0.0\t0.0\t0.0\t0.0\t0.0\n",
      "0.0\t0.0\t0.0\t0.0\t0.0\t0.0\t0.0\t0.0\t0.0\t0.0\t0.0\t0.0\t0.0\t0.0\t0.0\t0.0\t0.0\t0.0\t0.0\t0.0\t0.0\t0.0\t0.0\t0.0\t0.0\t0.0\t0.0\t0.0\n",
      "\n",
      "*********************************************************************************\n",
      "\n",
      "output shape:(28, 28)\n",
      "\n",
      "*********************************************************************************\n",
      "\n",
      "0 0 0 0 0 0 0 0 0 0 0 0 0 0 0 0 0 0 0 0 0 0 0 0 0 0 0 0\n",
      "0 0 0 0 0 0 0 0 0 0 0 0 0 0 0 0 0 0 0 0 0 0 0 0 0 0 0 0\n",
      "0 0 0 0 0 0 0 0 0 0 0 0 0 0 0 0 0 0 0 0 0 0 0 0 0 0 0 0\n",
      "0 0 0 0 0 0 0 0 0 0 0 0 0 0 0 0 0 0 0 0 0 0 0 0 0 0 0 0\n",
      "0 0 0 0 0 0 0 0 0 0 0 1 1 1 1 1 1 1 1 1 0 0 0 0 0 0 0 0\n",
      "0 0 0 0 0 0 0 0 1 1 1 1 1 1 1 1 1 1 1 1 1 0 0 0 0 0 0 0\n",
      "0 0 0 0 0 0 0 0 1 1 1 1 0 0 0 0 0 0 0 1 1 1 0 0 0 0 0 0\n",
      "0 0 0 0 0 0 0 0 1 1 1 0 0 0 0 0 0 0 0 0 1 1 1 0 0 0 0 0\n",
      "0 0 0 0 0 0 0 0 0 0 0 0 0 0 0 0 0 0 0 0 1 1 1 0 0 0 0 0\n",
      "0 0 0 0 0 0 0 0 0 0 0 0 0 0 0 0 0 0 0 0 1 1 1 0 0 0 0 0\n",
      "0 0 0 0 0 0 0 0 0 0 0 0 0 0 0 0 0 0 0 0 1 1 1 0 0 0 0 0\n",
      "0 0 0 0 0 0 0 0 0 0 0 0 0 0 0 0 0 0 0 0 1 1 1 0 0 0 0 0\n",
      "0 0 0 0 0 0 0 0 0 0 0 0 0 0 0 0 0 0 0 0 1 1 0 0 0 0 0 0\n",
      "0 0 0 0 0 0 0 0 0 0 0 0 0 0 0 0 0 0 0 1 1 1 0 0 0 0 0 0\n",
      "0 0 0 0 0 0 0 0 0 0 0 0 0 0 0 0 0 0 1 1 1 0 0 0 0 0 0 0\n",
      "0 0 0 0 0 0 0 0 0 0 1 1 1 0 0 0 0 1 1 1 1 0 0 0 0 0 0 0\n",
      "0 0 0 0 0 0 0 1 1 1 1 1 1 1 1 1 1 1 1 1 0 0 0 0 0 0 0 0\n",
      "0 0 0 0 1 1 1 1 1 1 1 1 1 1 1 1 1 1 1 0 0 0 0 0 0 0 0 0\n",
      "0 0 0 1 1 1 1 0 0 0 0 1 1 1 1 1 1 1 1 0 0 0 0 0 0 0 0 0\n",
      "0 0 0 1 1 1 1 1 1 1 1 1 1 1 1 0 1 1 1 1 1 0 0 0 0 0 0 0\n",
      "0 0 0 1 1 1 1 1 1 1 1 1 0 0 0 0 0 0 1 1 1 1 0 0 0 0 0 0\n",
      "0 0 0 0 1 1 1 1 0 0 0 0 0 0 0 0 0 0 0 1 1 0 0 0 0 0 0 0\n",
      "0 0 0 0 0 0 0 0 0 0 0 0 0 0 0 0 0 0 0 0 0 0 0 0 0 0 0 0\n",
      "0 0 0 0 0 0 0 0 0 0 0 0 0 0 0 0 0 0 0 0 0 0 0 0 0 0 0 0\n",
      "0 0 0 0 0 0 0 0 0 0 0 0 0 0 0 0 0 0 0 0 0 0 0 0 0 0 0 0\n",
      "0 0 0 0 0 0 0 0 0 0 0 0 0 0 0 0 0 0 0 0 0 0 0 0 0 0 0 0\n",
      "0 0 0 0 0 0 0 0 0 0 0 0 0 0 0 0 0 0 0 0 0 0 0 0 0 0 0 0\n",
      "0 0 0 0 0 0 0 0 0 0 0 0 0 0 0 0 0 0 0 0 0 0 0 0 0 0 0 0\n",
      "\n",
      "*********************************************************************************\n",
      "\n"
     ]
    },
    {
     "data": {
      "image/png": "[encoded data removed]",
      "text/plain": [
       "<matplotlib.figure.Figure at 0x241dcdedc88>"
      ]
     },
     "metadata": {},
     "output_type": "display_data"
    }
   ],
   "source": [
    "print (\"第1張圖的 shape : \" + str(x_image.shape))\n",
    "px1 = sess.run(x_image, feed_dict={xs: batch_xs, ys: batch_ys, keep_prob: 0.5})\n",
    "plt.imshow(reshape_pic(px1,28,1,0), cmap='Greys')  \n",
    "\n",
    "print_pic_prec(reshape_pic(px1,28,1,0),5)\n",
    "print_pic_int(reshape_pic(px1,28,1,0))"
   ]
  },
  {
   "cell_type": "markdown",
   "metadata": {},
   "source": [
    "# 印出結果---conv 1層"
   ]
  },
  {
   "cell_type": "code",
   "execution_count": 42,
   "metadata": {},
   "outputs": [
    {
     "name": "stdout",
     "output_type": "stream",
     "text": [
      "conv1 shape : (?, 28, 28, 6)\n",
      "output shape:(168, 28)\n",
      "output shape:(168, 28)\n",
      "test printing by num:\n",
      "\n",
      "*********************************************************************************\n",
      "\n",
      "0.1\t0.1\t0.1\t0.1\t0.1\t0.1\t0.1\t0.1\t0.1\t0.1\t0.1\t0.1\t0.1\t0.1\t0.1\t0.1\t0.1\t0.1\t0.1\t0.1\t0.1\t0.1\t0.1\t0.1\t0.1\t0.1\t0.1\t0.1\n",
      "0.1\t0.1\t0.1\t0.1\t0.1\t0.1\t0.1\t0.1\t0.1\t0.1\t0.173\t0.288\t0.394\t0.504\t0.618\t0.657\t0.607\t0.493\t0.383\t0.277\t0.163\t0.1\t0.1\t0.1\t0.1\t0.1\t0.1\t0.1\n",
      "0.1\t0.1\t0.1\t0.1\t0.1\t0.1\t0.1\t0.173\t0.396\t1.047\t2.002\t3.057\t4.066\t4.937\t5.371\t5.513\t5.315\t4.825\t3.815\t2.723\t1.686\t0.792\t0.175\t0.1\t0.1\t0.1\t0.1\t0.1\n",
      "0.1\t0.1\t0.1\t0.1\t0.1\t0.1\t0.609\t1.542\t2.71\t4.368\t6.294\t7.862\t8.869\t9.382\t9.473\t9.553\t9.356\t8.995\t8.108\t6.683\t4.676\t2.862\t1.332\t0.418\t0.1\t0.1\t0.1\t0.1\n",
      "0.1\t0.1\t0.1\t0.1\t0.1\t0.15\t1.51\t3.425\t5.339\t7.397\t9.275\t10.082\t10.128\t9.835\t9.42\t9.486\t9.329\t9.794\t10.04\t9.516\t7.706\t5.756\t3.466\t1.643\t0.395\t0.1\t0.1\t0.1\n",
      "0.1\t0.1\t0.1\t0.1\t0.1\t0.206\t2.328\t5.092\t7.931\t9.917\t11.643\t11.734\t10.846\t9.663\t9.318\t9.343\t9.163\t9.731\t10.753\t11.364\t10.548\t8.516\t6.091\t3.558\t1.366\t0.1\t0.1\t0.1\n",
      "0.1\t0.1\t0.1\t0.1\t0.1\t0.2\t2.427\t5.451\t8.694\t10.675\t12.517\t12.238\t10.984\t9.478\t9.015\t8.979\t8.843\t9.348\t11.043\t12.677\t13.047\t11.059\t8.583\t5.431\t2.284\t0.1\t0.1\t0.1\n",
      "0.1\t0.1\t0.1\t0.1\t0.1\t0.187\t2.233\t5.208\t8.205\t9.833\t10.952\t9.638\t7.548\t5.203\t4.402\t4.253\t4.245\t5.044\t8.118\t11.612\t13.987\t12.862\t11.116\t7.312\t3.212\t0.1\t0.1\t0.1\n",
      "0.1\t0.1\t0.1\t0.1\t0.1\t0.184\t1.728\t3.991\t5.999\t6.812\t6.863\t5.189\t2.914\t0.873\t0.379\t0.341\t0.34\t0.98\t4.436\t9.16\t13.299\t13.393\t12.57\t9.043\t4.145\t0.1\t0.1\t0.1\n",
      "0.1\t0.1\t0.1\t0.1\t0.1\t0.141\t0.993\t2.322\t3.56\t3.853\t3.71\t2.808\t1.381\t0.1\t0.1\t0.1\t0.1\t0.141\t3.145\t7.93\t12.615\t12.991\t12.881\t9.786\t4.784\t0.1\t0.1\t0.1\n",
      "0.1\t0.1\t0.1\t0.1\t0.1\t0.1\t0.277\t0.603\t0.918\t0.986\t0.964\t0.779\t0.424\t0.1\t0.1\t0.1\t0.1\t0.273\t3.373\t8.08\t12.271\t12.604\t12.461\t9.24\t4.245\t0.1\t0.1\t0.1\n",
      "0.1\t0.1\t0.1\t0.1\t0.1\t0.1\t0.1\t0.1\t0.1\t0.1\t0.1\t0.1\t0.1\t0.1\t0.1\t0.1\t0.1\t1.174\t4.71\t9.211\t12.52\t12.925\t11.858\t8.228\t3.371\t0.1\t0.1\t0.1\n",
      "0.1\t0.1\t0.1\t0.1\t0.1\t0.1\t0.1\t0.1\t0.1\t0.1\t0.1\t0.1\t0.1\t0.1\t0.1\t0.246\t0.881\t2.995\t6.745\t10.885\t13.064\t12.876\t10.734\t6.773\t2.443\t0.1\t0.1\t0.1\n",
      "0.1\t0.1\t0.1\t0.1\t0.1\t0.115\t0.228\t0.682\t1.231\t1.747\t2.274\t2.572\t2.228\t1.686\t1.337\t1.849\t3.107\t5.843\t9.509\t12.585\t13.022\t11.786\t8.658\t4.825\t1.518\t0.1\t0.1\t0.1\n",
      "0.1\t0.1\t0.1\t0.173\t0.396\t1.102\t2.204\t3.631\t5.063\t6.395\t7.209\t7.461\t7.089\t6.213\t5.724\t6.31\t7.432\t9.651\t12.234\t13.433\t12.29\t9.741\t6.32\t2.89\t0.613\t0.1\t0.1\t0.1\n",
      "0.1\t0.139\t0.757\t1.689\t2.846\t4.574\t6.531\t8.095\t9.316\t10.257\t10.919\t11.283\t11.154\t10.623\t10.503\t10.981\t11.712\t12.77\t13.723\t13.176\t10.55\t7.332\t4.102\t1.473\t0.173\t0.1\t0.1\t0.1\n",
      "0.1\t0.832\t2.514\t4.331\t6.305\t8.036\t9.223\t9.855\t10.449\t11.462\t13.006\t14.241\t15.067\t15.187\t15.118\t15.548\t16.278\t16.043\t15.237\t12.888\t9.11\t5.041\t2.161\t0.555\t0.1\t0.1\t0.1\t0.1\n",
      "0.1\t1.881\t4.429\t7.101\t9.632\t11.721\t12.86\t13.433\t14.18\t15.721\t17.694\t19.045\t19.523\t19.047\t18.653\t19.029\t19.287\t18.552\t17.057\t13.616\t8.908\t4.516\t1.64\t0.324\t0.116\t0.1\t0.1\t0.1\n",
      "0.1\t2.71\t6.049\t9.805\t13.2\t16.481\t17.713\t17.881\t17.896\t18.507\t19.197\t19.242\t19.088\t18.426\t17.721\t17.944\t18.483\t18.005\t16.808\t14.396\t10.176\t5.826\t3.056\t1.309\t0.201\t0.1\t0.1\t0.1\n",
      "0.1\t2.681\t6.461\t10.917\t14.84\t18.184\t18.584\t17.426\t15.727\t14.929\t14.652\t14.38\t14.177\t13.828\t13.317\t13.518\t14.209\t14.76\t14.731\t13.462\t10.138\t6.721\t3.765\t1.482\t0.194\t0.1\t0.1\t0.1\n",
      "0.1\t2.411\t5.795\t9.275\t12.452\t14.75\t14.211\t12.842\t11.266\t10.82\t10.844\t10.631\t10.33\t9.694\t8.826\t8.861\t9.658\t11.118\t12.038\t11.691\t9.542\t6.718\t3.681\t1.475\t0.196\t0.1\t0.1\t0.1\n",
      "0.1\t1.76\t4.264\t6.632\t9.077\t11.142\t11.305\t10.912\t10.085\t9.621\t8.852\t7.704\t6.436\t5.153\t4.127\t4.117\t4.986\t6.808\t8.687\t9.45\t8.35\t6.405\t3.855\t1.492\t0.195\t0.1\t0.1\t0.1\n",
      "0.1\t0.923\t2.413\t3.942\t5.622\t7.276\t7.645\t7.24\t6.433\t5.506\t4.283\t3.02\t2.007\t1.231\t0.504\t0.502\t1.322\t2.852\t4.492\t5.698\t5.608\t4.595\t3.008\t1.317\t0.185\t0.1\t0.1\t0.1\n",
      "0.1\t0.198\t0.642\t1.291\t1.929\t2.599\t2.905\t2.556\t1.939\t1.27\t0.615\t0.243\t0.1\t0.1\t0.1\t0.1\t0.179\t0.737\t1.431\t1.701\t1.756\t1.674\t1.01\t0.339\t0.1\t0.1\t0.1\t0.1\n",
      "0.1\t0.1\t0.1\t0.1\t0.1\t0.1\t0.1\t0.1\t0.1\t0.1\t0.1\t0.1\t0.1\t0.1\t0.1\t0.1\t0.1\t0.1\t0.1\t0.1\t0.1\t0.1\t0.1\t0.1\t0.1\t0.1\t0.1\t0.1\n",
      "0.1\t0.1\t0.1\t0.1\t0.1\t0.1\t0.1\t0.1\t0.1\t0.1\t0.1\t0.1\t0.1\t0.1\t0.1\t0.1\t0.1\t0.1\t0.1\t0.1\t0.1\t0.1\t0.1\t0.1\t0.1\t0.1\t0.1\t0.1\n",
      "0.1\t0.1\t0.1\t0.1\t0.1\t0.1\t0.1\t0.1\t0.1\t0.1\t0.1\t0.1\t0.1\t0.1\t0.1\t0.1\t0.1\t0.1\t0.1\t0.1\t0.1\t0.1\t0.1\t0.1\t0.1\t0.1\t0.1\t0.1\n",
      "0.1\t0.1\t0.1\t0.1\t0.1\t0.1\t0.1\t0.1\t0.1\t0.1\t0.1\t0.1\t0.1\t0.1\t0.1\t0.1\t0.1\t0.1\t0.1\t0.1\t0.1\t0.1\t0.1\t0.1\t0.1\t0.1\t0.1\t0.1\n",
      "\n",
      "*********************************************************************************\n",
      "\n",
      "0.1\t0.1\t0.1\t0.1\t0.1\t0.1\t0.1\t0.1\t0.1\t0.1\t0.1\t0.1\t0.1\t0.1\t0.1\t0.1\t0.1\t0.1\t0.1\t0.1\t0.1\t0.1\t0.1\t0.1\t0.1\t0.1\t0.1\t0.1\n",
      "0.1\t0.1\t0.1\t0.1\t0.1\t0.1\t0.1\t0.1\t0.1\t0.1\t0.167\t0.269\t0.391\t0.519\t0.642\t0.685\t0.638\t0.536\t0.421\t0.292\t0.167\t0.1\t0.1\t0.1\t0.1\t0.1\t0.1\t0.1\n",
      "0.1\t0.1\t0.1\t0.1\t0.1\t0.1\t0.1\t0.167\t0.369\t0.985\t1.919\t3.084\t4.194\t5.144\t5.613\t5.77\t5.577\t5.118\t4.141\t3.058\t1.843\t0.845\t0.18\t0.1\t0.1\t0.1\t0.1\t0.1\n",
      "0.1\t0.1\t0.1\t0.1\t0.1\t0.1\t0.569\t1.412\t2.684\t4.512\t6.588\t8.226\t9.244\t9.841\t9.95\t9.964\t9.667\t9.301\t8.403\t7.071\t5.127\t3.197\t1.439\t0.442\t0.1\t0.1\t0.1\t0.1\n",
      "0.1\t0.1\t0.1\t0.1\t0.1\t0.146\t1.494\t3.363\t5.543\t7.884\t10.095\t10.989\t10.962\t10.652\t10.24\t10.333\t10.103\t10.381\t10.309\t9.772\t8.11\t6.284\t3.829\t1.791\t0.416\t0.1\t0.1\t0.1\n",
      "0.1\t0.1\t0.1\t0.1\t0.1\t0.207\t2.471\t5.407\t8.517\t10.832\t12.982\t12.957\t11.936\t10.596\t10.166\t10.279\t10.103\t10.621\t11.412\t11.749\t10.787\t8.962\t6.718\t3.884\t1.482\t0.1\t0.1\t0.1\n",
      "0.1\t0.1\t0.1\t0.1\t0.1\t0.218\t2.87\t6.248\t9.541\t11.457\t13.49\t13.117\t11.813\t9.964\t9.443\t9.509\t9.384\t9.993\t11.808\t13.16\t13.44\t11.402\t9.239\t5.83\t2.53\t0.1\t0.1\t0.1\n",
      "0.1\t0.1\t0.1\t0.1\t0.1\t0.215\t2.814\t6.229\t9.176\t10.425\t11.274\t10.104\t7.878\t5.319\t4.477\t4.424\t4.47\t5.478\t8.782\t12.368\t14.482\t13.253\t11.631\t7.824\t3.548\t0.1\t0.1\t0.1\n",
      "0.1\t0.1\t0.1\t0.1\t0.1\t0.209\t2.183\t4.702\t6.652\t6.943\t6.895\t5.238\t3.016\t0.861\t0.368\t0.353\t0.368\t1.142\t5.086\t10.014\t14.2\t13.678\t13.02\t9.507\t4.536\t0.1\t0.1\t0.1\n",
      "0.1\t0.1\t0.1\t0.1\t0.1\t0.15\t1.212\t2.685\t3.877\t3.84\t3.588\t2.776\t1.399\t0.1\t0.1\t0.1\t0.1\t0.15\t3.628\t8.844\t13.683\t13.371\t13.249\t10.221\t5.165\t0.1\t0.1\t0.1\n",
      "0.1\t0.1\t0.1\t0.1\t0.1\t0.1\t0.316\t0.686\t0.993\t0.985\t0.921\t0.764\t0.421\t0.1\t0.1\t0.1\t0.1\t0.26\t3.789\t9.017\t13.467\t13.107\t12.721\t9.626\t4.584\t0.1\t0.1\t0.1\n",
      "0.1\t0.1\t0.1\t0.1\t0.1\t0.1\t0.1\t0.1\t0.1\t0.1\t0.1\t0.1\t0.1\t0.1\t0.1\t0.1\t0.1\t1.123\t5.072\t10.34\t13.787\t13.501\t12.071\t8.598\t3.606\t0.1\t0.1\t0.1\n",
      "0.1\t0.1\t0.1\t0.1\t0.1\t0.1\t0.1\t0.1\t0.1\t0.1\t0.1\t0.1\t0.1\t0.1\t0.1\t0.235\t0.811\t3.008\t7.431\t12.172\t14.209\t13.347\t10.983\t7.065\t2.566\t0.1\t0.1\t0.1\n",
      "0.1\t0.1\t0.1\t0.1\t0.1\t0.114\t0.217\t0.635\t1.158\t1.768\t2.365\t2.709\t2.415\t1.883\t1.439\t1.812\t3.03\t6.281\t10.686\t13.936\t13.98\t12.091\t8.898\t5.002\t1.554\t0.1\t0.1\t0.1\n",
      "0.1\t0.1\t0.1\t0.167\t0.369\t1.039\t2.111\t3.69\t5.273\t6.654\t7.476\t7.759\t7.367\t6.505\t6.082\t6.655\t7.932\t10.685\t13.555\t14.71\t12.816\t10.032\t6.505\t2.978\t0.614\t0.1\t0.1\t0.1\n",
      "0.1\t0.135\t0.703\t1.555\t2.855\t4.74\t6.864\t8.579\t9.907\t10.887\t11.553\t11.86\t11.662\t11.053\t11.002\t11.756\t12.852\t14.134\t15.142\t13.952\t10.871\t7.483\t4.181\t1.501\t0.173\t0.1\t0.1\t0.1\n",
      "0.1\t0.782\t2.405\t4.425\t6.621\t8.632\t10.171\t10.774\t11.328\t12.282\t13.889\t15.268\t16.076\t16.11\t16.09\t16.907\t17.696\t17.412\t16.325\t13.578\t9.422\t5.102\t2.19\t0.551\t0.1\t0.1\t0.1\t0.1\n",
      "0.1\t1.886\t4.491\t7.663\t10.339\t12.809\t14.012\t14.579\t15.407\t16.937\t18.998\t20.357\t20.805\t20.294\t20.0\t20.429\t20.711\t19.498\t17.647\t14.153\t9.388\t4.787\t1.722\t0.341\t0.117\t0.1\t0.1\t0.1\n",
      "0.1\t2.931\t6.601\t10.655\t14.151\t17.591\t18.825\t19.035\t18.917\t19.642\t20.53\t20.674\t20.494\t19.689\t18.973\t19.261\t19.567\t18.623\t17.188\t14.781\t10.687\t6.364\t3.334\t1.415\t0.21\t0.1\t0.1\t0.1\n",
      "0.1\t3.237\t7.467\t11.886\t15.759\t19.1\t19.649\t18.58\t16.887\t16.119\t15.852\t15.562\t15.256\t14.845\t14.309\t14.65\t15.299\t15.472\t15.163\t13.987\t10.659\t7.137\t4.003\t1.649\t0.209\t0.1\t0.1\t0.1\n",
      "0.1\t3.081\t6.905\t10.34\t13.327\t15.616\t15.118\t13.846\t12.268\t11.926\t11.874\t11.389\t10.903\t10.139\t9.301\t9.472\t10.5\t12.014\t12.769\t12.283\t9.9\t6.95\t3.99\t1.623\t0.205\t0.1\t0.1\t0.1\n",
      "0.1\t2.245\t5.016\t7.45\t9.769\t11.883\t12.115\t11.652\t10.704\t10.149\t9.213\t7.934\t6.562\t5.228\t4.228\t4.43\t5.472\t7.483\t9.436\t9.923\t8.429\t6.522\t3.968\t1.585\t0.202\t0.1\t0.1\t0.1\n",
      "0.1\t1.119\t2.846\t4.351\t5.995\t7.633\t7.936\t7.461\t6.569\t5.633\t4.334\t2.981\t1.953\t1.205\t0.498\t0.574\t1.552\t3.291\t4.888\t5.931\t5.584\t4.507\t3.002\t1.325\t0.184\t0.1\t0.1\t0.1\n",
      "0.1\t0.22\t0.747\t1.453\t2.069\t2.711\t2.954\t2.533\t1.893\t1.238\t0.606\t0.241\t0.1\t0.1\t0.1\t0.1\t0.196\t0.865\t1.612\t1.754\t1.699\t1.623\t0.995\t0.337\t0.1\t0.1\t0.1\t0.1\n",
      "0.1\t0.1\t0.1\t0.1\t0.1\t0.1\t0.1\t0.1\t0.1\t0.1\t0.1\t0.1\t0.1\t0.1\t0.1\t0.1\t0.1\t0.1\t0.1\t0.1\t0.1\t0.1\t0.1\t0.1\t0.1\t0.1\t0.1\t0.1\n",
      "0.1\t0.1\t0.1\t0.1\t0.1\t0.1\t0.1\t0.1\t0.1\t0.1\t0.1\t0.1\t0.1\t0.1\t0.1\t0.1\t0.1\t0.1\t0.1\t0.1\t0.1\t0.1\t0.1\t0.1\t0.1\t0.1\t0.1\t0.1\n",
      "0.1\t0.1\t0.1\t0.1\t0.1\t0.1\t0.1\t0.1\t0.1\t0.1\t0.1\t0.1\t0.1\t0.1\t0.1\t0.1\t0.1\t0.1\t0.1\t0.1\t0.1\t0.1\t0.1\t0.1\t0.1\t0.1\t0.1\t0.1\n",
      "0.1\t0.1\t0.1\t0.1\t0.1\t0.1\t0.1\t0.1\t0.1\t0.1\t0.1\t0.1\t0.1\t0.1\t0.1\t0.1\t0.1\t0.1\t0.1\t0.1\t0.1\t0.1\t0.1\t0.1\t0.1\t0.1\t0.1\t0.1\n",
      "\n",
      "*********************************************************************************\n",
      "\n",
      "0.1\t0.1\t0.1\t0.1\t0.1\t0.1\t0.1\t0.1\t0.1\t0.1\t0.1\t0.1\t0.1\t0.1\t0.1\t0.1\t0.1\t0.1\t0.1\t0.1\t0.1\t0.1\t0.1\t0.1\t0.1\t0.1\t0.1\t0.1\n",
      "0.1\t0.1\t0.1\t0.1\t0.1\t0.1\t0.1\t0.1\t0.1\t0.1\t0.171\t0.29\t0.407\t0.516\t0.629\t0.669\t0.62\t0.505\t0.385\t0.275\t0.164\t0.1\t0.1\t0.1\t0.1\t0.1\t0.1\t0.1\n",
      "0.1\t0.1\t0.1\t0.1\t0.1\t0.1\t0.1\t0.171\t0.395\t1.051\t2.029\t3.137\t4.153\t5.047\t5.49\t5.638\t5.449\t4.964\t3.932\t2.783\t1.674\t0.801\t0.176\t0.1\t0.1\t0.1\t0.1\t0.1\n",
      "0.1\t0.1\t0.1\t0.1\t0.1\t0.1\t0.595\t1.54\t2.77\t4.393\t6.342\t7.961\t9.075\t9.663\t9.764\t9.833\t9.672\t9.353\t8.509\t7.044\t4.919\t2.919\t1.334\t0.426\t0.1\t0.1\t0.1\t0.1\n",
      "0.1\t0.1\t0.1\t0.1\t0.1\t0.149\t1.428\t3.375\t5.429\t7.615\t9.649\t10.486\t10.574\t10.324\t9.894\t9.894\t9.675\t10.085\t10.366\t9.969\t8.169\t6.067\t3.57\t1.666\t0.402\t0.1\t0.1\t0.1\n",
      "0.1\t0.1\t0.1\t0.1\t0.1\t0.198\t2.265\t5.184\t8.231\t10.532\t12.347\t12.317\t11.401\t10.134\t9.775\t9.821\t9.599\t10.03\t10.935\t11.623\t11.019\t9.071\t6.445\t3.623\t1.41\t0.1\t0.1\t0.1\n",
      "0.1\t0.1\t0.1\t0.1\t0.1\t0.199\t2.542\t5.692\t9.015\t11.296\t13.232\t12.957\t11.524\t9.887\t9.444\t9.491\t9.325\t9.844\t11.384\t12.898\t13.327\t11.616\t9.101\t5.703\t2.372\t0.1\t0.1\t0.1\n",
      "0.1\t0.1\t0.1\t0.1\t0.1\t0.205\t2.538\t5.599\t8.652\t10.22\t11.334\t10.165\t7.861\t5.47\t4.577\t4.466\t4.478\t5.473\t8.467\t12.021\t14.212\t13.37\t11.574\t7.757\t3.342\t0.1\t0.1\t0.1\n",
      "0.1\t0.1\t0.1\t0.1\t0.1\t0.201\t2.024\t4.327\t6.439\t6.836\t7.066\t5.346\t3.108\t0.912\t0.383\t0.35\t0.357\t1.08\t4.738\t9.603\t13.806\t13.737\t13.033\t9.429\t4.414\t0.1\t0.1\t0.1\n",
      "0.1\t0.1\t0.1\t0.1\t0.1\t0.146\t1.123\t2.511\t3.85\t3.906\t3.816\t2.796\t1.503\t0.1\t0.1\t0.1\t0.1\t0.146\t3.322\t8.311\t13.222\t13.378\t13.375\t10.108\t5.098\t0.1\t0.1\t0.1\n",
      "0.1\t0.1\t0.1\t0.1\t0.1\t0.1\t0.296\t0.643\t0.991\t1.023\t0.988\t0.768\t0.446\t0.1\t0.1\t0.1\t0.1\t0.269\t3.54\t8.485\t12.877\t12.979\t12.883\t9.591\t4.544\t0.1\t0.1\t0.1\n",
      "0.1\t0.1\t0.1\t0.1\t0.1\t0.1\t0.1\t0.1\t0.1\t0.1\t0.1\t0.1\t0.1\t0.1\t0.1\t0.1\t0.1\t1.129\t4.92\t9.715\t13.193\t13.291\t12.262\t8.511\t3.627\t0.1\t0.1\t0.1\n",
      "0.1\t0.1\t0.1\t0.1\t0.1\t0.1\t0.1\t0.1\t0.1\t0.1\t0.1\t0.1\t0.1\t0.1\t0.1\t0.242\t0.873\t2.932\t7.091\t11.426\t13.854\t13.213\t11.164\t6.927\t2.67\t0.1\t0.1\t0.1\n",
      "0.1\t0.1\t0.1\t0.1\t0.1\t0.115\t0.226\t0.678\t1.256\t1.812\t2.328\t2.631\t2.288\t1.714\t1.329\t1.818\t3.084\t6.016\t10.022\t13.221\t13.682\t12.133\t9.04\t4.945\t1.657\t0.1\t0.1\t0.1\n",
      "0.1\t0.1\t0.1\t0.171\t0.395\t1.104\t2.226\t3.681\t5.124\t6.48\t7.374\t7.685\t7.35\t6.48\t5.904\t6.326\t7.551\t10.14\t12.902\t14.207\t12.693\t10.144\t6.491\t3.047\t0.655\t0.1\t0.1\t0.1\n",
      "0.1\t0.137\t0.742\t1.699\t2.917\t4.589\t6.578\t8.238\t9.594\t10.602\t11.298\t11.67\t11.526\t11.002\t10.849\t11.42\t12.274\t13.508\t14.495\t13.757\t10.891\t7.602\t4.209\t1.603\t0.178\t0.1\t0.1\t0.1\n",
      "0.1\t0.809\t2.452\t4.377\t6.38\t8.298\t9.619\t10.322\t10.985\t11.992\t13.531\t14.774\t15.546\t15.685\t15.699\t16.361\t17.05\t16.942\t15.895\t13.355\t9.374\t5.194\t2.269\t0.585\t0.1\t0.1\t0.1\t0.1\n",
      "0.1\t1.772\t4.434\t7.357\t10.015\t12.457\t13.547\t14.124\t14.735\t16.246\t18.284\t19.735\t20.3\t19.748\t19.418\t19.842\t20.228\t19.342\t17.728\t14.226\t9.236\t4.634\t1.697\t0.328\t0.116\t0.1\t0.1\t0.1\n",
      "0.1\t2.645\t6.311\t10.187\t13.858\t17.142\t18.394\t18.569\t18.52\t19.286\t20.109\t20.176\t20.01\t19.312\t18.57\t18.708\t19.186\t18.577\t17.429\t14.981\t10.742\t6.115\t3.116\t1.342\t0.204\t0.1\t0.1\t0.1\n",
      "0.1\t2.852\t6.778\t11.306\t15.496\t18.776\t19.388\t18.188\t16.569\t15.728\t15.465\t15.188\t14.947\t14.546\t13.98\t14.156\t14.738\t15.116\t15.107\t13.927\t10.719\t7.12\t4.012\t1.566\t0.2\t0.1\t0.1\t0.1\n",
      "0.1\t2.804\t6.164\t9.774\t12.822\t15.363\t14.922\t13.538\t11.96\t11.417\t11.44\t11.147\t10.765\t10.089\t9.303\t9.391\t10.242\t11.558\t12.413\t12.052\t9.938\t7.071\t3.949\t1.523\t0.198\t0.1\t0.1\t0.1\n",
      "0.1\t2.088\t4.597\t7.187\t9.408\t11.692\t11.824\t11.421\t10.572\t10.065\t9.194\t8.022\t6.7\t5.401\t4.326\t4.403\t5.392\t7.267\t9.135\t9.796\t8.481\t6.591\t3.974\t1.649\t0.211\t0.1\t0.1\t0.1\n",
      "0.1\t1.032\t2.658\t4.299\t5.898\t7.59\t7.941\t7.538\t6.685\t5.774\t4.466\t3.144\t2.032\t1.255\t0.518\t0.543\t1.443\t3.187\t4.784\t5.905\t5.703\t4.74\t3.08\t1.41\t0.191\t0.1\t0.1\t0.1\n",
      "0.1\t0.209\t0.693\t1.389\t2.072\t2.731\t3.021\t2.649\t1.971\t1.296\t0.625\t0.252\t0.1\t0.1\t0.1\t0.1\t0.188\t0.8\t1.534\t1.829\t1.793\t1.683\t1.029\t0.355\t0.1\t0.1\t0.1\t0.1\n",
      "0.1\t0.1\t0.1\t0.1\t0.1\t0.1\t0.1\t0.1\t0.1\t0.1\t0.1\t0.1\t0.1\t0.1\t0.1\t0.1\t0.1\t0.1\t0.1\t0.1\t0.1\t0.1\t0.1\t0.1\t0.1\t0.1\t0.1\t0.1\n",
      "0.1\t0.1\t0.1\t0.1\t0.1\t0.1\t0.1\t0.1\t0.1\t0.1\t0.1\t0.1\t0.1\t0.1\t0.1\t0.1\t0.1\t0.1\t0.1\t0.1\t0.1\t0.1\t0.1\t0.1\t0.1\t0.1\t0.1\t0.1\n",
      "0.1\t0.1\t0.1\t0.1\t0.1\t0.1\t0.1\t0.1\t0.1\t0.1\t0.1\t0.1\t0.1\t0.1\t0.1\t0.1\t0.1\t0.1\t0.1\t0.1\t0.1\t0.1\t0.1\t0.1\t0.1\t0.1\t0.1\t0.1\n",
      "0.1\t0.1\t0.1\t0.1\t0.1\t0.1\t0.1\t0.1\t0.1\t0.1\t0.1\t0.1\t0.1\t0.1\t0.1\t0.1\t0.1\t0.1\t0.1\t0.1\t0.1\t0.1\t0.1\t0.1\t0.1\t0.1\t0.1\t0.1\n",
      "\n",
      "*********************************************************************************\n",
      "\n",
      "0.1\t0.1\t0.1\t0.1\t0.1\t0.1\t0.1\t0.1\t0.1\t0.1\t0.1\t0.1\t0.1\t0.1\t0.1\t0.1\t0.1\t0.1\t0.1\t0.1\t0.1\t0.1\t0.1\t0.1\t0.1\t0.1\t0.1\t0.1\n",
      "0.1\t0.1\t0.1\t0.1\t0.1\t0.1\t0.1\t0.1\t0.1\t0.1\t0.176\t0.289\t0.407\t0.518\t0.631\t0.671\t0.62\t0.506\t0.39\t0.276\t0.165\t0.1\t0.1\t0.1\t0.1\t0.1\t0.1\t0.1\n",
      "0.1\t0.1\t0.1\t0.1\t0.1\t0.1\t0.1\t0.176\t0.401\t1.073\t2.036\t3.155\t4.156\t5.037\t5.465\t5.609\t5.406\t4.917\t3.88\t2.792\t1.676\t0.806\t0.177\t0.1\t0.1\t0.1\t0.1\t0.1\n",
      "0.1\t0.1\t0.1\t0.1\t0.1\t0.1\t0.627\t1.546\t2.796\t4.447\t6.36\t7.857\t8.821\t9.308\t9.376\t9.44\t9.242\t8.914\t8.038\t6.641\t4.709\t2.855\t1.331\t0.428\t0.1\t0.1\t0.1\t0.1\n",
      "0.1\t0.1\t0.1\t0.1\t0.1\t0.152\t1.528\t3.417\t5.38\t7.401\t9.299\t10.162\t10.268\t10.067\t9.687\t9.782\t9.615\t10.045\t10.17\t9.632\t7.732\t5.787\t3.434\t1.635\t0.404\t0.1\t0.1\t0.1\n",
      "0.1\t0.1\t0.1\t0.1\t0.1\t0.207\t2.376\t5.196\t8.131\t10.202\t12.095\t12.176\t11.469\t10.272\t9.912\t9.926\t9.728\t10.283\t11.278\t11.704\t10.786\t8.59\t6.198\t3.472\t1.383\t0.1\t0.1\t0.1\n",
      "0.1\t0.1\t0.1\t0.1\t0.1\t0.202\t2.542\t5.65\t8.974\t11.075\t12.891\t12.631\t11.292\t9.675\t9.135\t9.076\t8.92\t9.525\t11.305\t12.982\t13.341\t11.232\t8.705\t5.416\t2.278\t0.1\t0.1\t0.1\n",
      "0.1\t0.1\t0.1\t0.1\t0.1\t0.196\t2.419\t5.426\t8.623\t10.296\t11.221\t9.839\t7.465\t5.114\t4.303\t4.159\t4.145\t5.085\t8.178\t11.843\t14.24\t13.14\t11.221\t7.384\t3.24\t0.1\t0.1\t0.1\n",
      "0.1\t0.1\t0.1\t0.1\t0.1\t0.194\t1.888\t4.07\t6.31\t7.02\t7.035\t5.13\t2.834\t0.811\t0.367\t0.331\t0.329\t1.043\t4.553\t9.355\t13.686\t13.608\t12.807\t8.988\t4.156\t0.1\t0.1\t0.1\n",
      "0.1\t0.1\t0.1\t0.1\t0.1\t0.145\t1.075\t2.312\t3.656\t3.825\t3.746\t2.629\t1.267\t0.1\t0.1\t0.1\t0.1\t0.145\t3.318\t8.087\t13.009\t13.226\t13.202\t9.696\t4.707\t0.1\t0.1\t0.1\n",
      "0.1\t0.1\t0.1\t0.1\t0.1\t0.1\t0.294\t0.598\t0.924\t0.969\t0.961\t0.721\t0.383\t0.1\t0.1\t0.1\t0.1\t0.28\t3.539\t8.299\t12.653\t12.886\t12.74\t9.189\t4.155\t0.1\t0.1\t0.1\n",
      "0.1\t0.1\t0.1\t0.1\t0.1\t0.1\t0.1\t0.1\t0.1\t0.1\t0.1\t0.1\t0.1\t0.1\t0.1\t0.1\t0.1\t1.203\t4.851\t9.514\t12.846\t13.204\t12.151\t8.204\t3.291\t0.1\t0.1\t0.1\n",
      "0.1\t0.1\t0.1\t0.1\t0.1\t0.1\t0.1\t0.1\t0.1\t0.1\t0.1\t0.1\t0.1\t0.1\t0.1\t0.252\t0.897\t3.026\t7.022\t11.052\t13.414\t13.052\t11.061\t6.669\t2.359\t0.1\t0.1\t0.1\n",
      "0.1\t0.1\t0.1\t0.1\t0.1\t0.116\t0.231\t0.695\t1.249\t1.816\t2.337\t2.634\t2.289\t1.73\t1.35\t1.874\t3.125\t6.016\t9.783\t12.798\t13.367\t12.009\t8.876\t4.683\t1.416\t0.1\t0.1\t0.1\n",
      "0.1\t0.1\t0.1\t0.176\t0.401\t1.13\t2.239\t3.723\t5.152\t6.416\t7.214\t7.451\t7.08\t6.222\t5.805\t6.352\t7.563\t9.853\t12.478\t13.781\t12.577\t10.09\t6.313\t2.783\t0.559\t0.1\t0.1\t0.1\n",
      "0.1\t0.14\t0.777\t1.696\t2.949\t4.646\t6.601\t8.109\t9.317\t10.272\t10.977\t11.361\t11.228\t10.651\t10.485\t11.041\t11.85\t13.088\t14.072\t13.547\t10.853\t7.454\t3.964\t1.373\t0.164\t0.1\t0.1\t0.1\n",
      "0.1\t0.856\t2.506\t4.426\t6.309\t8.034\t9.282\t9.921\t10.69\t11.832\t13.467\t14.753\t15.513\t15.585\t15.444\t15.95\t16.659\t16.546\t15.688\t13.243\t9.238\t4.978\t2.034\t0.498\t0.1\t0.1\t0.1\t0.1\n",
      "0.1\t1.909\t4.44\t7.279\t9.749\t12.057\t13.256\t14.07\t14.87\t16.424\t18.306\t19.523\t19.967\t19.468\t19.139\t19.451\t19.771\t18.998\t17.315\t13.724\t8.871\t4.371\t1.587\t0.329\t0.116\t0.1\t0.1\t0.1\n",
      "0.1\t2.778\t6.238\t10.059\t13.651\t16.951\t18.157\t18.247\t18.092\t18.632\t19.312\t19.458\t19.387\t18.753\t18.15\t18.369\t18.85\t18.317\t17.024\t14.366\t10.073\t5.794\t2.978\t1.321\t0.203\t0.1\t0.1\t0.1\n",
      "0.1\t2.822\t6.74\t11.192\t15.347\t18.544\t18.864\t17.515\t15.824\t15.1\t14.933\t14.779\t14.651\t14.326\t13.777\t13.972\t14.623\t15.112\t15.061\t13.619\t10.171\t6.703\t3.753\t1.454\t0.191\t0.1\t0.1\t0.1\n",
      "0.1\t2.638\t5.978\t9.768\t12.928\t15.167\t14.596\t13.15\t11.742\t11.402\t11.398\t11.135\t10.684\t9.866\t8.931\t8.923\t9.851\t11.386\t12.404\t12.032\t9.788\t6.899\t3.857\t1.517\t0.2\t0.1\t0.1\t0.1\n",
      "0.1\t1.949\t4.291\t7.045\t9.45\t11.544\t11.712\t11.249\t10.422\t9.874\t8.932\t7.725\t6.368\t5.051\t4.043\t4.046\t4.982\t6.964\t8.927\t9.695\t8.559\t6.604\t3.83\t1.496\t0.196\t0.1\t0.1\t0.1\n",
      "0.1\t1.006\t2.415\t4.051\t5.769\t7.326\t7.653\t7.246\t6.372\t5.428\t4.137\t2.92\t1.905\t1.134\t0.46\t0.525\t1.344\t2.925\t4.558\t5.777\t5.552\t4.564\t2.858\t1.206\t0.174\t0.1\t0.1\t0.1\n",
      "0.1\t0.208\t0.665\t1.286\t1.944\t2.599\t2.825\t2.482\t1.849\t1.188\t0.562\t0.225\t0.1\t0.1\t0.1\t0.1\t0.187\t0.775\t1.403\t1.703\t1.757\t1.589\t0.916\t0.309\t0.1\t0.1\t0.1\t0.1\n",
      "0.1\t0.1\t0.1\t0.1\t0.1\t0.1\t0.1\t0.1\t0.1\t0.1\t0.1\t0.1\t0.1\t0.1\t0.1\t0.1\t0.1\t0.1\t0.1\t0.1\t0.1\t0.1\t0.1\t0.1\t0.1\t0.1\t0.1\t0.1\n",
      "0.1\t0.1\t0.1\t0.1\t0.1\t0.1\t0.1\t0.1\t0.1\t0.1\t0.1\t0.1\t0.1\t0.1\t0.1\t0.1\t0.1\t0.1\t0.1\t0.1\t0.1\t0.1\t0.1\t0.1\t0.1\t0.1\t0.1\t0.1\n",
      "0.1\t0.1\t0.1\t0.1\t0.1\t0.1\t0.1\t0.1\t0.1\t0.1\t0.1\t0.1\t0.1\t0.1\t0.1\t0.1\t0.1\t0.1\t0.1\t0.1\t0.1\t0.1\t0.1\t0.1\t0.1\t0.1\t0.1\t0.1\n",
      "0.1\t0.1\t0.1\t0.1\t0.1\t0.1\t0.1\t0.1\t0.1\t0.1\t0.1\t0.1\t0.1\t0.1\t0.1\t0.1\t0.1\t0.1\t0.1\t0.1\t0.1\t0.1\t0.1\t0.1\t0.1\t0.1\t0.1\t0.1\n",
      "\n",
      "*********************************************************************************\n",
      "\n",
      "0.1\t0.1\t0.1\t0.1\t0.1\t0.1\t0.1\t0.1\t0.1\t0.1\t0.1\t0.1\t0.1\t0.1\t0.1\t0.1\t0.1\t0.1\t0.1\t0.1\t0.1\t0.1\t0.1\t0.1\t0.1\t0.1\t0.1\t0.1\n",
      "0.1\t0.1\t0.1\t0.1\t0.1\t0.1\t0.1\t0.1\t0.1\t0.1\t0.169\t0.277\t0.38\t0.488\t0.611\t0.654\t0.607\t0.5\t0.395\t0.29\t0.17\t0.1\t0.1\t0.1\t0.1\t0.1\t0.1\t0.1\n",
      "0.1\t0.1\t0.1\t0.1\t0.1\t0.1\t0.1\t0.169\t0.378\t0.993\t1.896\t2.922\t3.911\t4.821\t5.296\t5.46\t5.276\t4.823\t3.879\t2.848\t1.794\t0.864\t0.184\t0.1\t0.1\t0.1\t0.1\t0.1\n",
      "0.1\t0.1\t0.1\t0.1\t0.1\t0.1\t0.579\t1.45\t2.559\t4.115\t5.998\t7.5\t8.499\t9.118\t9.285\t9.382\t9.154\t8.783\t8.007\t6.776\t4.926\t3.113\t1.447\t0.456\t0.1\t0.1\t0.1\t0.1\n",
      "0.1\t0.1\t0.1\t0.1\t0.1\t0.147\t1.402\t3.172\t4.95\t7.045\t9.313\t10.344\t10.547\t10.359\t10.006\t10.098\t9.824\t10.042\t10.066\t9.486\t7.789\t6.02\t3.769\t1.829\t0.43\t0.1\t0.1\t0.1\n",
      "0.1\t0.1\t0.1\t0.1\t0.1\t0.197\t2.282\t5.073\t7.824\t10.048\t12.339\t12.705\t11.919\t10.54\t10.085\t10.145\t9.94\t10.359\t11.181\t11.505\t10.479\t8.627\t6.451\t3.912\t1.554\t0.1\t0.1\t0.1\n",
      "0.1\t0.1\t0.1\t0.1\t0.1\t0.204\t2.568\t5.676\t8.73\t10.956\t13.204\t13.184\t11.829\t9.856\t9.327\t9.313\t9.11\t9.684\t11.36\t12.788\t12.913\t10.999\t8.895\t5.909\t2.665\t0.1\t0.1\t0.1\n",
      "0.1\t0.1\t0.1\t0.1\t0.1\t0.205\t2.606\t5.764\t8.798\t10.409\t11.419\t10.244\t7.868\t5.268\t4.434\t4.343\t4.369\t5.33\t8.356\t11.766\t13.836\t12.764\t11.298\t7.962\t3.674\t0.1\t0.1\t0.1\n",
      "0.1\t0.1\t0.1\t0.1\t0.1\t0.202\t2.058\t4.36\t6.442\t7.005\t7.01\t5.308\t2.889\t0.826\t0.362\t0.341\t0.356\t1.163\t4.763\t9.531\t13.356\t13.163\t12.698\t9.65\t4.619\t0.1\t0.1\t0.1\n",
      "0.1\t0.1\t0.1\t0.1\t0.1\t0.152\t1.196\t2.547\t3.864\t3.839\t3.681\t2.632\t1.308\t0.1\t0.1\t0.1\t0.1\t0.152\t3.399\t8.26\t12.867\t12.829\t13.117\t10.299\t5.189\t0.1\t0.1\t0.1\n",
      "0.1\t0.1\t0.1\t0.1\t0.1\t0.1\t0.323\t0.669\t1.01\t0.995\t0.943\t0.706\t0.394\t0.1\t0.1\t0.1\t0.1\t0.263\t3.571\t8.415\t12.525\t12.553\t12.769\t9.761\t4.581\t0.1\t0.1\t0.1\n",
      "0.1\t0.1\t0.1\t0.1\t0.1\t0.1\t0.1\t0.1\t0.1\t0.1\t0.1\t0.1\t0.1\t0.1\t0.1\t0.1\t0.1\t1.103\t4.822\t9.46\t12.788\t13.075\t12.362\t8.746\t3.541\t0.1\t0.1\t0.1\n",
      "0.1\t0.1\t0.1\t0.1\t0.1\t0.1\t0.1\t0.1\t0.1\t0.1\t0.1\t0.1\t0.1\t0.1\t0.1\t0.238\t0.834\t2.827\t6.859\t11.045\t13.384\t13.208\t11.385\t7.126\t2.466\t0.1\t0.1\t0.1\n",
      "0.1\t0.1\t0.1\t0.1\t0.1\t0.115\t0.22\t0.647\t1.168\t1.675\t2.21\t2.556\t2.25\t1.735\t1.388\t1.816\t2.912\t5.691\t9.709\t12.892\t13.598\t12.346\t9.276\t4.908\t1.464\t0.1\t0.1\t0.1\n",
      "0.1\t0.1\t0.1\t0.169\t0.378\t1.045\t2.083\t3.44\t4.808\t6.1\t6.939\t7.286\t6.987\t6.212\t5.801\t6.297\t7.344\t9.7\t12.556\t14.124\t12.995\t10.434\t6.615\t2.84\t0.575\t0.1\t0.1\t0.1\n",
      "0.1\t0.136\t0.718\t1.59\t2.694\t4.323\t6.248\t7.804\t9.119\t10.213\t10.999\t11.352\t11.111\t10.519\t10.42\t11.094\t11.997\t13.269\t14.471\t14.055\t11.191\t7.697\t4.073\t1.409\t0.166\t0.1\t0.1\t0.1\n",
      "0.1\t0.787\t2.335\t4.04\t5.879\t7.799\t9.38\t10.229\t10.945\t11.981\t13.541\t14.701\t15.441\t15.538\t15.505\t16.136\t16.862\t16.803\t16.085\t13.713\t9.646\t5.094\t2.05\t0.512\t0.1\t0.1\t0.1\t0.1\n",
      "0.1\t1.752\t4.244\t6.913\t9.477\t12.186\t13.6\t14.399\t15.073\t16.383\t18.227\t19.419\t19.904\t19.515\t19.279\t19.792\t19.992\t19.08\t17.417\t14.028\t9.213\t4.597\t1.679\t0.349\t0.118\t0.1\t0.1\t0.1\n",
      "0.1\t2.689\t6.171\t9.701\t13.242\t16.997\t18.259\t18.418\t18.131\t18.749\t19.643\t19.813\t19.821\t19.251\t18.636\t18.778\t19.115\t18.219\t16.838\t14.383\t10.265\t6.06\t3.309\t1.466\t0.215\t0.1\t0.1\t0.1\n",
      "0.1\t2.885\t6.85\t11.044\t15.155\t18.625\t19.183\t18.011\t16.29\t15.583\t15.416\t15.274\t15.183\t14.825\t14.198\t14.363\t14.841\t15.016\t14.802\t13.463\t10.297\t7.019\t4.134\t1.748\t0.216\t0.1\t0.1\t0.1\n",
      "0.1\t2.873\t6.365\t9.874\t13.03\t15.274\t14.855\t13.448\t12.078\t11.85\t11.831\t11.405\t10.867\t10.078\t9.177\t9.216\t10.132\t11.552\t12.39\t11.983\t9.858\t7.162\t4.157\t1.648\t0.205\t0.1\t0.1\t0.1\n",
      "0.1\t2.131\t4.621\t7.26\t9.617\t11.729\t11.917\t11.479\t10.64\t10.08\t9.132\t7.901\t6.573\t5.2\t4.178\t4.261\t5.251\t7.192\t9.129\t9.744\t8.451\t6.586\t4.004\t1.553\t0.199\t0.1\t0.1\t0.1\n",
      "0.1\t1.127\t2.672\t4.285\t5.864\t7.465\t7.813\t7.407\t6.567\t5.613\t4.262\t2.947\t1.883\t1.131\t0.464\t0.58\t1.512\t3.188\t4.757\t5.829\t5.576\t4.586\t2.866\t1.235\t0.177\t0.1\t0.1\t0.1\n",
      "0.1\t0.223\t0.747\t1.437\t2.107\t2.734\t2.923\t2.519\t1.837\t1.18\t0.562\t0.229\t0.1\t0.1\t0.1\t0.1\t0.199\t0.873\t1.573\t1.814\t1.742\t1.559\t0.917\t0.317\t0.1\t0.1\t0.1\t0.1\n",
      "0.1\t0.1\t0.1\t0.1\t0.1\t0.1\t0.1\t0.1\t0.1\t0.1\t0.1\t0.1\t0.1\t0.1\t0.1\t0.1\t0.1\t0.1\t0.1\t0.1\t0.1\t0.1\t0.1\t0.1\t0.1\t0.1\t0.1\t0.1\n",
      "0.1\t0.1\t0.1\t0.1\t0.1\t0.1\t0.1\t0.1\t0.1\t0.1\t0.1\t0.1\t0.1\t0.1\t0.1\t0.1\t0.1\t0.1\t0.1\t0.1\t0.1\t0.1\t0.1\t0.1\t0.1\t0.1\t0.1\t0.1\n",
      "0.1\t0.1\t0.1\t0.1\t0.1\t0.1\t0.1\t0.1\t0.1\t0.1\t0.1\t0.1\t0.1\t0.1\t0.1\t0.1\t0.1\t0.1\t0.1\t0.1\t0.1\t0.1\t0.1\t0.1\t0.1\t0.1\t0.1\t0.1\n",
      "0.1\t0.1\t0.1\t0.1\t0.1\t0.1\t0.1\t0.1\t0.1\t0.1\t0.1\t0.1\t0.1\t0.1\t0.1\t0.1\t0.1\t0.1\t0.1\t0.1\t0.1\t0.1\t0.1\t0.1\t0.1\t0.1\t0.1\t0.1\n",
      "\n",
      "*********************************************************************************\n",
      "\n",
      "0.1\t0.1\t0.1\t0.1\t0.1\t0.1\t0.1\t0.1\t0.1\t0.1\t0.1\t0.1\t0.1\t0.1\t0.1\t0.1\t0.1\t0.1\t0.1\t0.1\t0.1\t0.1\t0.1\t0.1\t0.1\t0.1\t0.1\t0.1\n",
      "0.1\t0.1\t0.1\t0.1\t0.1\t0.1\t0.1\t0.1\t0.1\t0.1\t0.174\t0.281\t0.403\t0.517\t0.619\t0.653\t0.603\t0.494\t0.377\t0.258\t0.155\t0.1\t0.1\t0.1\t0.1\t0.1\t0.1\t0.1\n",
      "0.1\t0.1\t0.1\t0.1\t0.1\t0.1\t0.1\t0.174\t0.389\t1.046\t1.99\t3.118\t4.115\t4.946\t5.356\t5.49\t5.291\t4.816\t3.794\t2.708\t1.559\t0.707\t0.165\t0.1\t0.1\t0.1\t0.1\t0.1\n",
      "0.1\t0.1\t0.1\t0.1\t0.1\t0.1\t0.611\t1.491\t2.762\t4.441\t6.311\t7.825\t8.858\t9.458\t9.569\t9.627\t9.429\t9.142\t8.263\t6.822\t4.817\t2.834\t1.209\t0.378\t0.1\t0.1\t0.1\t0.1\n",
      "0.1\t0.1\t0.1\t0.1\t0.1\t0.15\t1.504\t3.355\t5.432\t7.602\t9.537\t10.431\t10.52\t10.342\t10.001\t10.059\t9.83\t10.219\t10.29\t9.856\t8.024\t5.993\t3.475\t1.536\t0.357\t0.1\t0.1\t0.1\n",
      "0.1\t0.1\t0.1\t0.1\t0.1\t0.205\t2.402\t5.208\t8.276\t10.5\t12.463\t12.409\t11.582\t10.445\t10.037\t10.088\t9.872\t10.387\t11.263\t11.636\t10.861\t8.869\t6.414\t3.5\t1.273\t0.1\t0.1\t0.1\n",
      "0.1\t0.1\t0.1\t0.1\t0.1\t0.208\t2.669\t5.83\t9.209\t11.364\t13.306\t13.039\t11.645\t9.979\t9.471\t9.478\t9.342\t9.982\t11.675\t13.179\t13.399\t11.401\t8.968\t5.509\t2.278\t0.1\t0.1\t0.1\n",
      "0.1\t0.1\t0.1\t0.1\t0.1\t0.206\t2.605\t5.706\t8.914\t10.435\t11.453\t10.126\t7.806\t5.395\t4.549\t4.414\t4.404\t5.42\t8.621\t12.222\t14.524\t13.328\t11.495\t7.483\t3.238\t0.1\t0.1\t0.1\n",
      "0.1\t0.1\t0.1\t0.1\t0.1\t0.201\t2.034\t4.323\t6.595\t7.123\t7.147\t5.281\t2.973\t0.885\t0.385\t0.348\t0.345\t1.095\t4.763\t9.681\t14.032\t13.873\t13.072\t9.147\t4.213\t0.1\t0.1\t0.1\n",
      "0.1\t0.1\t0.1\t0.1\t0.1\t0.147\t1.135\t2.44\t3.853\t3.953\t3.912\t2.75\t1.401\t0.1\t0.1\t0.1\t0.1\t0.147\t3.452\t8.319\t13.382\t13.451\t13.51\t9.855\t4.858\t0.1\t0.1\t0.1\n",
      "0.1\t0.1\t0.1\t0.1\t0.1\t0.1\t0.304\t0.622\t0.971\t1.011\t1.015\t0.761\t0.424\t0.1\t0.1\t0.1\t0.1\t0.274\t3.653\t8.517\t13.036\t13.099\t12.936\t9.343\t4.378\t0.1\t0.1\t0.1\n",
      "0.1\t0.1\t0.1\t0.1\t0.1\t0.1\t0.1\t0.1\t0.1\t0.1\t0.1\t0.1\t0.1\t0.1\t0.1\t0.1\t0.1\t1.177\t4.931\t9.808\t13.283\t13.368\t12.297\t8.323\t3.494\t0.1\t0.1\t0.1\n",
      "0.1\t0.1\t0.1\t0.1\t0.1\t0.1\t0.1\t0.1\t0.1\t0.1\t0.1\t0.1\t0.1\t0.1\t0.1\t0.247\t0.868\t2.995\t7.169\t11.4\t13.803\t13.283\t11.196\t6.828\t2.518\t0.1\t0.1\t0.1\n",
      "0.1\t0.1\t0.1\t0.1\t0.1\t0.115\t0.227\t0.676\t1.215\t1.804\t2.318\t2.563\t2.221\t1.67\t1.267\t1.773\t3.043\t6.122\t10.045\t13.141\t13.653\t12.145\t9.072\t4.879\t1.547\t0.1\t0.1\t0.1\n",
      "0.1\t0.1\t0.1\t0.174\t0.389\t1.102\t2.188\t3.687\t5.126\t6.357\t7.171\t7.474\t7.116\t6.256\t5.813\t6.27\t7.486\t10.034\t12.844\t14.157\t12.762\t10.226\t6.486\t2.923\t0.617\t0.1\t0.1\t0.1\n",
      "0.1\t0.139\t0.755\t1.638\t2.924\t4.635\t6.541\t8.12\t9.409\t10.456\t11.175\t11.536\t11.412\t10.841\t10.679\t11.294\t12.156\t13.476\t14.453\t13.795\t10.982\t7.674\t4.119\t1.497\t0.173\t0.1\t0.1\t0.1\n",
      "0.1\t0.835\t2.44\t4.411\t6.391\t8.168\t9.545\t10.194\t10.982\t12.141\t13.726\t15.013\t15.681\t15.66\t15.613\t16.247\t17.03\t16.892\t15.996\t13.407\t9.304\t5.076\t2.17\t0.555\t0.1\t0.1\t0.1\t0.1\n",
      "0.1\t1.886\t4.414\t7.409\t10.006\t12.33\t13.543\t14.242\t15.007\t16.519\t18.434\t19.758\t20.316\t19.84\t19.485\t19.822\t20.172\t19.382\t17.622\t14.054\t9.125\t4.43\t1.547\t0.296\t0.114\t0.1\t0.1\t0.1\n",
      "0.1\t2.827\t6.306\t10.312\t13.959\t17.209\t18.422\t18.544\t18.46\t19.151\t19.955\t20.153\t20.041\t19.352\t18.776\t18.951\t19.352\t18.648\t17.405\t14.749\t10.406\t6.026\t2.982\t1.211\t0.192\t0.1\t0.1\t0.1\n",
      "0.1\t2.994\t6.963\t11.47\t15.668\t18.964\t19.347\t18.081\t16.43\t15.704\t15.539\t15.352\t15.169\t14.777\t14.2\t14.4\t15.025\t15.402\t15.237\t13.886\t10.529\t6.915\t3.895\t1.571\t0.205\t0.1\t0.1\t0.1\n",
      "0.1\t2.859\t6.286\t10.089\t13.179\t15.529\t15.069\t13.622\t12.151\t11.693\t11.633\t11.35\t10.908\t10.156\t9.284\t9.381\t10.344\t11.826\t12.734\t12.247\t9.921\t7.051\t3.932\t1.543\t0.199\t0.1\t0.1\t0.1\n",
      "0.1\t2.098\t4.573\t7.382\t9.715\t11.91\t12.014\t11.542\t10.677\t10.153\t9.234\t8.01\t6.635\t5.308\t4.282\t4.314\t5.337\t7.378\t9.326\t10.017\t8.696\t6.653\t3.894\t1.544\t0.201\t0.1\t0.1\t0.1\n",
      "0.1\t1.058\t2.556\t4.304\t6.013\t7.668\t7.984\t7.54\t6.643\t5.695\t4.375\t3.116\t2.03\t1.229\t0.5\t0.552\t1.409\t3.115\t4.817\t6.02\t5.752\t4.758\t2.998\t1.327\t0.185\t0.1\t0.1\t0.1\n",
      "0.1\t0.213\t0.693\t1.347\t2.045\t2.725\t2.987\t2.64\t1.966\t1.281\t0.607\t0.243\t0.1\t0.1\t0.1\t0.1\t0.191\t0.808\t1.467\t1.799\t1.834\t1.69\t0.997\t0.339\t0.1\t0.1\t0.1\t0.1\n",
      "0.1\t0.1\t0.1\t0.1\t0.1\t0.1\t0.1\t0.1\t0.1\t0.1\t0.1\t0.1\t0.1\t0.1\t0.1\t0.1\t0.1\t0.1\t0.1\t0.1\t0.1\t0.1\t0.1\t0.1\t0.1\t0.1\t0.1\t0.1\n",
      "0.1\t0.1\t0.1\t0.1\t0.1\t0.1\t0.1\t0.1\t0.1\t0.1\t0.1\t0.1\t0.1\t0.1\t0.1\t0.1\t0.1\t0.1\t0.1\t0.1\t0.1\t0.1\t0.1\t0.1\t0.1\t0.1\t0.1\t0.1\n",
      "0.1\t0.1\t0.1\t0.1\t0.1\t0.1\t0.1\t0.1\t0.1\t0.1\t0.1\t0.1\t0.1\t0.1\t0.1\t0.1\t0.1\t0.1\t0.1\t0.1\t0.1\t0.1\t0.1\t0.1\t0.1\t0.1\t0.1\t0.1\n",
      "0.1\t0.1\t0.1\t0.1\t0.1\t0.1\t0.1\t0.1\t0.1\t0.1\t0.1\t0.1\t0.1\t0.1\t0.1\t0.1\t0.1\t0.1\t0.1\t0.1\t0.1\t0.1\t0.1\t0.1\t0.1\t0.1\t0.1\t0.1\n",
      "\n",
      "*********************************************************************************\n",
      "\n",
      "output shape:(168, 28)\n",
      "\n",
      "*********************************************************************************\n",
      "\n",
      "0 0 0 0 0 0 0 0 0 0 0 0 0 0 0 0 0 0 0 0 0 0 0 0 0 0 0 0\n",
      "0 0 0 0 0 0 0 0 0 0 0 0 0 1 1 1 1 0 0 0 0 0 0 0 0 0 0 0\n",
      "0 0 0 0 0 0 0 0 0 1 2 3 4 5 5 6 5 5 4 3 2 1 0 0 0 0 0 0\n",
      "0 0 0 0 0 0 1 2 3 4 6 8 9 9 9 10 9 9 8 7 5 3 1 0 0 0 0 0\n",
      "0 0 0 0 0 0 2 3 5 7 9 10 10 10 9 9 9 10 10 10 8 6 3 2 0 0 0 0\n",
      "0 0 0 0 0 0 2 5 8 10 12 12 11 10 9 9 9 10 11 11 11 9 6 4 1 0 0 0\n",
      "0 0 0 0 0 0 2 5 9 11 13 12 11 9 9 9 9 9 11 13 13 11 9 5 2 0 0 0\n",
      "0 0 0 0 0 0 2 5 8 10 11 10 8 5 4 4 4 5 8 12 14 13 11 7 3 0 0 0\n",
      "0 0 0 0 0 0 2 4 6 7 7 5 3 1 0 0 0 1 4 9 13 13 13 9 4 0 0 0\n",
      "0 0 0 0 0 0 1 2 4 4 4 3 1 0 0 0 0 0 3 8 13 13 13 10 5 0 0 0\n",
      "0 0 0 0 0 0 0 1 1 1 1 1 0 0 0 0 0 0 3 8 12 13 12 9 4 0 0 0\n",
      "0 0 0 0 0 0 0 0 0 0 0 0 0 0 0 0 0 1 5 9 13 13 12 8 3 0 0 0\n",
      "0 0 0 0 0 0 0 0 0 0 0 0 0 0 0 0 1 3 7 11 13 13 11 7 2 0 0 0\n",
      "0 0 0 0 0 0 0 1 1 2 2 3 2 2 1 2 3 6 10 13 13 12 9 5 2 0 0 0\n",
      "0 0 0 0 0 1 2 4 5 6 7 7 7 6 6 6 7 10 12 13 12 10 6 3 1 0 0 0\n",
      "0 0 1 2 3 5 7 8 9 10 11 11 11 11 11 11 12 13 14 13 11 7 4 1 0 0 0 0\n",
      "0 1 3 4 6 8 9 10 10 11 13 14 15 15 15 16 16 16 15 13 9 5 2 1 0 0 0 0\n",
      "0 2 4 7 10 12 13 13 14 16 18 19 20 19 19 19 19 19 17 14 9 5 2 0 0 0 0 0\n",
      "0 3 6 10 13 16 18 18 18 19 19 19 19 18 18 18 18 18 17 14 10 6 3 1 0 0 0 0\n",
      "0 3 6 11 15 18 19 17 16 15 15 14 14 14 13 14 14 15 15 13 10 7 4 1 0 0 0 0\n",
      "0 2 6 9 12 15 14 13 11 11 11 11 10 10 9 9 10 11 12 12 10 7 4 1 0 0 0 0\n",
      "0 2 4 7 9 11 11 11 10 10 9 8 6 5 4 4 5 7 9 9 8 6 4 1 0 0 0 0\n",
      "0 1 2 4 6 7 8 7 6 6 4 3 2 1 1 1 1 3 4 6 6 5 3 1 0 0 0 0\n",
      "0 0 1 1 2 3 3 3 2 1 1 0 0 0 0 0 0 1 1 2 2 2 1 0 0 0 0 0\n",
      "0 0 0 0 0 0 0 0 0 0 0 0 0 0 0 0 0 0 0 0 0 0 0 0 0 0 0 0\n",
      "0 0 0 0 0 0 0 0 0 0 0 0 0 0 0 0 0 0 0 0 0 0 0 0 0 0 0 0\n",
      "0 0 0 0 0 0 0 0 0 0 0 0 0 0 0 0 0 0 0 0 0 0 0 0 0 0 0 0\n",
      "0 0 0 0 0 0 0 0 0 0 0 0 0 0 0 0 0 0 0 0 0 0 0 0 0 0 0 0\n",
      "\n",
      "*********************************************************************************\n",
      "\n",
      "0 0 0 0 0 0 0 0 0 0 0 0 0 0 0 0 0 0 0 0 0 0 0 0 0 0 0 0\n",
      "0 0 0 0 0 0 0 0 0 0 0 0 0 1 1 1 1 1 0 0 0 0 0 0 0 0 0 0\n",
      "0 0 0 0 0 0 0 0 0 1 2 3 4 5 6 6 6 5 4 3 2 1 0 0 0 0 0 0\n",
      "0 0 0 0 0 0 1 1 3 5 7 8 9 10 10 10 10 9 8 7 5 3 1 0 0 0 0 0\n",
      "0 0 0 0 0 0 1 3 6 8 10 11 11 11 10 10 10 10 10 10 8 6 4 2 0 0 0 0\n",
      "0 0 0 0 0 0 2 5 9 11 13 13 12 11 10 10 10 11 11 12 11 9 7 4 1 0 0 0\n",
      "0 0 0 0 0 0 3 6 10 11 13 13 12 10 9 10 9 10 12 13 13 11 9 6 3 0 0 0\n",
      "0 0 0 0 0 0 3 6 9 10 11 10 8 5 4 4 4 5 9 12 14 13 12 8 4 0 0 0\n",
      "0 0 0 0 0 0 2 5 7 7 7 5 3 1 0 0 0 1 5 10 14 14 13 10 5 0 0 0\n",
      "0 0 0 0 0 0 1 3 4 4 4 3 1 0 0 0 0 0 4 9 14 13 13 10 5 0 0 0\n",
      "0 0 0 0 0 0 0 1 1 1 1 1 0 0 0 0 0 0 4 9 13 13 13 10 5 0 0 0\n",
      "0 0 0 0 0 0 0 0 0 0 0 0 0 0 0 0 0 1 5 10 14 14 12 9 4 0 0 0\n",
      "0 0 0 0 0 0 0 0 0 0 0 0 0 0 0 0 1 3 7 12 14 13 11 7 3 0 0 0\n",
      "0 0 0 0 0 0 0 1 1 2 2 3 2 2 1 2 3 6 11 14 14 12 9 5 2 0 0 0\n",
      "0 0 0 0 0 1 2 4 5 7 7 8 7 7 6 7 8 11 14 15 13 10 7 3 1 0 0 0\n",
      "0 0 1 2 3 5 7 9 10 11 12 12 12 11 11 12 13 14 15 14 11 7 4 2 0 0 0 0\n",
      "0 1 2 4 7 9 10 11 11 12 14 15 16 16 16 17 18 17 16 14 9 5 2 1 0 0 0 0\n",
      "0 2 4 8 10 13 14 15 15 17 19 20 21 20 20 20 21 19 18 14 9 5 2 0 0 0 0 0\n",
      "0 3 7 11 14 18 19 19 19 20 21 21 20 20 19 19 20 19 17 15 11 6 3 1 0 0 0 0\n",
      "0 3 7 12 16 19 20 19 17 16 16 16 15 15 14 15 15 15 15 14 11 7 4 2 0 0 0 0\n",
      "0 3 7 10 13 16 15 14 12 12 12 11 11 10 9 9 11 12 13 12 10 7 4 2 0 0 0 0\n",
      "0 2 5 7 10 12 12 12 11 10 9 8 7 5 4 4 5 7 9 10 8 7 4 2 0 0 0 0\n",
      "0 1 3 4 6 8 8 7 7 6 4 3 2 1 0 1 2 3 5 6 6 5 3 1 0 0 0 0\n",
      "0 0 1 1 2 3 3 3 2 1 1 0 0 0 0 0 0 1 2 2 2 2 1 0 0 0 0 0\n",
      "0 0 0 0 0 0 0 0 0 0 0 0 0 0 0 0 0 0 0 0 0 0 0 0 0 0 0 0\n",
      "0 0 0 0 0 0 0 0 0 0 0 0 0 0 0 0 0 0 0 0 0 0 0 0 0 0 0 0\n",
      "0 0 0 0 0 0 0 0 0 0 0 0 0 0 0 0 0 0 0 0 0 0 0 0 0 0 0 0\n",
      "0 0 0 0 0 0 0 0 0 0 0 0 0 0 0 0 0 0 0 0 0 0 0 0 0 0 0 0\n",
      "\n",
      "*********************************************************************************\n",
      "\n",
      "0 0 0 0 0 0 0 0 0 0 0 0 0 0 0 0 0 0 0 0 0 0 0 0 0 0 0 0\n",
      "0 0 0 0 0 0 0 0 0 0 0 0 0 1 1 1 1 1 0 0 0 0 0 0 0 0 0 0\n",
      "0 0 0 0 0 0 0 0 0 1 2 3 4 5 5 6 5 5 4 3 2 1 0 0 0 0 0 0\n",
      "0 0 0 0 0 0 1 2 3 4 6 8 9 10 10 10 10 9 9 7 5 3 1 0 0 0 0 0\n",
      "0 0 0 0 0 0 1 3 5 8 10 10 11 10 10 10 10 10 10 10 8 6 4 2 0 0 0 0\n",
      "0 0 0 0 0 0 2 5 8 11 12 12 11 10 10 10 10 10 11 12 11 9 6 4 1 0 0 0\n",
      "0 0 0 0 0 0 3 6 9 11 13 13 12 10 9 9 9 10 11 13 13 12 9 6 2 0 0 0\n",
      "0 0 0 0 0 0 3 6 9 10 11 10 8 5 5 4 4 5 8 12 14 13 12 8 3 0 0 0\n",
      "0 0 0 0 0 0 2 4 6 7 7 5 3 1 0 0 0 1 5 10 14 14 13 9 4 0 0 0\n",
      "0 0 0 0 0 0 1 3 4 4 4 3 2 0 0 0 0 0 3 8 13 13 13 10 5 0 0 0\n",
      "0 0 0 0 0 0 0 1 1 1 1 1 0 0 0 0 0 0 4 8 13 13 13 10 5 0 0 0\n",
      "0 0 0 0 0 0 0 0 0 0 0 0 0 0 0 0 0 1 5 10 13 13 12 9 4 0 0 0\n",
      "0 0 0 0 0 0 0 0 0 0 0 0 0 0 0 0 1 3 7 11 14 13 11 7 3 0 0 0\n",
      "0 0 0 0 0 0 0 1 1 2 2 3 2 2 1 2 3 6 10 13 14 12 9 5 2 0 0 0\n",
      "0 0 0 0 0 1 2 4 5 6 7 8 7 6 6 6 8 10 13 14 13 10 6 3 1 0 0 0\n",
      "0 0 1 2 3 5 7 8 10 11 11 12 12 11 11 11 12 14 14 14 11 8 4 2 0 0 0 0\n",
      "0 1 2 4 6 8 10 10 11 12 14 15 16 16 16 16 17 17 16 13 9 5 2 1 0 0 0 0\n",
      "0 2 4 7 10 12 14 14 15 16 18 20 20 20 19 20 20 19 18 14 9 5 2 0 0 0 0 0\n",
      "0 3 6 10 14 17 18 19 19 19 20 20 20 19 19 19 19 19 17 15 11 6 3 1 0 0 0 0\n",
      "0 3 7 11 15 19 19 18 17 16 15 15 15 15 14 14 15 15 15 14 11 7 4 2 0 0 0 0\n",
      "0 3 6 10 13 15 15 14 12 11 11 11 11 10 9 9 10 12 12 12 10 7 4 2 0 0 0 0\n",
      "0 2 5 7 9 12 12 11 11 10 9 8 7 5 4 4 5 7 9 10 8 7 4 2 0 0 0 0\n",
      "0 1 3 4 6 8 8 8 7 6 4 3 2 1 1 1 1 3 5 6 6 5 3 1 0 0 0 0\n",
      "0 0 1 1 2 3 3 3 2 1 1 0 0 0 0 0 0 1 2 2 2 2 1 0 0 0 0 0\n",
      "0 0 0 0 0 0 0 0 0 0 0 0 0 0 0 0 0 0 0 0 0 0 0 0 0 0 0 0\n",
      "0 0 0 0 0 0 0 0 0 0 0 0 0 0 0 0 0 0 0 0 0 0 0 0 0 0 0 0\n",
      "0 0 0 0 0 0 0 0 0 0 0 0 0 0 0 0 0 0 0 0 0 0 0 0 0 0 0 0\n",
      "0 0 0 0 0 0 0 0 0 0 0 0 0 0 0 0 0 0 0 0 0 0 0 0 0 0 0 0\n",
      "\n",
      "*********************************************************************************\n",
      "\n",
      "0 0 0 0 0 0 0 0 0 0 0 0 0 0 0 0 0 0 0 0 0 0 0 0 0 0 0 0\n",
      "0 0 0 0 0 0 0 0 0 0 0 0 0 1 1 1 1 1 0 0 0 0 0 0 0 0 0 0\n",
      "0 0 0 0 0 0 0 0 0 1 2 3 4 5 5 6 5 5 4 3 2 1 0 0 0 0 0 0\n",
      "0 0 0 0 0 0 1 2 3 4 6 8 9 9 9 9 9 9 8 7 5 3 1 0 0 0 0 0\n",
      "0 0 0 0 0 0 2 3 5 7 9 10 10 10 10 10 10 10 10 10 8 6 3 2 0 0 0 0\n",
      "0 0 0 0 0 0 2 5 8 10 12 12 11 10 10 10 10 10 11 12 11 9 6 3 1 0 0 0\n",
      "0 0 0 0 0 0 3 6 9 11 13 13 11 10 9 9 9 10 11 13 13 11 9 5 2 0 0 0\n",
      "0 0 0 0 0 0 2 5 9 10 11 10 7 5 4 4 4 5 8 12 14 13 11 7 3 0 0 0\n",
      "0 0 0 0 0 0 2 4 6 7 7 5 3 1 0 0 0 1 5 9 14 14 13 9 4 0 0 0\n",
      "0 0 0 0 0 0 1 2 4 4 4 3 1 0 0 0 0 0 3 8 13 13 13 10 5 0 0 0\n",
      "0 0 0 0 0 0 0 1 1 1 1 1 0 0 0 0 0 0 4 8 13 13 13 9 4 0 0 0\n",
      "0 0 0 0 0 0 0 0 0 0 0 0 0 0 0 0 0 1 5 10 13 13 12 8 3 0 0 0\n",
      "0 0 0 0 0 0 0 0 0 0 0 0 0 0 0 0 1 3 7 11 13 13 11 7 2 0 0 0\n",
      "0 0 0 0 0 0 0 1 1 2 2 3 2 2 1 2 3 6 10 13 13 12 9 5 1 0 0 0\n",
      "0 0 0 0 0 1 2 4 5 6 7 7 7 6 6 6 8 10 12 14 13 10 6 3 1 0 0 0\n",
      "0 0 1 2 3 5 7 8 9 10 11 11 11 11 10 11 12 13 14 14 11 7 4 1 0 0 0 0\n",
      "0 1 3 4 6 8 9 10 11 12 13 15 16 16 15 16 17 17 16 13 9 5 2 0 0 0 0 0\n",
      "0 2 4 7 10 12 13 14 15 16 18 20 20 19 19 19 20 19 17 14 9 4 2 0 0 0 0 0\n",
      "0 3 6 10 14 17 18 18 18 19 19 19 19 19 18 18 19 18 17 14 10 6 3 1 0 0 0 0\n",
      "0 3 7 11 15 19 19 18 16 15 15 15 15 14 14 14 15 15 15 14 10 7 4 1 0 0 0 0\n",
      "0 3 6 10 13 15 15 13 12 11 11 11 11 10 9 9 10 11 12 12 10 7 4 2 0 0 0 0\n",
      "0 2 4 7 9 12 12 11 10 10 9 8 6 5 4 4 5 7 9 10 9 7 4 1 0 0 0 0\n",
      "0 1 2 4 6 7 8 7 6 5 4 3 2 1 0 1 1 3 5 6 6 5 3 1 0 0 0 0\n",
      "0 0 1 1 2 3 3 2 2 1 1 0 0 0 0 0 0 1 1 2 2 2 1 0 0 0 0 0\n",
      "0 0 0 0 0 0 0 0 0 0 0 0 0 0 0 0 0 0 0 0 0 0 0 0 0 0 0 0\n",
      "0 0 0 0 0 0 0 0 0 0 0 0 0 0 0 0 0 0 0 0 0 0 0 0 0 0 0 0\n",
      "0 0 0 0 0 0 0 0 0 0 0 0 0 0 0 0 0 0 0 0 0 0 0 0 0 0 0 0\n",
      "0 0 0 0 0 0 0 0 0 0 0 0 0 0 0 0 0 0 0 0 0 0 0 0 0 0 0 0\n",
      "\n",
      "*********************************************************************************\n",
      "\n",
      "0 0 0 0 0 0 0 0 0 0 0 0 0 0 0 0 0 0 0 0 0 0 0 0 0 0 0 0\n",
      "0 0 0 0 0 0 0 0 0 0 0 0 0 0 1 1 1 1 0 0 0 0 0 0 0 0 0 0\n",
      "0 0 0 0 0 0 0 0 0 1 2 3 4 5 5 5 5 5 4 3 2 1 0 0 0 0 0 0\n",
      "0 0 0 0 0 0 1 1 3 4 6 7 8 9 9 9 9 9 8 7 5 3 1 0 0 0 0 0\n",
      "0 0 0 0 0 0 1 3 5 7 9 10 11 10 10 10 10 10 10 9 8 6 4 2 0 0 0 0\n",
      "0 0 0 0 0 0 2 5 8 10 12 13 12 11 10 10 10 10 11 12 10 9 6 4 2 0 0 0\n",
      "0 0 0 0 0 0 3 6 9 11 13 13 12 10 9 9 9 10 11 13 13 11 9 6 3 0 0 0\n",
      "0 0 0 0 0 0 3 6 9 10 11 10 8 5 4 4 4 5 8 12 14 13 11 8 4 0 0 0\n",
      "0 0 0 0 0 0 2 4 6 7 7 5 3 1 0 0 0 1 5 10 13 13 13 10 5 0 0 0\n",
      "0 0 0 0 0 0 1 3 4 4 4 3 1 0 0 0 0 0 3 8 13 13 13 10 5 0 0 0\n",
      "0 0 0 0 0 0 0 1 1 1 1 1 0 0 0 0 0 0 4 8 13 13 13 10 5 0 0 0\n"
     ]
    },
    {
     "name": "stdout",
     "output_type": "stream",
     "text": [
      "0 0 0 0 0 0 0 0 0 0 0 0 0 0 0 0 0 1 5 9 13 13 12 9 4 0 0 0\n",
      "0 0 0 0 0 0 0 0 0 0 0 0 0 0 0 0 1 3 7 11 13 13 11 7 2 0 0 0\n",
      "0 0 0 0 0 0 0 1 1 2 2 3 2 2 1 2 3 6 10 13 14 12 9 5 1 0 0 0\n",
      "0 0 0 0 0 1 2 3 5 6 7 7 7 6 6 6 7 10 13 14 13 10 7 3 1 0 0 0\n",
      "0 0 1 2 3 4 6 8 9 10 11 11 11 11 10 11 12 13 14 14 11 8 4 1 0 0 0 0\n",
      "0 1 2 4 6 8 9 10 11 12 14 15 15 16 16 16 17 17 16 14 10 5 2 1 0 0 0 0\n",
      "0 2 4 7 9 12 14 14 15 16 18 19 20 20 19 20 20 19 17 14 9 5 2 0 0 0 0 0\n",
      "0 3 6 10 13 17 18 18 18 19 20 20 20 19 19 19 19 18 17 14 10 6 3 1 0 0 0 0\n",
      "0 3 7 11 15 19 19 18 16 16 15 15 15 15 14 14 15 15 15 13 10 7 4 2 0 0 0 0\n",
      "0 3 6 10 13 15 15 13 12 12 12 11 11 10 9 9 10 12 12 12 10 7 4 2 0 0 0 0\n",
      "0 2 5 7 10 12 12 11 11 10 9 8 7 5 4 4 5 7 9 10 8 7 4 2 0 0 0 0\n",
      "0 1 3 4 6 7 8 7 7 6 4 3 2 1 0 1 2 3 5 6 6 5 3 1 0 0 0 0\n",
      "0 0 1 1 2 3 3 3 2 1 1 0 0 0 0 0 0 1 2 2 2 2 1 0 0 0 0 0\n",
      "0 0 0 0 0 0 0 0 0 0 0 0 0 0 0 0 0 0 0 0 0 0 0 0 0 0 0 0\n",
      "0 0 0 0 0 0 0 0 0 0 0 0 0 0 0 0 0 0 0 0 0 0 0 0 0 0 0 0\n",
      "0 0 0 0 0 0 0 0 0 0 0 0 0 0 0 0 0 0 0 0 0 0 0 0 0 0 0 0\n",
      "0 0 0 0 0 0 0 0 0 0 0 0 0 0 0 0 0 0 0 0 0 0 0 0 0 0 0 0\n",
      "\n",
      "*********************************************************************************\n",
      "\n",
      "0 0 0 0 0 0 0 0 0 0 0 0 0 0 0 0 0 0 0 0 0 0 0 0 0 0 0 0\n",
      "0 0 0 0 0 0 0 0 0 0 0 0 0 1 1 1 1 0 0 0 0 0 0 0 0 0 0 0\n",
      "0 0 0 0 0 0 0 0 0 1 2 3 4 5 5 5 5 5 4 3 2 1 0 0 0 0 0 0\n",
      "0 0 0 0 0 0 1 1 3 4 6 8 9 9 10 10 9 9 8 7 5 3 1 0 0 0 0 0\n",
      "0 0 0 0 0 0 2 3 5 8 10 10 11 10 10 10 10 10 10 10 8 6 3 2 0 0 0 0\n",
      "0 0 0 0 0 0 2 5 8 10 12 12 12 10 10 10 10 10 11 12 11 9 6 4 1 0 0 0\n",
      "0 0 0 0 0 0 3 6 9 11 13 13 12 10 9 9 9 10 12 13 13 11 9 6 2 0 0 0\n",
      "0 0 0 0 0 0 3 6 9 10 11 10 8 5 5 4 4 5 9 12 15 13 11 7 3 0 0 0\n",
      "0 0 0 0 0 0 2 4 7 7 7 5 3 1 0 0 0 1 5 10 14 14 13 9 4 0 0 0\n",
      "0 0 0 0 0 0 1 2 4 4 4 3 1 0 0 0 0 0 3 8 13 13 14 10 5 0 0 0\n",
      "0 0 0 0 0 0 0 1 1 1 1 1 0 0 0 0 0 0 4 9 13 13 13 9 4 0 0 0\n",
      "0 0 0 0 0 0 0 0 0 0 0 0 0 0 0 0 0 1 5 10 13 13 12 8 3 0 0 0\n",
      "0 0 0 0 0 0 0 0 0 0 0 0 0 0 0 0 1 3 7 11 14 13 11 7 3 0 0 0\n",
      "0 0 0 0 0 0 0 1 1 2 2 3 2 2 1 2 3 6 10 13 14 12 9 5 2 0 0 0\n",
      "0 0 0 0 0 1 2 4 5 6 7 7 7 6 6 6 7 10 13 14 13 10 6 3 1 0 0 0\n",
      "0 0 1 2 3 5 7 8 9 10 11 12 11 11 11 11 12 13 14 14 11 8 4 1 0 0 0 0\n",
      "0 1 2 4 6 8 10 10 11 12 14 15 16 16 16 16 17 17 16 13 9 5 2 1 0 0 0 0\n",
      "0 2 4 7 10 12 14 14 15 17 18 20 20 20 19 20 20 19 18 14 9 4 2 0 0 0 0 0\n",
      "0 3 6 10 14 17 18 19 18 19 20 20 20 19 19 19 19 19 17 15 10 6 3 1 0 0 0 0\n",
      "0 3 7 11 16 19 19 18 16 16 16 15 15 15 14 14 15 15 15 14 11 7 4 2 0 0 0 0\n",
      "0 3 6 10 13 16 15 14 12 12 12 11 11 10 9 9 10 12 13 12 10 7 4 2 0 0 0 0\n",
      "0 2 5 7 10 12 12 12 11 10 9 8 7 5 4 4 5 7 9 10 9 7 4 2 0 0 0 0\n",
      "0 1 3 4 6 8 8 8 7 6 4 3 2 1 1 1 1 3 5 6 6 5 3 1 0 0 0 0\n",
      "0 0 1 1 2 3 3 3 2 1 1 0 0 0 0 0 0 1 1 2 2 2 1 0 0 0 0 0\n",
      "0 0 0 0 0 0 0 0 0 0 0 0 0 0 0 0 0 0 0 0 0 0 0 0 0 0 0 0\n",
      "0 0 0 0 0 0 0 0 0 0 0 0 0 0 0 0 0 0 0 0 0 0 0 0 0 0 0 0\n",
      "0 0 0 0 0 0 0 0 0 0 0 0 0 0 0 0 0 0 0 0 0 0 0 0 0 0 0 0\n",
      "0 0 0 0 0 0 0 0 0 0 0 0 0 0 0 0 0 0 0 0 0 0 0 0 0 0 0 0\n",
      "\n",
      "*********************************************************************************\n",
      "\n"
     ]
    },
    {
     "data": {
      "image/png": "[encoded data removed]",
      "text/plain": [
       "<matplotlib.figure.Figure at 0x241dcdeddd8>"
      ]
     },
     "metadata": {},
     "output_type": "display_data"
    }
   ],
   "source": [
    "    print (\"conv1 shape : \" + str(h_conv1.shape))\n",
    "    pC1 = sess.run(h_conv1, feed_dict={xs: batch_xs, ys: batch_ys, keep_prob: 0.5})\n",
    "    plt.imshow(reshape_pic(pC1,28,6,0), cmap='Greys')\n",
    "\n",
    "    print_pic_prec(reshape_pic(pC1,28,6,0),3)\n",
    "    print_pic_int(reshape_pic(pC1,28,6,0))\n",
    "    \n",
    "    # print(\"\\n*********************************************************************************\\n\")\n",
    "    # print (\"reshape pic shape:\" + str((reshape_pic(pC1,28,6,0)).shape))\n",
    "    # print (\"content:\\n\" + str(reshape_pic(pC1,28,6,0)))\n",
    "    # print(\"\\n*********************************************************************************\\n\")"
   ]
  },
  {
   "cell_type": "code",
   "execution_count": 43,
   "metadata": {},
   "outputs": [
    {
     "name": "stdout",
     "output_type": "stream",
     "text": [
      "(5, 1, 6)\n",
      "(5, 5, 1, 6)\n",
      "0.973804\t1.04172\t0.800582\t1.19199\t0.984257\n",
      "1.0107\t1.04096\t0.926015\t1.0144\t1.14645\n",
      "1.0389\t1.008\t0.927991\t1.13461\t1.11657\n",
      "1.06968\t0.910179\t1.00915\t0.96989\t1.19288\n",
      "1.07552\t1.10832\t1.16198\t0.888633\t0.905124\n"
     ]
    }
   ],
   "source": [
    "# print_pic_prec(reshape_pic(W_conv1,5,6,0),2)\n",
    "print (sess.run(W_conv1[0]).shape)\n",
    "print (sess.run(W_conv1).shape)\n",
    "i = 0\n",
    "filter_no = 1\n",
    "while i < 5:\n",
    "    print (str(sess.run(W_conv1[i,0,0,filter_no]))+\"\\t\"\n",
    "    +str(sess.run(W_conv1[i,1,0,filter_no]))+\"\\t\"\n",
    "    +str(sess.run(W_conv1[i,2,0,filter_no]))+\"\\t\"\n",
    "    +str(sess.run(W_conv1[i,3,0,filter_no]))+\"\\t\"\n",
    "    +str(sess.run(W_conv1[i,4,0,filter_no])))\n",
    "    i+=1\n",
    "\n",
    "# print (sess.run(W_conv1[0], feed_dict={xs: batch_xs, ys: batch_ys, keep_prob: 0.5}))\n"
   ]
  },
  {
   "cell_type": "markdown",
   "metadata": {},
   "source": [
    "# 印出結果---pool 1層"
   ]
  },
  {
   "cell_type": "code",
   "execution_count": 44,
   "metadata": {},
   "outputs": [
    {
     "name": "stdout",
     "output_type": "stream",
     "text": [
      "pool1 shape : (?, 14, 14, 6)\n",
      "output shape:(84, 14)\n"
     ]
    },
    {
     "data": {
      "text/plain": [
       "<matplotlib.image.AxesImage at 0x241dce7ac18>"
      ]
     },
     "execution_count": 44,
     "metadata": {},
     "output_type": "execute_result"
    },
    {
     "data": {
      "image/png": "[encoded data removed]",
      "text/plain": [
       "<matplotlib.figure.Figure at 0x2418099f860>"
      ]
     },
     "metadata": {},
     "output_type": "display_data"
    }
   ],
   "source": [
    "    print (\"pool1 shape : \" + str(h_pool1.shape))\n",
    "    pH1 = sess.run(h_pool1, feed_dict={xs: batch_xs, ys: batch_ys, keep_prob: 0.5})\n",
    "    plt.imshow(reshape_pic(pH1,14,6,0), cmap='Greys')\n",
    "    \n",
    "    #print_pic_prec(reshape_pic(pH1,14,6,0),3)\n",
    "    #print_pic_int(reshape_pic(pH1,14,6,0))"
   ]
  },
  {
   "cell_type": "markdown",
   "metadata": {},
   "source": [
    "# 印出結果---conv 2層"
   ]
  },
  {
   "cell_type": "code",
   "execution_count": 45,
   "metadata": {},
   "outputs": [
    {
     "name": "stdout",
     "output_type": "stream",
     "text": [
      "conv2 shape : (?, 14, 14, 16)\n",
      "output shape:(224, 14)\n"
     ]
    },
    {
     "data": {
      "text/plain": [
       "<matplotlib.image.AxesImage at 0x2418096a6a0>"
      ]
     },
     "execution_count": 45,
     "metadata": {},
     "output_type": "execute_result"
    },
    {
     "data": {
      "image/png": "[encoded data removed]",
      "text/plain": [
       "<matplotlib.figure.Figure at 0x241dcca97b8>"
      ]
     },
     "metadata": {},
     "output_type": "display_data"
    }
   ],
   "source": [
    "    print (\"conv2 shape : \" + str(h_conv2.shape))\n",
    "    pC2 = sess.run(h_conv2, feed_dict={xs: batch_xs, ys: batch_ys, keep_prob: 0.5})\n",
    "    plt.imshow(reshape_pic(pC2,14,16,0), cmap='Greys')\n",
    "    \n",
    "    #print_pic_prec(reshape_pic(pC2,14,16,0),3)\n",
    "    #print_pic_int(reshape_pic(pC2,14,16,0))"
   ]
  },
  {
   "cell_type": "markdown",
   "metadata": {},
   "source": [
    "# 印出結果---pool 2層"
   ]
  },
  {
   "cell_type": "code",
   "execution_count": 46,
   "metadata": {},
   "outputs": [
    {
     "name": "stdout",
     "output_type": "stream",
     "text": [
      "pool2 shape : (?, 7, 7, 16)\n",
      "output shape:(112, 7)\n"
     ]
    },
    {
     "data": {
      "text/plain": [
       "<matplotlib.image.AxesImage at 0x241809f9ac8>"
      ]
     },
     "execution_count": 46,
     "metadata": {},
     "output_type": "execute_result"
    },
    {
     "data": {
      "image/png": "[encoded data removed]",
      "text/plain": [
       "<matplotlib.figure.Figure at 0x2418097f978>"
      ]
     },
     "metadata": {},
     "output_type": "display_data"
    }
   ],
   "source": [
    "    print (\"pool2 shape : \" + str(h_pool2.shape))\n",
    "    pH2 = sess.run(h_pool2, feed_dict={xs: batch_xs, ys: batch_ys, keep_prob: 0.5})\n",
    "    plt.imshow(reshape_pic(pH2,7,16,0), cmap='Greys')\n",
    "    \n",
    "    #print_pic_prec(reshape_pic(pH2,7,16,0),3)\n",
    "    #print_pic_int(reshape_pic(pH2,7,16,0))"
   ]
  },
  {
   "cell_type": "markdown",
   "metadata": {},
   "source": [
    "# 印出結果---fc 1層"
   ]
  },
  {
   "cell_type": "code",
   "execution_count": 47,
   "metadata": {},
   "outputs": [
    {
     "name": "stdout",
     "output_type": "stream",
     "text": [
      "fc1 shape : (120,)\n",
      "\n",
      "*********************************************************************************\n",
      "\n",
      "[ 759653.125   756326.25    756908.      758221.75    757354.5     759387.875\n",
      "  753935.      759614.4375  752886.125   748073.1875  755005.1875\n",
      "  757180.3125  757170.875   747818.375   756502.3125  760909.8125\n",
      "  757988.75    756622.75    756778.875   758927.6875  752886.5625\n",
      "  754920.6875  752176.6875  753235.125   755783.125   753858.375   753472.25\n",
      "  751566.25    751770.      758907.5     756285.5625  750139.      757899.\n",
      "  758228.8125  754863.375   753506.4375  756824.375   755383.875\n",
      "  753522.6875  752685.375   754324.5625  751807.      751934.25    755879.75\n",
      "  755676.6875  758679.1875  749792.      756536.      753531.125   756008.\n",
      "  751147.25    756298.6875  754825.375   753929.625   752239.5625  755713.5\n",
      "  749752.3125  753218.625   754286.375   748482.375   753781.125   748772.25\n",
      "  757437.6875  754692.5     751164.4375  753502.0625  752933.25\n",
      "  757270.5625  748938.      750936.3125  752810.25    753651.25\n",
      "  755495.9375  748851.0625  751839.875   754505.8125  756897.875\n",
      "  757428.125   752158.375   754116.6875  752062.9375  749096.25\n",
      "  757816.0625  751560.9375  755246.3125  756412.875   752511.      757241.625\n",
      "  755849.3125  759214.875   749662.3125  756179.1875  756741.      755507.875\n",
      "  755773.0625  753137.8125  755096.375   758621.4375  755034.25\n",
      "  759670.6875  756062.      753776.3125  758658.75    748773.9375\n",
      "  752385.4375  758228.0625  755046.75    754884.875   760295.75\n",
      "  752037.5625  756904.0625  755550.25    754870.4375  754994.75    749756.375\n",
      "  758695.5     755198.      755621.9375  759598.25    753399.8125]\n"
     ]
    }
   ],
   "source": [
    "    print (\"fc1 shape : \" + str(h_fc1[0].shape))\n",
    "    print(\"\\n*********************************************************************************\\n\")\n",
    "    print (sess.run(h_fc1[0], feed_dict={xs: batch_xs, ys: batch_ys, keep_prob: 0.5}))"
   ]
  },
  {
   "cell_type": "markdown",
   "metadata": {},
   "source": [
    "# 印出結果---fc 2層"
   ]
  },
  {
   "cell_type": "code",
   "execution_count": 48,
   "metadata": {},
   "outputs": [
    {
     "name": "stdout",
     "output_type": "stream",
     "text": [
      "prediction shape : (10,)\n",
      "\n",
      "*********************************************************************************\n",
      "\n",
      "[ 0.  0.  0.  0.  0.  1.  0.  0.  0.  0.]\n"
     ]
    }
   ],
   "source": [
    "    print (\"prediction shape : \" + str(prediction[0].shape))\n",
    "    print(\"\\n*********************************************************************************\\n\")\n",
    "    print (sess.run(prediction[0], feed_dict={xs: batch_xs, ys: batch_ys, keep_prob: 0.5}))\n",
    "#     pH2 = sess.run(h_pool2, feed_dict={xs: batch_xs, ys: batch_ys, keep_prob: 0.5})\n",
    "#     plt.imshow(reshape_pic(pH2,7,16,0), cmap='Greys')"
   ]
  },
  {
   "cell_type": "code",
   "execution_count": null,
   "metadata": {
    "collapsed": true
   },
   "outputs": [],
   "source": []
  }
 ],
 "metadata": {
  "kernelspec": {
   "display_name": "Python 3",
   "language": "python",
   "name": "python3"
  },
  "language_info": {
   "codemirror_mode": {
    "name": "ipython",
    "version": 3
   },
   "file_extension": ".py",
   "mimetype": "text/x-python",
   "name": "python",
   "nbconvert_exporter": "python",
   "pygments_lexer": "ipython3",
   "version": "3.6.1"
  }
 },
 "nbformat": 4,
 "nbformat_minor": 2
}
