{
 "cells": [
  {
   "cell_type": "markdown",
   "metadata": {
    "collapsed": true
   },
   "source": [
    "# define"
   ]
  },
  {
   "cell_type": "code",
   "execution_count": 24,
   "metadata": {
    "collapsed": true
   },
   "outputs": [],
   "source": [
    "%matplotlib inline\n",
    "from __future__ import print_function\n",
    "# import tensorflow as tf\n",
    "import numpy as np\n",
    "import matplotlib.pyplot as plt\n",
    "import math"
   ]
  },
  {
   "cell_type": "code",
   "execution_count": 25,
   "metadata": {
    "collapsed": true
   },
   "outputs": [],
   "source": [
    "# def print_list_prec(x , prec):\n",
    "#     print (\"printing by num:\")\n",
    "#     i = 0\n",
    "#     print(\"\\n*********************************************************************************\\n\")  \n",
    "#     global for_flag\n",
    "#     for_flag = 0\n",
    "#     for i in range(0, 20, +1):\n",
    "#         for j in range(0, 10, +1):\n",
    "#             if((i*10+j)>=len(x)):\n",
    "#                 for_flag=1\n",
    "#                 break\n",
    "#             print ((round(x[i*10+j], prec)), end='\\t')\n",
    "#         print('')    \n",
    "#         if(for_flag==1):\n",
    "#             break\n",
    "#     print(\"\\n*********************************************************************************\\n\")"
   ]
  },
  {
   "cell_type": "code",
   "execution_count": 26,
   "metadata": {
    "collapsed": true
   },
   "outputs": [],
   "source": [
    "def change_to_normal(target_list,item,value):\n",
    "    for i in range(0, (len(target_list)), +1):\n",
    "        if(target_list[i]==item):\n",
    "            target_list[i]=value"
   ]
  },
  {
   "cell_type": "code",
   "execution_count": 27,
   "metadata": {
    "collapsed": true
   },
   "outputs": [],
   "source": [
    "# write_f = open(\"test.hooklog\",\"r+\")\n",
    "# write_f.write(\"test1\\n\")\n",
    "# write_f.write(\"test2\\n\")\n",
    "# write_f.write(\"test3\\n\")\n",
    "# write_f.close()"
   ]
  },
  {
   "cell_type": "markdown",
   "metadata": {},
   "source": [
    "# import file\n"
   ]
  },
  {
   "cell_type": "code",
   "execution_count": 28,
   "metadata": {},
   "outputs": [
    {
     "name": "stdout",
     "output_type": "stream",
     "text": [
      "find the file:\n",
      "0316c414bcc5bc98a3bacce739985ccea562b31454d457084fe7628d89c5f5fd_3320.trace.hooklog\n",
      "08d0f72452dbe263cdb53c95da9f67ab319b5cb49063cd87360d5100bcf99191_3308.trace.hooklog\n",
      "245b0805f458b4d993794846505b3b870aace324a3aa594a57f91740a6777d4a_3284.trace.hooklog\n",
      "28efa1656d2d040e69016033cf47f76baa35b7f941e2c459c91d1b96ad15c3a5_3272.trace.hooklog\n",
      "2fbc8c3069776449f33a38f49b9cac9f723dc3aea3f48092befd4d19430ff0be_3284.trace.hooklog\n",
      "31260cfac13ec328c110bff481b5d493fba786d7a7a0ba1306819739345f67cf_3176.trace.hooklog\n",
      "329d35de1e16f1060805b04bc4ee3a3a14c5474d754cd13ad82692a202f53cb9_3328.trace.hooklog\n",
      "329d35de1e16f1060805b04bc4ee3a3a14c5474d754cd13ad82692a202f53cb9_3328.trace_gSDXp90.hooklog\n",
      "329d35de1e16f1060805b04bc4ee3a3a14c5474d754cd13ad82692a202f53cb9_3384.trace.hooklog\n",
      "329d35de1e16f1060805b04bc4ee3a3a14c5474d754cd13ad82692a202f53cb9_3384.trace_q3PEZ9r.hooklog\n",
      "405c7572fb307d086d2850dd3afcdea03f032437d6e19dd13c4db802e2638164_3248.trace.hooklog\n",
      "4ab715d28cd91d76b42e7a7ca7446e557cfa48860c1427c5517a1dd9053e7ae1_3208.trace.hooklog\n",
      "4b9f98a0fade666f65f8f52fe8deaa41c2db9f268c1bb9a4d268e5a9d65af364_3056.trace.hooklog\n",
      "6546ccf016ae5366e531c708c98b9c66408df71a8dcce6730bd30ed2b6a053db_3184.trace.hooklog\n",
      "6f73aaa27e74c34493dff7a5cd07d4c370accb58475f6bd62d6274b653f148be_3392.trace.hooklog\n",
      "73d1abcae33f212f63ee453e870a1fb5086af1b2f2701998a63985c66578fbda_3260.trace.hooklog\n",
      "7a28c094df41ac1e150ad6acfd914de86b9fb1e350a550d7a51d760e2cf1d1ef_3208.trace.hooklog\n",
      "802d6ccd58d90d512bb7a0ac11abfe683a10cbb60b176f52838e43ca05ac909a_3300.trace.hooklog\n",
      "8d2207c789bee4567a637b7ff246c0c844cc721e8e7858a93d086dbce08883f9_3344.trace.hooklog\n",
      "9f8b03c9dd22ce1431c80f1846e220f775b03d8c3a6ef92b0e9b3f40c093eb56_3408.trace.hooklog\n",
      "a3a37bff91f364f0903f5918a832997d4f1970e008e9302e2e7ea87008123322_3332.trace.hooklog\n",
      "aa634c47679577488382d9f39e792c13b04da0da9972b0f4fafe0882042c01ef_3232.trace.hooklog\n",
      "b04e89ef1b7cb360f38b49350ac61f5140ad802c06b28e21c9771efeb5c08b44_3176.trace.hooklog\n",
      "b608148ed2be179ebe0b820e7008c446258a9084bade3c6de8c113a41ebe95da_2840.trace.hooklog\n",
      "b71a4a954fffb6f0d9c4ce49c65be796462b9ec4b0c163d8d722beb99acc3e6c_3256.trace.hooklog\n",
      "bd9a4be4679efed4deb6e7d24b55b28e9b8cd776978d42a790681d17ebf9d6a2_3400.trace.hooklog\n",
      "bdf0021c232b935ce78840c1cd7b9698f7591c5b8c48195b378e52986c2da59a_3304.trace.hooklog\n",
      "c6d288841b9719a01bd340da55538ce43aaa74265791a41ee493cabde9d2402e_3216.trace.hooklog\n",
      "d4743b401d5291af93a03e60b25968a4681d90839c206bf048fca2a3d3b7405c_3304.trace.hooklog\n",
      "d6d1ed854cd928a3ba3d0cd24e94a11fb9b9e9d187d03c8cea1147580174f2ea_3360.trace.hooklog\n",
      "e0428e6ad9e554e923aed26ef47ac41ed8933c20ff36834a5783ddf577c7b794_3252.trace.hooklog\n",
      "e26147fc9d80cbb472046e3aba8d32fef2a619c1582c814d6c51ee25c9e18af3_3260.trace.hooklog\n",
      "fb427306835da7fde57b722a650ff4ddf622288c639c6c6c5ededcc341ff7d82_3224.trace.hooklog\n",
      "fe76589d2bcc16812684543c54ad11043e3d22c1ed0cbbc29bfe633b3f825182_3224.trace.hooklog\n"
     ]
    }
   ],
   "source": [
    "in_directory = \"C:/Users/howar/CNN_study/MotifAnalysis/hooklogs/allaple_woj_g_98/\" #hooklog輸入\n",
    "  \n",
    "import os\n",
    "\n",
    "family_list = os.listdir(in_directory) # get all filenames in the in_directory\n",
    "# print (family_list)\n",
    "\n",
    "print (\"find the file:\")\n",
    "for family in family_list:  \n",
    "\n",
    "#     in_directory = in_directory + family + '/'\n",
    "    print (family)"
   ]
  },
  {
   "cell_type": "code",
   "execution_count": 29,
   "metadata": {
    "collapsed": true
   },
   "outputs": [],
   "source": [
    "# print (family_list[0])"
   ]
  },
  {
   "cell_type": "markdown",
   "metadata": {},
   "source": [
    "# start"
   ]
  },
  {
   "cell_type": "code",
   "execution_count": 30,
   "metadata": {},
   "outputs": [
    {
     "name": "stdout",
     "output_type": "stream",
     "text": [
      "C:/Users/howar/CNN_study/MotifAnalysis/hooklogs/allaple_woj_g_98/0316c414bcc5bc98a3bacce739985ccea562b31454d457084fe7628d89c5f5fd_3320.trace.hooklog\n",
      "C:/Users/howar/CNN_study/MotifAnalysis/hooklogs/allaple_woj_g_98/08d0f72452dbe263cdb53c95da9f67ab319b5cb49063cd87360d5100bcf99191_3308.trace.hooklog\n",
      "C:/Users/howar/CNN_study/MotifAnalysis/hooklogs/allaple_woj_g_98/245b0805f458b4d993794846505b3b870aace324a3aa594a57f91740a6777d4a_3284.trace.hooklog\n",
      "C:/Users/howar/CNN_study/MotifAnalysis/hooklogs/allaple_woj_g_98/28efa1656d2d040e69016033cf47f76baa35b7f941e2c459c91d1b96ad15c3a5_3272.trace.hooklog\n",
      "C:/Users/howar/CNN_study/MotifAnalysis/hooklogs/allaple_woj_g_98/2fbc8c3069776449f33a38f49b9cac9f723dc3aea3f48092befd4d19430ff0be_3284.trace.hooklog\n",
      "C:/Users/howar/CNN_study/MotifAnalysis/hooklogs/allaple_woj_g_98/31260cfac13ec328c110bff481b5d493fba786d7a7a0ba1306819739345f67cf_3176.trace.hooklog\n",
      "C:/Users/howar/CNN_study/MotifAnalysis/hooklogs/allaple_woj_g_98/329d35de1e16f1060805b04bc4ee3a3a14c5474d754cd13ad82692a202f53cb9_3328.trace.hooklog\n",
      "C:/Users/howar/CNN_study/MotifAnalysis/hooklogs/allaple_woj_g_98/329d35de1e16f1060805b04bc4ee3a3a14c5474d754cd13ad82692a202f53cb9_3328.trace_gSDXp90.hooklog\n",
      "C:/Users/howar/CNN_study/MotifAnalysis/hooklogs/allaple_woj_g_98/329d35de1e16f1060805b04bc4ee3a3a14c5474d754cd13ad82692a202f53cb9_3384.trace.hooklog\n",
      "C:/Users/howar/CNN_study/MotifAnalysis/hooklogs/allaple_woj_g_98/329d35de1e16f1060805b04bc4ee3a3a14c5474d754cd13ad82692a202f53cb9_3384.trace_q3PEZ9r.hooklog\n",
      "C:/Users/howar/CNN_study/MotifAnalysis/hooklogs/allaple_woj_g_98/405c7572fb307d086d2850dd3afcdea03f032437d6e19dd13c4db802e2638164_3248.trace.hooklog\n",
      "C:/Users/howar/CNN_study/MotifAnalysis/hooklogs/allaple_woj_g_98/4ab715d28cd91d76b42e7a7ca7446e557cfa48860c1427c5517a1dd9053e7ae1_3208.trace.hooklog\n",
      "C:/Users/howar/CNN_study/MotifAnalysis/hooklogs/allaple_woj_g_98/4b9f98a0fade666f65f8f52fe8deaa41c2db9f268c1bb9a4d268e5a9d65af364_3056.trace.hooklog\n",
      "C:/Users/howar/CNN_study/MotifAnalysis/hooklogs/allaple_woj_g_98/6546ccf016ae5366e531c708c98b9c66408df71a8dcce6730bd30ed2b6a053db_3184.trace.hooklog\n",
      "C:/Users/howar/CNN_study/MotifAnalysis/hooklogs/allaple_woj_g_98/6f73aaa27e74c34493dff7a5cd07d4c370accb58475f6bd62d6274b653f148be_3392.trace.hooklog\n",
      "C:/Users/howar/CNN_study/MotifAnalysis/hooklogs/allaple_woj_g_98/73d1abcae33f212f63ee453e870a1fb5086af1b2f2701998a63985c66578fbda_3260.trace.hooklog\n",
      "C:/Users/howar/CNN_study/MotifAnalysis/hooklogs/allaple_woj_g_98/7a28c094df41ac1e150ad6acfd914de86b9fb1e350a550d7a51d760e2cf1d1ef_3208.trace.hooklog\n",
      "C:/Users/howar/CNN_study/MotifAnalysis/hooklogs/allaple_woj_g_98/802d6ccd58d90d512bb7a0ac11abfe683a10cbb60b176f52838e43ca05ac909a_3300.trace.hooklog\n",
      "C:/Users/howar/CNN_study/MotifAnalysis/hooklogs/allaple_woj_g_98/8d2207c789bee4567a637b7ff246c0c844cc721e8e7858a93d086dbce08883f9_3344.trace.hooklog\n",
      "C:/Users/howar/CNN_study/MotifAnalysis/hooklogs/allaple_woj_g_98/9f8b03c9dd22ce1431c80f1846e220f775b03d8c3a6ef92b0e9b3f40c093eb56_3408.trace.hooklog\n",
      "C:/Users/howar/CNN_study/MotifAnalysis/hooklogs/allaple_woj_g_98/a3a37bff91f364f0903f5918a832997d4f1970e008e9302e2e7ea87008123322_3332.trace.hooklog\n",
      "C:/Users/howar/CNN_study/MotifAnalysis/hooklogs/allaple_woj_g_98/aa634c47679577488382d9f39e792c13b04da0da9972b0f4fafe0882042c01ef_3232.trace.hooklog\n",
      "C:/Users/howar/CNN_study/MotifAnalysis/hooklogs/allaple_woj_g_98/b04e89ef1b7cb360f38b49350ac61f5140ad802c06b28e21c9771efeb5c08b44_3176.trace.hooklog\n",
      "C:/Users/howar/CNN_study/MotifAnalysis/hooklogs/allaple_woj_g_98/b608148ed2be179ebe0b820e7008c446258a9084bade3c6de8c113a41ebe95da_2840.trace.hooklog\n",
      "C:/Users/howar/CNN_study/MotifAnalysis/hooklogs/allaple_woj_g_98/b71a4a954fffb6f0d9c4ce49c65be796462b9ec4b0c163d8d722beb99acc3e6c_3256.trace.hooklog\n",
      "C:/Users/howar/CNN_study/MotifAnalysis/hooklogs/allaple_woj_g_98/bd9a4be4679efed4deb6e7d24b55b28e9b8cd776978d42a790681d17ebf9d6a2_3400.trace.hooklog\n",
      "C:/Users/howar/CNN_study/MotifAnalysis/hooklogs/allaple_woj_g_98/bdf0021c232b935ce78840c1cd7b9698f7591c5b8c48195b378e52986c2da59a_3304.trace.hooklog\n",
      "C:/Users/howar/CNN_study/MotifAnalysis/hooklogs/allaple_woj_g_98/c6d288841b9719a01bd340da55538ce43aaa74265791a41ee493cabde9d2402e_3216.trace.hooklog\n",
      "C:/Users/howar/CNN_study/MotifAnalysis/hooklogs/allaple_woj_g_98/d4743b401d5291af93a03e60b25968a4681d90839c206bf048fca2a3d3b7405c_3304.trace.hooklog\n",
      "C:/Users/howar/CNN_study/MotifAnalysis/hooklogs/allaple_woj_g_98/d6d1ed854cd928a3ba3d0cd24e94a11fb9b9e9d187d03c8cea1147580174f2ea_3360.trace.hooklog\n",
      "C:/Users/howar/CNN_study/MotifAnalysis/hooklogs/allaple_woj_g_98/e0428e6ad9e554e923aed26ef47ac41ed8933c20ff36834a5783ddf577c7b794_3252.trace.hooklog\n",
      "C:/Users/howar/CNN_study/MotifAnalysis/hooklogs/allaple_woj_g_98/e26147fc9d80cbb472046e3aba8d32fef2a619c1582c814d6c51ee25c9e18af3_3260.trace.hooklog\n",
      "C:/Users/howar/CNN_study/MotifAnalysis/hooklogs/allaple_woj_g_98/fb427306835da7fde57b722a650ff4ddf622288c639c6c6c5ededcc341ff7d82_3224.trace.hooklog\n",
      "C:/Users/howar/CNN_study/MotifAnalysis/hooklogs/allaple_woj_g_98/fe76589d2bcc16812684543c54ad11043e3d22c1ed0cbbc29bfe633b3f825182_3224.trace.hooklog\n"
     ]
    }
   ],
   "source": [
    "\n",
    "ourstr = []\n",
    "\n",
    "for readfile_i in range(0, (len(family_list)), +1):\n",
    "# import os.path\n",
    "    currentfile = in_directory + family_list[readfile_i] \n",
    "    print(currentfile)\n",
    "    f = open(currentfile, 'r')\n",
    "    # print (f.read())\n",
    "    a = f.readlines() \n",
    "    \n",
    "    for i in range(0, (len(a)), +1):\n",
    "        if((a[i][0])=='#'):\n",
    "            ourstr.append(a[i+1])"
   ]
  },
  {
   "cell_type": "code",
   "execution_count": 31,
   "metadata": {},
   "outputs": [
    {
     "name": "stdout",
     "output_type": "stream",
     "text": [
      "3655 items found\n",
      "\n",
      "RegEnumValue\n",
      "34\n",
      "LoadLibrary\n",
      "550\n",
      "CreateThread\n",
      "135\n",
      "CreateProcess\n",
      "15\n",
      "CreateProcessInternal\n",
      "30\n",
      "RegSetValue\n",
      "64\n",
      "ExitProcess\n",
      "6\n",
      "RegCreateKey\n",
      "64\n",
      "RegQueryValue\n",
      "2456\n",
      "CreateFile\n",
      "296\n",
      "CopyFile\n",
      "5\n"
     ]
    }
   ],
   "source": [
    "change_normal = ourstr\n",
    "myset = set(ourstr)\n",
    "print(\"%d items found\\n\" %(len(ourstr)))\n",
    "for item in myset:\n",
    "    print(\"%s%d\" %(item,ourstr.count(item)))\n",
    "    change_to_normal(change_normal,item,(ourstr.count(item)/(len(ourstr))))"
   ]
  },
  {
   "cell_type": "code",
   "execution_count": 32,
   "metadata": {
    "collapsed": true,
    "scrolled": false
   },
   "outputs": [],
   "source": [
    "###########################################################\n",
    "# b = []\n",
    "# a = f.readlines() \n",
    "# for i in range(0, (len(a)), +1):\n",
    "#     if((a[i][0])=='#'):\n",
    "#         b.append(a[i+1][0])\n",
    "###########################################################\n",
    "# print (len(a))\n",
    "# print (a[i])\n",
    "# print (a[i][0])\n",
    "# print ((len(b)))\n",
    "###########################################################\n",
    "# print (b)\n",
    "###########################################################\n",
    "# global for_flag\n",
    "# for_flag = 0\n",
    "# for i in range(0, 28, +1):\n",
    "#     for j in range(0, 28, +1):\n",
    "#         if((i*28+j)>=len(b)):\n",
    "#             for_flag=1\n",
    "#             break\n",
    "#         print (b[i*28+j], end='')\n",
    "#     print('')    \n",
    "#     if(for_flag==1):\n",
    "#         break\n",
    "###########################################################\n",
    "# global for_flag\n",
    "# for_flag = 0\n",
    "# for i in range(0, 20, +1):\n",
    "#     for j in range(0, 10, +1):\n",
    "#         if((i*10+j)>=len(b)):\n",
    "#             for_flag=1\n",
    "#             break\n",
    "#         print (b[i*10+j], end='')\n",
    "#          print (i*10+j, end=' ')\n",
    "#     print('')    \n",
    "#     if(for_flag==1):\n",
    "#         break\n",
    "########################################################### \n",
    "# myset = set(b)\n",
    "# for item in myset:\n",
    "#   print(\"the %s has found %d\" %(item,b.count(item)))\n",
    "###########################################################"
   ]
  },
  {
   "cell_type": "code",
   "execution_count": 33,
   "metadata": {
    "collapsed": true
   },
   "outputs": [],
   "source": [
    "# print(ourstr)"
   ]
  },
  {
   "cell_type": "code",
   "execution_count": 34,
   "metadata": {
    "collapsed": true
   },
   "outputs": [],
   "source": [
    "cut_num = 100\n",
    "pic_num = math.ceil(len(change_normal)/cut_num)*cut_num\n",
    "\n",
    "while(len(change_normal)<= pic_num - 1):\n",
    "    change_normal.append(0)\n"
   ]
  },
  {
   "cell_type": "markdown",
   "metadata": {},
   "source": [
    "\n",
    "# print"
   ]
  },
  {
   "cell_type": "code",
   "execution_count": 35,
   "metadata": {},
   "outputs": [
    {
     "name": "stdout",
     "output_type": "stream",
     "text": [
      "allaple_woj_g_98:\n"
     ]
    },
    {
     "data": {
      "image/png": "[encoded data removed]",
      "text/plain": [
       "<matplotlib.figure.Figure at 0x2357396f048>"
      ]
     },
     "metadata": {},
     "output_type": "display_data"
    }
   ],
   "source": [
    "###########################################################\n",
    "# global for_flag\n",
    "# for_flag = 0\n",
    "# for i in range(0, 20, +1):\n",
    "#     for j in range(0, 10, +1):\n",
    "#         if((i*10+j)>=len(b)):\n",
    "#             for_flag=1\n",
    "#             break\n",
    "#         print (b[i*10+j], end='')\n",
    "# #         print (i*10+j, end=' ')\n",
    "#     print('')    \n",
    "#     if(for_flag==1):\n",
    "#         break\n",
    "###########################################################\n",
    "# myset = set(b)\n",
    "# for item in myset:\n",
    "#   print(\"the %s has found %d\" %(item,b.count(item)))\n",
    "###########################################################\n",
    "# print (print_list_prec(change_normal,4))\n",
    "###########################################################\n",
    "print ('allaple_woj_g_98:')\n",
    "np_pic = np.asarray(change_normal)\n",
    "\n",
    "plt.imshow(np_pic.reshape([int(len(change_normal)/cut_num),cut_num]), cmap='Greys')  \n",
    "plt.show()"
   ]
  },
  {
   "cell_type": "code",
   "execution_count": 36,
   "metadata": {
    "collapsed": true
   },
   "outputs": [],
   "source": [
    "f.close()"
   ]
  }
 ],
 "metadata": {
  "kernelspec": {
   "display_name": "Python 3",
   "language": "python",
   "name": "python3"
  },
  "language_info": {
   "codemirror_mode": {
    "name": "ipython",
    "version": 3
   },
   "file_extension": ".py",
   "mimetype": "text/x-python",
   "name": "python",
   "nbconvert_exporter": "python",
   "pygments_lexer": "ipython3",
   "version": "3.6.1"
  }
 },
 "nbformat": 4,
 "nbformat_minor": 2
}
